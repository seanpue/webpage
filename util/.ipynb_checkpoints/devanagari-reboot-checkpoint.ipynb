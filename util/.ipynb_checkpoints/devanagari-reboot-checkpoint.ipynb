{
 "metadata": {
  "name": "",
  "signature": "sha256:793ead907b1c4adf9af654f26b7576c3cf4ff79da90a34429b2916fcd8da8362"
 },
 "nbformat": 3,
 "nbformat_minor": 0,
 "worksheets": [
  {
   "cells": [
    {
     "cell_type": "code",
     "collapsed": false,
     "input": [],
     "language": "python",
     "metadata": {},
     "outputs": []
    },
    {
     "cell_type": "code",
     "collapsed": false,
     "input": [
      "# -*- coding: utf-8 -*-\n",
      "# <nbformat>3.0</nbformat>\n",
      "\n",
      "# <codecell>\n",
      "\n",
      "# This fetches the current poems from a private Drupal site accessed via xmlrpc\n",
      "\n",
      "import xmlrpcsettings # this holds a few private settings\n",
      "import xmlrpclib\n",
      "import re\n",
      "import json\n",
      "import urllib\n",
      "import codecs\n",
      "\n",
      "assert xmlrpcsettings.ursite\n",
      "assert xmlrpcsettings.inbookurl\n",
      "\n",
      "proxy = xmlrpclib.Server(xmlrpcsettings.ursite)\n",
      "\n",
      "open_url = urllib.urlopen(xmlrpcsettings.inbookurl)\n",
      "nds=json.load(open_url)\n",
      "items = nds['Items']\n",
      "inbook = []\n",
      "for i in items:\n",
      "    inbook.append( proxy.node.retrieve(i['node']['nid']) )\n",
      "assert len(inbook)==30\n",
      "\n",
      "# <codecell>\n",
      "\n",
      "import myparser\n",
      "\n",
      "# <codecell>\n",
      "\n",
      "def get_trans(n):\n",
      "    return n['body']['und'][0]['value']\n",
      "\n",
      "def clean_trans(x):\n",
      "\n",
      "    x=x.replace(' -o- ','-o-') # join these for now to better extract izafats\n",
      "    x=x.replace('!','')\n",
      "    x=x.replace('^','')\n",
      "    x=x.replace(',',' ')\n",
      "    x=x.replace('?',' ')\n",
      "    x=x.replace('--',' ')\n",
      "    x=x.replace('\\t',' ')\n",
      "    x=x.replace('\"',' ')\n",
      "    x=re.sub('\\s+',' ',x)\n",
      "\n",
      "    x=re.sub(\"^\\s+\",'',x)\n",
      "    x=re.sub(\"\\s+$\",'',x)\n",
      "#    x=x.replace('_','-')\n",
      "    return x\n",
      "def get_lines(x):\n",
      "    return x.split('\\n') # may need to account for extra empty lines at end\n",
      "\n",
      "# <codecell>\n"
     ],
     "language": "python",
     "metadata": {},
     "outputs": [],
     "prompt_number": 1
    },
    {
     "cell_type": "code",
     "collapsed": false,
     "input": [
      "chars = \"[a-z\\(\\):\\-;\\._']+?\"\n",
      "z= '('+chars+'(?:-e '+chars+')*'+')'+'(?: |$)'                                              \n",
      "pattern = re.compile(z,re.UNICODE)\n",
      "\n",
      "\n",
      "# <codecell>\n",
      "\n",
      "words = {}\n",
      "def clean_word(x): # remove brackets\n",
      "    if re.match('\\([^(]',x):\n",
      "         x = x[1:]\n",
      "#         print x\n",
      "    if re.search('[^)]\\)$',x):\n",
      "        x = x[0:-1]\n",
      "    if re.search(':$',x):\n",
      "         x = x[0:-1]\n",
      "    x=re.sub('\\.\\.\\.$','',x)\n",
      "\n",
      "#        print x\n",
      "    return x\n",
      "for i,n in enumerate(inbook):\n",
      "    x = clean_trans(get_trans(n))\n",
      "    lines=get_lines(x)\n",
      "#    print lines\n",
      "    for line_id,l in enumerate(lines):\n",
      "        matches = []\n",
      "        for match in pattern.finditer(l):\n",
      "            matches.append(match.group(0))\n",
      "            w = match.group(1)\n",
      "            w = clean_word(w)\n",
      "            if w in words:\n",
      "                words[w].append((i,line_id))\n",
      "            else:\n",
      "                words[w] = [(i,l)]\n",
      "        assert l==''.join(matches)\n",
      "\n",
      "        \n",
      "\n",
      "# <codecell>\n",
      "\n",
      "re.match('\\([^(]','((')\n",
      "\n",
      "# <codecell>\n",
      "import csv\n",
      "def unicode_csv_reader(utf8_data, dialect=csv.excel, **kwargs):\n",
      "      csv_reader = csv.reader(utf8_data, dialect=dialect, **kwargs)\n",
      "      for row in csv_reader:\n",
      "          yield [unicode(cell, 'utf-8') for cell in row]\n",
      "old = unicode_csv_reader('rashid-dev.csv')\n",
      "\n",
      "def update_okays():\n",
      "    okay_dev={}\n",
      "    reader = unicode_csv_reader(open('okay-dev.csv'))\n",
      "    for transliteration,devanagari in reader:\n",
      "        okay_dev[transliteration]=devanagari\n",
      "\n",
      "    reader = unicode_csv_reader(open('rashid-dev.csv'))\n",
      "    for ok,devanagari,transliteration,count,meter,replacement in reader:\n",
      "        if ok=='x':\n",
      "            okay_dev[transliteration] = devanagari\n",
      "\n",
      "    with codecs.open('okay-dev.csv','w','utf8') as f:        \n",
      "        for k,v in okay_dev.iteritems():\n",
      "            f.write(k+u','+v+'\\n') #generate new csv\n",
      "#            print k,v\n",
      "    return okay_dev\n",
      "\n",
      "def regenerate():\n",
      "    \n",
      "    diacritics = myparser.Parser('diacritics.yaml')\n",
      "    devanagari = myparser.Parser('devanagari.yaml')\n",
      "    urdu = myparser.Parser('urdu.yaml')\n",
      "    um=myparser.Parser('urdu-meter.yaml')\n",
      "    okays = update_okays()\n",
      "    print 'okays is ',len(okays)\n",
      "\n",
      "    output=u\"ok,devanagari,transliteration,count,meter,replacement\\n\"\n",
      "#    for w in sorted(words, key=lambda k: len(words[k]), reverse=True):\n",
      "    for w in sorted(words, key=lambda k: len(words[k]), reverse=True):\n",
      "\n",
      "   #     print w\n",
      "        dev = devanagari.parse(w)\n",
      "        okay=''\n",
      "        if w in okays:\n",
      " #          print 'yes'\n",
      "            if okays[w] ==dev:\n",
      "                okay='x'\n",
      "            else:\n",
      "                print 'warning ',w,' is no longer', okays[w]\n",
      "                \n",
      "        output+=okay+','+dev+','+w+','+str(len(words[w]))+','+um.parse(w)+','+'\\n'\n",
      "\n",
      "        #print devanagari.parse(w),w,len(words[w])#print '\\n'.join(words.keys())\n",
      "    import codecs\n",
      "    with codecs.open('rashid-dev.csv','w','utf-8') as f:\n",
      "        f.write(output)\n",
      "regenerate()"
     ],
     "language": "python",
     "metadata": {},
     "outputs": [
      {
       "output_type": "stream",
       "stream": "stdout",
       "text": [
        "<consonant> <long_vowel> <s> + <t> <long_vowel>\n",
        "<consonant> <long_vowel> <consonant> + <consonant> <long_vowel>\n",
        "<consonant> <vowel> <vowel_nasal> <consonant> + <consonant> <long_vowel>\n",
        "<consonant> <short_vowel> <h_char> + <consonant>\n",
        "<consonant> <short_vowel> <consonant> + <consonant> <long_vowel>\n",
        "<wb> <vowel> <consonant> + <consonant> <vowel>\n",
        "<wb> <consonant> <short_vowel> <z> + <z> <short_vowel> <consonant>\n",
        "<wb> <consonant> <short_vowel> <consonant> + <consonant> <short_vowel> <consonant>\n",
        "<n> + <consonant>\n",
        "<wb> <long_vowel> <consonant> + <consonant> <long_vowel>\n",
        "<consonant> + <consonant>\n",
        "<k> + <k_group>\n",
        "<ch> + <ch_group>\n",
        "<wb> <consonant> <long_vowel> <consonant> + <consonant> <long_vowel>\n",
        "<wb> <consonant> <long_vowel> <consonant> + <consonant> <short_vowel> <consonant>\n",
        "<wb> <consonant> <short_vowel> <sibilant> + <consonant> <wb>\n",
        "<wb> <consonant> <short_vowel> <consonant> + <consonant> <wb>\n",
        "<wb> <short_vowel> <consonant> + <consonant> <long_vowel> <wb>\n",
        "<wb> <short_vowel> <consonant> + <consonant> <long_vowel> <consonant> <wb>\n",
        "<wb> <short_vowel> <consonant> <short_vowel> <consonant> + <consonant> <short_vowel> <consonant>\n",
        "<vowel> <n> + <consonant>\n",
        "<consonant> + <n> <aa> <wb>\n",
        "<consonant> + <n> <e> <wb>\n",
        "<consonant> + <t> <aa> <wb>\n",
        "<consonant> + <t> <e> <wb>\n",
        "<consonant> + <t> <ii> <wb>\n",
        "<consonant> + <ain> <short_vowel> <wb>\n",
        "<short_vowel> <ain> + <consonant>\n",
        "<wb> <consonant> <short_vowel> + <consonant> <long_vowel>\n",
        "<wb> <consonant> <short_vowel> <consonant> + <consonant> <long_vowel>\n",
        "<consonant> + <consonant>\n",
        "okays is "
       ]
      },
      {
       "output_type": "stream",
       "stream": "stdout",
       "text": [
        " 2330\n",
        "warning  vuh  is no longer \u0935\u094b\n",
        "warning  kih  is no longer \u0915\u093f\n",
        "warning  yih  is no longer \u092f\u0947\n",
        "warning "
       ]
      },
      {
       "output_type": "stream",
       "stream": "stdout",
       "text": [
        " pah  is no longer \u092a\u0947\n",
        "warning  nah  is no longer \u0928\n",
        "warning  huu;n  is no longer \u0939\u0942\u0901\n",
        "warning "
       ]
      },
      {
       "output_type": "stream",
       "stream": "stdout",
       "text": [
        " ko))ii  is no longer \u0915\u094b\u0908\n",
        "warning  jahaa;n-zaad  is no longer \u091c\u0939\u093e\u0901\u091c\u093c\u093e\u0926\n",
        "warning  kuuzah-gar  is no longer \u0915\u0942\u091c\u093c\u093e\u0917\u0930\n",
        "warning "
       ]
      },
      {
       "output_type": "stream",
       "stream": "stdout",
       "text": [
        " kahaa;n  is no longer \u0915\u0939\u093e\u0901\n",
        "warning  hu))aa  is no longer \u0939\u0941\u0906\n",
        "warning  zindagii  is no longer \u091c\u093c\u093f\u0902\u0926\u0917\u0940\n",
        "warning "
       ]
      },
      {
       "output_type": "stream",
       "stream": "stdout",
       "text": [
        " jahaa;n  is no longer \u091c\u0939\u093e\u0901\n",
        "warning  maanind  is no longer \u092e\u093e\u0928\u093f\u0902\u0926\n",
        "warning  hu))ii  is no longer \u0939\u0941\u0908\n",
        "warning "
       ]
      },
      {
       "output_type": "stream",
       "stream": "stdout",
       "text": [
        " ga))ii  is no longer \u0917\u0908\n",
        "warning  rah  is no longer \u0930\u093e\n",
        "warning  aa))o  is no longer \u0906\u0913\n",
        "warning  alaa))o  is no longer \u0905\u0932\u093e\u0913\n",
        "warning  tamannaa  is no longer \u0924\u092e\u0928\u094d\u0928\u093e\n",
        "warning "
       ]
      },
      {
       "output_type": "stream",
       "stream": "stdout",
       "text": [
        " ((ishq-e azal-giir-o-abad-taab  is no longer \u0907\u0936\u094d\u0915\u093c\u2010\u090f\u2010\u0905\u091c\u093c\u0932\u0917\u0940\u0930\u2010\u0913\u2010\u0905\u092c\u0926\u0924\u093e\u092c\n",
        "warning "
       ]
      },
      {
       "output_type": "stream",
       "stream": "stdout",
       "text": [
        " vuhii  is no longer \u0935\u0939\u0940\n",
        "warning  kah  is no longer \u0915\u093e\n",
        "warning  jaa;n  is no longer \u091c\u093e\u0901\n",
        "warning  insaa;n  is no longer \u0907\u0902\u0938\u093e\u0901\n",
        "warning  tamaashaa-gah-e laalah-zaar  is no longer \u0924\u092e\u093e\u0936\u093e\u0917\u0939\u2010\u090f\u2010\u0932\u093e\u0932\u093e\u091c\u093c\u093e\u0930\n",
        "warning "
       ]
      },
      {
       "output_type": "stream",
       "stream": "stdout",
       "text": [
        " aahistah  is no longer \u0906\u0939\u093f\u0938\u094d\u0924\u093e\n",
        "warning  aarzuu  is no longer \u0906\u0930\u094d\u091c\u093c\u0942\n",
        "warning "
       ]
      },
      {
       "output_type": "stream",
       "stream": "stdout",
       "text": [
        " tamannaa))o;n  is no longer \u0924\u092e\u0928\u094d\u0928\u093e\u0913\u0902\n",
        "warning  yuu;n  is no longer \u092f\u0942\u0901\n",
        "warning  be-paayaa;n  is no longer \u092c\u0947\u092a\u093e\u092f\u093e\u0901\n",
        "warning "
       ]
      },
      {
       "output_type": "stream",
       "stream": "stdout",
       "text": [
        " aasmaa;n  is no longer \u0906\u0938\u094d\u092e\u093e\u0901\n",
        "warning  zabaa;n  is no longer \u091c\u093c\u092c\u093e\u0901\n",
        "warning  aa))iinah  is no longer \u0906\u0908\u0928\u093e\n",
        "warning "
       ]
      },
      {
       "output_type": "stream",
       "stream": "stdout",
       "text": [
        " anjaam  is no longer \u0905\u0902\u091c\u093e\u092e\n",
        "warning  na))ii  is no longer \u0928\u0908\n",
        "warning "
       ]
      },
      {
       "output_type": "stream",
       "stream": "stdout",
       "text": [
        " zamaanah  is no longer \u091c\u093c\u092e\u093e\u0928\u093e\n",
        "warning  barahnah  is no longer \u092c\u0930\u0939\u0928\u093e\n",
        "warning "
       ]
      },
      {
       "output_type": "stream",
       "stream": "stdout",
       "text": [
        " kaarvaa;n  is no longer \u0915\u093e\u0930\u0935\u093e\u0901\n",
        "warning  nahang  is no longer \u0928\u0939\u0902\u0917\n",
        "warning "
       ]
      },
      {
       "output_type": "stream",
       "stream": "stdout",
       "text": [
        " daastaa;n  is no longer \u0926\u093e\u0938\u094d\u0924\u093e\u0901\n",
        "warning  dunyaa  is no longer \u0926\u0941\u0902\u092f\u093e\n",
        "warning  javaa;n  is no longer \u091c\u0935\u093e\u0901\n",
        "warning "
       ]
      },
      {
       "output_type": "stream",
       "stream": "stdout",
       "text": [
        " na;gmah  is no longer \u0928\u0917\u093c\u092e\u093e\n",
        "warning  gumaa;n  is no longer \u0917\u0941\u092e\u093e\u0901\n",
        "warning "
       ]
      },
      {
       "output_type": "stream",
       "stream": "stdout",
       "text": [
        " laarins  is no longer \u0932\u093e\u0930\u093f\u0902\u0938\n",
        "warning  saayah  is no longer \u0938\u093e\u092f\u093e\n",
        "warning "
       ]
      },
      {
       "output_type": "stream",
       "stream": "stdout",
       "text": [
        " band  is no longer \u092c\u0902\u0926\n",
        "warning  rang  is no longer \u0930\u0902\u0917\n",
        "warning  ;xizaa;n  is no longer \u0916\u093c\u093f\u091c\u093c\u093e\u0901\n",
        "warning  bah  is no longer \u092c\n",
        "warning  zamaa;n  is no longer \u091c\u093c\u092e\u093e\u0901\n",
        "warning  tanhaa))ii  is no longer \u0924\u0902\u0939\u093e\u0908\n",
        "warning "
       ]
      },
      {
       "output_type": "stream",
       "stream": "stdout",
       "text": [
        " yahaa;n  is no longer \u092f\u0939\u093e\u0901\n",
        "warning  afsaanah  is no longer \u0905\u092b\u093c\u0938\u093e\u0928\u093e\n",
        "warning "
       ]
      },
      {
       "output_type": "stream",
       "stream": "stdout",
       "text": [
        " aahang  is no longer \u0906\u0939\u0902\u0917\n",
        "warning  zhuuliidah  is no longer \u091d\u093c\u0942\u0932\u0940\u0926\u093e\n",
        "warning  haa;n  is no longer \u0939\u093e\u0901\n",
        "warning "
       ]
      },
      {
       "output_type": "stream",
       "stream": "stdout",
       "text": [
        " taazah  is no longer \u0924\u093e\u091c\u093c\u093e\n",
        "warning  aa))ii  is no longer \u0906\u0908\n",
        "warning "
       ]
      },
      {
       "output_type": "stream",
       "stream": "stdout",
       "text": [
        " ka))ii  is no longer \u0915\u0908\n",
        "warning  samandar  is no longer \u0938\u092e\u0902\u0926\u0930\n",
        "warning "
       ]
      },
      {
       "output_type": "stream",
       "stream": "stdout",
       "text": [
        " zanjiir  is no longer \u091c\u093c\u0902\u091c\u0940\u0930\n",
        "warning  rassii  is no longer \u0930\u0938\u094d\u0938\u0940\n",
        "warning  ch;ehrah  is no longer \u091a\u0947\u0939\u0930\u093e\n",
        "warning  zindah  is no longer \u091c\u093c\u093f\u0902\u0926\u093e\n",
        "warning  fusuu;n  is no longer \u092b\u093c\u0941\u0938\u0942\u0901\n",
        "warning "
       ]
      },
      {
       "output_type": "stream",
       "stream": "stdout",
       "text": [
        " u;t;thii  is no longer \u0909\u091f\u094d\u0920\u0940\n",
        "warning  inti:zaar  is no longer \u0907\u0902\u0924\u093f\u091c\u093c\u093e\u0930\n",
        "warning "
       ]
      },
      {
       "output_type": "stream",
       "stream": "stdout",
       "text": [
        " ziinah  is no longer \u091c\u093c\u0940\u0928\u093e\n",
        "warning  taabindah  is no longer \u0924\u093e\u092c\u093f\u0902\u0926\u093e\n",
        "warning  ;xuu;n  is no longer \u0916\u093c\u0942\u0901\n",
        "warning  aarzuu))e;n  is no longer \u0906\u0930\u094d\u091c\u093c\u0941\u090f\u0901\n",
        "warning "
       ]
      },
      {
       "output_type": "stream",
       "stream": "stdout",
       "text": [
        " aarzuu))o;n  is no longer \u0906\u0930\u094d\u091c\u093c\u0941\u0913\u0902\n",
        "warning  sar-chashmah-gaaho;n  is no longer \u0938\u0930\u091a\u0936\u092e\u093e\u0917\u093e\u0939\u094b\u0902\n",
        "warning  tumhe;n  is no longer \u0924\u0941\u092e\u094d\u0939\u0947\u0902\n",
        "warning  diruu;n  is no longer \u0926\u093f\u0930\u0942\u0901\n",
        "warning "
       ]
      },
      {
       "output_type": "stream",
       "stream": "stdout",
       "text": [
        " patthar  is no longer \u092a\u0924\u094d\u0925\u0930\n",
        "warning  manzil  is no longer \u092e\u0902\u091c\u093c\u093f\u0932\n",
        "warning  justajuu  is no longer \u091c\u0941\u0938\u094d\u0924\u091c\u0942\n",
        "warning  rang-o-rau;gan  is no longer \u0930\u0902\u0917\u2010\u0913\u2010\u0930\u094c\u0917\u093c\u0928\n",
        "warning "
       ]
      },
      {
       "output_type": "stream",
       "stream": "stdout",
       "text": [
        " nishaa;n  is no longer \u0928\u093f\u0936\u093e\u0901\n",
        "warning "
       ]
      },
      {
       "output_type": "stream",
       "stream": "stdout",
       "text": [
        " mallaa;h  is no longer \u092e\u0932\u094d\u0932\u093e\u0939\n",
        "warning  takraar  is no longer \u0924\u0915\u094d\u0930\u093e\u0930\n",
        "warning  raste  is no longer \u0930\u0938\u094d\u0924\u0947\n",
        "warning "
       ]
      },
      {
       "output_type": "stream",
       "stream": "stdout",
       "text": [
        " bayaabaa;n  is no longer \u092c\u092f\u093e\u092c\u093e\u0901\n",
        "warning  vaahimah  is no longer \u0935\u093e\u0939\u093f\u092e\u093e\n",
        "warning  kuhnah  is no longer \u0915\u0941\u0939\u0928\u093e\n",
        "warning  nau;hah-gar  is no longer \u0928\u094c\u0939\u093e\u0917\u0930\n",
        "warning "
       ]
      },
      {
       "output_type": "stream",
       "stream": "stdout",
       "text": [
        " insaan  is no longer \u0907\u0902\u0938\u093e\u0928\n",
        "warning  sa:t;h-e daryaa  is no longer \u0938\u0924\u094d\u0939\u2010\u090f\u2010\u0926\u0930\u092f\u093e\n",
        "warning  ravaa;n  is no longer \u0930\u0935\u093e\u0901\n",
        "warning  farangii  is no longer \u092b\u093c\u0930\u0902\u0917\u0940\n",
        "warning "
       ]
      },
      {
       "output_type": "stream",
       "stream": "stdout",
       "text": [
        " saadah  is no longer \u0938\u093e\u0926\u093e\n",
        "warning  dukkaan  is no longer \u0926\u0941\u0915\u094d\u0915\u093e\u0928\n",
        "warning  ishtiraakii  is no longer \u0907\u0936\u094d\u0924\u093f\u0930\u093e\u0915\u0940\n",
        "warning  a;zaa;n  is no longer \u0905\u091c\u093c\u093e\u0901\n",
        "warning "
       ]
      },
      {
       "output_type": "stream",
       "stream": "stdout",
       "text": [
        " zimistaa;n  is no longer \u091c\u093c\u093f\u092e\u093f\u0938\u0924\u093e\u0901\n",
        "warning  chand  is no longer \u091a\u0902\u0926\n",
        "warning  unhe;n  is no longer \u0909\u0902\u0939\u0947\u0902\n",
        "warning "
       ]
      },
      {
       "output_type": "stream",
       "stream": "stdout",
       "text": [
        " .sub;h-e .sa;hraa  is no longer \u0938\u0941\u092c\u094d\u0939\u2010\u090f\u2010\u0938\u0939\u0930\u093e\n",
        "warning  aa;nsuu))o;n  is no longer \u0906\u0902\u0938\u0941\u0913\u0902\n",
        "warning "
       ]
      },
      {
       "output_type": "stream",
       "stream": "stdout",
       "text": [
        " aasuudah  is no longer \u0906\u0938\u0942\u0926\u093e\n",
        "warning  afrang  is no longer \u0905\u092b\u093c\u094d\u0930\u0902\u0917\n",
        "warning "
       ]
      },
      {
       "output_type": "stream",
       "stream": "stdout",
       "text": [
        " mastuur  is no longer \u092e\u0938\u094d\u0924\u0942\u0930\n",
        "warning  bataa))uu;n  is no longer \u092c\u0924\u093e\u090a\u0901\n",
        "warning  la;z;zaat  is no longer \u0932\u091c\u093c\u094d\u091c\u093c\u093e\u0924\n",
        "warning  umango;n  is no longer \u0909\u092e\u0902\u0917\u094b\u0902\n",
        "warning "
       ]
      },
      {
       "output_type": "stream",
       "stream": "stdout",
       "text": [
        " kamrah  is no longer \u0915\u092e\u0930\u093e\n",
        "warning  mu;habbat-e naa-ravaa  is no longer \u092e\u0941\u0939\u092c\u094d\u092c\u0924\u2010\u090f\u2010\u0928\u093e\u0930\u0935\u093e\n",
        "warning "
       ]
      },
      {
       "output_type": "stream",
       "stream": "stdout",
       "text": [
        " i;xtiyaar  is no longer \u0907\u0916\u093c\u094d\u0924\u093f\u092f\u093e\u0930\n",
        "warning  vaa-raftah  is no longer \u0935\u093e\u0930\u092b\u093c\u094d\u0924\u093e\n",
        "warning "
       ]
      },
      {
       "output_type": "stream",
       "stream": "stdout",
       "text": [
        " hindii  is no longer \u0939\u093f\u0902\u0926\u0940\n",
        "warning  tajallii  is no longer \u0924\u091c\u0932\u094d\u0932\u0940\n",
        "warning  naa-gahaa;n  is no longer \u0928\u093e\u0917\u0939\u093e\u0901\n",
        "warning "
       ]
      },
      {
       "output_type": "stream",
       "stream": "stdout",
       "text": [
        " saa((at-e duzdiidah-o-naa-yaab  is no longer \u0938\u093e\u0905\u0924\u2010\u090f\u2010\u0926\u0941\u091c\u093c\u0926\u0940\u0926\u093e\u2010\u0913\u2010\u0928\u093e\u092f\u093e\u092c\n",
        "warning  kuuzah  is no longer \u0915\u0942\u091c\u093c\u093e\n",
        "warning  jahaan-e tag-o-dau  is no longer \u091c\u0939\u093e\u0928\u2010\u090f\u2010\u0924\u0917\u2010\u0913\u2010\u0926\u094c\n",
        "warning "
       ]
      },
      {
       "output_type": "stream",
       "stream": "stdout",
       "text": [
        " ;hurriyat  is no longer \u0939\u0941\u0930\u094d\u0930\u093f\u092f\u0924\n",
        "warning "
       ]
      },
      {
       "output_type": "stream",
       "stream": "stdout",
       "text": [
        " vaa-bastah  is no longer \u0935\u093e\u092c\u0938\u094d\u0924\u093e\n",
        "warning "
       ]
      },
      {
       "output_type": "stream",
       "stream": "stdout",
       "text": [
        " raq.saa;n  is no longer \u0930\u0915\u093c\u0938\u093e\u0901\n",
        "warning  ta.sviir  is no longer \u0924\u0938\u094d\u0935\u0940\u0930\n",
        "warning  jaa))uu;n  is no longer \u091c\u093e\u090a\u0901\n",
        "warning "
       ]
      },
      {
       "output_type": "stream",
       "stream": "stdout",
       "text": [
        " biruu;n  is no longer \u092c\u093f\u0930\u0942\u0901\n",
        "warning  raastah  is no longer \u0930\u093e\u0938\u094d\u0924\u093e\n",
        "warning "
       ]
      },
      {
       "output_type": "stream",
       "stream": "stdout",
       "text": [
        " rakkhaa  is no longer \u0930\u0915\u094d\u0916\u093e\n",
        "warning  nau-javaa;n  is no longer \u0928\u094c\u091c\u0935\u093e\u0901\n",
        "warning "
       ]
      },
      {
       "output_type": "stream",
       "stream": "stdout",
       "text": [
        " :tayyaarah  is no longer \u0924\u092f\u094d\u092f\u093e\u0930\u093e\n",
        "warning  ;harf-e tanhaa  is no longer \u0939\u0930\u094d\u092b\u093c\u2010\u090f\u2010\u0924\u0902\u0939\u093e\n",
        "warning  qaafilah  is no longer \u0915\u093c\u093e\u092b\u093c\u093f\u0932\u093e\n",
        "warning  tumhaare  is no longer \u0924\u0941\u092e\u094d\u0939\u093e\u0930\u0947\n",
        "warning "
       ]
      },
      {
       "output_type": "stream",
       "stream": "stdout",
       "text": [
        " dard-e risaalat  is no longer \u0926\u0930\u094d\u0926\u2010\u090f\u2010\u0930\u093f\u0938\u093e\u0932\u0924\n",
        "warning  marsidah  is no longer \u092e\u0930\u0938\u093f\u0926\u093e\n",
        "warning  ((ushshaaq  is no longer \u0909\u0936\u094d\u0936\u093e\u0915\u093c\n",
        "warning  kundo;n  is no longer \u0915\u0941\u0902\u0926\u094b\u0902\n",
        "warning "
       ]
      },
      {
       "output_type": "stream",
       "stream": "stdout",
       "text": [
        " sar-niguu;n  is no longer \u0938\u0930\u0928\u093f\u0917\u0942\u0901\n",
        "warning  ;ha.zrat-e yazdaa;n  is no longer \u0939\u091c\u093c\u0930\u0924\u2010\u090f\u2010\u092f\u091c\u093c\u0926\u093e\u0901\n",
        "warning  paivand  is no longer \u092a\u0948\u0935\u0902\u0926\n",
        "warning  sunsaan  is no longer \u0938\u0941\u0902\u0938\u093e\u0928\n",
        "warning "
       ]
      },
      {
       "output_type": "stream",
       "stream": "stdout",
       "text": [
        " parastaar  is no longer \u092a\u0930\u0938\u094d\u0924\u093e\u0930\n",
        "warning  uust  is no longer \u090a\u0938\u094d\u0924\n",
        "warning  havas-e jaur  is no longer \u0939\u0935\u0938\u2010\u090f\u2010\u091c\u094c\u0930\n",
        "warning "
       ]
      },
      {
       "output_type": "stream",
       "stream": "stdout",
       "text": [
        " ;xudaa))ii  is no longer \u0916\u093c\u0941\u0926\u093e\u0908\n",
        "warning  ((aruus-e ((azz-o-jal  is no longer \u0905\u0930\u0942\u0938\u2010\u090f\u2010\u0905\u091c\u093c\u094d\u091c\u093c\u2010\u0913\u2010\u091c\u0932\n",
        "warning "
       ]
      },
      {
       "output_type": "stream",
       "stream": "stdout",
       "text": [
        " ;xandah  is no longer \u0916\u093c\u0902\u0926\u093e\n",
        "warning  i:zhaar-e fan  is no longer \u0907\u091c\u093c\u0939\u093e\u0930\u2010\u090f\u2010\u092b\u093c\u0928\n",
        "warning  ma;xluuq-e be-jaa;n  is no longer \u092e\u0916\u093c\u0932\u0942\u0915\u093c\u2010\u090f\u2010\u092c\u0947\u091c\u093e\u0901\n",
        "warning  yuu;n-hii  is no longer \u092f\u0942\u0901\u0939\u0940\n",
        "warning "
       ]
      },
      {
       "output_type": "stream",
       "stream": "stdout",
       "text": [
        " faanuus-o-guldaa;n  is no longer \u092b\u093c\u093e\u0928\u0942\u0938\u2010\u0913\u2010\u0917\u0941\u0932\u0926\u093e\u0901\n",
        "warning  rah_rau))o;n  is no longer \u0930\u0939\u0930\u094c\u0913\u0902\n",
        "warning  va;gairah  is no longer \u0935\u0917\u093c\u0948\u0930\u093e\n",
        "warning  jism-o-jaa;n  is no longer \u091c\u093f\u0938\u094d\u092e\u2010\u0913\u2010\u091c\u093e\u0901\n",
        "warning "
       ]
      },
      {
       "output_type": "stream",
       "stream": "stdout",
       "text": [
        " be-saa;xtah  is no longer \u092c\u0947\u0938\u093e\u0916\u093c\u094d\u0924\u093e\n",
        "warning  tumhaaraa  is no longer \u0924\u0941\u092e\u094d\u0939\u093e\u0930\u093e\n",
        "warning  diivaanah  is no longer \u0926\u0940\u0935\u093e\u0928\u093e\n",
        "warning "
       ]
      },
      {
       "output_type": "stream",
       "stream": "stdout",
       "text": [
        " navaa-e saaz-gaar  is no longer \u0928\u0935\u093e\u2010\u090f\u2010\u0938\u093e\u091c\u093c\u0917\u093e\u0930\n",
        "warning "
       ]
      },
      {
       "output_type": "stream",
       "stream": "stdout",
       "text": [
        " iiraa;n  is no longer \u0908\u0930\u093e\u0901\n",
        "warning  jaamah  is no longer \u091c\u093e\u092e\u093e\n",
        "warning  samandaro;n  is no longer \u0938\u092e\u0902\u0926\u0930\u094b\u0902\n",
        "warning "
       ]
      },
      {
       "output_type": "stream",
       "stream": "stdout",
       "text": [
        " mizhgaa;n  is no longer \u092e\u093f\u091d\u093c\u0917\u093e\u0901\n",
        "warning  daurah-e shaadmaanii  is no longer \u0926\u094c\u0930\u093e\u2010\u090f\u2010\u0936\u093e\u0926\u092e\u093e\u0928\u0940\n",
        "warning "
       ]
      },
      {
       "output_type": "stream",
       "stream": "stdout",
       "text": [
        " pahnaa))ii  is no longer \u092a\u0939\u0928\u093e\u0908\n",
        "warning  vaadii-e pinhaa;n  is no longer \u0935\u093e\u0926\u0940\u2010\u090f\u2010\u092a\u093f\u0902\u0939\u093e\u0901\n",
        "warning  jhankaar  is no longer \u091d\u0902\u0915\u093e\u0930\n",
        "warning "
       ]
      },
      {
       "output_type": "stream",
       "stream": "stdout",
       "text": [
        " ;xvush_buu))e;n  is no longer \u0916\u093c\u0941\u0936\u092c\u0941\u090f\u0901\n",
        "warning  insaano;n  is no longer \u0907\u0902\u0938\u093e\u0928\u094b\u0902\n",
        "warning "
       ]
      },
      {
       "output_type": "stream",
       "stream": "stdout",
       "text": [
        " ;haadi;sah  is no longer \u0939\u093e\u0926\u093f\u0938\u093e\n",
        "warning "
       ]
      },
      {
       "output_type": "stream",
       "stream": "stdout",
       "text": [
        " reg-e .sa;hraa  is no longer \u0930\u0947\u0917\u2010\u090f\u2010\u0938\u0939\u0930\u093e\n",
        "warning  dostii  is no longer \u0926\u094b\u0938\u094d\u0924\u0940\n",
        "warning "
       ]
      },
      {
       "output_type": "stream",
       "stream": "stdout",
       "text": [
        " gandah  is no longer \u0917\u0902\u0926\u093e\n",
        "warning  vaa_bastah  is no longer \u0935\u093e\u092c\u0938\u094d\u0924\u093e\n",
        "warning  judaa))ii  is no longer \u091c\u0941\u0926\u093e\u0908\n",
        "warning  intihaa-e ma((rifat  is no longer \u0907\u0902\u0924\u093f\u0939\u093e\u2010\u090f\u2010\u092e\u093e\u0930\u093f\u092b\u093c\u0924\n",
        "warning "
       ]
      },
      {
       "output_type": "stream",
       "stream": "stdout",
       "text": [
        " eshiyaa))ii  is no longer \u090f\u0936\u093f\u092f\u093e\u0908\n",
        "warning  avvalii;n  is no longer \u0905\u0935\u094d\u0935\u0932\u0940\u0902\n",
        "warning "
       ]
      },
      {
       "output_type": "stream",
       "stream": "stdout",
       "text": [
        " kaarvaa;n-saraa  is no longer \u0915\u093e\u0930\u0935\u093e\u0901\u0938\u0930\u093e\n",
        "warning "
       ]
      },
      {
       "output_type": "stream",
       "stream": "stdout",
       "text": [
        " ((a:t:taar  is no longer \u0905\u0924\u094d\u0924\u093e\u0930\n",
        "warning  tiirah  is no longer \u0924\u0940\u0930\u093e\n",
        "warning  ashko;n  is no longer \u0905\u0936\u094d\u0915\u094b\u0902\n",
        "warning "
       ]
      },
      {
       "output_type": "stream",
       "stream": "stdout",
       "text": [
        " payaalah-o-.saraa;hii-o-sabuu  is no longer \u092a\u092f\u093e\u0932\u093e\u2010\u0913\u2010\u0938\u0930\u093e\u0939\u0940\u2010\u0913\u2010\u0938\u092c\u0942\n",
        "warning  ranjuur  is no longer \u0930\u0902\u091c\u0942\u0930\n",
        "warning "
       ]
      },
      {
       "output_type": "stream",
       "stream": "stdout",
       "text": [
        " aadam-e nau  is no longer \u0906\u0926\u092e\u2010\u090f\u2010\u0928\u094c\n",
        "warning  shikastah  is no longer \u0936\u093f\u0915\u0938\u094d\u0924\u093e\n",
        "warning  so;xtah-ba;xt  is no longer \u0938\u094b\u0916\u093c\u094d\u0924\u093e\u092c\u0916\u093c\u094d\u0924\n",
        "warning "
       ]
      },
      {
       "output_type": "stream",
       "stream": "stdout",
       "text": [
        " dara;xto;n  is no longer \u0926\u0930\u0916\u093c\u094d\u0924\u094b\u0902\n",
        "warning  shab-e be-raah  is no longer \u0936\u092c\u2010\u090f\u2010\u092c\u0947\u0930\u093e\u0939\n",
        "warning  bulandii  is no longer \u092c\u0941\u0932\u0902\u0926\u0940\n",
        "warning "
       ]
      },
      {
       "output_type": "stream",
       "stream": "stdout",
       "text": [
        " varnah  is no longer \u0935\u0930\u0928\u093e\n",
        "warning  todah-e ;xaak  is no longer \u0924\u094b\u0926\u093e\u2010\u090f\u2010\u0916\u093c\u093e\u0915\n",
        "warning  aatish_daa;n  is no longer \u0906\u0924\u093f\u0936\u0926\u093e\u0901\n",
        "warning "
       ]
      },
      {
       "output_type": "stream",
       "stream": "stdout",
       "text": [
        " gha;taa))o;n  is no longer \u0918\u091f\u093e\u0913\u0902\n",
        "warning  hameshah  is no longer \u0939\u092e\u0947\u0936\u093e\n",
        "warning  ;xaal-e hinduu  is no longer \u0916\u093c\u093e\u0932\u2010\u090f\u2010\u0939\u093f\u0902\u0926\u0942\n",
        "warning  rishtah  is no longer \u0930\u093f\u0936\u0924\u093e\n",
        "warning "
       ]
      },
      {
       "output_type": "stream",
       "stream": "stdout",
       "text": [
        " sunnaa;taa  is no longer \u0938\u0941\u0928\u094d\u0928\u093e\u091f\u093e\n",
        "warning  vi.saal-e aab-o-gil  is no longer \u0935\u093f\u0938\u093e\u0932\u2010\u090f\u2010\u0906\u092c\u2010\u0913\u2010\u0917\u093f\u0932\n",
        "warning  tanhaa  is no longer \u0924\u0902\u0939\u093e\n",
        "warning  rezah  is no longer \u0930\u0947\u091c\u093c\u093e\n",
        "warning  shahr-e madfuun  is no longer \u0936\u0939\u0930\u2010\u090f\u2010\u092e\u0926\u092b\u093c\u0942\u0928\n",
        "warning "
       ]
      },
      {
       "output_type": "stream",
       "stream": "stdout",
       "text": [
        " guriizaa;n  is no longer \u0917\u0941\u0930\u0940\u091c\u093c\u093e\u0901\n",
        "warning  kiisah  is no longer \u0915\u0940\u0938\u093e\n",
        "warning  rango;n  is no longer \u0930\u0902\u0917\u094b\u0902\n",
        "warning  tanhaa))iyo;n  is no longer \u0924\u0902\u0939\u093e\u0907\u092f\u094b\u0902\n",
        "warning "
       ]
      },
      {
       "output_type": "stream",
       "stream": "stdout",
       "text": [
        " junuu;n-;xez  is no longer \u091c\u0941\u0928\u0942\u0901\u0916\u093c\u0947\u091c\u093c\n",
        "warning  fashaar-e .zab:t  is no longer \u092b\u093c\u0936\u093e\u0930\u2010\u090f\u2010\u091c\u093c\u092c\u094d\u0924\n",
        "warning  duzdiidah  is no longer \u0926\u0941\u091c\u093c\u0926\u0940\u0926\u093e\n",
        "warning "
       ]
      },
      {
       "output_type": "stream",
       "stream": "stdout",
       "text": [
        " hanuuz-e zamaanah  is no longer \u0939\u0928\u0942\u091c\u093c\u2010\u090f\u2010\u091c\u093c\u092e\u093e\u0928\u093e\n",
        "warning  ((adl-e be-bahaa  is no longer \u0905\u0926\u094d\u0932\u2010\u090f\u2010\u092c\u0947\u092c\u0939\u093e\n",
        "warning  sang-bastah  is no longer \u0938\u0902\u0917\u092c\u0938\u0924\u093e\n",
        "warning "
       ]
      },
      {
       "output_type": "stream",
       "stream": "stdout",
       "text": [
        " sang-e bunyaad-e farang  is no longer \u0938\u0902\u0917\u2010\u090f\u2010\u092c\u0941\u0902\u092f\u093e\u0926\u2010\u090f\u2010\u092b\u093c\u0930\u0902\u0917\n",
        "warning  jabr-e daryaa  is no longer \u091c\u092c\u094d\u0930\u2010\u090f\u2010\u0926\u0930\u092f\u093e\n",
        "warning  paristaar  is no longer \u092a\u0930\u093f\u0938\u094d\u0924\u093e\u0930\n",
        "warning  aayindah  is no longer \u0906\u092f\u093f\u0902\u0926\u093e\n",
        "warning  roz-e fur.sat  is no longer \u0930\u094b\u091c\u093c\u2010\u090f\u2010\u092b\u093c\u0941\u0930\u0938\u0924\n",
        "warning "
       ]
      },
      {
       "output_type": "stream",
       "stream": "stdout",
       "text": [
        " satezah-kaar  is no longer \u0938\u0924\u0947\u091c\u093c\u093e\u0915\u093e\u0930\n",
        "warning  saalik-e raah  is no longer \u0938\u093e\u0932\u093f\u0915\u2010\u090f\u2010\u0930\u093e\u0939\n",
        "warning  sunaa))ii  is no longer \u0938\u0941\u0928\u093e\u0908\n",
        "warning "
       ]
      },
      {
       "output_type": "stream",
       "stream": "stdout",
       "text": [
        " bahaa))oge  is no longer \u092c\u0939\u093e\u0913\u0917\u0947\n",
        "warning  afsaanah-go  is no longer \u0905\u092b\u093c\u0938\u093e\u0928\u093e\u0917\u094b\n",
        "warning  ((ankabuut  is no longer \u0905\u0902\u0915\u092c\u0942\u0924\n",
        "warning  martabah-e diidah-e tar  is no longer \u092e\u0930\u0924\u092c\u093e\u2010\u090f\u2010\u0926\u0940\u0926\u093e\u2010\u090f\u2010\u0924\u0930\n",
        "warning "
       ]
      },
      {
       "output_type": "stream",
       "stream": "stdout",
       "text": [
        " jaan-e ((ajam  is no longer \u091c\u093e\u0928\u2010\u090f\u2010\u0905\u091c\u092e\n",
        "warning  aa))iino;n  is no longer \u0906\u0908\u0928\u094b\u0902\n",
        "warning  karuu;n  is no longer \u0915\u0930\u0942\u0901\n",
        "warning "
       ]
      },
      {
       "output_type": "stream",
       "stream": "stdout",
       "text": [
        " uupar  is no longer \u090a\u092a\u0930\n",
        "warning  baadah-gusaar  is no longer \u092c\u093e\u0926\u093e\u0917\u0941\u0938\u093e\u0930\n",
        "warning  royaa-e aasmaanii  is no longer \u0930\u094b\u092f\u093e\u2010\u090f\u2010\u0906\u0938\u094d\u092e\u093e\u0928\u0940\n",
        "warning "
       ]
      },
      {
       "output_type": "stream",
       "stream": "stdout",
       "text": [
        " sar-zamiin-e ziist  is no longer \u0938\u0930\u091c\u093c\u092e\u0940\u0928\u2010\u090f\u2010\u091c\u093c\u0940\u0938\u094d\u0924\n",
        "warning  inti:zaar-e be-zamaa;n  is no longer \u0907\u0902\u0924\u093f\u091c\u093c\u093e\u0930\u2010\u090f\u2010\u092c\u0947\u091c\u093c\u092e\u093e\u0901\n",
        "warning  sard-guu;n  is no longer \u0938\u0930\u094d\u0926\u0917\u0942\u0901\n",
        "warning "
       ]
      },
      {
       "output_type": "stream",
       "stream": "stdout",
       "text": [
        " shabistaano;n  is no longer \u0936\u092c\u093f\u0938\u094d\u0924\u093e\u0928\u094b\u0902\n",
        "warning  himmat-e naa-;xvub  is no longer \u0939\u093f\u092e\u094d\u092e\u0924\u2010\u090f\u2010\u0928\u093e\u0916\u093c\u0941\u092c\n",
        "warning "
       ]
      },
      {
       "output_type": "stream",
       "stream": "stdout",
       "text": [
        " tumhaarii  is no longer \u0924\u0941\u092e\u094d\u0939\u093e\u0930\u0940\n",
        "warning  ziinah-e nuur  is no longer \u091c\u093c\u0940\u0928\u093e\u2010\u090f\u2010\u0928\u0942\u0930\n",
        "warning  qa:tr-haa-e aab  is no longer \u0915\u093c\u0924\u094d\u0930\u0939\u093e\u2010\u090f\u2010\u0906\u092c\n",
        "warning "
       ]
      },
      {
       "output_type": "stream",
       "stream": "stdout",
       "text": [
        " ((ishq-e ;haasil-;xez  is no longer \u0907\u0936\u094d\u0915\u093c\u2010\u090f\u2010\u0939\u093e\u0938\u093f\u0932\u0916\u093c\u0947\u091c\u093c\n",
        "warning "
       ]
      },
      {
       "output_type": "stream",
       "stream": "stdout",
       "text": [
        " kuuzah-gar-e so;xtah-jaa;n  is no longer \u0915\u0942\u091c\u093c\u093e\u0917\u0930\u2010\u090f\u2010\u0938\u094b\u0916\u093c\u094d\u0924\u093e\u091c\u093e\u0901\n",
        "warning  i;nbisaa:t-e nau  is no longer \u0907\u0902\u092c\u093f\u0938\u093e\u0924\u2010\u090f\u2010\u0928\u094c\n",
        "warning  roz-e :tarab  is no longer \u0930\u094b\u091c\u093c\u2010\u090f\u2010\u0924\u0930\u092c\n",
        "warning "
       ]
      },
      {
       "output_type": "stream",
       "stream": "stdout",
       "text": [
        " ittifaaqaat  is no longer \u0907\u0924\u094d\u0924\u093f\u092b\u093c\u093e\u0915\u093c\u093e\u0924\n",
        "warning  pai-ravaan-e ahriiman  is no longer \u092a\u0948\u0930\u0935\u093e\u0928\u2010\u090f\u2010\u0905\u0939\u0930\u0940\u092e\u0928\n",
        "warning  luu;h-e aa))iinah  is no longer \u0932\u0942\u0939\u2010\u090f\u2010\u0906\u0908\u0928\u093e\n",
        "warning "
       ]
      },
      {
       "output_type": "stream",
       "stream": "stdout",
       "text": [
        " aa))oge  is no longer \u0906\u0913\u0917\u0947\n",
        "warning  ;zauq-e taqdiis  is no longer \u091c\u093c\u094c\u0915\u093c\u2010\u090f\u2010\u0924\u0915\u093c\u0926\u0940\u0938\n",
        "warning "
       ]
      },
      {
       "output_type": "stream",
       "stream": "stdout",
       "text": [
        " maj;zuub-e tunak-jaam  is no longer \u092e\u091c\u091c\u093c\u0942\u092c\u2010\u090f\u2010\u0924\u0941\u0928\u0915\u091c\u093e\u092e\n",
        "warning  firaaq-e jaa;n-kaah-e ;harf-o-ma((nii  is no longer \u092b\u093c\u093f\u0930\u093e\u0915\u093c\u2010\u090f\u2010\u091c\u093e\u0901\u0915\u093e\u0939\u2010\u090f\u2010\u0939\u0930\u094d\u092b\u093c\u2010\u0913\u2010\u092e\u093e\u0928\u0940\n",
        "warning "
       ]
      },
      {
       "output_type": "stream",
       "stream": "stdout",
       "text": [
        " saadah-o-ma((.suum  is no longer \u0938\u093e\u0926\u093e\u2010\u0913\u2010\u092e\u093e\u0938\u0942\u092e\n",
        "warning  aa;gosh-e .sar.sar  is no longer \u0906\u0917\u093c\u094b\u0936\u2010\u090f\u2010\u0938\u0930\u0938\u0930\n",
        "warning  .sub;h-e ((iid  is no longer \u0938\u0941\u092c\u094d\u0939\u2010\u090f\u2010\u0908\u0926\n",
        "warning "
       ]
      },
      {
       "output_type": "stream",
       "stream": "stdout",
       "text": [
        " ;xuun-e ma;hfil  is no longer \u0916\u093c\u0942\u0928\u2010\u090f\u2010\u092e\u0939\u092b\u093c\u093f\u0932\n",
        "warning  daryaa))o;n  is no longer \u0926\u0930\u092f\u093e\u0913\u0902\n",
        "warning  baadah  is no longer \u092c\u093e\u0926\u093e\n",
        "warning  angor  is no longer \u0905\u0902\u0917\u094b\u0930\n",
        "warning "
       ]
      },
      {
       "output_type": "stream",
       "stream": "stdout",
       "text": [
        " ;xaziinah  is no longer \u0916\u093c\u091c\u093c\u0940\u0928\u093e\n",
        "warning  fahm-e insaa;n  is no longer \u092b\u093c\u0939\u092e\u2010\u090f\u2010\u0907\u0902\u0938\u093e\u0901\n",
        "warning  duu;n  is no longer \u0926\u0942\u0901\n",
        "warning "
       ]
      },
      {
       "output_type": "stream",
       "stream": "stdout",
       "text": [
        " yak-rang  is no longer \u092f\u0915\u0930\u0902\u0917\n",
        "warning  ro))iidah  is no longer \u0930\u094b\u0908\u0926\u093e\n",
        "warning "
       ]
      },
      {
       "output_type": "stream",
       "stream": "stdout",
       "text": [
        " yaaraanah  is no longer \u092f\u093e\u0930\u093e\u0928\u093e\n",
        "warning  ;gam_zadah  is no longer \u0917\u093c\u092e\u091c\u093c\u0926\u093e\n",
        "warning "
       ]
      },
      {
       "output_type": "stream",
       "stream": "stdout",
       "text": [
        " dast-e qaatil  is no longer \u0926\u0938\u094d\u0924\u2010\u090f\u2010\u0915\u093c\u093e\u0924\u093f\u0932\n",
        "warning "
       ]
      },
      {
       "output_type": "stream",
       "stream": "stdout",
       "text": [
        " aa;gosh-e raa;hat  is no longer \u0906\u0917\u093c\u094b\u0936\u2010\u090f\u2010\u0930\u093e\u0939\u0924\n",
        "warning  gulistaa;n  is no longer \u0917\u0941\u0932\u093f\u0938\u094d\u0924\u093e\u0901\n",
        "warning  buland-o-bar-tar  is no longer \u092c\u0941\u0932\u0902\u0926\u2010\u0913\u2010\u092c\u0930\u0924\u0930\n",
        "warning  "
       ]
      },
      {
       "output_type": "stream",
       "stream": "stdout",
       "text": [
        "anbaar  is no longer \u0905\u0902\u092c\u093e\u0930\n",
        "warning  namuud-e sa;har  is no longer \u0928\u092e\u0942\u0926\u2010\u090f\u2010\u0938\u0939\u0930\n",
        "warning "
       ]
      },
      {
       "output_type": "stream",
       "stream": "stdout",
       "text": [
        " shauq-e parastaar-e jamaal  is no longer \u0936\u094c\u0915\u093c\u2010\u090f\u2010\u092a\u0930\u0938\u0924\u093e\u0930\u2010\u090f\u2010\u091c\u092e\u093e\u0932\n",
        "warning "
       ]
      },
      {
       "output_type": "stream",
       "stream": "stdout",
       "text": [
        " pinhaa;n  is no longer \u092a\u093f\u0902\u0939\u093e\u0901\n",
        "warning  dar-maa;ndah-o-be-chaarah  is no longer \u0926\u0930\u092e\u093e\u0902\u0926\u093e\u2010\u0913\u2010\u092c\u0947\u091a\u093e\u0930\u093e\n",
        "warning  vasiilah  is no longer \u0935\u0938\u0940\u0932\u093e\n",
        "warning "
       ]
      },
      {
       "output_type": "stream",
       "stream": "stdout",
       "text": [
        " .sub;he;n  is no longer \u0938\u0941\u092c\u094d\u0939\u0947\u0902\n",
        "warning  mahiib-o-ruu;h-sitaa;n  is no longer \u092e\u0939\u0940\u092c\u2010\u0913\u2010\u0930\u0942\u0939\u0938\u093f\u0924\u093e\u0901\n",
        "warning "
       ]
      },
      {
       "output_type": "stream",
       "stream": "stdout",
       "text": [
        " roz-e avvalii;n  is no longer \u0930\u094b\u091c\u093c\u2010\u090f\u2010\u0905\u0935\u094d\u0935\u0932\u0940\u0902\n",
        "warning "
       ]
      },
      {
       "output_type": "stream",
       "stream": "stdout",
       "text": [
        " navaa-sanj  is no longer \u0928\u0935\u093e\u0938\u0902\u091c\n",
        "warning "
       ]
      },
      {
       "output_type": "stream",
       "stream": "stdout",
       "text": [
        " bisaa:t-e .ziyaafat  is no longer \u092c\u093f\u0938\u093e\u0924\u2010\u090f\u2010\u091c\u093c\u093f\u092f\u093e\u092b\u093c\u0924\n",
        "warning  manaa:zir-e rangii;n  is no longer \u092e\u0928\u093e\u091c\u093c\u093f\u0930\u2010\u090f\u2010\u0930\u0902\u0917\u0940\u0902\n",
        "warning  joyandah-e tamkiin  is no longer \u091c\u094b\u092f\u0902\u0926\u0939\u2010\u090f\u2010\u0924\u092e\u0915\u0940\u0928\n",
        "warning "
       ]
      },
      {
       "output_type": "stream",
       "stream": "stdout",
       "text": [
        " par-bariidah  is no longer \u092a\u0930\u092c\u0930\u0940\u0926\u093e\n",
        "warning  ;huur-e qafqaaz  is no longer \u0939\u0942\u0930\u2010\u090f\u2010\u0915\u093c\u092b\u093c\u0915\u093c\u093e\u091c\u093c\n",
        "warning "
       ]
      },
      {
       "output_type": "stream",
       "stream": "stdout",
       "text": [
        " ;hau.slah-e ;xvub  is no longer \u0939\u094c\u0938\u094d\u0932\u093e\u2010\u090f\u2010\u0916\u093c\u0941\u092c\n",
        "warning  ((anqaa  is no longer \u0905\u0902\u0915\u093c\u093e\n",
        "warning  ((ahd-e vafaa  is no longer \u0905\u0939\u0926\u2010\u090f\u2010\u0935\u092b\u093c\u093e\n",
        "warning "
       ]
      },
      {
       "output_type": "stream",
       "stream": "stdout",
       "text": [
        " sitam-kash-e inti:zaar  is no longer \u0938\u093f\u0924\u092e\u0915\u0936\u2010\u090f\u2010\u0907\u0902\u0924\u093f\u091c\u093c\u093e\u0930\n",
        "warning  maqaam-e naazuk  is no longer \u092e\u0915\u093c\u093e\u092e\u2010\u090f\u2010\u0928\u093e\u091c\u093c\u0941\u0915\n",
        "warning "
       ]
      },
      {
       "output_type": "stream",
       "stream": "stdout",
       "text": [
        " shaa((ir-e dar-maa;ndah  is no longer \u0936\u093e\u0907\u0930\u2010\u090f\u2010\u0926\u0930\u092e\u093e\u0902\u0926\u093e\n",
        "warning  tund  is no longer \u0924\u0941\u0902\u0926\n",
        "warning  ba;xt-e vaazh-guu;n  is no longer \u092c\u0916\u093c\u094d\u0924\u2010\u090f\u2010\u0935\u093e\u091d\u093c\u0917\u0942\u0901\n",
        "warning "
       ]
      },
      {
       "output_type": "stream",
       "stream": "stdout",
       "text": [
        " fareb-e vafaa  is no longer \u092b\u093c\u0930\u0947\u092c\u2010\u090f\u2010\u0935\u092b\u093c\u093e\n",
        "warning  shab-e raftah  is no longer \u0936\u092c\u2010\u090f\u2010\u0930\u092b\u093c\u094d\u0924\u093e\n",
        "warning  saugand  is no longer \u0938\u094c\u0917\u0902\u0926\n",
        "warning "
       ]
      },
      {
       "output_type": "stream",
       "stream": "stdout",
       "text": [
        " daariyuush-e buzurg  is no longer \u0926\u093e\u0930\u093f\u092f\u0942\u0936\u2010\u090f\u2010\u092c\u0941\u091c\u093c\u0941\u0930\u094d\u0917\n",
        "warning  u;t;the;n  is no longer \u0909\u091f\u094d\u0920\u0947\u0902\n",
        "warning  bhuuluu;n  is no longer \u092d\u0942\u0932\u0942\u0901\n",
        "warning "
       ]
      },
      {
       "output_type": "stream",
       "stream": "stdout",
       "text": [
        " nazhaad-e kaahil  is no longer \u0928\u091d\u093c\u093e\u0926\u2010\u090f\u2010\u0915\u093e\u0939\u093f\u0932\n",
        "warning  afriiqah  is no longer \u0905\u092b\u093c\u0930\u0940\u0915\u093c\u093e\n",
        "warning  taabistaa;n  is no longer \u0924\u093e\u092c\u093f\u0938\u0924\u093e\u0901\n",
        "warning  ;xuld-zaar-e maah-o-anjam  is no longer \u0916\u093c\u0941\u0932\u094d\u0926\u091c\u093c\u093e\u0930\u2010\u090f\u2010\u092e\u093e\u0939\u2010\u0913\u2010\u0905\u0902\u091c\u092e\n",
        "warning "
       ]
      },
      {
       "output_type": "stream",
       "stream": "stdout",
       "text": [
        " bahiimaanah  is no longer \u092c\u0939\u0940\u092e\u093e\u0928\u093e\n",
        "warning  kunj-e maa.zii  is no longer \u0915\u0941\u0902\u091c\u2010\u090f\u2010\u092e\u093e\u091c\u093c\u0940\n",
        "warning  anjiiro;n  is no longer \u0905\u0902\u091c\u0940\u0930\u094b\u0902\n",
        "warning "
       ]
      },
      {
       "output_type": "stream",
       "stream": "stdout",
       "text": [
        " umang  is no longer \u0909\u092e\u0902\u0917\n",
        "warning  chob-e ;xushk  is no longer \u091a\u094b\u092c\u2010\u090f\u2010\u0916\u093c\u0941\u0936\u094d\u0915\n",
        "warning  ((ahd-e taataar  is no longer \u0905\u0939\u0926\u2010\u090f\u2010\u0924\u093e\u0924\u093e\u0930\n",
        "warning "
       ]
      },
      {
       "output_type": "stream",
       "stream": "stdout",
       "text": [
        " mi;saal-e saaz-e jaa;n  is no longer \u092e\u093f\u0938\u093e\u0932\u2010\u090f\u2010\u0938\u093e\u091c\u093c\u2010\u090f\u2010\u091c\u093e\u0901\n",
        "warning  naa-daa;n  is no longer \u0928\u093e\u0926\u093e\u0901\n",
        "warning  jang  is no longer \u091c\u0902\u0917\n",
        "warning  zamiin-e gul-posh  is no longer \u091c\u093c\u092e\u0940\u0928\u2010\u090f\u2010\u0917\u0941\u0932\u092a\u094b\u0936\n",
        "warning "
       ]
      },
      {
       "output_type": "stream",
       "stream": "stdout",
       "text": [
        " jahannamo;n  is no longer \u091c\u0939\u0928\u094d\u0928\u092e\u094b\u0902\n",
        "warning  aarzuu-e vi.saal-e ma((nii  is no longer \u0906\u0930\u094d\u091c\u093c\u0942\u2010\u090f\u2010\u0935\u093f\u0938\u093e\u0932\u2010\u090f\u2010\u092e\u093e\u0928\u0940\n",
        "warning "
       ]
      },
      {
       "output_type": "stream",
       "stream": "stdout",
       "text": [
        " fikr-e hastii  is no longer \u092b\u093c\u093f\u0915\u094d\u0930\u2010\u090f\u2010\u0939\u0938\u0924\u0940\n",
        "warning  havaa))ii  is no longer \u0939\u0935\u093e\u0908\n",
        "warning  zer-e m;e;hraab  is no longer \u091c\u093c\u0947\u0930\u2010\u090f\u2010\u092e\u0947\u0939\u0930\u093e\u092c\n",
        "warning "
       ]
      },
      {
       "output_type": "stream",
       "stream": "stdout",
       "text": [
        " jaam-e shahd  is no longer \u091c\u093e\u092e\u2010\u090f\u2010\u0936\u0939\u0926\n",
        "warning  ;xvaabiidah  is no longer \u0916\u093c\u094d\u0935\u093e\u092c\u0940\u0926\u093e\n",
        "warning  naisaan-e bahaar  is no longer \u0928\u0948\u0938\u093e\u0928\u2010\u090f\u2010\u092c\u0939\u093e\u0930\n",
        "warning "
       ]
      },
      {
       "output_type": "stream",
       "stream": "stdout",
       "text": [
        " shab-e aalaam  is no longer \u0936\u092c\u2010\u090f\u2010\u0906\u0932\u093e\u092e\n",
        "warning  ((ar.z-e hunar  is no longer \u0905\u0930\u094d\u091c\u093c\u2010\u090f\u2010\u0939\u0941\u0928\u0930\n",
        "warning  miinaar-o-gunbad  is no longer \u092e\u0940\u0928\u093e\u0930\u2010\u0913\u2010\u0917\u0941\u0902\u092c\u0926\n",
        "warning  shahr-e barbaad  is no longer \u0936\u0939\u0930\u2010\u090f\u2010\u092c\u0930\u092c\u093e\u0926\n",
        "warning "
       ]
      },
      {
       "output_type": "stream",
       "stream": "stdout",
       "text": [
        " jaah-o-jalaal-e qadiim  is no longer \u091c\u093e\u0939\u2010\u0913\u2010\u091c\u0932\u093e\u0932\u2010\u090f\u2010\u0915\u093c\u0926\u0940\u092e\n",
        "warning  sar-e bistar-e sanjaab  is no longer \u0938\u0930\u2010\u090f\u2010\u092c\u093f\u0938\u094d\u0924\u0930\u2010\u090f\u2010\u0938\u0902\u091c\u093e\u092c\n",
        "warning "
       ]
      },
      {
       "output_type": "stream",
       "stream": "stdout",
       "text": [
        " gum-shudah  is no longer \u0917\u0941\u092e\u0936\u0941\u0926\u093e\n",
        "warning  ;than;daa  is no longer \u0920\u0902\u0921\u093e\n",
        "warning  sang_dil  is no longer \u0938\u0902\u0917\u0926\u093f\u0932\n",
        "warning "
       ]
      },
      {
       "output_type": "stream",
       "stream": "stdout",
       "text": [
        " aa;ndhiyaa;n  is no longer \u0906\u0902\u0927\u093f\u092f\u093e\u0901\n",
        "warning  kah_kashaa;n  is no longer \u0915\u0939\u0915\u0936\u093e\u0901\n",
        "warning "
       ]
      },
      {
       "output_type": "stream",
       "stream": "stdout",
       "text": [
        " sail-e nuur-e andaruu;n  is no longer \u0938\u0948\u0932\u2010\u090f\u2010\u0928\u0942\u0930\u2010\u090f\u2010\u0905\u0902\u0926\u0930\u0942\u0901\n",
        "warning "
       ]
      },
      {
       "output_type": "stream",
       "stream": "stdout",
       "text": [
        " dast-e la))iim  is no longer \u0926\u0938\u094d\u0924\u2010\u090f\u2010\u0932\u0908\u092e\n",
        "warning  mu;habbat-e sar-madii  is no longer \u092e\u0941\u0939\u092c\u094d\u092c\u0924\u2010\u090f\u2010\u0938\u0930\u092e\u0926\u0940\n",
        "warning "
       ]
      },
      {
       "output_type": "stream",
       "stream": "stdout",
       "text": [
        " navaa-e abr  is no longer \u0928\u0935\u093e\u2010\u090f\u2010\u0905\u092c\u094d\u0930\n",
        "warning  dajlah  is no longer \u0926\u091c\u0932\u093e\n",
        "warning  laa))ii  is no longer \u0932\u093e\u0908\n",
        "warning  roz-e bashaarat  is no longer \u0930\u094b\u091c\u093c\u2010\u090f\u2010\u092c\u0936\u093e\u0930\u0924\n",
        "warning "
       ]
      },
      {
       "output_type": "stream",
       "stream": "stdout",
       "text": [
        " ummiid  is no longer \u0909\u092e\u094d\u092e\u0940\u0926\n",
        "warning "
       ]
      },
      {
       "output_type": "stream",
       "stream": "stdout",
       "text": [
        " ma;hjuubaanah  is no longer \u092e\u0939\u091c\u0942\u092c\u093e\u0928\u093e\n",
        "warning  ;xvaab-e la;z;zat-aagii;n  is no longer \u0916\u093c\u094d\u0935\u093e\u092c\u2010\u090f\u2010\u0932\u091c\u093c\u094d\u091c\u093c\u0924\u0906\u0917\u0940\u0902\n",
        "warning "
       ]
      },
      {
       "output_type": "stream",
       "stream": "stdout",
       "text": [
        " diruun-e aadam  is no longer \u0926\u093f\u0930\u0942\u0928\u2010\u090f\u2010\u0906\u0926\u092e\n",
        "warning  paa))o;n  is no longer \u092a\u093e\u0913\u0902\n",
        "warning  gesuu))o;n  is no longer \u0917\u0947\u0938\u0941\u0913\u0902\n",
        "warning "
       ]
      },
      {
       "output_type": "stream",
       "stream": "stdout",
       "text": [
        " ta;xt-e jam-o-taaj-e kai  is no longer \u0924\u0916\u093c\u094d\u0924\u2010\u090f\u2010\u091c\u092e\u2010\u0913\u2010\u0924\u093e\u091c\u2010\u090f\u2010\u0915\u0948\n",
        "warning  kaamraaniyaa;n  is no longer \u0915\u093e\u092e\u0930\u093e\u0928\u093f\u092f\u093e\u0901\n",
        "warning "
       ]
      },
      {
       "output_type": "stream",
       "stream": "stdout",
       "text": [
        " nikaaluu;n  is no longer \u0928\u093f\u0915\u093e\u0932\u0942\u0901\n",
        "warning  tund-o-tez  is no longer \u0924\u0941\u0902\u0926\u2010\u0913\u2010\u0924\u0947\u091c\u093c\n",
        "warning  naa-diidah  is no longer \u0928\u093e\u0926\u0940\u0926\u093e\n",
        "warning  safiinah-gar  is no longer \u0938\u092b\u093c\u0940\u0928\u093e\u0917\u0930\n",
        "warning  maah-o-saal-e nuur  is no longer \u092e\u093e\u0939\u2010\u0913\u2010\u0938\u093e\u0932\u2010\u090f\u2010\u0928\u0942\u0930\n",
        "warning "
       ]
      },
      {
       "output_type": "stream",
       "stream": "stdout",
       "text": [
        " qaid-o-band  is no longer \u0915\u093c\u0948\u0926\u2010\u0913\u2010\u092c\u0902\u0926\n",
        "warning  dard-e laa-davaa  is no longer \u0926\u0930\u094d\u0926\u2010\u090f\u2010\u0932\u093e\u0926\u0935\u093e\n",
        "warning  chiidah  is no longer \u091a\u0940\u0926\u093e\n",
        "warning "
       ]
      },
      {
       "output_type": "stream",
       "stream": "stdout",
       "text": [
        " maanind-e naqiib  is no longer \u092e\u093e\u0928\u093f\u0902\u0926\u2010\u090f\u2010\u0928\u0915\u093c\u0940\u092c\n",
        "warning  hangaam-e tapaak  is no longer \u0939\u0902\u0917\u093e\u092e\u2010\u090f\u2010\u0924\u092a\u093e\u0915\n",
        "warning "
       ]
      },
      {
       "output_type": "stream",
       "stream": "stdout",
       "text": [
        " raah-o-rasm-e manzil  is no longer \u0930\u093e\u0939\u2010\u0913\u2010\u0930\u0938\u094d\u092e\u2010\u090f\u2010\u092e\u0902\u091c\u093c\u093f\u0932\n",
        "warning  ;huur-e ((i.smat  is no longer \u0939\u0942\u0930\u2010\u090f\u2010\u0907\u0938\u092e\u0924\n",
        "warning "
       ]
      },
      {
       "output_type": "stream",
       "stream": "stdout",
       "text": [
        " raah-e shauq  is no longer \u0930\u093e\u0939\u2010\u090f\u2010\u0936\u094c\u0915\u093c\n",
        "warning  nihaayat-e inti:zaar  is no longer \u0928\u093f\u0939\u093e\u092f\u0924\u2010\u090f\u2010\u0907\u0902\u0924\u093f\u091c\u093c\u093e\u0930\n",
        "warning "
       ]
      },
      {
       "output_type": "stream",
       "stream": "stdout",
       "text": [
        " dard-e majruumii  is no longer \u0926\u0930\u094d\u0926\u2010\u090f\u2010\u092e\u091c\u0930\u0942\u092e\u0940\n",
        "warning  shahr-o-qaryah  is no longer \u0936\u0939\u0930\u2010\u0913\u2010\u0915\u093c\u0930\u092f\u093e\n",
        "warning "
       ]
      },
      {
       "output_type": "stream",
       "stream": "stdout",
       "text": [
        " jaam-o-miinaa-o-guldaa;n  is no longer \u091c\u093e\u092e\u2010\u0913\u2010\u092e\u0940\u0928\u093e\u2010\u0913\u2010\u0917\u0941\u0932\u0926\u093e\u0901\n",
        "warning  nishaan-e sar-e manzil  is no longer \u0928\u093f\u0936\u093e\u0928\u2010\u090f\u2010\u0938\u0930\u2010\u090f\u2010\u092e\u0902\u091c\u093c\u093f\u0932\n",
        "warning "
       ]
      },
      {
       "output_type": "stream",
       "stream": "stdout",
       "text": [
        " bataa))ii  is no longer \u092c\u0924\u093e\u0908\n",
        "warning  sar-e baazaar  is no longer \u0938\u0930\u2010\u090f\u2010\u092c\u093e\u091c\u093c\u093e\u0930\n",
        "warning "
       ]
      },
      {
       "output_type": "stream",
       "stream": "stdout",
       "text": [
        " piiraanah  is no longer \u092a\u0940\u0930\u093e\u0928\u093e\n",
        "warning  so;xtah-sar  is no longer \u0938\u094b\u0916\u093c\u094d\u0924\u093e\u0938\u0930\n",
        "warning  likhuu;n  is no longer \u0932\u093f\u0916\u0942\u0901\n",
        "warning "
       ]
      },
      {
       "output_type": "stream",
       "stream": "stdout",
       "text": [
        " banaa-re;xtah  is no longer \u092c\u0928\u093e\u0930\u0947\u0916\u093c\u094d\u0924\u093e\n",
        "warning  bandagii-e qaa.zii-e ;haajaat  is no longer \u092c\u0902\u0926\u0917\u0940\u2010\u090f\u2010\u0915\u093c\u093e\u091c\u093c\u0940\u2010\u090f\u2010\u0939\u093e\u091c\u093e\u0924\n",
        "warning "
       ]
      },
      {
       "output_type": "stream",
       "stream": "stdout",
       "text": [
        " nishaan-e paa  is no longer \u0928\u093f\u0936\u093e\u0928\u2010\u090f\u2010\u092a\u093e\n",
        "warning  aahang-e suruur  is no longer \u0906\u0939\u0902\u0917\u2010\u090f\u2010\u0938\u0941\u0930\u0942\u0930\n",
        "warning  nihaa;n-;xaano;n  is no longer \u0928\u093f\u0939\u093e\u0901\u0916\u093c\u093e\u0928\u094b\u0902\n",
        "warning  raq.s-e be-zamaa;n  is no longer \u0930\u0915\u093c\u094d\u0938\u2010\u090f\u2010\u092c\u0947\u091c\u093c\u092e\u093e\u0901\n",
        "warning "
       ]
      },
      {
       "output_type": "stream",
       "stream": "stdout",
       "text": [
        " nuur-e abad  is no longer \u0928\u0942\u0930\u2010\u090f\u2010\u0905\u092c\u0926\n",
        "warning  ;gam-diidah  is no longer \u0917\u093c\u092e\u0926\u0940\u0926\u093e\n",
        "warning  shikast-e miinaa-o-jaam  is no longer \u0936\u093f\u0915\u0938\u094d\u0924\u2010\u090f\u2010\u092e\u0940\u0928\u093e\u2010\u0913\u2010\u091c\u093e\u092e\n",
        "warning "
       ]
      },
      {
       "output_type": "stream",
       "stream": "stdout",
       "text": [
        " ;hariim-e gunaah  is no longer \u0939\u0930\u0940\u092e\u2010\u090f\u2010\u0917\u0941\u0928\u093e\u0939\n",
        "warning  raah-e faraar  is no longer \u0930\u093e\u0939\u2010\u090f\u2010\u092b\u093c\u0930\u093e\u0930\n",
        "warning "
       ]
      },
      {
       "output_type": "stream",
       "stream": "stdout",
       "text": [
        " payaam-e marg-e javaanii  is no longer \u092a\u092f\u093e\u092e\u2010\u090f\u2010\u092e\u0930\u094d\u0917\u2010\u090f\u2010\u091c\u0935\u093e\u0928\u0940\n",
        "warning "
       ]
      },
      {
       "output_type": "stream",
       "stream": "stdout",
       "text": [
        " bah-gil  is no longer \u092c\u0917\u093f\u0932\n",
        "warning  .sifr-e ((a:ziim  is no longer \u0938\u093f\u092b\u093c\u094d\u0930\u2010\u090f\u2010\u0905\u091c\u093c\u0940\u092e\n",
        "warning "
       ]
      },
      {
       "output_type": "stream",
       "stream": "stdout",
       "text": [
        " afrangii  is no longer \u0905\u092b\u093c\u094d\u0930\u0902\u0917\u0940\n",
        "warning  fusuu;n-kaar  is no longer \u092b\u093c\u0941\u0938\u0942\u0901\u0915\u093e\u0930\n",
        "warning "
       ]
      },
      {
       "output_type": "stream",
       "stream": "stdout",
       "text": [
        " kaahin-e daanish_var-o-((aalii-guhar-o-piir  is no longer \u0915\u093e\u0939\u093f\u0928\u2010\u090f\u2010\u0926\u093e\u0928\u093f\u0936\u0935\u0930\u2010\u0913\u2010\u0906\u0932\u0940\u0917\u0941\u0939\u0930\u2010\u0913\u2010\u092a\u0940\u0930\n",
        "warning  aaz-e ;xuu;n-;xvaar  is no longer \u0906\u091c\u093c\u2010\u090f\u2010\u0916\u093c\u0942\u0901\u0916\u093c\u094d\u0935\u093e\u0930\n",
        "warning  marg-e mabram  is no longer \u092e\u0930\u094d\u0917\u2010\u090f\u2010\u092e\u092c\u0930\u092e\n",
        "warning "
       ]
      },
      {
       "output_type": "stream",
       "stream": "stdout",
       "text": [
        " pareshaa;n  is no longer \u092a\u0930\u0947\u0936\u093e\u0901\n",
        "warning "
       ]
      },
      {
       "output_type": "stream",
       "stream": "stdout",
       "text": [
        " saaq-e .sandalii;n  is no longer \u0938\u093e\u0915\u093c\u2010\u090f\u2010\u0938\u0902\u0926\u0932\u0940\u0902\n",
        "warning "
       ]
      },
      {
       "output_type": "stream",
       "stream": "stdout",
       "text": [
        " daur-e naa-sazaa  is no longer \u0926\u094c\u0930\u2010\u090f\u2010\u0928\u093e\u0938\u091c\u093c\u093e\n",
        "warning  kunj-e gulaab  is no longer \u0915\u0941\u0902\u091c\u2010\u090f\u2010\u0917\u0941\u0932\u093e\u092c\n",
        "warning "
       ]
      },
      {
       "output_type": "stream",
       "stream": "stdout",
       "text": [
        " shaam-e jaa;n-sitaa;n  is no longer \u0936\u093e\u092e\u2010\u090f\u2010\u091c\u093e\u0901\u0938\u093f\u0924\u093e\u0901\n",
        "warning  pa;ziiraa))ii  is no longer \u092a\u091c\u093c\u0940\u0930\u093e\u0908\n",
        "warning  ishtiraak-e giraa;n-bahaa  is no longer \u0907\u0936\u094d\u0924\u093f\u0930\u093e\u0915\u2010\u090f\u2010\u0917\u093f\u0930\u093e\u0901\u092c\u0939\u093e\n",
        "warning "
       ]
      },
      {
       "output_type": "stream",
       "stream": "stdout",
       "text": [
        " parvardah-e ((ashvah-baazii  is no longer \u092a\u0930\u0935\u0930\u094d\u0926\u093e\u2010\u090f\u2010\u0905\u0936\u0935\u093e\u092c\u093e\u091c\u093c\u0940\n",
        "warning  ((aarifaanah  is no longer \u0906\u0930\u093f\u092b\u093c\u093e\u0928\u093e\n",
        "warning "
       ]
      },
      {
       "output_type": "stream",
       "stream": "stdout",
       "text": [
        " ;gaazah  is no longer \u0917\u093c\u093e\u091c\u093c\u093e\n",
        "warning  rangii;n  is no longer \u0930\u0902\u0917\u0940\u0902\n",
        "warning  kamand-e ((a:ziim  is no longer \u0915\u092e\u0902\u0926\u2010\u090f\u2010\u0905\u091c\u093c\u0940\u092e\n",
        "warning  la;z;zat-e tasliim  is no longer \u0932\u091c\u093c\u094d\u091c\u093c\u0924\u2010\u090f\u2010\u0924\u0938\u094d\u0932\u0940\u092e\n",
        "warning "
       ]
      },
      {
       "output_type": "stream",
       "stream": "stdout",
       "text": [
        " tamannaa-e va.sl-e ma((naa  is no longer \u0924\u092e\u0928\u094d\u0928\u093e\u2010\u090f\u2010\u0935\u0938\u094d\u0932\u2010\u090f\u2010\u092e\u093e\u0928\u093e\n",
        "warning  sabzo;n  is no longer \u0938\u092c\u094d\u091c\u093c\u094b\u0902\n",
        "warning  ;haafi:zah  is no longer \u0939\u093e\u092b\u093c\u093f\u091c\u093c\u093e\n",
        "warning "
       ]
      },
      {
       "output_type": "stream",
       "stream": "stdout",
       "text": [
        " ;xvaajah-saraa))o;n  is no longer \u0916\u093c\u094d\u0935\u093e\u091c\u093e\u0938\u0930\u093e\u0913\u0902\n",
        "warning  dosto;n  is no longer \u0926\u094b\u0938\u094d\u0924\u094b\u0902\n",
        "warning  angrez  is no longer \u0905\u0902\u0917\u094d\u0930\u0947\u091c\u093c\n",
        "warning "
       ]
      },
      {
       "output_type": "stream",
       "stream": "stdout",
       "text": [
        " kaa;x-e fa;gfuur-o-kusr;aa  is no longer \u0915\u093e\u0916\u093c\u2010\u090f\u2010\u092b\u093c\u0917\u093c\u092b\u093c\u0942\u0930\u2010\u0913\u2010\u0915\u0941\u0938\u0930\u093e\n",
        "warning  zamaan-e be-zamaa;n  is no longer \u091c\u093c\u092e\u093e\u0928\u2010\u090f\u2010\u092c\u0947\u091c\u093c\u092e\u093e\u0901\n",
        "warning "
       ]
      },
      {
       "output_type": "stream",
       "stream": "stdout",
       "text": [
        " kaabuus-e maa.zii  is no longer \u0915\u093e\u092c\u0942\u0938\u2010\u090f\u2010\u092e\u093e\u091c\u093c\u0940\n",
        "warning  shikvah-haa-e nai  is no longer \u0936\u093f\u0915\u0935\u093e\u0939\u093e\u2010\u090f\u2010\u0928\u0948\n",
        "warning "
       ]
      },
      {
       "output_type": "stream",
       "stream": "stdout",
       "text": [
        " aahan-o-chob-o-sang-o-siimaa;n  is no longer \u0906\u0939\u0928\u2010\u0913\u2010\u091a\u094b\u092c\u2010\u0913\u2010\u0938\u0902\u0917\u2010\u0913\u2010\u0938\u0940\u092e\u093e\u0901\n",
        "warning  lab-haa-e azal-tishnah  is no longer \u0932\u092c\u0939\u093e\u2010\u090f\u2010\u0905\u091c\u093c\u0932\u0924\u093f\u0936\u094d\u0928\u093e\n",
        "warning "
       ]
      },
      {
       "output_type": "stream",
       "stream": "stdout",
       "text": [
        " ristah-haa-e aahan  is no longer \u0930\u093f\u0938\u0924\u093e\u0939\u093e\u2010\u090f\u2010\u0906\u0939\u0928\n",
        "warning  handase  is no longer \u0939\u0902\u0926\u0938\u0947\n",
        "warning "
       ]
      },
      {
       "output_type": "stream",
       "stream": "stdout",
       "text": [
        " izhdihaam-e insaa;n  is no longer \u0907\u091d\u093c\u0926\u093f\u0939\u093e\u092e\u2010\u090f\u2010\u0907\u0902\u0938\u093e\u0901\n",
        "warning "
       ]
      },
      {
       "output_type": "stream",
       "stream": "stdout",
       "text": [
        " duzdiidah-o-zhuuliidah  is no longer \u0926\u0941\u091c\u093c\u0926\u0940\u0926\u093e\u2010\u0913\u2010\u091d\u093c\u0942\u0932\u0940\u0926\u093e\n",
        "warning  sukuut-e ajal  is no longer \u0938\u0941\u0915\u0942\u0924\u2010\u090f\u2010\u0905\u091c\u0932\n",
        "warning  hiraasaa;n  is no longer \u0939\u093f\u0930\u093e\u0938\u093e\u0901\n",
        "warning  vahaa;n  is no longer \u0935\u0939\u093e\u0901\n",
        "warning "
       ]
      },
      {
       "output_type": "stream",
       "stream": "stdout",
       "text": [
        " ;z;ehn-e rasaa  is no longer \u091c\u093c\u0947\u0939\u0928\u2010\u090f\u2010\u0930\u0938\u093e\n",
        "warning  zer-e girdaab  is no longer \u091c\u093c\u0947\u0930\u2010\u090f\u2010\u0917\u093f\u0930\u0926\u093e\u092c\n",
        "warning  rang-o-nak'hat  is no longer \u0930\u0902\u0917\u2010\u0913\u2010\u0928\u0915\u0939\u0924\n",
        "warning "
       ]
      },
      {
       "output_type": "stream",
       "stream": "stdout",
       "text": [
        " uu;nche  is no longer \u090a\u0902\u091a\u0947\n",
        "warning  aarzuu-mandii  is no longer \u0906\u0930\u094d\u091c\u093c\u0942\u092e\u0902\u0926\u0940\n",
        "warning  patangaa  is no longer \u092a\u0924\u0902\u0917\u093e\n",
        "warning  mausam-e ((ishrat-fashaar  is no longer \u092e\u094c\u0938\u092e\u2010\u090f\u2010\u0907\u0936\u0930\u0924\u092b\u093c\u0936\u093e\u0930\n",
        "warning "
       ]
      },
      {
       "output_type": "stream",
       "stream": "stdout",
       "text": [
        " ra((naa))ii  is no longer \u0930\u093e\u0928\u093e\u0908\n",
        "warning "
       ]
      },
      {
       "output_type": "stream",
       "stream": "stdout",
       "text": [
        " goshah-e baa:tin  is no longer \u0917\u094b\u0936\u093e\u2010\u090f\u2010\u092c\u093e\u0924\u093f\u0928\n",
        "warning  dil_band  is no longer \u0926\u093f\u0932\u092c\u0902\u0926\n",
        "warning "
       ]
      },
      {
       "output_type": "stream",
       "stream": "stdout",
       "text": [
        " farishto;n  is no longer \u092b\u093c\u0930\u093f\u0936\u094d\u0924\u094b\u0902\n",
        "warning  kanakhyo;n  is no longer \u0915\u0928\u0916\u094d\u092f\u094b\u0902\n",
        "warning "
       ]
      },
      {
       "output_type": "stream",
       "stream": "stdout",
       "text": [
        " ;halqah-zan  is no longer \u0939\u0932\u0915\u093c\u093e\u091c\u093c\u0928\n",
        "warning  :tanz  is no longer \u0924\u0902\u091c\u093c\n",
        "warning  ziyaa;n  is no longer \u091c\u093c\u093f\u092f\u093e\u0901\n",
        "warning  nange  is no longer \u0928\u0902\u0917\u0947\n",
        "warning "
       ]
      },
      {
       "output_type": "stream",
       "stream": "stdout",
       "text": [
        " hon;to;n  is no longer \u0939\u094b\u0902\u091f\u094b\u0902\n",
        "warning "
       ]
      },
      {
       "output_type": "stream",
       "stream": "stdout",
       "text": [
        " shahanshaaho;n  is no longer \u0936\u0939\u0902\u0936\u093e\u0939\u094b\u0902\n",
        "warning  ((aruus-e javaa;n-saal-e fardaa  is no longer \u0905\u0930\u0942\u0938\u2010\u090f\u2010\u091c\u0935\u093e\u0901\u0938\u093e\u0932\u2010\u090f\u2010\u092b\u093c\u0930\u094d\u0926\u093e\n",
        "warning "
       ]
      },
      {
       "output_type": "stream",
       "stream": "stdout",
       "text": [
        " shaqiiq-o-nastaran  is no longer \u0936\u0915\u093c\u0940\u0915\u093c\u2010\u0913\u2010\u0928\u0938\u094d\u0924\u0930\u0928\n",
        "warning  ;xiimah-figan  is no longer \u0916\u093c\u0940\u092e\u093e\u092b\u093c\u093f\u0917\u0928\n",
        "warning "
       ]
      },
      {
       "output_type": "stream",
       "stream": "stdout",
       "text": [
        " aahang-e musalsal  is no longer \u0906\u0939\u0902\u0917\u2010\u090f\u2010\u092e\u0941\u0938\u0932\u094d\u0938\u0932\n",
        "warning  mar;halah  is no longer \u092e\u0930\u0939\u0932\u093e\n",
        "warning "
       ]
      },
      {
       "output_type": "stream",
       "stream": "stdout",
       "text": [
        " angaaro;n  is no longer \u0905\u0902\u0917\u093e\u0930\u094b\u0902\n",
        "warning  barg-e gul  is no longer \u092c\u0930\u094d\u0917\u2010\u090f\u2010\u0917\u0941\u0932\n",
        "warning "
       ]
      },
      {
       "output_type": "stream",
       "stream": "stdout",
       "text": [
        " .sadaa))o;n  is no longer \u0938\u0926\u093e\u0913\u0902\n",
        "warning  doshiizah  is no longer \u0926\u094b\u0936\u0940\u091c\u093c\u093e\n",
        "warning  bahaar-e taqdiis-e jaavidaa;n  is no longer \u092c\u0939\u093e\u0930\u2010\u090f\u2010\u0924\u0915\u093c\u0926\u0940\u0938\u2010\u090f\u2010\u091c\u093e\u0935\u093f\u0926\u093e\u0901\n",
        "warning "
       ]
      },
      {
       "output_type": "stream",
       "stream": "stdout",
       "text": [
        " iimaa-e :zahuur  is no longer \u0908\u092e\u093e\u2010\u090f\u2010\u091c\u093c\u0939\u0942\u0930\n",
        "warning  gumbado;n  is no longer \u0917\u0941\u092e\u094d\u092c\u0926\u094b\u0902\n",
        "warning "
       ]
      },
      {
       "output_type": "stream",
       "stream": "stdout",
       "text": [
        " goshah-e diivaar  is no longer \u0917\u094b\u0936\u093e\u2010\u090f\u2010\u0926\u0940\u0935\u093e\u0930\n",
        "warning  jahd-e be-kaar  is no longer \u091c\u0939\u0926\u2010\u090f\u2010\u092c\u0947\u0915\u093e\u0930\n",
        "warning "
       ]
      },
      {
       "output_type": "stream",
       "stream": "stdout",
       "text": [
        " siinah-e giitii  is no longer \u0938\u0940\u0928\u093e\u2010\u090f\u2010\u0917\u0940\u0924\u0940\n",
        "warning  zabuu;n  is no longer \u091c\u093c\u092c\u0942\u0901\n",
        "warning "
       ]
      },
      {
       "output_type": "stream",
       "stream": "stdout",
       "text": [
        " paa-zeb-e qadiim  is no longer \u092a\u093e\u091c\u093c\u0947\u092c\u2010\u090f\u2010\u0915\u093c\u0926\u0940\u092e\n",
        "warning  be-huudah  is no longer \u092c\u0947\u0939\u0942\u0926\u093e\n",
        "warning  pahnaa))iyaa;n  is no longer \u092a\u0939\u0928\u093e\u0907\u092f\u093e\u0901\n",
        "warning "
       ]
      },
      {
       "output_type": "stream",
       "stream": "stdout",
       "text": [
        " ;xufyah  is no longer \u0916\u093c\u0941\u092b\u093c\u092f\u093e\n",
        "warning  mausam-e nashaa:t  is no longer \u092e\u094c\u0938\u092e\u2010\u090f\u2010\u0928\u0936\u093e\u0924\n",
        "warning  sar-e chaak  is no longer \u0938\u0930\u2010\u090f\u2010\u091a\u093e\u0915\n",
        "warning "
       ]
      },
      {
       "output_type": "stream",
       "stream": "stdout",
       "text": [
        " aastaa;n  is no longer \u0906\u0938\u094d\u0924\u093e\u0901\n",
        "warning  ((aafiyat-koshii-e aabaa  is no longer \u0906\u092b\u093c\u093f\u092f\u0924\u0915\u094b\u0936\u0940\u2010\u090f\u2010\u0906\u092c\u093e\n",
        "warning  ba;xshe;n  is no longer \u092c\u0916\u093c\u094d\u0936\u0947\u0902\n",
        "warning "
       ]
      },
      {
       "output_type": "stream",
       "stream": "stdout",
       "text": [
        " himmat-e yazdaa;n  is no longer \u0939\u093f\u092e\u094d\u092e\u0924\u2010\u090f\u2010\u092f\u091c\u093c\u094d\u0926\u093e\u0901\n",
        "warning  hech-maayah  is no longer \u0939\u0947\u091a\u092e\u093e\u092f\u093e\n",
        "warning  jaa))o  is no longer \u091c\u093e\u0913\n",
        "warning  raaste  is no longer \u0930\u093e\u0938\u094d\u0924\u0947\n",
        "warning "
       ]
      },
      {
       "output_type": "stream",
       "stream": "stdout",
       "text": [
        " dara;xshaa;n  is no longer \u0926\u0930\u0916\u093c\u094d\u0936\u093e\u0901\n",
        "warning  la;z;zato;n  is no longer \u0932\u091c\u093c\u094d\u091c\u093c\u0924\u094b\u0902\n",
        "warning "
       ]
      },
      {
       "output_type": "stream",
       "stream": "stdout",
       "text": [
        " chi;rhaa))uu;n  is no longer \u091a\u093f\u0922\u093c\u093e\u090a\u0901\n",
        "warning  girah-aaluud  is no longer \u0917\u093f\u0930\u093e\u0906\u0932\u0942\u0926\n",
        "warning  ak;sar  is no longer \u0905\u0915\u094d\u0938\u0930\n",
        "warning  guu;n  is no longer \u0917\u0942\u0901\n",
        "warning "
       ]
      },
      {
       "output_type": "stream",
       "stream": "stdout",
       "text": [
        " roz-e aasaa))ish  is no longer \u0930\u094b\u091c\u093c\u2010\u090f\u2010\u0906\u0938\u093e\u0907\u0936\n",
        "warning "
       ]
      },
      {
       "output_type": "stream",
       "stream": "stdout",
       "text": [
        " sar-e pul  is no longer \u0938\u0930\u2010\u090f\u2010\u092a\u0941\u0932\n",
        "warning  ;hiilah  is no longer \u0939\u0940\u0932\u093e\n",
        "warning  tanuu-mand  is no longer \u0924\u0928\u0942\u092e\u0902\u0926\n",
        "warning "
       ]
      },
      {
       "output_type": "stream",
       "stream": "stdout",
       "text": [
        " man:zir-e rangii;n  is no longer \u092e\u0902\u091c\u093c\u093f\u0930\u2010\u090f\u2010\u0930\u0902\u0917\u0940\u0902\n",
        "warning  raah-e vi.saal  is no longer \u0930\u093e\u0939\u2010\u090f\u2010\u0935\u093f\u0938\u093e\u0932\n",
        "warning  farangiyo;n  is no longer \u092b\u093c\u0930\u0902\u0917\u093f\u092f\u094b\u0902\n",
        "warning "
       ]
      },
      {
       "output_type": "stream",
       "stream": "stdout",
       "text": [
        " sujhaa))ii  is no longer \u0938\u0941\u091d\u093e\u0908\n",
        "warning  nigah_baa;n  is no longer \u0928\u093f\u0917\u0939\u092c\u093e\u0901\n",
        "warning "
       ]
      },
      {
       "output_type": "stream",
       "stream": "stdout",
       "text": [
        " biivah  is no longer \u092c\u0940\u0935\u093e\n",
        "warning  :tuufaa;n  is no longer \u0924\u0942\u092b\u093c\u093e\u0901\n",
        "warning  ruu-e safed  is no longer \u0930\u0942\u2010\u090f\u2010\u0938\u092b\u093c\u0947\u0926\n",
        "warning "
       ]
      },
      {
       "output_type": "stream",
       "stream": "stdout",
       "text": [
        " pai;gaam-e i;nbisaa:t  is no longer \u092a\u0948\u0917\u093c\u093e\u092e\u2010\u090f\u2010\u0907\u0902\u092c\u093f\u0938\u093e\u0924\n",
        "warning  shab-haa-e zimistaa;n  is no longer \u0936\u092c\u0939\u093e\u2010\u090f\u2010\u091c\u093c\u093f\u092e\u093f\u0938\u094d\u0924\u093e\u0901\n",
        "warning  golaa))ii  is no longer \u0917\u094b\u0932\u093e\u0908\n",
        "warning "
       ]
      },
      {
       "output_type": "stream",
       "stream": "stdout",
       "text": [
        " garmaa))e;nge  is no longer \u0917\u0930\u094d\u092e\u093e\u090f\u0902\u0917\u0947\n",
        "warning "
       ]
      },
      {
       "output_type": "stream",
       "stream": "stdout",
       "text": [
        " siimaa))o;n  is no longer \u0938\u0940\u092e\u093e\u0913\u0902\n",
        "warning  fasaanah  is no longer \u092b\u093c\u0938\u093e\u0928\u093e\n",
        "warning  patto;n  is no longer \u092a\u0924\u094d\u0924\u094b\u0902\n",
        "warning  pankhaa  is no longer \u092a\u0902\u0916\u093e\n",
        "warning "
       ]
      },
      {
       "output_type": "stream",
       "stream": "stdout",
       "text": [
        " shabistaa;n  is no longer \u0936\u092c\u093f\u0938\u094d\u0924\u093e\u0901\n",
        "warning  gil-o-rang-o-rau;gan  is no longer \u0917\u093f\u0932\u2010\u0913\u2010\u0930\u0902\u0917\u2010\u0913\u2010\u0930\u094c\u0917\u093c\u0928\n",
        "warning  vujuud-e aadmii  is no longer \u0935\u0941\u091c\u0942\u0926\u2010\u090f\u2010\u0906\u0926\u092e\u0940\n",
        "warning "
       ]
      },
      {
       "output_type": "stream",
       "stream": "stdout",
       "text": [
        " zor-e mai  is no longer \u091c\u093c\u094b\u0930\u2010\u090f\u2010\u092e\u0948\n",
        "warning  .said-e naa-tavaa;n  is no longer \u0938\u0948\u0926\u2010\u090f\u2010\u0928\u093e\u0924\u0935\u093e\u0901\n",
        "warning "
       ]
      },
      {
       "output_type": "stream",
       "stream": "stdout",
       "text": [
        " dev-e aahan  is no longer \u0926\u0947\u0935\u2010\u090f\u2010\u0906\u0939\u0928\n",
        "warning  sukuut-e marg  is no longer \u0938\u0941\u0915\u0942\u0924\u2010\u090f\u2010\u092e\u0930\u094d\u0917\n",
        "warning  buu-e tund  is no longer \u092c\u0942\u2010\u090f\u2010\u0924\u0941\u0902\u0926\n",
        "warning  du((aa))o;n  is no longer \u0926\u0941\u0906\u0913\u0902\n",
        "warning "
       ]
      },
      {
       "output_type": "stream",
       "stream": "stdout",
       "text": [
        " baar-e mizhgaa;n  is no longer \u092c\u093e\u0930\u2010\u090f\u2010\u092e\u093f\u091d\u093c\u0917\u093e\u0901\n",
        "warning  reg-e diiruuz  is no longer \u0930\u0947\u0917\u2010\u090f\u2010\u0926\u0940\u0930\u0942\u091c\u093c\n",
        "warning "
       ]
      },
      {
       "output_type": "stream",
       "stream": "stdout",
       "text": [
        " paivastagii-e shauq  is no longer \u092a\u0948\u0935\u0938\u094d\u0924\u0917\u0940\u2010\u090f\u2010\u0936\u094c\u0915\u093c\n",
        "warning  uu;nchii  is no longer \u090a\u0902\u091a\u0940\n",
        "warning  sarod-e chang  is no longer \u0938\u0930\u094b\u0926\u2010\u090f\u2010\u091a\u0902\u0917\n",
        "warning "
       ]
      },
      {
       "output_type": "stream",
       "stream": "stdout",
       "text": [
        " sar-bastah-o-ruu-band  is no longer \u0938\u0930\u092c\u0938\u0924\u093e\u2010\u0913\u2010\u0930\u0942\u092c\u0902\u0926\n",
        "warning  ;xayaabaan-e sa((dii  is no longer \u0916\u093c\u092f\u093e\u092c\u093e\u0928\u2010\u090f\u2010\u0938\u093e\u0926\u0940\n",
        "warning  ((i;zaar-e jahaa;n  is no longer \u0907\u091c\u093c\u093e\u0930\u2010\u090f\u2010\u091c\u0939\u093e\u0901\n",
        "warning "
       ]
      },
      {
       "output_type": "stream",
       "stream": "stdout",
       "text": [
        " daste  is no longer \u0926\u0938\u094d\u0924\u0947\n",
        "warning  ;xvush_buu))o;n  is no longer \u0916\u093c\u0941\u0936\u092c\u0941\u0913\u0902\n",
        "warning  shahr-e auhaam  is no longer \u0936\u0939\u0930\u2010\u090f\u2010\u0914\u0939\u093e\u092e\n",
        "warning  andar  is no longer \u0905\u0902\u0926\u0930\n",
        "warning "
       ]
      },
      {
       "output_type": "stream",
       "stream": "stdout",
       "text": [
        " ;xaak-daa;n  is no longer \u0916\u093c\u093e\u0915\u0926\u093e\u0901\n",
        "warning  nigraa;n  is no longer \u0928\u093f\u0917\u0930\u093e\u0901\n",
        "warning "
       ]
      },
      {
       "output_type": "stream",
       "stream": "stdout",
       "text": [
        " jins-e saudaagarii  is no longer \u091c\u093f\u0902\u0938\u2010\u090f\u2010\u0938\u094c\u0926\u093e\u0917\u0930\u0940\n",
        "warning  nau;hah-;xvaanii  is no longer \u0928\u094c\u0939\u093e\u0916\u093c\u094d\u0935\u093e\u0928\u0940\n",
        "warning  dast-e jaaduu-gar  is no longer \u0926\u0938\u094d\u0924\u2010\u090f\u2010\u091c\u093e\u0926\u0942\u0917\u0930\n",
        "warning "
       ]
      },
      {
       "output_type": "stream",
       "stream": "stdout",
       "text": [
        " kaavish-e be_daarii  is no longer \u0915\u093e\u0935\u093f\u0936\u2010\u090f\u2010\u092c\u0947\u0926\u093e\u0930\u0940\n",
        "warning  juu-e na;gmah  is no longer \u091c\u0942\u2010\u090f\u2010\u0928\u0917\u093c\u092e\u093e\n",
        "warning  paakiizah  is no longer \u092a\u093e\u0915\u0940\u091c\u093c\u093e\n",
        "warning "
       ]
      },
      {
       "output_type": "stream",
       "stream": "stdout",
       "text": [
        " zer-e lab  is no longer \u091c\u093c\u0947\u0930\u2010\u090f\u2010\u0932\u092c\n",
        "warning  m;ehmaa;n  is no longer \u092e\u0947\u0939\u092e\u093e\u0901\n",
        "warning "
       ]
      },
      {
       "output_type": "stream",
       "stream": "stdout",
       "text": [
        " zor-e paidaa))ii  is no longer \u091c\u093c\u094b\u0930\u2010\u090f\u2010\u092a\u0948\u0926\u093e\u0908\n",
        "warning  raab:tah  is no longer \u0930\u093e\u092c\u094d\u0924\u093e\n",
        "warning "
       ]
      },
      {
       "output_type": "stream",
       "stream": "stdout",
       "text": [
        " hangaamah  is no longer \u0939\u0902\u0917\u093e\u092e\u093e\n",
        "warning  ;xaakistar-e so;xtah  is no longer \u0916\u093c\u093e\u0915\u093f\u0938\u094d\u0924\u0930\u2010\u090f\u2010\u0938\u094b\u0916\u093c\u094d\u0924\u093e\n",
        "warning  umiid-e vafaa  is no longer \u0909\u092e\u0940\u0926\u2010\u090f\u2010\u0935\u092b\u093c\u093e\n",
        "warning "
       ]
      },
      {
       "output_type": "stream",
       "stream": "stdout",
       "text": [
        " hamah-tan  is no longer \u0939\u092e\u093e\u0924\u0928\n",
        "warning  fizuu;n  is no longer \u092b\u093c\u093f\u091c\u093c\u0942\u0901\n",
        "warning "
       ]
      },
      {
       "output_type": "stream",
       "stream": "stdout",
       "text": [
        " jaadah-kash-e raah-e :taviil  is no longer \u091c\u093e\u0926\u093e\u0915\u0936\u2010\u090f\u2010\u0930\u093e\u0939\u2010\u090f\u2010\u0924\u0935\u0940\u0932\n",
        "warning  ruu-e gardaa;n  is no longer \u0930\u0942\u2010\u090f\u2010\u0917\u0930\u0926\u093e\u0901\n",
        "warning "
       ]
      },
      {
       "output_type": "stream",
       "stream": "stdout",
       "text": [
        " jabr-e :taaqat-rubaa  is no longer \u091c\u092c\u094d\u0930\u2010\u090f\u2010\u0924\u093e\u0915\u093c\u0924\u0930\u0941\u092c\u093e\n",
        "warning  bosah  is no longer \u092c\u094b\u0938\u093e\n",
        "warning "
       ]
      },
      {
       "output_type": "stream",
       "stream": "stdout",
       "text": [
        " baqaa-e mauhuum  is no longer \u092c\u0915\u093c\u093e\u2010\u090f\u2010\u092e\u094c\u0939\u0942\u092e\n",
        "warning  bayaa;n  is no longer \u092c\u092f\u093e\u0901\n",
        "warning  ;xvurshiid  is no longer \u0916\u093c\u0941\u0930\u094d\u0936\u0940\u0926\n",
        "warning "
       ]
      },
      {
       "output_type": "stream",
       "stream": "stdout",
       "text": [
        " diyaar-e zindagii  is no longer \u0926\u093f\u092f\u093e\u0930\u2010\u090f\u2010\u091c\u093c\u093f\u0902\u0926\u0917\u0940\n",
        "warning "
       ]
      },
      {
       "output_type": "stream",
       "stream": "stdout",
       "text": [
        " .sub;h-e takmiil  is no longer \u0938\u0941\u092c\u094d\u0939\u2010\u090f\u2010\u0924\u0915\u092e\u0940\u0932\n",
        "warning "
       ]
      },
      {
       "output_type": "stream",
       "stream": "stdout",
       "text": [
        " paarah-e naan-e javii;n  is no longer \u092a\u093e\u0930\u093e\u2010\u090f\u2010\u0928\u093e\u0928\u2010\u090f\u2010\u091c\u0935\u0940\u0902\n",
        "warning  parvardah-e anvaar  is no longer \u092a\u0930\u0935\u0930\u094d\u0926\u093e\u2010\u090f\u2010\u0905\u0902\u0935\u093e\u0930\n",
        "warning "
       ]
      },
      {
       "output_type": "stream",
       "stream": "stdout",
       "text": [
        " chashmah-e makr-o-riyaa  is no longer \u091a\u0936\u092e\u093e\u2010\u090f\u2010\u092e\u0915\u094d\u0930\u2010\u0913\u2010\u0930\u093f\u092f\u093e\n",
        "warning  simt-e raah-e nau  is no longer \u0938\u093f\u092e\u094d\u0924\u2010\u090f\u2010\u0930\u093e\u0939\u2010\u090f\u2010\u0928\u094c\n",
        "warning "
       ]
      },
      {
       "output_type": "stream",
       "stream": "stdout",
       "text": [
        " :tilismii  is no longer \u0924\u093f\u0932\u093f\u0938\u094d\u092e\u0940\n",
        "warning  .sahraa))o;n  is no longer \u0938\u0939\u0930\u093e\u0913\u0902\n",
        "warning  taazah-o-naa-diidah  is no longer \u0924\u093e\u091c\u093c\u093e\u2010\u0913\u2010\u0928\u093e\u0926\u0940\u0926\u093e\n",
        "warning "
       ]
      },
      {
       "output_type": "stream",
       "stream": "stdout",
       "text": [
        " rod-e dajlah  is no longer \u0930\u094b\u0926\u2010\u090f\u2010\u0926\u091c\u0932\u093e\n",
        "warning  saamaa;n  is no longer \u0938\u093e\u092e\u093e\u0901\n",
        "warning  paikar-e ya;x-bastah  is no longer \u092a\u0948\u0915\u0930\u2010\u090f\u2010\u092f\u0916\u093c\u092c\u0938\u0924\u093e\n",
        "warning "
       ]
      },
      {
       "output_type": "stream",
       "stream": "stdout",
       "text": [
        " janaab-e ((azz-o-jal  is no longer \u091c\u0928\u093e\u092c\u2010\u090f\u2010\u0905\u091c\u093c\u094d\u091c\u093c\u2010\u0913\u2010\u091c\u0932\n",
        "warning  ;xvud-saa;xtah  is no longer \u0916\u093c\u0941\u0926\u0938\u093e\u0916\u093c\u094d\u0924\u093e\n",
        "warning "
       ]
      },
      {
       "output_type": "stream",
       "stream": "stdout",
       "text": [
        " sar-chashmah  is no longer \u0938\u0930\u091a\u0936\u092e\u093e\n",
        "warning  parasto;n  is no longer \u092a\u0930\u0938\u094d\u0924\u094b\u0902\n",
        "warning  paa))oge  is no longer \u092a\u093e\u0913\u0917\u0947\n",
        "warning  raah-daa;n  is no longer \u0930\u093e\u0939\u0926\u093e\u0901\n",
        "warning  na;gmah-haa-e abr  is no longer \u0928\u0917\u093c\u092e\u093e\u0939\u093e\u2010\u090f\u2010\u0905\u092c\u094d\u0930\n",
        "warning "
       ]
      },
      {
       "output_type": "stream",
       "stream": "stdout",
       "text": [
        " istibdaad  is no longer \u0907\u0938\u094d\u0924\u093f\u092c\u0926\u093e\u0926\n",
        "warning  alvand  is no longer \u0905\u0932\u094d\u0935\u0902\u0926\n",
        "warning "
       ]
      },
      {
       "output_type": "stream",
       "stream": "stdout",
       "text": [
        " ;xudaavand  is no longer \u0916\u093c\u0941\u0926\u093e\u0935\u0902\u0926\n",
        "warning  jaltarang  is no longer \u091c\u0932\u0924\u0930\u0902\u0917\n",
        "warning  ;hasiinah  is no longer \u0939\u0938\u0940\u0928\u093e\n",
        "warning "
       ]
      },
      {
       "output_type": "stream",
       "stream": "stdout",
       "text": [
        " mauj-e fitnah  is no longer \u092e\u094c\u091c\u2010\u090f\u2010\u092b\u093c\u093f\u0924\u0928\u093e\n",
        "warning  dil_daadah  is no longer \u0926\u093f\u0932\u0926\u093e\u0926\u093e\n",
        "warning "
       ]
      },
      {
       "output_type": "stream",
       "stream": "stdout",
       "text": [
        " rab:t-e jism-o-jaa;n  is no longer \u0930\u092c\u094d\u0924\u2010\u090f\u2010\u091c\u093f\u0938\u094d\u092e\u2010\u0913\u2010\u091c\u093e\u0901\n",
        "warning  .sa;hraa))o;n  is no longer \u0938\u0939\u0930\u093e\u0913\u0902\n",
        "warning "
       ]
      },
      {
       "output_type": "stream",
       "stream": "stdout",
       "text": [
        " bharosah  is no longer \u092d\u0930\u094b\u0938\u093e\n",
        "warning  numaayaa;n  is no longer \u0928\u0941\u092e\u093e\u092f\u093e\u0901\n",
        "warning  daur-e reg-o-havaa  is no longer \u0926\u094c\u0930\u2010\u090f\u2010\u0930\u0947\u0917\u2010\u0913\u2010\u0939\u0935\u093e\n",
        "warning "
       ]
      },
      {
       "output_type": "stream",
       "stream": "stdout",
       "text": [
        " ;xas-e naa-tavaa;n  is no longer \u0916\u093c\u0938\u2010\u090f\u2010\u0928\u093e\u0924\u0935\u093e\u0901\n",
        "warning  zavaal-e ((umr  is no longer \u091c\u093c\u0935\u093e\u0932\u2010\u090f\u2010\u0909\u092e\u094d\u0930\n",
        "warning  kahuu;n  is no longer \u0915\u0939\u0942\u0901\n",
        "warning "
       ]
      },
      {
       "output_type": "stream",
       "stream": "stdout",
       "text": [
        " baaraa;n-zadah  is no longer \u092c\u093e\u0930\u093e\u0901\u091c\u093c\u0926\u093e\n",
        "warning  pindaar-e raftah  is no longer \u092a\u093f\u0902\u0926\u093e\u0930\u2010\u090f\u2010\u0930\u092b\u093c\u0924\u093e\n",
        "warning  izhdihaam-e gul  is no longer \u0907\u091d\u093c\u0926\u093f\u0939\u093e\u092e\u2010\u090f\u2010\u0917\u0941\u0932\n",
        "warning "
       ]
      },
      {
       "output_type": "stream",
       "stream": "stdout",
       "text": [
        " ;xamiidah  is no longer \u0916\u093c\u092e\u0940\u0926\u093e\n",
        "warning  aalaam-e jaa;n-guzaa  is no longer \u0906\u0932\u093e\u092e\u2010\u090f\u2010\u091c\u093e\u0901\u0917\u0941\u091c\u093c\u093e\n",
        "warning  shikast-e rang-e ((i;zaar-e ma;hbuub  is no longer \u0936\u093f\u0915\u0938\u094d\u0924\u2010\u090f\u2010\u0930\u0902\u0917\u2010\u090f\u2010\u0907\u091c\u093c\u093e\u0930\u2010\u090f\u2010\u092e\u0939\u092c\u0942\u092c\n",
        "warning "
       ]
      },
      {
       "output_type": "stream",
       "stream": "stdout",
       "text": [
        " diidah  is no longer \u0926\u0940\u0926\u093e\n",
        "warning  nau((-e insaa;n  is no longer \u0928\u094c\u2010\u090f\u2010\u0907\u0902\u0938\u093e\u0901\n",
        "warning "
       ]
      },
      {
       "output_type": "stream",
       "stream": "stdout",
       "text": [
        " .sadaa-e abr  is no longer \u0938\u0926\u093e\u2010\u090f\u2010\u0905\u092c\u094d\u0930\n",
        "warning  goshah-e niim-raushan  is no longer \u0917\u094b\u0936\u093e\u2010\u090f\u2010\u0928\u0940\u092e\u0930\u094c\u0936\u0928\n",
        "warning "
       ]
      },
      {
       "output_type": "stream",
       "stream": "stdout",
       "text": [
        " be-i;xtiyaarii  is no longer \u092c\u0947\u0907\u0916\u093c\u094d\u0924\u093f\u092f\u093e\u0930\u0940\n",
        "warning  jahaan-e baaz-yaaftah  is no longer \u091c\u0939\u093e\u0928\u2010\u090f\u2010\u092c\u093e\u091c\u093c\u092f\u093e\u092b\u093c\u094d\u0924\u093e\n",
        "warning  aa;gosh-e aarzuu-mand  is no longer \u0906\u0917\u093c\u094b\u0936\u2010\u090f\u2010\u0906\u0930\u094d\u091c\u093c\u0942\u092e\u0902\u0926\n",
        "warning "
       ]
      },
      {
       "output_type": "stream",
       "stream": "stdout",
       "text": [
        " pashemaa;n  is no longer \u092a\u0936\u0947\u092e\u093e\u0901\n",
        "warning  taabindagii  is no longer \u0924\u093e\u092c\u093f\u0902\u0926\u0917\u0940\n",
        "warning  ruu;h-e abad  is no longer \u0930\u0942\u0939\u2010\u090f\u2010\u0905\u092c\u0926\n",
        "warning  iltijaa))o;n  is no longer \u0907\u0932\u0924\u093f\u091c\u093e\u0913\u0902\n",
        "warning "
       ]
      },
      {
       "output_type": "stream",
       "stream": "stdout",
       "text": [
        " uftaadah  is no longer \u0909\u092b\u093c\u094d\u0924\u093e\u0926\u093e\n",
        "warning  bastiyaa;n  is no longer \u092c\u0938\u0924\u093f\u092f\u093e\u0901\n",
        "warning "
       ]
      },
      {
       "output_type": "stream",
       "stream": "stdout",
       "text": [
        " naa-rasaa))ii  is no longer \u0928\u093e\u0930\u0938\u093e\u0908\n",
        "warning  nishaa:t-e naab  is no longer \u0928\u093f\u0936\u093e\u0924\u2010\u090f\u2010\u0928\u093e\u092c\n",
        "warning  ;than;de  is no longer \u0920\u0902\u0921\u0947\n",
        "warning "
       ]
      },
      {
       "output_type": "stream",
       "stream": "stdout",
       "text": [
        " afsaanah-;xvaa;n  is no longer \u0905\u092b\u093c\u0938\u093e\u0928\u093e\u0916\u093c\u094d\u0935\u093e\u0901\n",
        "warning  dushmano;n  is no longer \u0926\u0941\u0936\u094d\u092e\u0928\u094b\u0902\n",
        "warning "
       ]
      },
      {
       "output_type": "stream",
       "stream": "stdout",
       "text": [
        " rakkhii  is no longer \u0930\u0915\u094d\u0916\u0940\n",
        "warning  ;xandaa;n  is no longer \u0916\u093c\u0902\u0926\u093e\u0901\n",
        "warning "
       ]
      },
      {
       "output_type": "stream",
       "stream": "stdout",
       "text": [
        " rahzan-e marg  is no longer \u0930\u0939\u091c\u093c\u0928\u2010\u090f\u2010\u092e\u0930\u094d\u0917\n",
        "warning  havas-parastii  is no longer \u0939\u0935\u0938\u092a\u0930\u0938\u094d\u0924\u0940\n",
        "warning "
       ]
      },
      {
       "output_type": "stream",
       "stream": "stdout",
       "text": [
        " amriikah  is no longer \u0905\u092e\u0930\u0940\u0915\u093e\n",
        "warning  bahrah-yaab  is no longer \u092c\u0939\u0930\u093e\u092f\u093e\u092c\n",
        "warning "
       ]
      },
      {
       "output_type": "stream",
       "stream": "stdout",
       "text": [
        " dast-e chaabuk  is no longer \u0926\u0938\u094d\u0924\u2010\u090f\u2010\u091a\u093e\u092c\u0941\u0915\n",
        "warning "
       ]
      },
      {
       "output_type": "stream",
       "stream": "stdout",
       "text": [
        " jahaa;n-bhar  is no longer \u091c\u0939\u093e\u0901\u092d\u0930\n",
        "warning  .zarb-e ma;sal  is no longer \u091c\u093c\u0930\u094d\u092c\u2010\u090f\u2010\u092e\u0938\u0932\n",
        "warning  ((ishqii  is no longer \u0907\u0936\u094d\u0915\u093c\u0940\n",
        "warning "
       ]
      },
      {
       "output_type": "stream",
       "stream": "stdout",
       "text": [
        " zabaan-e shauq  is no longer \u091c\u093c\u092c\u093e\u0928\u2010\u090f\u2010\u0936\u094c\u0915\u093c\n",
        "warning  daur-e paiham  is no longer \u0926\u094c\u0930\u2010\u090f\u2010\u092a\u0948\u0939\u092e\n",
        "warning  ga))ii;n  is no longer \u0917\u0908\u0902\n",
        "warning "
       ]
      },
      {
       "output_type": "stream",
       "stream": "stdout",
       "text": [
        " nishaan-e qadam  is no longer \u0928\u093f\u0936\u093e\u0928\u2010\u090f\u2010\u0915\u093c\u0926\u092e\n",
        "warning  qa:trah-e gum-gashtah  is no longer \u0915\u093c\u0924\u0930\u093e\u2010\u090f\u2010\u0917\u0941\u092e\u0917\u0936\u0924\u093e\n",
        "warning "
       ]
      },
      {
       "output_type": "stream",
       "stream": "stdout",
       "text": [
        " daliil-e raah-e vafaa  is no longer \u0926\u0932\u0940\u0932\u2010\u090f\u2010\u0930\u093e\u0939\u2010\u090f\u2010\u0935\u092b\u093c\u093e\n",
        "warning  ;xiraam-e .sub;h  is no longer \u0916\u093c\u093f\u0930\u093e\u092e\u2010\u090f\u2010\u0938\u0941\u092c\u094d\u0939\n",
        "warning "
       ]
      },
      {
       "output_type": "stream",
       "stream": "stdout",
       "text": [
        " :tifl-e kam_sin  is no longer \u0924\u093f\u092b\u093c\u094d\u0932\u2010\u090f\u2010\u0915\u092e\u0938\u093f\u0928\n",
        "warning  falsafah-go  is no longer \u092b\u093c\u0932\u0938\u092b\u093c\u093e\u0917\u094b\n",
        "warning  nak'hat-e gum-raah  is no longer \u0928\u0915\u0939\u0924\u2010\u090f\u2010\u0917\u0941\u092e\u0930\u093e\u0939\n",
        "warning "
       ]
      },
      {
       "output_type": "stream",
       "stream": "stdout",
       "text": [
        " intiqaam  is no longer \u0907\u0902\u0924\u093f\u0915\u093c\u093e\u092e\n",
        "warning  suu-e nau;hah-aabaad-e jahaa;n  is no longer \u0938\u0942\u2010\u090f\u2010\u0928\u094c\u0939\u093e\u0906\u092c\u093e\u0926\u2010\u090f\u2010\u091c\u0939\u093e\u0901\n",
        "warning "
       ]
      },
      {
       "output_type": "stream",
       "stream": "stdout",
       "text": [
        " naujavaa;n  is no longer \u0928\u094c\u091c\u0935\u093e\u0901\n",
        "warning  ;gam-e jaavidaa;n  is no longer \u0917\u093c\u092e\u2010\u090f\u2010\u091c\u093e\u0935\u093f\u0926\u093e\u0901\n",
        "warning  na;gmah-zan  is no longer \u0928\u0917\u093c\u092e\u093e\u091c\u093c\u0928\n",
        "warning "
       ]
      },
      {
       "output_type": "stream",
       "stream": "stdout",
       "text": [
        " aasuudagii-e martabah-o-jaah  is no longer \u0906\u0938\u0942\u0926\u0917\u0940\u2010\u090f\u2010\u092e\u0930\u0924\u092c\u093e\u2010\u0913\u2010\u091c\u093e\u0939\n",
        "warning  viiraanah-garo;n  is no longer \u0935\u0940\u0930\u093e\u0928\u093e\u0917\u0930\u094b\u0902\n",
        "warning "
       ]
      },
      {
       "output_type": "stream",
       "stream": "stdout",
       "text": [
        " :tuul-e alam_naak  is no longer \u0924\u0942\u0932\u2010\u090f\u2010\u0905\u0932\u092e\u0928\u093e\u0915\n",
        "warning "
       ]
      },
      {
       "output_type": "stream",
       "stream": "stdout",
       "text": [
        " paarah-e naan  is no longer \u092a\u093e\u0930\u093e\u2010\u090f\u2010\u0928\u093e\u0928\n",
        "warning  ;xudaa-e bar-tar  is no longer \u0916\u093c\u0941\u0926\u093e\u2010\u090f\u2010\u092c\u0930\u0924\u0930\n",
        "warning  vi.saal-e ma((nii  is no longer \u0935\u093f\u0938\u093e\u0932\u2010\u090f\u2010\u092e\u093e\u0928\u0940\n",
        "warning "
       ]
      },
      {
       "output_type": "stream",
       "stream": "stdout",
       "text": [
        " ;xudaavandii  is no longer \u0916\u093c\u0941\u0926\u093e\u0935\u0902\u0926\u0940\n",
        "warning  junuu;n  is no longer \u091c\u0941\u0928\u0942\u0901\n",
        "warning  banaa))o  is no longer \u092c\u0928\u093e\u0913\n",
        "warning  sitaarah  is no longer \u0938\u093f\u0924\u093e\u0930\u093e\n",
        "warning "
       ]
      },
      {
       "output_type": "stream",
       "stream": "stdout",
       "text": [
        " sabuk-maayah  is no longer \u0938\u092c\u0941\u0915\u092e\u093e\u092f\u093e\n",
        "warning  :tu;gyaa;n  is no longer \u0924\u0941\u0917\u093c\u092f\u093e\u0901\n",
        "warning  ummiid-e zifaaf  is no longer \u0909\u092e\u094d\u092e\u0940\u0926\u2010\u090f\u2010\u091c\u093c\u093f\u092b\u093c\u093e\u092b\u093c\n",
        "warning  jannat  is no longer \u091c\u0928\u094d\u0928\u0924\n",
        "warning "
       ]
      },
      {
       "output_type": "stream",
       "stream": "stdout",
       "text": [
        " dunyaa-e aab-o-rang  is no longer \u0926\u0941\u0902\u092f\u093e\u2010\u090f\u2010\u0906\u092c\u2010\u0913\u2010\u0930\u0902\u0917\n",
        "warning  pastiyo;n  is no longer \u092a\u0938\u094d\u0924\u093f\u092f\u094b\u0902\n",
        "warning  ;xauf-e mauhuum  is no longer \u0916\u093c\u094c\u092b\u093c\u2010\u090f\u2010\u092e\u094c\u0939\u0942\u092e\n",
        "warning "
       ]
      },
      {
       "output_type": "stream",
       "stream": "stdout",
       "text": [
        " kotah  is no longer \u0915\u094b\u0924\u093e\n",
        "warning "
       ]
      },
      {
       "output_type": "stream",
       "stream": "stdout",
       "text": [
        " ;zauq-e ((amal  is no longer \u091c\u093c\u094c\u0915\u093c\u2010\u090f\u2010\u0905\u092e\u0932\n",
        "warning  ;xamiir-e aab-o-gil  is no longer \u0916\u093c\u092e\u0940\u0930\u2010\u090f\u2010\u0906\u092c\u2010\u0913\u2010\u0917\u093f\u0932\n",
        "warning "
       ]
      },
      {
       "output_type": "stream",
       "stream": "stdout",
       "text": [
        " lab-;xand  is no longer \u0932\u092c\u0916\u093c\u0902\u0926\n",
        "warning  niimah-ras  is no longer \u0928\u0940\u092e\u093e\u0930\u0938\n",
        "warning "
       ]
      },
      {
       "output_type": "stream",
       "stream": "stdout",
       "text": [
        " daaraa))ii  is no longer \u0926\u093e\u0930\u093e\u0908\n",
        "warning  gum-gashtah  is no longer \u0917\u0941\u092e\u0917\u0936\u094d\u0924\u093e\n",
        "warning "
       ]
      },
      {
       "output_type": "stream",
       "stream": "stdout",
       "text": [
        " mi;sl-e ;harf-e naa-shuniidah  is no longer \u092e\u093f\u0938\u094d\u0932\u2010\u090f\u2010\u0939\u0930\u094d\u092b\u093c\u2010\u090f\u2010\u0928\u093e\u0936\u0941\u0928\u0940\u0926\u093e\n",
        "warning  ruu;h-e yuunaa;n  is no longer \u0930\u0942\u0939\u2010\u090f\u2010\u092f\u0942\u0928\u093e\u0901\n",
        "warning  do-rangii  is no longer \u0926\u094b\u0930\u0902\u0917\u0940\n",
        "warning "
       ]
      },
      {
       "output_type": "stream",
       "stream": "stdout",
       "text": [
        " aarzuu-e saliim  is no longer \u0906\u0930\u094d\u091c\u093c\u0942\u2010\u090f\u2010\u0938\u0932\u0940\u092e\n",
        "warning  himaalah-o-alvand  is no longer \u0939\u093f\u092e\u093e\u0932\u093e\u2010\u0913\u2010\u0905\u0932\u0935\u0902\u0926\n",
        "warning "
       ]
      },
      {
       "output_type": "stream",
       "stream": "stdout",
       "text": [
        " nosh-e jaa;n  is no longer \u0928\u094b\u0936\u2010\u090f\u2010\u091c\u093e\u0901\n",
        "warning  shaahanshahaan-e ((a:ziim  is no longer \u0936\u093e\u0939\u0902\u0936\u0939\u093e\u0928\u2010\u090f\u2010\u0905\u091c\u093c\u0940\u092e\n",
        "warning  ;gam-e dil_giir  is no longer \u0917\u093c\u092e\u2010\u090f\u2010\u0926\u093f\u0932\u0917\u0940\u0930\n",
        "warning "
       ]
      },
      {
       "output_type": "stream",
       "stream": "stdout",
       "text": [
        " naushiirvaa;n  is no longer \u0928\u094c\u0936\u0940\u0930\u0935\u093e\u0901\n",
        "warning  labaadah  is no longer \u0932\u092c\u093e\u0926\u093e\n",
        "warning "
       ]
      },
      {
       "output_type": "stream",
       "stream": "stdout",
       "text": [
        " patango;n  is no longer \u092a\u0924\u0902\u0917\u094b\u0902\n",
        "warning  ;gam-e kul  is no longer \u0917\u093c\u092e\u2010\u090f\u2010\u0915\u0941\u0932\n",
        "warning "
       ]
      },
      {
       "output_type": "stream",
       "stream": "stdout",
       "text": [
        " so))ii  is no longer \u0938\u094b\u0908\n",
        "warning  naushiirvaan-e ((aadil  is no longer \u0928\u094c\u0936\u0940\u0930\u0935\u093e\u0928\u2010\u090f\u2010\u0906\u0926\u093f\u0932\n",
        "warning  aa))iin  is no longer \u0906\u0908\u0928\n",
        "warning  munta:zar  is no longer \u092e\u0941\u0902\u0924\u091c\u093c\u0930\n",
        "warning "
       ]
      },
      {
       "output_type": "stream",
       "stream": "stdout",
       "text": [
        " duu))ii  is no longer \u0926\u0942\u0908\n",
        "warning  gadaa))o;n  is no longer \u0917\u0926\u093e\u0913\u0902\n",
        "warning "
       ]
      },
      {
       "output_type": "stream",
       "stream": "stdout",
       "text": [
        " niil_guu;n  is no longer \u0928\u0940\u0932\u0917\u0942\u0901\n",
        "warning  sar_chashmah  is no longer \u0938\u0930\u091a\u0936\u094d\u092e\u093e\n",
        "warning  on;to;n  is no longer \u0913\u0902\u091f\u094b\u0902\n",
        "warning  juu-e ashk  is no longer \u091c\u0942\u2010\u090f\u2010\u0905\u0936\u094d\u0915\n",
        "warning "
       ]
      },
      {
       "output_type": "stream",
       "stream": "stdout",
       "text": [
        " parindo;n  is no longer \u092a\u0930\u093f\u0902\u0926\u094b\u0902\n",
        "warning  ;xiraamaa;n  is no longer \u0916\u093c\u093f\u0930\u093e\u092e\u093e\u0901\n",
        "warning  ((a;zaab-e aliim  is no longer \u0905\u091c\u093c\u093e\u092c\u2010\u090f\u2010\u0905\u0932\u0940\u092e\n",
        "warning "
       ]
      },
      {
       "output_type": "stream",
       "stream": "stdout",
       "text": [
        " .sub;h-e ;xuu;n-fishaa;n  is no longer \u0938\u0941\u092c\u094d\u0939\u2010\u090f\u2010\u0916\u093c\u0942\u0901\u092b\u093c\u093f\u0936\u093e\u0901\n",
        "warning  navaa-e ;hazii;n  is no longer \u0928\u0935\u093e\u2010\u090f\u2010\u0939\u091c\u093c\u0940\u0902\n",
        "warning  kafsh-e paa  is no longer \u0915\u092b\u093c\u094d\u0936\u2010\u090f\u2010\u092a\u093e\n",
        "warning "
       ]
      },
      {
       "output_type": "stream",
       "stream": "stdout",
       "text": [
        " aazaadii-e kaamil  is no longer \u0906\u091c\u093c\u093e\u0926\u0940\u2010\u090f\u2010\u0915\u093e\u092e\u093f\u0932\n",
        "warning  aaluudagii-e gird-e sar-e raah  is no longer \u0906\u0932\u0942\u0926\u0917\u0940\u2010\u090f\u2010\u0917\u093f\u0930\u094d\u0926\u2010\u090f\u2010\u0938\u0930\u2010\u090f\u2010\u0930\u093e\u0939\n",
        "warning  iimaa;n  is no longer \u0908\u092e\u093e\u0901\n",
        "warning "
       ]
      },
      {
       "output_type": "stream",
       "stream": "stdout",
       "text": [
        " aasiib-e mubram  is no longer \u0906\u0938\u0940\u092c\u2010\u090f\u2010\u092e\u0941\u092c\u0930\u092e\n",
        "warning  rihaa))ii  is no longer \u0930\u093f\u0939\u093e\u0908\n",
        "warning "
       ]
      },
      {
       "output_type": "stream",
       "stream": "stdout",
       "text": [
        " jalvah-gah-e raaz  is no longer \u091c\u0932\u0935\u093e\u0917\u0939\u2010\u090f\u2010\u0930\u093e\u091c\u093c\n",
        "warning  naa-tavaa;n  is no longer \u0928\u093e\u0924\u0935\u093e\u0901\n",
        "warning "
       ]
      },
      {
       "output_type": "stream",
       "stream": "stdout",
       "text": [
        " niim-hoshmando;n  is no longer \u0928\u0940\u092e\u0939\u094b\u0936\u094d\u092e\u0902\u0926\u094b\u0902\n",
        "warning  chingaariyaa;n  is no longer \u091a\u093f\u0902\u0917\u093e\u0930\u093f\u092f\u093e\u0901\n",
        "warning  tiirah-o-taar  is no longer \u0924\u0940\u0930\u093e\u2010\u0913\u2010\u0924\u093e\u0930\n",
        "warning  royat-e azal  is no longer \u0930\u094b\u092f\u0924\u2010\u090f\u2010\u0905\u091c\u093c\u0932\n",
        "warning "
       ]
      },
      {
       "output_type": "stream",
       "stream": "stdout",
       "text": [
        " tah;ziib-e niguu;n_saar  is no longer \u0924\u0939\u091c\u093c\u0940\u092c\u2010\u090f\u2010\u0928\u093f\u0917\u0942\u0902\u0938\u093e\u0930\n",
        "warning  saayah-e aamir  is no longer \u0938\u093e\u092f\u093e\u2010\u090f\u2010\u0906\u092e\u093f\u0930\n",
        "warning "
       ]
      },
      {
       "output_type": "stream",
       "stream": "stdout",
       "text": [
        " ;xvaab-e sa;har-gahii  is no longer \u0916\u093c\u094d\u0935\u093e\u092c\u2010\u090f\u2010\u0938\u0939\u0930\u0917\u0939\u0940\n",
        "warning  dast-e saa))il  is no longer \u0926\u0938\u094d\u0924\u2010\u090f\u2010\u0938\u093e\u0907\u0932\n",
        "warning  rag-o-reshah  is no longer \u0930\u0917\u2010\u0913\u2010\u0930\u0947\u0936\u093e\n",
        "warning "
       ]
      },
      {
       "output_type": "stream",
       "stream": "stdout",
       "text": [
        " paarah-haa-e abr  is no longer \u092a\u093e\u0930\u093e\u0939\u093e\u2010\u090f\u2010\u0905\u092c\u094d\u0930\n",
        "warning  goyaa))ii-e doshiizah-e lab-;xand  is no longer \u0917\u094b\u092f\u093e\u0908\u2010\u090f\u2010\u0926\u094b\u0936\u0940\u091c\u093c\u093e\u2010\u090f\u2010\u0932\u092c\u0916\u093c\u0902\u0926\n",
        "warning  farang  is no longer \u092b\u093c\u0930\u0902\u0917\n",
        "warning "
       ]
      },
      {
       "output_type": "stream",
       "stream": "stdout",
       "text": [
        " daur-e hosh-o-((amal  is no longer \u0926\u094c\u0930\u2010\u090f\u2010\u0939\u094b\u0936\u2010\u0913\u2010\u0905\u092e\u0932\n",
        "warning  ham-navaa-e shabaab  is no longer \u0939\u092e\u0928\u0935\u093e\u2010\u090f\u2010\u0936\u092c\u093e\u092c\n",
        "warning  tannuur  is no longer \u0924\u0928\u094d\u0928\u0942\u0930\n",
        "warning "
       ]
      },
      {
       "output_type": "stream",
       "stream": "stdout",
       "text": [
        " ;xudaa))o;n  is no longer \u0916\u093c\u0941\u0926\u093e\u0913\u0902\n",
        "warning  ;xvaab-e jamuud  is no longer \u0916\u093c\u094d\u0935\u093e\u092c\u2010\u090f\u2010\u091c\u092e\u0942\u0926\n"
       ]
      }
     ],
     "prompt_number": 2
    },
    {
     "cell_type": "code",
     "collapsed": false,
     "input": [
      "devanagari = myparser.Parser('devanagari.yaml')\n",
      "print devanagari.parse(' tah ')"
     ],
     "language": "python",
     "metadata": {},
     "outputs": [
      {
       "output_type": "stream",
       "stream": "stdout",
       "text": [
        "<consonant> <long_vowel> <s> + <t> <long_vowel>\n",
        "<consonant> <long_vowel> <consonant> + <consonant> <long_vowel>\n",
        "<consonant> <vowel> <vowel_nasal> <consonant> + <consonant> <long_vowel>\n",
        "<consonant> <short_vowel> <h_char> + <consonant>\n",
        "<consonant> <short_vowel> <consonant> + <consonant> <long_vowel>\n",
        "<wb> <vowel> <consonant> + <consonant> <vowel>\n",
        "<wb> <consonant> <short_vowel> <z> + <z> <short_vowel> <consonant>\n",
        "<wb> <consonant> <short_vowel> <consonant> + <consonant> <short_vowel> <consonant>\n",
        "<n> + <consonant>\n",
        "<wb> <long_vowel> <consonant> + <consonant> <long_vowel>\n",
        "<consonant> + <consonant>\n",
        "<k> + <k_group>\n",
        "<ch> + <ch_group>\n",
        "<wb> <consonant> <long_vowel> <consonant> + <consonant> <long_vowel>\n",
        "<wb> <consonant> <long_vowel> <consonant> + <consonant> <short_vowel> <consonant>\n",
        "<wb> <consonant> <short_vowel> <sibilant> + <consonant> <wb>\n",
        "<wb> <consonant> <short_vowel> <consonant> + <consonant> <wb>\n",
        "<wb> <short_vowel> <consonant> + <consonant> <long_vowel> <wb>\n",
        "<wb> <short_vowel> <consonant> + <consonant> <long_vowel> <consonant> <wb>\n",
        "<wb> <short_vowel> <consonant> <short_vowel> <consonant> + <consonant> <short_vowel> <consonant>\n",
        "<vowel> <n> + <consonant>\n",
        "<consonant> + <n> <aa> <wb>\n",
        "<consonant> + <n> <e> <wb>\n",
        "<consonant> + <t> <aa> <wb>\n",
        "<consonant> + <t> <e> <wb>\n",
        "<consonant> + <t> <ii> <wb>\n",
        "<consonant> + <ain> <short_vowel> <wb>\n",
        "<short_vowel> <ain> + <consonant>\n",
        "<wb> <consonant> <short_vowel> + <consonant> <long_vowel>\n",
        "<wb> <consonant> <short_vowel> <consonant> + <consonant> <long_vowel>\n",
        "<consonant> + <consonant>\n",
        " \u0924\u093e \n"
       ]
      }
     ],
     "prompt_number": 32
    },
    {
     "cell_type": "code",
     "collapsed": false,
     "input": [
      "        key='v u h <wb>'\n",
      "        rule={}\n",
      "        _  ='(?:'   \n",
      "        _ +='\\('\n",
      "        _ +='((?:\\s?<.+?>\\s+)+)?'# '(?:\\s?<(.+?)>\\s+)?' # group 1, prev class (in brackets indicating cluster)\n",
      "        _ +='(.+?)\\s?' # group 2, prev tokens (to be split)\n",
      "        _ +='\\) '\n",
      "        _ +='|' # either a cluster or a particular previous class (Could add additional support, e.g. class or paretic.\n",
      "        _ +='((?:\\s?<.+?>\\s+)+)?' # group 3, prev class (not in cluster)\n",
      "        _ +=')?'\n",
      "        _ += '(.+?)' # group 4, tokens\n",
      "        _ += '(?:' # cluster for following tokens, clusters \n",
      "        _ += ' \\('\n",
      "        _ += '\\s?(.+?)' # group 5, next tokens\n",
      "        _ += '((?:\\s?<.+?>\\s+?)+)?' # group 6, next class\n",
      "        _ += '\\s?\\)'\n",
      "        _ += '|'\n",
      "        _ += ' ((?:<.+?>\\s?)+)?' # group 7, follo\n",
      "        _ += ')?$'\n",
      "        \n",
      "        m = re.match (_, key, re.S)\n",
      "        assert (m is not None)\n",
      "        if m.group(1): rule['prev_classes'] = re.findall('<(.+?)>',m.group(1))\n",
      "        if m.group(2): rule['prev_tokens'] = m.group(2).split(' ')\n",
      "        if m.group(3): rule['prev_classes'] =  re.findall('<(.+?)>',m.group(3))\n",
      "        if m.group(4)==' ':\n",
      "            rule['tokens'] = ' '\n",
      "        else:\n",
      "            rule['tokens'] = m.group(4).split(' ')\n",
      "        if m.group(5): rule['next_tokens'] = m.group(5).split(' ')\n",
      "        if m.group(6): rule['next_classes'] = re.findall('<(.+?)>',m.group(6))\n",
      "        if m.group(7): rule['next_classes'] = re.findall('<(.+?)>',m.group(7))\n",
      "        print rule\n",
      "        \n",
      "        print _"
     ],
     "language": "python",
     "metadata": {},
     "outputs": [
      {
       "output_type": "stream",
       "stream": "stdout",
       "text": [
        "{'tokens': ['v', 'u', 'h', 'ii'], 'next_classes': ['wb'], 'prev_classes': ['wb']}\n",
        "(?:\\(((?:\\s?<.+?>\\s+)+)?(.+?)\\s?\\) |((?:\\s?<.+?>\\s+)+)?)?(.+?)(?: \\(\\s?(.+?)((?:\\s?<.+?>\\s+?)+)?\\s?\\)| ((?:<.+?>\\s?)+)?)?$\n"
       ]
      }
     ],
     "prompt_number": 44
    },
    {
     "cell_type": "code",
     "collapsed": false,
     "input": [
      "        _ = '(?: \\(\\s?(.+?)((?:\\s?<.+?>\\s+?)+)?\\s?\\)| ((?:<.+?>\\s?)+)?)?$'\n",
      "        \n",
      "        re.match(_,' (x <wb> <dce>)').group(0)"
     ],
     "language": "python",
     "metadata": {},
     "outputs": [
      {
       "metadata": {},
       "output_type": "pyout",
       "prompt_number": 40,
       "text": [
        "' (x <wb> <dce>)'"
       ]
      }
     ],
     "prompt_number": 40
    },
    {
     "cell_type": "code",
     "collapsed": false,
     "input": [
      "devanagari=myparser.Parser('devanagari.yaml')\n",
      "print devanagari.parse(\"vaqt\")"
     ],
     "language": "python",
     "metadata": {},
     "outputs": [
      {
       "output_type": "stream",
       "stream": "stdout",
       "text": [
        "<wb> <consonant> <short_vowel> <h_char> + <consonant> <wb>\n",
        "<wb> <consonant> <short_vowel> <consonant> + <consonant> <long_vowel> <wb>\n",
        "<wb> <consonant> <short_vowel> <consonant> + <consonant> <short_vowel> <consonant> <wb>\n",
        "<n> + <consonant>\n",
        "<consonant> + <consonant>\n",
        "<k> + <k_group>\n",
        "<ch> + <ch_group>\n",
        "<wb> <consonant> <long_vowel> <consonant> + <consonant> <long_vowel>\n",
        "<wb> <consonant> <long_vowel> <consonant> + <consonant> <short_vowel> <consonant>\n",
        "<wb> <consonant> <short_vowel> <sibilant> + <consonant> <wb>\n",
        "<wb> <consonant> <short_vowel> <consonant> + <consonant> <wb>\n",
        "<wb> <short_vowel> <consonant> + <consonant> <long_vowel> <wb>\n",
        "<wb> <short_vowel> <consonant> + <consonant> <long_vowel> <consonant> <wb>\n",
        "<wb> <short_vowel> <consonant> <short_vowel> <consonant> + <consonant> <short_vowel> <consonant>\n",
        "<vowel> <n> + <consonant>\n",
        "<consonant> + <n> <aa> <wb>\n",
        "<consonant> + <n> <e> <wb>\n",
        "<consonant> + <t> <aa> <wb>\n",
        "<consonant> + <t> <e> <wb>\n",
        "<consonant> + <t> <ii> <wb>\n",
        "<consonant> + <ain> <short_vowel> <wb>\n",
        "<short_vowel> <ain> + <consonant>\n",
        "<wb> <consonant> <short_vowel> + <consonant> <long_vowel>\n",
        "<wb> <consonant> <short_vowel> <consonant> + <consonant> <long_vowel>\n",
        "<wb> <long_vowel> <consonant> + <consonant> <long_vowel>\n",
        "<consonant> + <consonant>\n",
        "\u0935\u0915\u093c\u094d\u0924\n"
       ]
      }
     ],
     "prompt_number": 4
    }
   ],
   "metadata": {}
  }
 ]
}