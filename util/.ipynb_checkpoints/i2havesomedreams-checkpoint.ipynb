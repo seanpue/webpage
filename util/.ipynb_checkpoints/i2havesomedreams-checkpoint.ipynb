{
 "metadata": {
  "name": "",
  "signature": "sha256:c9e0a8b8c83a54757b61e2f840d92d4093fc19982177472d4f9597261dc99b35"
 },
 "nbformat": 3,
 "nbformat_minor": 0,
 "worksheets": [
  {
   "cells": [
    {
     "cell_type": "raw",
     "metadata": {},
     "source": [
      "This notebook is used to generate the Urdu, Devanagari, and transliteration versions of the poem's in the appendix to my book, I Too Have Some Dreams, http://seanpue.com/itoohavesomedreams/"
     ]
    },
    {
     "cell_type": "code",
     "collapsed": false,
     "input": [
      "# This fetches the current poems from a private Drupal site accessed via xmlrpc\n",
      "\n",
      "import xmlrpcsettings # this holds a few private settings\n",
      "import xmlrpclib\n",
      "import re\n",
      "import json\n",
      "import urllib\n",
      "\n",
      "assert xmlrpcsettings.ursite\n",
      "assert xmlrpcsettings.inbookurl\n",
      "\n",
      "proxy = xmlrpclib.Server(xmlrpcsettings.ursite)\n",
      "\n",
      "open_url = urllib.urlopen(xmlrpcsettings.inbookurl)\n",
      "nds=json.load(open_url)\n",
      "items = nds['Items']\n",
      "inbook = []\n",
      "for i in items:\n",
      "    inbook.append( proxy.node.retrieve(i['node']['nid']) )\n",
      "assert len(inbook)==30\n"
     ],
     "language": "python",
     "metadata": {},
     "outputs": []
    },
    {
     "cell_type": "code",
     "collapsed": false,
     "input": [
      "print inbook[0]['field_title_urdu']['und'][0]['value']#: {'und': [{'value'"
     ],
     "language": "python",
     "metadata": {},
     "outputs": []
    },
    {
     "cell_type": "code",
     "collapsed": false,
     "input": [
      "def clean_trans(s):\n",
      "    s = s.replace('--',u'\u2014')\n",
      "    s = s.replace(' -o- ','-o-')\n",
      "    s = s.replace('\\t','    ')# -o- ','-o-')\n",
      "    return s\n",
      "\n",
      "def cap_trans(s):\n",
      "    if s[0]==u'\u1e25':\n",
      "        s=u'\u1e24'+s[1:]\n",
      "    return s\n"
     ],
     "language": "python",
     "metadata": {},
     "outputs": []
    },
    {
     "cell_type": "code",
     "collapsed": false,
     "input": [
      "for n in inbook:\n",
      "    # first, transliteration\n",
      "    trans_title = cap_trans(clean_trans(n['field_title_transliterated']['und'][0]['value']))\n",
      "    urdu_title = n['field_title_urdu']['und'][0]['value']\n",
      "    print trans_title, urdu_title"
     ],
     "language": "python",
     "metadata": {},
     "outputs": []
    },
    {
     "cell_type": "code",
     "collapsed": false,
     "input": [
      "import datetime\n",
      "import dateutil\n",
      "def current_time(tzinfo=None):\n",
      "    if tzinfo is not None:\n",
      "        dt = datetime.datetime.now(tzinfo)\n",
      "    else:\n",
      "        dt = datetime.datetime.now(dateutil.tz.tzlocal())\n",
      "    return dt\n",
      "\n",
      "datetime.datetime.now()"
     ],
     "language": "python",
     "metadata": {},
     "outputs": []
    },
    {
     "cell_type": "code",
     "collapsed": false,
     "input": [
      "import datetime\n",
      "utc_datetime = datetime.datetime.utcnow()\n",
      "utc_datetime.strftime(\"%Y-%m-%d %H:%M:%S\")+\" UTC\""
     ],
     "language": "python",
     "metadata": {},
     "outputs": []
    },
    {
     "cell_type": "code",
     "collapsed": false,
     "input": [
      "inbook[0]['field_text_urdu']['und'][0]['value']"
     ],
     "language": "python",
     "metadata": {},
     "outputs": []
    },
    {
     "cell_type": "code",
     "collapsed": false,
     "input": [
      "import datetime\n",
      "import os\n",
      "import codecs\n",
      "\n",
      "\n",
      "def generate_rst(n,poem_id): \n",
      "    '''\n",
      "    generates RestructuredText string from Drupal node\n",
      "    n = drupal node\n",
      "    poem_id = id in book, starting at 1\n",
      "    \n",
      "    Model:\n",
      "      \n",
      "    .. title: test post\n",
      "    .. slug: test-post\n",
      "    .. date: 2014-09-01 03:10:12 UTC\n",
      "    .. tags: \n",
      "    .. link: \n",
      "    .. description: \n",
      "    .. type: text\n",
      "\n",
      "    '''\n",
      "#    n=inbook[25]\n",
      "\n",
      "    text_trans=clean_trans(n['field_text_transliterated']['und'][0]['value'])\n",
      "    text_trans_lines = text_trans.split('\\n')\n",
      "    text_trans_lines = ['| '+s for s in text_trans_lines]\n",
      "    trans_title = cap_trans(clean_trans(n['field_title_transliterated']['und'][0]['value']))\n",
      "    text_transliterated_rst = '\\n'.join(text_trans_lines)\n",
      "    \n",
      "    \n",
      "    utc_datetime = datetime.datetime.utcnow()\n",
      "    slug = 'itoohavesomedreams/poem_'+str(poem_id)    \n",
      "    time_string = utc_datetime.strftime(\"%Y-%m-%d %H:%M:%S\")+\" UTC\"\n",
      "    \n",
      "    rst_text = '.. title: %s\\n'       % (u'\u00a7'+str(poem_id)+'. '+trans_title)\n",
      "    rst_text+= '.. slug: %s\\n'        % slug\n",
      "    \n",
      "    rst_text+= '.. date: %s\\n'        % time_string\n",
      "    rst_text+= '.. tags: %s\\n'        % 'poem itoohavesomedreams rashid'\n",
      "    rst_text+= '.. link: %s\\n'        % '' # what is this?\n",
      "    rst_text+= '.. description: %s\\n' % ('transliterated version of \"'+trans_title+'\"')\n",
      "    rst_text+= '.. type: text'+'\\n'\n",
      "    rst_text+= '\\n'\n",
      "    rst_text+= u'\\n\\n'    \n",
      "    rst_text+= text_transliterated_rst\n",
      "    rst_text+= u'\\n\\n\\u2403\\n'#\\u2403\n",
      "#    print rst_text\n",
      "\n",
      "    assert os.path.isdir('../itoohavesomedreams')\n",
      "    filename_en = '../'+slug+'.rst'\n",
      "    with codecs.open(filename_en,'w','utf-8') as f: # physical location does not matter though for slug\n",
      "        f.write(rst_text)\n",
      "\n",
      "        \n",
      "def generate_ur_rst(n,poem_id): \n",
      "    '''\n",
      "    generates RestructuredText string from Drupal node\n",
      "    n = drupal node\n",
      "    poem_id = id in book, starting at 1\n",
      "    \n",
      "    Model:\n",
      "      \n",
      "    .. title: test post\n",
      "    .. slug: test-post\n",
      "    .. date: 2014-09-01 03:10:12 UTC\n",
      "    .. tags: \n",
      "    .. link: \n",
      "    .. description: \n",
      "    .. type: text\n",
      "\n",
      "    '''\n",
      "#    n=inbook[25]\n",
      "\n",
      "    text_ur =n['field_text_urdu']['und'][0]['value']\n",
      "    text_ur_lines = text_ur.split('\\n')\n",
      "    text_ur_lines = ['| '+s for s in text_ur_lines]\n",
      "    text_ur_rst = '\\n'.join(text_ur_lines)\n",
      "    trans_title = cap_trans(clean_trans(n['field_title_transliterated']['und'][0]['value']))    \n",
      "    ur_title = n['field_title_urdu']['und'][0]['value']\n",
      "    utc_datetime = datetime.datetime.utcnow()\n",
      "    slug = 'itoohavesomedreams/poem_'+str(poem_id)    \n",
      "    time_string = utc_datetime.strftime(\"%Y-%m-%d %H:%M:%S\")+\" UTC\"\n",
      "    \n",
      "    rst_text = '.. title: %s\\n'       % (u'\u00a7'+str(poem_id)+u'\u0640 '+ur_title)\n",
      "    rst_text+= '.. slug: %s\\n'        % slug\n",
      "    \n",
      "    rst_text+= '.. date: %s\\n'        % time_string\n",
      "    rst_text+= '.. tags: %s\\n'        % 'poem itoohavesomedreams rashid'\n",
      "    rst_text+= '.. link: %s\\n'        % '' # what is this?\n",
      "    rst_text+= '.. description: %s\\n' % ('Urdu version of \"'+trans_title+'\"')\n",
      "    rst_text+= '.. type: text'+'\\n'\n",
      "    rst_text+= '\\n'\n",
      "    rst_text+= u'\\n\\n'    \n",
      "    rst_text+= text_ur_rst\n",
      "    rst_text+= u'\\n\\n\\u2403\\n'#\\u2403\n",
      " #   print rst_text\n",
      "\n",
      "    assert os.path.isdir('../itoohavesomedreams')\n",
      "    filename_en = '../'+slug+'.ur'+'.rst' # format is : title.languageid.rst\n",
      "    \n",
      "    with codecs.open(filename_en,'w','utf-8') as f: # physical location does not matter though for slug\n",
      "        f.write(rst_text)\n",
      "        \n",
      "         \n",
      "    \n",
      "    "
     ],
     "language": "python",
     "metadata": {},
     "outputs": []
    },
    {
     "cell_type": "code",
     "collapsed": false,
     "input": [],
     "language": "python",
     "metadata": {},
     "outputs": []
    },
    {
     "cell_type": "code",
     "collapsed": false,
     "input": [
      "\n",
      "\n",
      "for n_id, n in enumerate(inbook):\n",
      "    generate_rst(n,n_id+1)\n",
      "    generate_ur_rst(n,n_id+1)\n",
      "\n",
      "    "
     ],
     "language": "python",
     "metadata": {},
     "outputs": []
    },
    {
     "cell_type": "code",
     "collapsed": false,
     "input": [],
     "language": "python",
     "metadata": {},
     "outputs": []
    },
    {
     "cell_type": "code",
     "collapsed": false,
     "input": [
      "(u'\u00a7'+str(poem_id)+u'\u0640 '+ur_title)"
     ],
     "language": "python",
     "metadata": {},
     "outputs": []
    },
    {
     "cell_type": "code",
     "collapsed": false,
     "input": [],
     "language": "python",
     "metadata": {},
     "outputs": []
    },
    {
     "cell_type": "code",
     "collapsed": false,
     "input": [],
     "language": "python",
     "metadata": {},
     "outputs": []
    },
    {
     "cell_type": "code",
     "collapsed": false,
     "input": [],
     "language": "python",
     "metadata": {},
     "outputs": []
    }
   ],
   "metadata": {}
  }
 ]
}