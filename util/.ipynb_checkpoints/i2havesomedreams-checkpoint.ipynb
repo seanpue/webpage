{
 "metadata": {
  "name": "",
  "signature": "sha256:bca0c081492a66f98817ee972eaabc12927f21268c565eb9753be2fe8dab671b"
 },
 "nbformat": 3,
 "nbformat_minor": 0,
 "worksheets": [
  {
   "cells": [
    {
     "cell_type": "raw",
     "metadata": {},
     "source": [
      "This notebook is used to generate the Urdu, Devanagari, and transliteration versions of the poem's in the appendix to my book, I Too Have Some Dreams, http://seanpue.com/itoohavesomedreams/"
     ]
    },
    {
     "cell_type": "code",
     "collapsed": false,
     "input": [
      "# This fetches the current poems from a private Drupal site accessed via xmlrpc\n",
      "\n",
      "import xmlrpcsettings # this holds a few private settings\n",
      "import xmlrpclib\n",
      "import re\n",
      "import json\n",
      "import urllib\n",
      "\n",
      "assert xmlrpcsettings.ursite\n",
      "assert xmlrpcsettings.inbookurl\n",
      "\n",
      "proxy = xmlrpclib.Server(xmlrpcsettings.ursite)\n",
      "\n",
      "open_url = urllib.urlopen(xmlrpcsettings.inbookurl)\n",
      "nds=json.load(open_url)\n",
      "items = nds['Items']\n",
      "inbook = []\n",
      "for i in items:\n",
      "    inbook.append( proxy.node.retrieve(i['node']['nid']) )\n",
      "assert len(inbook)==30\n"
     ],
     "language": "python",
     "metadata": {},
     "outputs": [],
     "prompt_number": 2
    },
    {
     "cell_type": "code",
     "collapsed": false,
     "input": [
      "def clean_trans(s):\n",
      "    s = s.replace('--',u'\u2014')\n",
      "    s = s.replace(' -o- ','-o-')\n",
      "    s = s.replace('\\t','    ')# -o- ','-o-')\n",
      "    return s\n",
      "\n",
      "def cap_trans(s):\n",
      "    if s[0]==u'\u1e25':\n",
      "        s=u'\u1e24'+s[1:]\n",
      "    return s\n"
     ],
     "language": "python",
     "metadata": {},
     "outputs": [],
     "prompt_number": 17
    },
    {
     "cell_type": "code",
     "collapsed": false,
     "input": [
      "for n in inbook:\n",
      "    # first, transliteration\n",
      "    trans_title = cap_trans(clean_trans(n['field_title_transliterated']['und'][0]['value']))\n",
      "    print trans_title"
     ],
     "language": "python",
     "metadata": {},
     "outputs": [
      {
       "output_type": "stream",
       "stream": "stdout",
       "text": [
        "B\u0101dal (s\u0101ne\u1e6d)\n",
        "Ek din\u2014l\u0101rins b\u0101\u0121h me\u00f1 (ek kaifiyat)\n",
        "Sit\u0101re (s\u0101ne\u1e6d)\n",
        "V\u0101d\u012b-e pinh\u0101\u00f1\n",
        "Gun\u0101h aur mu\u1e25abbat\n",
        "Muk\u0101f\u0101t\n",
        "\u1e24uzn-e ins\u0101n (afl\u0101t\u0324\u016bn\u012b \u02bfishq par ek t\u0324anz)\n",
        "Ittif\u0101q\u0101t\n",
        "Sh\u0101\u02bfir-e dar-m\u0101\u00f1dah\n",
        "Intiq\u0101m\n",
        "Hamah \u016bst\n",
        "Tel ke saud\u0101gar\n",
        "Mann-o-salv\u00e2\n",
        "Tam\u0101sh\u0101gah-e l\u0101lah-z\u0101r\n",
        "Namr\u016bd k\u012b \u1e33hud\u0101\u02be\u012b\n",
        "Vuh \u1e25arf-e tanh\u0101 (jise tamann\u0101-e va\u1e63l-e ma\u02bfn\u0101)\n",
        "Zindag\u012b se \u1e0darte ho?\n",
        "Dil, mire \u1e63a\u1e25r\u0101-navard-e p\u012br dil\n",
        "Ek aur shahr\n",
        "Reg-e d\u012br\u016bz\n",
        "Zam\u0101nah \u1e33hud\u0101 hai\n",
        "Afs\u0101nah-e shahr\n",
        "Yih \u1e33hal\u0101 pur nah hu\u02be\u0101\n",
        "T\u0324alab ke tale\n",
        "Gum\u0101\u00f1 k\u0101 mumkin\u2014jo t\u016b hai mai\u00f1 h\u016b\u00f1!\n",
        "\u1e24asan k\u016bzah-gar\n",
        "\u1e24asan k\u016bzah-gar (2)\n",
        "\u1e24asan k\u016bzah gar (3)\n",
        "\u1e24asan k\u016bzah-gar (4)\n",
        "Mere bh\u012b hai\u00f1 kuchh \u1e33hv\u0101b\n"
       ]
      }
     ],
     "prompt_number": 18
    },
    {
     "cell_type": "code",
     "collapsed": false,
     "input": [
      "import datetime\n",
      "import dateutil\n",
      "def current_time(tzinfo=None):\n",
      "    if tzinfo is not None:\n",
      "        dt = datetime.datetime.now(tzinfo)\n",
      "    else:\n",
      "        dt = datetime.datetime.now(dateutil.tz.tzlocal())\n",
      "    return dt\n",
      "\n",
      "datetime.datetime.now()"
     ],
     "language": "python",
     "metadata": {},
     "outputs": [
      {
       "metadata": {},
       "output_type": "pyout",
       "prompt_number": 31,
       "text": [
        "datetime.datetime(2014, 9, 1, 15, 17, 25, 683403)"
       ]
      }
     ],
     "prompt_number": 31
    },
    {
     "cell_type": "code",
     "collapsed": false,
     "input": [
      "import datetime\n",
      "import os\n",
      "import codecs\n",
      "\n",
      "\n",
      "def generate_rst(n,poem_id): \n",
      "    '''\n",
      "    generates RestructuredText string from Drupal node\n",
      "    n = drupal node\n",
      "    poem_id = id in book, starting at 1\n",
      "    \n",
      "    Model:\n",
      "      \n",
      "    .. title: test post\n",
      "    .. slug: test-post\n",
      "    .. date: 2014-09-01 03:10:12 UTC\n",
      "    .. tags: \n",
      "    .. link: \n",
      "    .. description: \n",
      "    .. type: text\n",
      "\n",
      "    '''\n",
      "    n=inbook[25]\n",
      "    text_trans=clean_trans(n['field_text_transliterated']['und'][0]['value'])\n",
      "    text_trans_lines = text_trans.split('\\n')\n",
      "    text_trans_lines = ['| '+s for s in text_trans_lines]\n",
      "    trans_title = cap_trans(clean_trans(n['field_title_transliterated']['und'][0]['value']))\n",
      "    text_transliterated_rst = '\\n'.join(text_trans_lines)\n",
      "    \n",
      "    \n",
      "    utc_datetime = datetime.datetime.utcnow()\n",
      "    slug = 'itoohavesomedreams/poem_'+str(poem_id)\n",
      "    \n",
      "    time_string = utc_datetime.strftime(\"%Y-%m-%d %H:%M:%S\")+\" UTC\"\n",
      "    \n",
      "    rst_text = '.. title: %s\\n'       % trans_title\n",
      "    rst_text+= '.. slug: %s\\n'        % slug\n",
      "    \n",
      "    rst_text+= '.. date: %s\\n'        % time_string\n",
      "    rst_text+= '.. tags: %s\\n'        % 'poem itoohavesomedreams rashid'\n",
      "    rst_text+= '.. link: %s\\n'        % '' # what is this?\n",
      "    rst_text+= '.. description: %s\\n' % ('transliterated version of \"'+trans_title+'\"')\n",
      "    rst_text+= '.. type: text'+'\\n'\n",
      "    rst_text+= '\\n'\n",
      "    rst_text+= u'\\u2402\\n\\n'    \n",
      "    rst_text+= text_transliterated_rst\n",
      "    rst_text+= '\\n\\n\\u2403\\n'#\\u2403\n",
      "    print rst_text\n",
      "\n",
      "    assert os.path.isdir('../itoohavesomedreams')\n",
      "    filename_en = '../'+slug+'.rst'\n",
      "    with codecs.open(filename_en,'w','utf-8') as f: # physical location does not matter though for slug\n",
      "        f.write(rst_text)\n",
      "    \n",
      "generate_rst(inbook[25],26)"
     ],
     "language": "python",
     "metadata": {},
     "outputs": [
      {
       "output_type": "stream",
       "stream": "stdout",
       "text": [
        ".. title: \u1e24asan k\u016bzah-gar\n",
        ".. slug: itoohavesomedreams/poem_26\n",
        ".. date: 2014-09-02 03:36:54 UTC\n",
        ".. tags: poem itoohavesomedreams rashid\n",
        ".. link: \n",
        ".. description: transliterated version of \"\u1e24asan k\u016bzah-gar\"\n",
        ".. type: text\n",
        "\n",
        "X\n",
        "| jah\u0101\u00f1-z\u0101d, n\u012bche gal\u012b me\u00f1 tire dar ke \u0101ge\n",
        "| yih mai\u00f1 so\u1e33htah-sar \u1e25asan k\u016bzah-gar h\u016b\u00f1!\n",
        "| tujhe \u1e63ub\u1e25 b\u0101z\u0101r me\u00f1 b\u016b\u1e5bhe \u02bfat\u0324t\u0324\u0101r y\u016bsif\n",
        "| k\u012b dukk\u0101n par mai\u00f1 ne dekh\u0101\n",
        "| to ter\u012b nig\u0101ho\u00f1 me\u00f1 vuh t\u0101b-n\u0101k\u012b\n",
        "| th\u012b mai\u00f1 jis k\u012b \u1e25asrat me\u00f1 nau s\u0101l d\u012bv\u0101nah phirt\u0101 rah\u0101 h\u016b\u00f1\n",
        "| jah\u0101\u00f1-z\u0101d, nau s\u0101l d\u012bv\u0101nah phirt\u0101 rah\u0101 h\u016b\u00f1!\n",
        "| yih vuh daur th\u0101 jis me\u00f1 mai\u00f1 ne\n",
        "| kabh\u012b apne ranj\u016br k\u016bzo\u00f1 k\u012b j\u0101nib\n",
        "| pala\u1e6d-kar nah dekh\u0101\u2014\u2014\n",
        "| vuh k\u016bze mire dast-e ch\u0101buk ke putle\n",
        "| gil-o-rang-o-rau\u0121han k\u012b ma\u1e33hl\u016bq-e be-j\u0101\u00f1\n",
        "| vuh sar-goshiyo\u00f1 me\u00f1 yih kahte:\n",
        "| \"\u1e25asan k\u016bzah-gar ab kah\u0101\u00f1 hai?\n",
        "| vuh ham se, \u1e33hvud apne \u02bfamal se,\n",
        "| \u1e33hud\u0101vand ban-kar \u1e33hud\u0101\u02beo\u00f1 ke m\u0101nind hai r\u016b-e gard\u0101\u00f1!\"\n",
        "| jah\u0101\u00f1-z\u0101d nau s\u0101l k\u0101 daur y\u016b\u00f1 mujh pah guzr\u0101\n",
        "| kih jaise kis\u012b shahr-e madf\u016bn par vaqt guzre;\n",
        "| ta\u0121h\u0101ro\u00f1 me\u00f1 mi\u1e6d\u1e6d\u012b\n",
        "| kabh\u012b jis k\u012b \u1e33hvush-b\u016b se v\u0101-raftah hot\u0101 th\u0101 me\u00f1\n",
        "|             sang-bastah pa\u1e5b\u012b th\u012b\n",
        "| \u1e63ur\u0101\u1e25\u012b-o-m\u012bn\u0101-o-j\u0101m-o-sab\u016b aur f\u0101n\u016bs-o-guld\u0101\u00f1\n",
        "| mir\u012b hech-m\u0101yah ma\u02bf\u012bshat ke, iz\u0324h\u0101r-e fan ke sah\u0101re\n",
        "| shikastah pa\u1e5be the\n",
        "| mai\u00f1 \u1e33hvud, mai\u00f1 \u1e25asan k\u016bzah-gar p\u0101 bah gil, \u1e33h\u0101k bar sar, barahnah,\n",
        "| sar-e \"ch\u0101k\" zh\u016bl\u012bdah m\u016b, sar ba-z\u0101n\u016b,\n",
        "| kis\u012b \u0121ham-zadah devat\u0101 k\u012b t\u0324ara\u1e25 v\u0101himah ke\n",
        "| gil-o-l\u0101 se \u1e33hv\u0101bo\u00f1 ke saiy\u0101l k\u016bze ban\u0101t\u0101 rah\u0101 th\u0101\u2014\n",
        "| jah\u0101\u00f1-z\u0101d, nau s\u0101l pahle\n",
        "| t\u016b n\u0101-d\u0101\u00f1 th\u012b lekin tujhe yih \u1e33habar th\u012b\n",
        "| kih mai\u00f1 ne, \u1e25asan k\u016bzah-gar ne\n",
        "| tir\u012b q\u0101f k\u012b s\u012b ufaq-t\u0101b \u0101\u00f1kho\u00f1 \n",
        "| me\u00f1 dekh\u012b hai vuh t\u0101b-n\u0101k\u012b kih jis se mire jism-o-j\u0101\u00f1, abr-o-maht\u0101b k\u0101\n",
        "|             rah-guzar ban ga\u02bee the\n",
        "| jah\u0101\u00f1-z\u0101d ba\u0121hd\u0101d k\u012b \u1e33hv\u0101b g\u016b\u00f1 r\u0101t,\n",
        "| vuh rod-e dajlah k\u0101 s\u0101\u1e25il,\n",
        "| vuh kasht\u012b, vuh mall\u0101\u1e25 k\u012b band \u0101\u00f1khe\u00f1,\n",
        "| kis\u012b \u1e33hastah-j\u0101\u00f1, ranjbar, k\u016bzah-gar ke li\u02bee\n",
        "| ek h\u012b r\u0101t vuh kah-rub\u0101 th\u012b\n",
        "| kih jis se abh\u012b tak hai paivast us k\u0101 vuj\u016bd\u2014\u2014\n",
        "|             us k\u012b j\u0101\u00f1, us k\u0101 paikar\n",
        "| magar ek h\u012b r\u0101t k\u0101 \u017cauq dary\u0101 k\u012b vuh lahr nikl\u0101\n",
        "| \u1e25asan k\u016bzah-gar jis me\u00f1 \u1e0d\u016bb\u0101 to ubhr\u0101 nah\u012b\u00f1 hai!\n",
        "| \n",
        "| jah\u0101\u00f1-z\u0101d, us daur me\u00f1 roz, har roz\n",
        "|             vuh so\u1e33htah-ba\u1e33ht \u0101-kar\n",
        "| mujhe dekht\u012b ch\u0101k par p\u0101 bah-gil, sar ba-z\u0101n\u016b,\n",
        "| to sh\u0101no\u00f1 se mujh ko hil\u0101t\u012b\u2014\u2014\n",
        "| (vuh\u012b ch\u0101k jo s\u0101l-h\u0101-s\u0101l j\u012bne k\u0101 tanh\u0101 sah\u0101r\u0101 rah\u0101 th\u0101!)\n",
        "| vuh sh\u0101no\u00f1 se mujh ko hil\u0101t\u012b:\n",
        "| \"\u1e25asan k\u016bzah-gar hosh me\u00f1 \u0101\n",
        "| \u1e25asan apne v\u012br\u0101n ghar par naz\u0324ar kar\n",
        "| yih bachcho\u00f1 ke tann\u016br kyo\u00f1kar bhare\u00f1ge?\n",
        "| \u1e25asan, ai mu\u1e25abbat ke m\u0101re\n",
        "| mu\u1e25abbat am\u012bro\u00f1 k\u012b b\u0101z\u012b,\n",
        "| \u1e25asan, apne d\u012bv\u0101r-o-dar par naz\u0324ar kar\"\n",
        "| mire k\u0101n me\u00f1 yih nav\u0101-e \u1e25az\u012b\u00f1 y\u016b\u00f1 th\u012b jaise\n",
        "| kis\u012b \u1e0d\u016bbte sha\u1e33h\u1e63 ko zer-e gird\u0101b ko\u02be\u012b puk\u0101re!\n",
        "| vuh ashko\u00f1 ke a\u00f1b\u0101r ph\u016blo\u00f1 ke a\u00f1b\u0101r the h\u0101\u00f1\n",
        "| magar mai\u00f1 \u1e25asan k\u016bzah-gar shahr-e auh\u0101m ke un \n",
        "| \u1e33har\u0101bo\u00f1 k\u0101 maj\u017c\u016bb th\u0101 jin\n",
        "| me\u00f1 ko\u02be\u012b \u1e63ad\u0101 ko\u02be\u012b ju\u00f1bish\n",
        "| kis\u012b mur\u0121h-e parr\u0101\u00f1 k\u0101 s\u0101yah\n",
        "| kis\u012b zindag\u012b k\u0101 nish\u0101\u00f1 tak nah\u012b\u00f1 th\u0101!\n",
        "| \n",
        "| jah\u0101\u00f1-z\u0101d, me\u00f1 \u0101j ter\u012b gal\u012b me\u00f1\n",
        "| yah\u0101\u00f1 r\u0101t k\u012b sard-g\u016b\u00f1 t\u012brag\u012b me\u00f1\n",
        "| tire dar ke \u0101ge kha\u1e5b\u0101 h\u016b\u00f1\n",
        "| sar-o-m\u016b paresh\u0101\u00f1\n",
        "| dar\u012bche se vuh q\u0101f k\u012b s\u012b t\u0324ilism\u012b nig\u0101he\u00f1\n",
        "| mujhe \u0101j phir jh\u0101\u00f1kt\u012b hai\u00f1\n",
        "| zam\u0101nah, jah\u0101\u00f1-z\u0101d vuh ch\u0101k hai jis pah m\u012bn\u0101-o-j\u0101m-o-sab\u016b\n",
        "|             aur f\u0101n\u016bs-o-guld\u0101\u00f1\n",
        "| ke m\u0101nind bante biga\u1e5bte hai\u00f1 ins\u0101\u00f1\n",
        "| mai\u00f1 ins\u0101\u00f1 h\u016b\u00f1 lekin\n",
        "| yih nau s\u0101l jo \u0121ham ke q\u0101lib me\u00f1 guzre!\n",
        "| \u1e25asan k\u016bzah-gar \u0101j ik todah-e \u1e33h\u0101k hai jis\n",
        "| me\u00f1 nam k\u0101 a\u1e61ar tak nah\u012b\u00f1 hai\n",
        "| jah\u0101\u00f1-z\u0101d b\u0101z\u0101r me\u00f1 \u1e63ub\u1e25 \u02bfat\u0324t\u0324\u0101r y\u016bsif\n",
        "| k\u012b dukk\u0101n par ter\u012b \u0101\u00f1khe\u00f1\n",
        "| phir ik b\u0101r kuchh kah ga\u02be\u012b hai\u00f1\n",
        "| in \u0101\u00f1kho\u00f1 k\u012b t\u0101bindah sho\u1e33h\u012b\n",
        "| se u\u1e6d\u1e6dh\u012b hai phir todah-e \u1e33h\u0101k me\u00f1 nam k\u012b halk\u012b s\u012b larzish\n",
        "| yih\u012b sh\u0101yad is \u1e33h\u0101k ko gil ban\u0101 de!\n",
        "| \n",
        "| tamann\u0101 k\u012b vus\u02bfat k\u012b kis ko \u1e33habar hai, jah\u0101\u00f1-z\u0101d lekin\n",
        "| t\u016b ch\u0101he to ban j\u0101\u02be\u016b\u00f1 me\u00f1 phir\n",
        "| vuh\u012b k\u016bzah-gar jis ke k\u016bze\n",
        "| the har k\u0101\u1e33h-o-k\u016b aur har shahr-o-qaryah k\u012b n\u0101zish\n",
        "| the jin se am\u012br-o-gad\u0101 ke mus\u0101kin dara\u1e33hsh\u0101\u00f1\n",
        "| tamann\u0101 k\u012b vus\u02bfat k\u012b kis ko \u1e33habar hai\n",
        "| jah\u0101\u00f1-z\u0101d lekin\n",
        "| t\u016b ch\u0101he to mai\u00f1 phir pala\u1e6d j\u0101\u02be\u016b\u00f1 un apne mahj\u016br k\u016bzo\u00f1 k\u012b j\u0101nib\n",
        "| gil-o-l\u0101 ke s\u016bkhe ta\u0121h\u0101ro\u00f1 k\u012b j\u0101nib\n",
        "| ma\u02bf\u012bshat ke, iz\u0324h\u0101r-e fan ke sah\u0101ro\u00f1 k\u012b j\u0101nib\n",
        "| kih mai\u00f1 us gil-o-l\u0101 se, us rang-o-rau\u0121han\n",
        "| se phir vuh shar\u0101re nik\u0101l\u016b\u00f1 kih jin se\n",
        "| dilo\u00f1 ke \u1e33har\u0101be ho\u00f1 roshan!\n",
        "\n",
        "\n"
       ]
      }
     ],
     "prompt_number": 73
    },
    {
     "cell_type": "code",
     "collapsed": false,
     "input": [
      "import datetime\n",
      "utc_datetime = datetime.datetime.utcnow()\n",
      "utc_datetime.strftime(\"%Y-%m-%d %H:%M:%S\")+\" UTC\""
     ],
     "language": "python",
     "metadata": {},
     "outputs": [
      {
       "metadata": {},
       "output_type": "pyout",
       "prompt_number": 39,
       "text": [
        "'2014-09-01 19:25:38 UTC'"
       ]
      }
     ],
     "prompt_number": 39
    },
    {
     "cell_type": "code",
     "collapsed": false,
     "input": [
      "n['field_title_transliterated']['und'][0]['value']"
     ],
     "language": "python",
     "metadata": {},
     "outputs": [
      {
       "metadata": {},
       "output_type": "pyout",
       "prompt_number": 34,
       "text": [
        "u'Mere bh\\u012b hai\\xf1 kuchh \\u1e33hv\\u0101b'"
       ]
      }
     ],
     "prompt_number": 34
    },
    {
     "cell_type": "code",
     "collapsed": false,
     "input": [
      "import os\n",
      "os.getcwd()"
     ],
     "language": "python",
     "metadata": {},
     "outputs": [
      {
       "metadata": {},
       "output_type": "pyout",
       "prompt_number": 48,
       "text": [
        "'/Users/seanpue/webpage/util'"
       ]
      }
     ],
     "prompt_number": 48
    },
    {
     "cell_type": "code",
     "collapsed": false,
     "input": [
      "\n"
     ],
     "language": "python",
     "metadata": {},
     "outputs": []
    }
   ],
   "metadata": {}
  }
 ]
}