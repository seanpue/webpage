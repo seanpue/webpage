{
 "cells": [
  {
   "cell_type": "raw",
   "metadata": {},
   "source": [
    "This notebook is used to generate the Urdu, Devanagari, and transliteration versions of the poem's in the appendix to my book, I Too Have Some Dreams, http://seanpue.com/itoohavesomedreams/"
   ]
  },
  {
   "cell_type": "code",
   "execution_count": 7,
   "metadata": {
    "collapsed": false
   },
   "outputs": [
    {
     "ename": "AttributeError",
     "evalue": "module 'xmlrpc' has no attribute 'client'",
     "output_type": "error",
     "traceback": [
      "\u001b[0;31m---------------------------------------------------------------------------\u001b[0m",
      "\u001b[0;31mAttributeError\u001b[0m                            Traceback (most recent call last)",
      "\u001b[0;32m<ipython-input-7-e5f28f4f034d>\u001b[0m in \u001b[0;36m<module>\u001b[0;34m()\u001b[0m\n\u001b[0;32m----> 1\u001b[0;31m \u001b[0mxmlrpc\u001b[0m\u001b[0;34m.\u001b[0m\u001b[0mclient\u001b[0m\u001b[0;34m\u001b[0m\u001b[0m\n\u001b[0m",
      "\u001b[0;31mAttributeError\u001b[0m: module 'xmlrpc' has no attribute 'client'"
     ]
    }
   ],
   "source": [
    "xmlrpc.client"
   ]
  },
  {
   "cell_type": "code",
   "execution_count": 37,
   "metadata": {
    "collapsed": false
   },
   "outputs": [],
   "source": [
    "# This fetches the current poems from a private Drupal site accessed via xmlrpc\n",
    "\n",
    "import xmlrpcsettings # this holds a few private settings\n",
    "import xmlrpc.client\n",
    "import re\n",
    "import json\n",
    "import urllib.request\n",
    "\n",
    "assert xmlrpcsettings.ursite\n",
    "assert xmlrpcsettings.inbookurl\n",
    "\n",
    "proxy = xmlrpc.client.ServerProxy(xmlrpcsettings.ursite)\n",
    "\n",
    "\n",
    "open_url = urllib.request.urlopen(xmlrpcsettings.inbookurl)\n",
    "open_url = urllib.request.urlopen(xmlrpcsettings.inbookurl)\n",
    "x = open_url.read().decode('utf-8')\n",
    "nds = json.loads  ( x)\n",
    "\n",
    "items = nds['Items']\n",
    "inbook = []\n",
    "for i in items:\n",
    "    inbook.append( proxy.node.retrieve(i['node']['nid']) )\n",
    "assert len(inbook)==30\n"
   ]
  },
  {
   "cell_type": "code",
   "execution_count": 17,
   "metadata": {
    "collapsed": false
   },
   "outputs": [
    {
     "name": "stdout",
     "output_type": "stream",
     "text": [
      "b'{\"Items\":[{\"node\":{\"nid\":\"16\",\"field_order_in_book\":\"16\"},\"label\":\"Item\",\"type\":\"node\"},{\"node\":{\"nid\":\"13\",\"field_order_in_book\":\"13\"},\"label\":\"Item\",\"type\":\"node\"},{\"node\":{\"nid\":\"14\",\"field_order_in_book\":\"14\"},\"label\":\"Item\",\"type\":\"node\"},{\"node\":{\"nid\":\"25\",\"field_order_in_book\":\"25\"},\"label\":\"Item\",\"type\":\"node\"},{\"node\":{\"nid\":\"12\",\"field_order_in_book\":\"12\"},\"label\":\"Item\",\"type\":\"node\"},{\"node\":{\"nid\":\"18\",\"field_order_in_book\":\"18\"},\"label\":\"Item\",\"type\":\"node\"},{\"node\":{\"nid\":\"29\",\"field_order_in_book\":\"29\"},\"label\":\"Item\",\"type\":\"node\"},{\"node\":{\"nid\":\"28\",\"field_order_in_book\":\"28\"},\"label\":\"Item\",\"type\":\"node\"},{\"node\":{\"nid\":\"37\",\"field_order_in_book\":\"37\"},\"label\":\"Item\",\"type\":\"node\"},{\"node\":{\"nid\":\"42\",\"field_order_in_book\":\"42\"},\"label\":\"Item\",\"type\":\"node\"},{\"node\":{\"nid\":\"75\",\"field_order_in_book\":\"75\"},\"label\":\"Item\",\"type\":\"node\"},{\"node\":{\"nid\":\"80\",\"field_order_in_book\":\"80\"},\"label\":\"Item\",\"type\":\"node\"},{\"node\":{\"nid\":\"71\",\"field_order_in_book\":\"71\"},\"label\":\"Item\",\"type\":\"node\"},{\"node\":{\"nid\":\"83\",\"field_order_in_book\":\"83\"},\"label\":\"Item\",\"type\":\"node\"},{\"node\":{\"nid\":\"58\",\"field_order_in_book\":\"58\"},\"label\":\"Item\",\"type\":\"node\"},{\"node\":{\"nid\":\"105\",\"field_order_in_book\":\"105\"},\"label\":\"Item\",\"type\":\"node\"},{\"node\":{\"nid\":\"101\",\"field_order_in_book\":\"101\"},\"label\":\"Item\",\"type\":\"node\"},{\"node\":{\"nid\":\"89\",\"field_order_in_book\":\"89\"},\"label\":\"Item\",\"type\":\"node\"},{\"node\":{\"nid\":\"87\",\"field_order_in_book\":\"87\"},\"label\":\"Item\",\"type\":\"node\"},{\"node\":{\"nid\":\"86\",\"field_order_in_book\":\"86\"},\"label\":\"Item\",\"type\":\"node\"},{\"node\":{\"nid\":\"112\",\"field_order_in_book\":\"112\"},\"label\":\"Item\",\"type\":\"node\"},{\"node\":{\"nid\":\"109\",\"field_order_in_book\":\"109\"},\"label\":\"Item\",\"type\":\"node\"},{\"node\":{\"nid\":\"128\",\"field_order_in_book\":\"128\"},\"label\":\"Item\",\"type\":\"node\"},{\"node\":{\"nid\":\"129\",\"field_order_in_book\":\"129\"},\"label\":\"Item\",\"type\":\"node\"},{\"node\":{\"nid\":\"157\",\"field_order_in_book\":\"157\"},\"label\":\"Item\",\"type\":\"node\"},{\"node\":{\"nid\":\"84\",\"field_order_in_book\":\"84\"},\"label\":\"Item\",\"type\":\"node\"},{\"node\":{\"nid\":\"136\",\"field_order_in_book\":\"136\"},\"label\":\"Item\",\"type\":\"node\"},{\"node\":{\"nid\":\"146\",\"field_order_in_book\":\"146\"},\"label\":\"Item\",\"type\":\"node\"},{\"node\":{\"nid\":\"158\",\"field_order_in_book\":\"158\"},\"label\":\"Item\",\"type\":\"node\"},{\"node\":{\"nid\":\"91\",\"field_order_in_book\":\"91\"},\"label\":\"Item\",\"type\":\"node\"}]}'\n"
     ]
    }
   ],
   "source": [
    "import urllib.request\n",
    "f = urllib.request.urlopen(xmlrpcsettings.inbookurl)\n",
    "print(f.read())"
   ]
  },
  {
   "cell_type": "code",
   "execution_count": 14,
   "metadata": {
    "collapsed": false
   },
   "outputs": [
    {
     "data": {
      "text/plain": [
       "b''"
      ]
     },
     "execution_count": 14,
     "metadata": {},
     "output_type": "execute_result"
    }
   ],
   "source": [
    "open_url.read()"
   ]
  },
  {
   "cell_type": "markdown",
   "metadata": {
    "collapsed": false
   },
   "source": [
    "print inbook[0]['field_title_urdu']['und'][0]['value']#: {'und': [{'value'"
   ]
  },
  {
   "cell_type": "code",
   "execution_count": 70,
   "metadata": {
    "collapsed": false
   },
   "outputs": [],
   "source": [
    "def clean_trans(s):\n",
    "    s = s.replace('--',u'—')\n",
    "    s = s.replace(' -o- ','-o-')\n",
    "    s = s.replace('\\t','    ')# -o- ','-o-')\n",
    "    return u''+s\n",
    "\n",
    "def cap_trans(s):\n",
    "    if s[0]==u'ḥ':\n",
    "        s=u'Ḥ'+s[1:]\n",
    "    return u''+s\n"
   ]
  },
  {
   "cell_type": "code",
   "execution_count": null,
   "metadata": {
    "collapsed": true
   },
   "outputs": [],
   "source": []
  },
  {
   "cell_type": "code",
   "execution_count": 71,
   "metadata": {
    "collapsed": false,
    "scrolled": false
   },
   "outputs": [],
   "source": [
    "import datetime\n",
    "import os\n",
    "import codecs\n",
    "\n",
    "\n",
    "def generate_rst(n,poem_id,nodes): \n",
    "    '''\n",
    "    generates RestructuredText string from Drupal node\n",
    "    n = drupal node\n",
    "    poem_id = id in book, starting at 1\n",
    "    \n",
    "    Model:\n",
    "      \n",
    "    .. title: test post\n",
    "    .. slug: test-post\n",
    "    .. date: 2014-09-01 03:10:12 UTC\n",
    "    .. tags: \n",
    "    .. link: \n",
    "    .. description: \n",
    "    .. type: text\n",
    "\n",
    "    '''\n",
    "#    n=inbook[25]\n",
    "    def get_title_trans(n):\n",
    "        return u''+cap_trans(clean_trans(n['field_title_transliterated']['und'][0]['value']))\n",
    "    text_trans = clean_trans(n['field_text_transliterated']['und'][0]['value'])\n",
    "    \n",
    "    text_trans_lines = text_trans.split('\\n')\n",
    "    text_trans_lines = ['| '+s for s in text_trans_lines]\n",
    "    trans_title = get_title_trans(n)\n",
    "    text_transliterated_rst = '\\n'.join(text_trans_lines)\n",
    "    \n",
    "    admonition = \"\"\"\n",
    ".. admonition:: I Too Have Some Dreams: N. M. Rashed and Modernism in Urdu Poetry\n",
    "\n",
    "  A translation of this Urdu poem by N. M. Rashed as well as this transliteration appears in the\n",
    "  appendix of *I Too Have Some Dreams*. The transliteration is intended for\n",
    "  people who can understand Urdu/Hindi or related languages. I hope to soon \n",
    "  add performances of these poems as well. \n",
    "  \n",
    "  .. link_figure:: /itoohavesomedreams/\n",
    "        :title: I Too Have Some Dreams Resource Page\n",
    "        :class: link-figure\n",
    "        :image_url: /galleries/i2havesomedreams/i2havesomedreams-small.jpg\n",
    "        \n",
    "\"\"\"\n",
    "\n",
    "    utc_datetime = datetime.datetime.utcnow()\n",
    "    slug = 'itoohavesomedreams/poem_'+str(poem_id)    \n",
    "    time_string = utc_datetime.strftime(\"%Y-%m-%d %H:%M:%S\")+\" UTC\"\n",
    "    \n",
    "    rst_text = u'.. title: %s\\n'       % (u'§'+str(poem_id)+'. '+trans_title)\n",
    "    rst_text+= u'.. slug: %s\\n'        % slug\n",
    "    \n",
    "    rst_text+= u'.. date: %s\\n'        % time_string\n",
    "    rst_text+= u'.. tags: %s\\n'        % 'poem itoohavesomedreams rashid'\n",
    "    rst_text+= u'.. link: %s\\n'        % '' # what is this?\n",
    "    rst_text+= u'.. description: %s\\n' % ('transliterated version of \"'+trans_title+'\"')\n",
    "    rst_text+= u'.. type: text'+'\\n'\n",
    "    rst_text+= u'\\n'\n",
    "    rst_text+= u'\\n\\n'    \n",
    "    rst_text+= text_transliterated_rst\n",
    "    rst_text+= u'\\n\\n'\n",
    "    add_later=u''\n",
    "    if poem_id>1:\n",
    "        rst_text+=u'|left arrow link|_\\n'\n",
    "        next_poem = nodes[poem_id-2]\n",
    "        prev_title = get_title_trans(nodes[poem_id-2])\n",
    "        add_later+=u\"\\n.. |left arrow link| replace:: :emoji:`arrow_left` §{poem_id}. {poem_title} \".format(\n",
    "            poem_id=poem_id-1,\n",
    "            poem_title=prev_title#u''+get_title_trans(nodes[poem_id-2]) # could adjust -1 in def\n",
    "        )\n",
    "        add_later+='\\n.. _left arrow link: /itoohavesomedreams/poem_{poem_id}\\n'.format(poem_id=poem_id-1)\n",
    "    if poem_id<len(nodes):\n",
    "        rst_text+='\\n|right arrow link|_\\n'\n",
    "        add_later+=u\"\\n.. |right arrow link| replace::  §{poem_id}. {poem_title} :emoji:`arrow_right` \".format(\n",
    "            poem_id=poem_id+1,\n",
    "            poem_title=get_title_trans(nodes[poem_id])#prev_title#u''+get_title_trans(nodes[poem_id-2]) # could adjust -1 in def\n",
    "        )\n",
    "\n",
    "        add_later+='\\n.. _right arrow link: /itoohavesomedreams/poem_'+str(poem_id+1)+'\\n'\n",
    "    rst_text+='\\n\\n'+add_later+admonition;\n",
    "#    rst_text+= u'\\n\\n\\u2403\\n'#\\u2403\n",
    "#    print rst_text\n",
    "\n",
    "    assert os.path.isdir('../itoohavesomedreams')\n",
    "    filename_en = '../'+slug+'.rst'\n",
    "    with codecs.open(filename_en,'w','utf-8') as f: # physical location does not matter though for slug\n",
    "        f.write(rst_text)\n",
    "\n",
    "        \n",
    "def generate_ur_rst(n,poem_id,nodes): \n",
    "    '''\n",
    "    generates RestructuredText string from Drupal node\n",
    "    n = drupal node\n",
    "    poem_id = id in book, starting at 1\n",
    "    \n",
    "    Model:\n",
    "      \n",
    "    .. title: test post\n",
    "    .. slug: test-post\n",
    "    .. date: 2014-09-01 03:10:12 UTC\n",
    "    .. tags: \n",
    "    .. link: \n",
    "    .. description: \n",
    "    .. type: text\n",
    "\n",
    "    '''\n",
    "#    n=inbook[25]\n",
    "    def get_ur_title(n):\n",
    "        return n['field_title_urdu']['und'][0]['value']\n",
    "    text_ur =n['field_text_urdu']['und'][0]['value']\n",
    "    text_ur_lines = text_ur.split('\\n')\n",
    "    text_ur_lines = ['| '+s for s in text_ur_lines]\n",
    "    text_ur_rst = '\\n'.join(text_ur_lines)\n",
    "    trans_title = cap_trans(clean_trans(n['field_title_transliterated']['und'][0]['value']))    \n",
    "    ur_title = get_ur_title(n)#n['field_title_urdu']['und'][0]['value']\n",
    "    utc_datetime = datetime.datetime.utcnow()\n",
    "    slug = 'itoohavesomedreams/poem_'+str(poem_id)    \n",
    "    time_string = utc_datetime.strftime(\"%Y-%m-%d %H:%M:%S\")+\" UTC\"\n",
    "    \n",
    "    rst_text = u'.. title: %s\\n'       % (u'§'+str(poem_id)+u'ـ '+ur_title)\n",
    "    rst_text+= u'.. slug: %s\\n'        % slug\n",
    "    \n",
    "    rst_text+= u'.. date: %s\\n'        % time_string\n",
    "    rst_text+= u'.. tags: %s\\n'        % 'poem itoohavesomedreams rashid'\n",
    "    rst_text+= u'.. link: %s\\n'        % '' # what is this?\n",
    "    rst_text+= u'.. description: %s\\n' % ('Urdu version of \"'+trans_title+'\"')\n",
    "    rst_text+= u'.. type: text'+'\\n'\n",
    "    rst_text+= u'\\n'\n",
    "    rst_text+= u'\\n\\n'    \n",
    "    rst_text+= text_ur_rst+'\\n\\n'\n",
    "#    rst_text+= u'\\n\\n\\u2403\\n'#\\u2403\n",
    " #   print rst_text\n",
    "    add_later=u''\n",
    "    admonition=u\"\"\"\n",
    ".. admonition:: I Too Have Some Dreams: N. M. Rashed and Modernism in Urdu Poetry\n",
    "\n",
    "  یہ ن م راشد کی نظم ہے ـ اس کا انگریزی ترجمہ اور ٹرانزلٹریشن میری کتاب\n",
    "  کے ضمیمہ میں مل سکتا ہےـ اردو\n",
    "  پڑھنے والوں کے لئے یہ پیج پیش کیا گیا ہےـ نستعلیق میں\n",
    "  دکھانے کے لئے \n",
    "  `جمیل نوری نستعلیق فانٹ`_  انسٹال کیجئے.\n",
    "\n",
    "\n",
    "  .. link_figure:: /itoohavesomedreams/\n",
    "        :title: I Too Have Some Dreams Resource Page\n",
    "        :class: link-figure\n",
    "        :image_url: /galleries/i2havesomedreams/i2havesomedreams-small.jpg\n",
    "        \n",
    ".. _جمیل نوری نستعلیق فانٹ: http://ur.lmgtfy.com/?q=Jameel+Noori+nastaleeq\n",
    " \n",
    "\n",
    "\"\"\"\n",
    "    if poem_id>1:\n",
    "      rst_text+=u'\\n|right arrow link|_\\n'\n",
    "      next_poem = nodes[poem_id-2]\n",
    "      prev_title = get_ur_title(nodes[poem_id-2])\n",
    "      add_later+=u\"\\n.. |right arrow link| replace:: :emoji:`arrow_right` §{poem_id}. {poem_title}  \".format(\n",
    "          poem_id=poem_id-1,\n",
    "          poem_title=prev_title#u''+get_title_trans(nodes[poem_id-2]) # could adjust -1 in def\n",
    "      )\n",
    "      add_later+=u'\\n.. _right arrow link: /ur/itoohavesomedreams/poem_{poem_id}\\n'.format(poem_id=poem_id-1)\n",
    "    if poem_id<len(nodes):\n",
    "      rst_text+=u'\\n|left arrow link|_\\n'\n",
    "      add_later+=u\"\\n.. |left arrow link| replace::   §{poem_id}. {poem_title} :emoji:`arrow_left` \".format(\n",
    "          poem_id=poem_id+1,\n",
    "          poem_title=get_ur_title(nodes[poem_id])#prev_title#u''+get_title_trans(nodes[poem_id-2]) # could adjust -1 in def\n",
    "      )\n",
    "      add_later+=u'\\n.. _left arrow link: /ur/itoohavesomedreams/poem_'+str(poem_id+1)+'\\n'\n",
    "  \n",
    "    rst_text+='\\n\\n'+add_later+admonition;\n",
    "    \n",
    "        \n",
    "    assert os.path.isdir('../itoohavesomedreams')\n",
    "    filename_en = '../'+slug+'.ur'+'.rst' # format is : title.languageid.rst\n",
    "    \n",
    "    with codecs.open(filename_en,'w','utf-8') as f: # physical location does not matter though for slug\n",
    "        f.write(rst_text)\n",
    "        \n",
    "         \n",
    "    \n",
    "import sys\n",
    "sys.path.append('./graphparser')\n",
    "import graphparser as gp\n",
    "\n",
    "reload(gp)\n",
    "\n",
    "dp = gp.GraphParser('graphparser/settings/devanagari.yaml')\n",
    "\n"
   ]
  },
  {
   "cell_type": "code",
   "execution_count": 72,
   "metadata": {
    "collapsed": false
   },
   "outputs": [],
   "source": [
    "def index_link(n,n_id):\n",
    "    trans_title = cap_trans(clean_trans(n['field_title_transliterated']['und'][0]['value']))\n",
    "    print u'  `§'+str(n_id)+u'. '+trans_title+u' <poem_'+str(n_id)+u'/>'+'`_'+'\\n'\n",
    "\n"
   ]
  },
  {
   "cell_type": "code",
   "execution_count": 73,
   "metadata": {
    "collapsed": false
   },
   "outputs": [
    {
     "data": {
      "text/plain": [
       "u'\\u090f\\u0915 \\u0926\\u093f\\u0928\\u2014'"
      ]
     },
     "execution_count": 73,
     "metadata": {},
     "output_type": "execute_result"
    }
   ],
   "source": [
    "dp.parse('ek din--').output#--laarins baa;g me;n').output"
   ]
  },
  {
   "cell_type": "code",
   "execution_count": 74,
   "metadata": {
    "collapsed": false,
    "scrolled": false
   },
   "outputs": [],
   "source": [
    "def clean_hi_trans(s):\n",
    "#    s = s.replace('--',u'—')\n",
    "    s = s.replace(' -o- ','-o-')\n",
    "    s = s.replace('\\t','    ')# -o- ','-o-')\n",
    "    s = s.replace('^','')\n",
    "#    s= s.replace('-e ','-e-')\n",
    "    return u''+s\n",
    "\n",
    "\n",
    "def get_hi_title(n):\n",
    "        t = n['field_title_markup']['und'][0]['value']\n",
    "        t = t.lower()\n",
    "        print dp.parse(t).output\n",
    "        return t\n",
    "def get_hi_text(n):\n",
    "    t = n['body']['und'][0]['value']\n",
    "    t = t.lower()\n",
    "    lines = t.split('\\n')\n",
    "    hi_lines = [dp.parse(clean_hi_trans(l)).output for l in lines]\n",
    "    hi_lines = ['| '+s for s in hi_lines]\n",
    "    out = '\\n'.join(hi_lines)\n",
    "#    out = ['| '+s for s in out]\n",
    "    return out\n",
    "    \n",
    "\n",
    "import sys\n",
    "sys.path.append('./graphparser')\n",
    "import graphparser as gp\n",
    "dp = gp.GraphParser('graphparser/settings/devanagari.yaml')\n",
    "\n",
    "def generate_hi_rst(n,poem_id,nodes): \n",
    "    '''\n",
    "    generates RestructuredText string from Drupal node\n",
    "    n = drupal node\n",
    "    poem_id = id in book, starting at 1\n",
    "    \n",
    "    Model:\n",
    "      \n",
    "    .. title: test post\n",
    "    .. slug: test-post\n",
    "    .. date: 2014-09-01 03:10:12 UTC\n",
    "    .. tags: \n",
    "    .. link: \n",
    "    .. description: \n",
    "    .. type: text\n",
    "\n",
    "    '''\n",
    "#    n=inbook[25]\n",
    "    def get_ur_title(n):\n",
    "        return n['field_title_urdu']['und'][0]['value']\n",
    "    \n",
    "    def get_hi_title(n):\n",
    "        t = n['field_title_markup']['und'][0]['value']\n",
    "        t = t.lower()\n",
    "        return dp.parse(t).output\n",
    "        \n",
    "    \n",
    "#  #  text_hi =n['field_text_urdu']['und'][0]['value']\n",
    "#   text_ur_lines = text_ur.split('\\n')\n",
    "#   text_ur_lines = ['| '+s for s in text_ur_lines]\n",
    "    text_ur_rst = get_hi_text(n)\n",
    "    \n",
    "    trans_title = cap_trans(clean_trans(n['field_title_transliterated']['und'][0]['value']))    \n",
    "    ur_title = get_hi_title(n)#n['field_title_urdu']['und'][0]['value']\n",
    "    utc_datetime = datetime.datetime.utcnow()\n",
    "    slug = 'itoohavesomedreams/poem_'+str(poem_id)    \n",
    "    time_string = utc_datetime.strftime(\"%Y-%m-%d %H:%M:%S\")+\" UTC\"\n",
    "    \n",
    "    rst_text = u'.. title: %s\\n'       % (u'§'+str(poem_id)+u'ـ '+ur_title)\n",
    "    rst_text+= u'.. slug: %s\\n'        % slug\n",
    "    \n",
    "    rst_text+= u'.. date: %s\\n'        % time_string\n",
    "    rst_text+= u'.. tags: %s\\n'        % 'poem itoohavesomedreams rashid'\n",
    "    rst_text+= u'.. link: %s\\n'        % '' # what is this?\n",
    "    rst_text+= u'.. description: %s\\n' % ('Devanagari version of \"'+trans_title+'\"')\n",
    "    rst_text+= u'.. type: text'+'\\n'\n",
    "    rst_text+= u'\\n'\n",
    "    rst_text+= u'\\n\\n'    \n",
    "    rst_text+= text_ur_rst+'\\n\\n'\n",
    "#    rst_text+= u'\\n\\n\\u2403\\n'#\\u2403\n",
    " #   print rst_text\n",
    "    add_later=u''\n",
    "    admonition=u\"\"\"\n",
    ".. admonition:: I Too Have Some Dreams: N. M. Rashed and Modernism in Urdu Poetry\n",
    "\n",
    "\n",
    "  .. link_figure:: /itoohavesomedreams/\n",
    "        :title: I Too Have Some Dreams Resource Page\n",
    "        :class: link-figure\n",
    "        :image_url: /galleries/i2havesomedreams/i2havesomedreams-small.jpg\n",
    "        \n",
    ".. _جمیل نوری نستعلیق فانٹ: http://ur.lmgtfy.com/?q=Jameel+Noori+nastaleeq\n",
    " \n",
    "\n",
    "\"\"\" \n",
    "    if poem_id>1:\n",
    "        rst_text+=u'|left arrow link|_\\n'\n",
    "        next_poem = nodes[poem_id-2]\n",
    "        prev_title = get_hi_title(nodes[poem_id-2])\n",
    "        add_later+=u\"\\n.. |left arrow link| replace:: :emoji:`arrow_left` §{poem_id}. {poem_title} \".format(\n",
    "            poem_id=poem_id-1,\n",
    "            poem_title=prev_title#u''+get_title_trans(nodes[poem_id-2]) # could adjust -1 in def\n",
    "        )\n",
    "        add_later+='\\n.. _left arrow link: /hi/itoohavesomedreams/poem_{poem_id}\\n'.format(poem_id=poem_id-1)\n",
    "    if poem_id<len(nodes):\n",
    "        rst_text+='\\n|right arrow link|_\\n'\n",
    "        add_later+=u\"\\n.. |right arrow link| replace::  §{poem_id}. {poem_title} :emoji:`arrow_right` \".format(\n",
    "            poem_id=poem_id+1,\n",
    "            poem_title=get_hi_title(nodes[poem_id])#prev_title#u''+get_title_trans(nodes[poem_id-2]) # could adjust -1 in def\n",
    "        )\n",
    "\n",
    "        add_later+='\\n.. _right arrow link: /hi/itoohavesomedreams/poem_'+str(poem_id+1)+'\\n'\n",
    "    rst_text+='\\n\\n'+add_later+admonition;\n",
    "# \n",
    "#    print rst_text\n",
    "    assert os.path.isdir('../itoohavesomedreams')\n",
    "    filename_en = '../'+slug+'.hi'+'.rst' # format is : title.languageid.rst\n",
    "    \n",
    "    with codecs.open(filename_en,'w','utf-8') as f: # physical location does not matter though for slug\n",
    "        f.write(rst_text)\n",
    "        "
   ]
  },
  {
   "cell_type": "code",
   "execution_count": 82,
   "metadata": {
    "collapsed": false
   },
   "outputs": [
    {
     "name": "stdout",
     "output_type": "stream",
     "text": [
      "255\n"
     ]
    }
   ],
   "source": [
    "print 0xFF"
   ]
  },
  {
   "cell_type": "code",
   "execution_count": 86,
   "metadata": {
    "collapsed": false
   },
   "outputs": [
    {
     "name": "stdout",
     "output_type": "stream",
     "text": [
      "ਹੈ\n"
     ]
    }
   ],
   "source": [
    "def punjabify_hi(x):\n",
    "    out=u''\n",
    "    for c in x:\n",
    "        if ord(c) in range(0x900, 0x97F):\n",
    "            out+= unichr(ord(c) + 0xA00 - 0X900)  \n",
    "        else:\n",
    "            out += c\n",
    "    return out\n",
    "\n",
    "print punjabify_hi(u'है')"
   ]
  },
  {
   "cell_type": "code",
   "execution_count": 105,
   "metadata": {
    "collapsed": true
   },
   "outputs": [],
   "source": [
    "punjabify_hi(x)\n",
    "def generate_pa_rst(n,poem_id): \n",
    "    slug = 'itoohavesomedreams/poem_'+str(poem_id) \n",
    "\n",
    "    filename_hi = '../'+slug+'.hi'+'.rst' # format is : title.languageid.rst\n",
    "    with codecs.open(filename_hi,'r','utf-8') as f: # physical location does not matter though for slug\n",
    "        text=f.read()\n",
    "        \n",
    "    new_text=punjabify_hi(x)\n",
    "    filename_pa = '../'+slug+'.pa'+'.rst'\n",
    "    with codecs.open(filename_pa,'w','utf-8') as f: # physical location does not matter though for slug\n",
    "        f.write(new_text)\n"
   ]
  },
  {
   "cell_type": "code",
   "execution_count": 106,
   "metadata": {
    "collapsed": false
   },
   "outputs": [
    {
     "name": "stdout",
     "output_type": "stream",
     "text": [
      "अपना अपने अपनी आपका आपके आपकी\n"
     ]
    }
   ],
   "source": [
    "\n",
    "import sys\n",
    "sys.path.append('./graphparser')\n",
    "import graphparser as gp\n",
    "reload(gp)\n",
    "dp = gp.GraphParser('graphparser/settings/devanagari.yaml')\n",
    "\n",
    "\n",
    "\n",
    "#print dp.parse('dunyaa-e rang').output\n",
    "print dp.parse('apnaa apne apnii aapkaa aapke aapkii').output"
   ]
  },
  {
   "cell_type": "code",
   "execution_count": 107,
   "metadata": {
    "collapsed": false
   },
   "outputs": [],
   "source": [
    "\n",
    "import sys\n",
    "sys.path.append('./graphparser')\n",
    "import graphparser as gp\n",
    "dp = gp.GraphParser('graphparser/settings/devanagari.yaml')\n",
    "\n",
    "for n_id, n in enumerate(inbook):\n",
    "    if n_id ==0:\n",
    "        \n",
    "        generate_hi_rst(n,n_id+1,inbook)\n",
    "        generate_pa_rst(n,n_id+1)"
   ]
  },
  {
   "cell_type": "code",
   "execution_count": 77,
   "metadata": {
    "collapsed": false
   },
   "outputs": [
    {
     "name": "stdout",
     "output_type": "stream",
     "text": [
      "आदमियों रह रह-ए रह\n"
     ]
    }
   ],
   "source": [
    "\n",
    "import sys\n",
    "sys.path.append('./graphparser')\n",
    "import graphparser as gp\n",
    "reload(gp)\n",
    "dp = gp.GraphParser('graphparser/settings/devanagari.yaml')\n",
    "\n",
    "print dp.parse('aadmiyo;n rah rah-e rah').output"
   ]
  },
  {
   "cell_type": "code",
   "execution_count": 78,
   "metadata": {
    "collapsed": false
   },
   "outputs": [
    {
     "name": "stdout",
     "output_type": "stream",
     "text": [
      " आशिक़\n"
     ]
    }
   ],
   "source": [
    "print dp.parse(' aashiq').output"
   ]
  },
  {
   "cell_type": "code",
   "execution_count": 79,
   "metadata": {
    "collapsed": false
   },
   "outputs": [
    {
     "data": {
      "text/plain": [
       "[((['ain'], ['consonant']), ''),\n",
       " ((['short_vowel', 'ain'], ['consonant']), ''),\n",
       " ((['z_consonant'], ['z_consonant']), u'\\u094d'),\n",
       " ((['f'], ['z_consonant']), u'\\u094d'),\n",
       " ((['j'], ['letter_break', 'h']), u'\\u094d'),\n",
       " ((['m'], ['h_char']), u'\\u094d'),\n",
       " ((['n'], ['consonant']), ''),\n",
       " ((['p'], ['n', 'aa_e_ii']), ''),\n",
       " ((['q'], ['sh']), u'\\u094d'),\n",
       " ((['p'], ['k']), ''),\n",
       " ((['s'], ['r']), ''),\n",
       " ((['sh'], ['r']), ''),\n",
       " ((['k'], ['kh']), u'\\u094d'),\n",
       " ((['l'], ['l']), u'\\u094d'),\n",
       " ((['r'], ['r']), u'\\u094d'),\n",
       " ((['r'], ['d']), u'\\u094d'),\n",
       " ((['r'], ['z_consonant']), u'\\u094d'),\n",
       " (([';x'], ['m']), u'\\u094d'),\n",
       " (([';x'], ['t']), u'\\u094d'),\n",
       " ((['l'], ['h']), u'\\u094d'),\n",
       " ((['v'], ['v']), u'\\u094d'),\n",
       " ((['s'], ['m']), u'\\u094d'),\n",
       " ((['r'], ['m']), u'\\u094d'),\n",
       " ((['s_consonant'], ['v']), u'\\u094d'),\n",
       " (([';t'], [';th']), u'\\u094d'),\n",
       " ((['d'], ['d']), u'\\u094d\\u094d'),\n",
       " ((['consonant', 'vowel', 's'], ['t', 'long_vowel']), u'\\u094d'),\n",
       " ((['short_vowel', ';x'], ['t', 'wb']), u'\\u094d'),\n",
       " ((['consonant', 'long_vowel', 'consonant'], ['consonant', 'long_vowel']), ''),\n",
       " ((['consonant', 'vowel', 'vowel_nasal', 'consonant'],\n",
       "   ['consonant', 'long_vowel']),\n",
       "  ''),\n",
       " ((['consonant', 'short_vowel', 'h_char'], ['consonant']), ''),\n",
       " ((['wb', 'consonant', 'short_vowel', 'consonant'],\n",
       "   ['consonant', 'long_vowel', 'vowel_nasal']),\n",
       "  u'\\u094d'),\n",
       " ((['wb', 'short_vowel', 'consonant'], ['consonant', 'short_vowel']), ''),\n",
       " ((['wb', 'short_vowel', 'consonant'],\n",
       "   ['consonant', 'long_vowel', 'consonant']),\n",
       "  ''),\n",
       " ((['wb', 'consonant', 'short_vowel', 'sibilant'],\n",
       "   ['consonant', 'long_vowel']),\n",
       "  u'\\u094d'),\n",
       " ((['consonant', 'short_vowel', 'consonant'], ['consonant', 'long_vowel']),\n",
       "  ''),\n",
       " ((['wb', 'vowel', 'consonant'], ['consonant', 'vowel']), ''),\n",
       " ((['wb', 'consonant', 'short_vowel', 'z_consonant'],\n",
       "   ['z_consonant', 'short_vowel', 'consonant']),\n",
       "  ''),\n",
       " ((['wb', 'consonant', 'short_vowel', 'consonant'],\n",
       "   ['consonant', 'short_vowel', 'consonant']),\n",
       "  ''),\n",
       " ((['wb', 'long_vowel', 'consonant'], ['consonant', 'long_vowel']), ''),\n",
       " ((['k'], ['k_group']), u'\\u094d'),\n",
       " ((['ch'], ['ch_group']), u'\\u094d'),\n",
       " ((['wb', 'consonant', 'long_vowel', 'consonant'],\n",
       "   ['consonant', 'long_vowel']),\n",
       "  ''),\n",
       " ((['wb', 'consonant', 'long_vowel', 'consonant'],\n",
       "   ['consonant', 'short_vowel', 'consonant']),\n",
       "  ''),\n",
       " ((['wb', 'consonant', 'short_vowel', 'sibilant'], ['consonant', 'wb']),\n",
       "  u'\\u094d'),\n",
       " ((['wb', 'consonant', 'short_vowel', 'consonant'], ['consonant', 'wb']), ''),\n",
       " ((['wb', 'short_vowel', 'consonant'], ['consonant', 'long_vowel', 'wb']), ''),\n",
       " ((['wb', 'short_vowel', 'consonant'],\n",
       "   ['consonant', 'long_vowel', 'consonant', 'wb']),\n",
       "  ''),\n",
       " ((['wb', 'short_vowel', 'consonant', 'short_vowel', 'consonant'],\n",
       "   ['consonant', 'short_vowel', 'consonant']),\n",
       "  ''),\n",
       " ((['vowel', 'n'], ['consonant']), ''),\n",
       " ((['consonant'], ['n', 'aa', 'wb']), ''),\n",
       " ((['consonant'], ['n', 'e', 'wb']), ''),\n",
       " ((['consonant'], ['t', 'aa', 'wb']), ''),\n",
       " ((['consonant'], ['t', 'e', 'wb']), ''),\n",
       " ((['consonant'], ['t', 'ii', 'wb']), ''),\n",
       " ((['consonant'], ['ain', 'short_vowel_a', 'wb']), ''),\n",
       " ((['wb', 'consonant', 'short_vowel'], ['consonant', 'long_vowel']), ''),\n",
       " ((['wb', 'consonant', 'short_vowel', 'consonant'],\n",
       "   ['consonant', 'long_vowel']),\n",
       "  ''),\n",
       " ((['consonant'], ['consonant']), u'\\u094d')]"
      ]
     },
     "execution_count": 79,
     "metadata": {},
     "output_type": "execute_result"
    }
   ],
   "source": [
    "dp.onmatch_rules"
   ]
  },
  {
   "cell_type": "code",
   "execution_count": 108,
   "metadata": {
    "collapsed": false
   },
   "outputs": [
    {
     "name": "stdout",
     "output_type": "stream",
     "text": [
      "  `§1. Bādal (sāneṭ) <poem_1/>`_\n",
      "\n",
      "  `§2. Ek din—lārins bāġh meñ (ek kaifiyat) <poem_2/>`_\n",
      "\n",
      "  `§3. Sitāre (sāneṭ) <poem_3/>`_\n",
      "\n",
      "  `§4. Vādī-e pinhāñ <poem_4/>`_\n",
      "\n",
      "  `§5. Gunāh aur muḥabbat <poem_5/>`_\n",
      "\n",
      "  `§6. Mukāfāt <poem_6/>`_\n",
      "\n",
      "  `§7. Ḥuzn-e insān (aflāt̤ūnī ʿishq par ek t̤anz) <poem_7/>`_\n",
      "\n",
      "  `§8. Ittifāqāt <poem_8/>`_\n",
      "\n",
      "  `§9. Shāʿir-e dar-māñdah <poem_9/>`_\n",
      "\n",
      "  `§10. Intiqām <poem_10/>`_\n",
      "\n",
      "  `§11. Hamah ūst <poem_11/>`_\n",
      "\n",
      "  `§12. Tel ke saudāgar <poem_12/>`_\n",
      "\n",
      "  `§13. Mann-o-salvâ <poem_13/>`_\n",
      "\n",
      "  `§14. Tamāshāgah-e lālah-zār <poem_14/>`_\n",
      "\n",
      "  `§15. Namrūd kī ḳhudāʾī <poem_15/>`_\n",
      "\n",
      "  `§16. Vuh ḥarf-e tanhā (jise tamannā-e vaṣl-e maʿnā) <poem_16/>`_\n",
      "\n",
      "  `§17. Zindagī se ḍarte ho? <poem_17/>`_\n",
      "\n",
      "  `§18. Dil, mire ṣaḥrā-navard-e pīr dil <poem_18/>`_\n",
      "\n",
      "  `§19. Ek aur shahr <poem_19/>`_\n",
      "\n",
      "  `§20. Reg-e dīrūz <poem_20/>`_\n",
      "\n",
      "  `§21. Zamānah ḳhudā hai <poem_21/>`_\n",
      "\n",
      "  `§22. Afsānah-e shahr <poem_22/>`_\n",
      "\n",
      "  `§23. Yih ḳhalā pur nah huʾā <poem_23/>`_\n",
      "\n",
      "  `§24. T̤alab ke tale <poem_24/>`_\n",
      "\n",
      "  `§25. Gumāñ kā mumkin—jo tū hai maiñ hūñ! <poem_25/>`_\n",
      "\n",
      "  `§26. Ḥasan kūzah-gar <poem_26/>`_\n",
      "\n",
      "  `§27. Ḥasan kūzah-gar 2 <poem_27/>`_\n",
      "\n",
      "  `§28. Ḥasan kūzah-gar 3 <poem_28/>`_\n",
      "\n",
      "  `§29. Ḥasan kūzah-gar 4 <poem_29/>`_\n",
      "\n",
      "  `§30. Mere bhī haiñ kuchh ḳhvāb <poem_30/>`_\n",
      "\n"
     ]
    }
   ],
   "source": [
    "\n",
    "\n",
    "for n_id, n in enumerate(inbook):\n",
    "    generate_rst(n,n_id+1,inbook)\n",
    "    generate_ur_rst(n,n_id+1,inbook)\n",
    "    generate_hi_rst(n,n_id+1,inbook)#,inbook)\n",
    "    generate_pa_rst(n,n_id+1)#,inbook)\n",
    "    index_link(n,n_id+1)\n",
    "    "
   ]
  },
  {
   "cell_type": "code",
   "execution_count": null,
   "metadata": {
    "collapsed": true
   },
   "outputs": [],
   "source": []
  }
 ],
 "metadata": {
  "kernelspec": {
   "display_name": "Python 3",
   "language": "python",
   "name": "python3"
  },
  "language_info": {
   "codemirror_mode": {
    "name": "ipython",
    "version": 3
   },
   "file_extension": ".py",
   "mimetype": "text/x-python",
   "name": "python",
   "nbconvert_exporter": "python",
   "pygments_lexer": "ipython3",
   "version": "3.5.1"
  }
 },
 "nbformat": 4,
 "nbformat_minor": 0
}
