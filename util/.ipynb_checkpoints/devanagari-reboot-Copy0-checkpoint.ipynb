{
 "metadata": {
  "name": "",
  "signature": "sha256:aa80dfdee098d2f5ad1e5d61e72356ece50ae15d12fab3b0f0c7d4e4e5d0ac60"
 },
 "nbformat": 3,
 "nbformat_minor": 0,
 "worksheets": [
  {
   "cells": [
    {
     "cell_type": "code",
     "collapsed": false,
     "input": [],
     "language": "python",
     "metadata": {},
     "outputs": []
    },
    {
     "cell_type": "code",
     "collapsed": false,
     "input": [
      "# -*- coding: utf-8 -*-\n",
      "# <nbformat>3.0</nbformat>\n",
      "\n",
      "# <codecell>\n",
      "\n",
      "# This fetches the current poems from a private Drupal site accessed via xmlrpc\n",
      "\n",
      "import xmlrpcsettings # this holds a few private settings\n",
      "import xmlrpclib\n",
      "import re\n",
      "import json\n",
      "import urllib\n",
      "import codecs\n",
      "\n",
      "assert xmlrpcsettings.ursite\n",
      "assert xmlrpcsettings.inbookurl\n",
      "\n",
      "proxy = xmlrpclib.Server(xmlrpcsettings.ursite)\n",
      "\n",
      "open_url = urllib.urlopen(xmlrpcsettings.inbookurl)\n",
      "nds=json.load(open_url)\n",
      "items = nds['Items']\n",
      "inbook = []\n",
      "for i in items:\n",
      "    inbook.append( proxy.node.retrieve(i['node']['nid']) )\n",
      "assert len(inbook)==30\n",
      "\n",
      "# <codecell>\n",
      "\n",
      "import myparser\n",
      "\n",
      "# <codecell>\n",
      "\n",
      "def get_trans(n):\n",
      "    return n['body']['und'][0]['value']\n",
      "\n",
      "def clean_trans(x):\n",
      "\n",
      "    x=x.replace(' -o- ','-o-') # join these for now to better extract izafats\n",
      "    x=x.replace('!','')\n",
      "    x=x.replace('^','')\n",
      "    x=x.replace(',',' ')\n",
      "    x=x.replace('?',' ')\n",
      "    x=x.replace('--',' ')\n",
      "    x=x.replace('\\t',' ')\n",
      "    x=x.replace('\"',' ')\n",
      "    x=re.sub('\\s+',' ',x)\n",
      "\n",
      "    x=re.sub(\"^\\s+\",'',x)\n",
      "    x=re.sub(\"\\s+$\",'',x)\n",
      "#    x=x.replace('_','-')\n",
      "    return x\n",
      "def get_lines(x):\n",
      "    return x.split('\\n') # may need to account for extra empty lines at end\n",
      "\n",
      "# <codecell>\n"
     ],
     "language": "python",
     "metadata": {},
     "outputs": [],
     "prompt_number": 1
    },
    {
     "cell_type": "code",
     "collapsed": false,
     "input": [
      "devanagari = myparser.Parser('devanagari.yaml')"
     ],
     "language": "python",
     "metadata": {},
     "outputs": []
    },
    {
     "cell_type": "code",
     "collapsed": false,
     "input": [
      "i=1\n",
      "\n",
      "def load_rekhta_file(i):\n",
      "    fn = './from_rekhta/'+str(i).zfill(2)+'-dev.txt'\n",
      "    \n",
      "    with codecs.open(fn,'r','utf-8') as f:\n",
      "        f_in = f.read()\n",
      "    return f_in\n",
      "rf = load_rekhta_file(i)\n",
      "rf"
     ],
     "language": "python",
     "metadata": {},
     "outputs": [
      {
       "metadata": {},
       "output_type": "pyout",
       "prompt_number": 24,
       "text": [
        "u'\\u092c\\u0948\\u0920\\u093e \\u0939\\u0941\\u0906 \\u0939\\u0942\\u0901 \\u0938\\u0941\\u092c\\u094d\\u0939 \\u0938\\u0947 \\u0932\\u0949\\u0930\\u0947\\u0902\\u0938-\\u092c\\u093e\\u0917\\u093c \\u092e\\u0947\\u0902\\n\\u0905\\u092b\\u093c\\u094d\\u0915\\u093e\\u0930 \\u0915\\u093e \\u0939\\u0941\\u091c\\u0942\\u092e \\u0939\\u0948 \\u092e\\u0947\\u0930\\u0947 \\u0926\\u093f\\u092e\\u093e\\u0917\\u093c \\u092e\\u0947\\u0902\\n\\u091b\\u093e\\u092f\\u093e \\u0939\\u0941\\u0906 \\u0939\\u0948 \\u091a\\u093e\\u0930 \\u0924\\u0930\\u092b\\u093c \\u092c\\u093e\\u0917\\u093c \\u092e\\u0947\\u0902 \\u0938\\u0941\\u0915\\u0942\\u0924\\n\\u0924\\u0928\\u094d\\u0939\\u093e\\u0907\\u092f\\u094b\\u0902 \\u0915\\u0940 \\u0917\\u094b\\u0926 \\u092e\\u0947\\u0902 \\u0932\\u0947\\u091f\\u093e \\u0939\\u0941\\u0906 \\u0939\\u0942\\u0901 \\u092e\\u0948\\u0902\\n\\u0905\\u0936\\u094d\\u091c\\u093e\\u0930 \\u092c\\u093e\\u0930 \\u092c\\u093e\\u0930 \\u0921\\u0930\\u093e\\u0924\\u0947 \\u0939\\u0948\\u0902 \\u092c\\u0928 \\u0915\\u0947 \\u092d\\u0942\\u0924\\n\\u091c\\u092c \\u0926\\u0947\\u0916\\u0924\\u093e \\u0939\\u0942\\u0901 \\u0909\\u0928 \\u0915\\u0940 \\u0924\\u0930\\u092b\\u093c \\u0915\\u093e\\u0901\\u092a\\u0924\\u093e \\u0939\\u0942\\u0901 \\u092e\\u0948\\u0902\\n\\u092c\\u0948\\u0920\\u093e \\u0939\\u0941\\u0906 \\u0939\\u0942\\u0901 \\u0938\\u0941\\u092c\\u094d\\u0939 \\u0938\\u0947 \\u0932\\u0949\\u0930\\u0947\\u0902\\u0938-\\u092c\\u093e\\u0917\\u093c \\u092e\\u0947\\u0902\\n\\n\\u0932\\u0949\\u0930\\u0947\\u0902\\u0938-\\u092c\\u093e\\u0917\\u093c \\u0915\\u0948\\u092b\\u093c \\u0913 \\u0932\\u0924\\u093e\\u092b\\u093c\\u0924 \\u0915\\u0947 \\u0916\\u093c\\u0941\\u0932\\u094d\\u0926-\\u091c\\u093c\\u093e\\u0930\\n\\u0935\\u094b \\u092e\\u094c\\u0938\\u092e-\\u090f-\\u0928\\u0936\\u093e\\u0924 \\u0935\\u094b \\u0905\\u092f\\u094d\\u092f\\u093e\\u092e-\\u090f-\\u0928\\u094c-\\u092c\\u0939\\u093e\\u0930\\n\\u092d\\u0942\\u0932\\u0947 \\u0939\\u0941\\u090f \\u092e\\u0928\\u093e\\u091c\\u093c\\u093f\\u0930-\\u090f-\\u0930\\u0902\\u0917\\u0940\\u0902 \\u092c\\u0939\\u093e\\u0930 \\u0915\\u0947\\n\\u0905\\u092b\\u093c\\u094d\\u0915\\u093e\\u0930 \\u092c\\u0928 \\u0915\\u0947 \\u0930\\u0942\\u0939 \\u092e\\u0947\\u0902 \\u092e\\u0947\\u0930\\u0940 \\u0909\\u0924\\u0930 \\u0917\\u090f\\n\\u0935\\u094b \\u092e\\u0938\\u094d\\u0924 \\u0917\\u0940\\u0924 \\u092e\\u094c\\u0938\\u092e-\\u090f-\\u0907\\u0936\\u0930\\u0924-\\u095e\\u093f\\u0936\\u093e\\u0930 \\u0915\\u0947\\n\\u0917\\u0939\\u0930\\u093e\\u0907\\u092f\\u094b\\u0902 \\u0915\\u094b \\u0926\\u093f\\u0932 \\u0915\\u0940 \\u0917\\u093c\\u092e \\u0906\\u092c\\u093e\\u0926 \\u0915\\u0930 \\u0917\\u090f\\n\\u0932\\u0949\\u0930\\u0947\\u0902\\u0938-\\u092c\\u093e\\u0917\\u093c \\u0915\\u0948\\u092b\\u093c \\u0913 \\u0932\\u0924\\u093e\\u092b\\u093c\\u0924 \\u0915\\u0947 \\u0916\\u093c\\u0941\\u0932\\u094d\\u0926-\\u091c\\u093c\\u093e\\u0930\\n\\n\\u0939\\u0948 \\u0906\\u0938\\u092e\\u093e\\u0901 \\u092a\\u0947 \\u0915\\u093e\\u0932\\u0940 \\u0918\\u091f\\u093e\\u0913\\u0902 \\u0915\\u093e \\u0907\\u091c\\u093c\\u094d\\u0926\\u093f\\u0939\\u093e\\u092e\\n\\u0939\\u094b\\u0928\\u0947 \\u0932\\u0917\\u0940 \\u0939\\u0948 \\u0935\\u0915\\u093c\\u094d\\u0924 \\u0938\\u0947 \\u092a\\u0939\\u0932\\u0947 \\u0939\\u0940 \\u0906\\u091c \\u0936\\u093e\\u092e\\n\\u0926\\u0941\\u0928\\u093f\\u092f\\u093e \\u0915\\u0940 \\u0906\\u0901\\u0916 \\u0928\\u0940\\u0902\\u0926 \\u0938\\u0947 \\u091c\\u093f\\u0938 \\u0935\\u0915\\u093c\\u094d\\u0924 \\u091d\\u0941\\u0915 \\u0917\\u0908\\n\\u091c\\u092c \\u0915\\u093e\\u090f\\u0928\\u093e\\u0924 \\u0916\\u094b \\u0917\\u0908 \\u0905\\u0938\\u0930\\u093e\\u0930-\\u090f-\\u0916\\u093c\\u094d\\u0935\\u093e\\u092c \\u092e\\u0947\\u0902\\n\\u0938\\u0940\\u0928\\u0947 \\u092e\\u0947\\u0902 \\u091c\\u0942-\\u090f-\\u0905\\u0936\\u094d\\u0915 \\u0939\\u0948 \\u092e\\u0947\\u0930\\u0947 \\u0930\\u0941\\u0915\\u0940 \\u0939\\u0941\\u0908\\n\\u091c\\u093e \\u0915\\u0930 \\u0909\\u0938\\u0947 \\u092c\\u0939\\u093e\\u090a\\u0901\\u0917\\u093e \\u0915\\u0941\\u0902\\u091c-\\u090f-\\u0917\\u0941\\u0932\\u093e\\u092c \\u092e\\u0947\\u0902\\n\\u0939\\u0948 \\u0906\\u0938\\u092e\\u093e\\u0901 \\u092a\\u0947 \\u0915\\u093e\\u0932\\u0940 \\u0918\\u091f\\u093e\\u0913\\u0902 \\u0915\\u093e \\u0907\\u091c\\u093c\\u094d\\u0926\\u093f\\u0939\\u093e\\u092e\\n\\u0905\\u092b\\u093c\\u094d\\u0915\\u093e\\u0930 \\u0915\\u093e \\u0939\\u0941\\u091c\\u0942\\u092e \\u0939\\u0948 \\u092e\\u0947\\u0930\\u0947 \\u0926\\u093f\\u092e\\u093e\\u0917\\u093c \\u092e\\u0947\\u0902\\n\\u092c\\u0948\\u0920\\u093e \\u0939\\u0941\\u0906 \\u0939\\u0942\\u0901 \\u0938\\u0941\\u092c\\u094d\\u0939 \\u0938\\u0947 \\u0932\\u0949\\u0930\\u0947\\u0902\\u0938-\\u092c\\u093e\\u0917\\u093c \\u092e\\u0947\\u0902'"
       ]
      }
     ],
     "prompt_number": 24
    },
    {
     "cell_type": "code",
     "collapsed": false,
     "input": [],
     "language": "python",
     "metadata": {},
     "outputs": []
    },
    {
     "cell_type": "code",
     "collapsed": false,
     "input": [
      "\n",
      "n = inbook[i]\n",
      "lines = get_lines(get_trans(n))\n",
      "lines = [clean_trans(x) for x in lines]\n",
      "#lines\n",
      "lines_dev = [devanagari.parse(x) for x in lines]\n",
      "for x in lines_dev:\n",
      "    print x#print lines_dev"
     ],
     "language": "python",
     "metadata": {},
     "outputs": [
      {
       "output_type": "stream",
       "stream": "stdout",
       "text": [
        "\u092c\u0948\u0920\u093e \u0939\u0941\u0906 \u0939\u0942\u0901 \u0938\u0941\u092c\u094d\u0939 \u0938\u0947 \u0932\u093e\u0930\u093f\u0902\u0938 \u092c\u093e\u0917\u093c \u092e\u0947\u0902\n",
        "\u0905\u092b\u093c\u0915\u093e\u0930 \u0915\u093e \u0939\u0941\u091c\u0942\u092e \u0939\u0948 \u092e\u0947\u0930\u0947 \u0926\u093f\u092e\u093e\u0917\u093c \u092e\u0947\u0902\n",
        "\u091b\u093e\u092f\u093e \u0939\u0941\u0906 \u0939\u0948 \u091a\u093e\u0930 \u0924\u0930\u092b\u093c \u092c\u093e\u0917\u093c \u092e\u0947\u0902 \u0938\u0941\u0915\u0942\u0924\n",
        "\u0924\u0902\u0939\u093e\u0907\u092f\u094b\u0902 \u0915\u0940 \u0917\u094c\u0926 \u092e\u0947\u0902 \u0932\u0947\u091f\u093e \u0939\u0941\u0906 \u0939\u0942\u0901 \u092e\u0948\u0902\n",
        "\u0905\u0936\u091c\u093e\u0930 \u092c\u093e\u0930 \u092c\u093e\u0930 \u0921\u0930\u093e\u0924\u0947 \u0939\u0948\u0902 \u092c\u0928\u0915\u0947 \u092d\u0942\u0924\n",
        "\u091c\u092c \u0926\u0947\u0916\u0924\u093e \u0939\u0942\u0901 \u0909\u0928 \u0915\u0940 \u0924\u0930\u092b\u093c \u0915\u093e\u0902\u092a\u0924\u093e \u0939\u0942\u0901 \u092e\u0948\u0902\n",
        "\u092c\u0948\u0920\u093e \u0939\u0941\u0906 \u0939\u0942\u0901 \u0938\u0941\u092c\u094d\u0939 \u0938\u0947 \u0932\u093e\u0930\u093f\u0902\u0938 \u092c\u093e\u0917\u093c \u092e\u0947\u0902\n",
        "\n",
        "\u0932\u093e\u0930\u093f\u0902\u0938 \u092c\u093e\u0917\u093c \u0915\u0948\u092b\u093c\u2010\u0913\u2010\u0932\u0924\u093e\u092b\u093c\u0924 \u0915\u0947 \u0916\u093c\u0941\u0932\u094d\u0926\u091c\u093c\u093e\u0930\n",
        "\u0935\u094b \u092e\u094c\u0938\u092e\u2010\u090f\u2010\u0928\u0936\u093e\u0924 \u0935\u094b \u0905\u092f\u092f\u093e\u092e\u2010\u090f\u2010\u0928\u094c\u092c\u0939\u093e\u0930\n",
        "\u092d\u0942\u0932\u0947 \u0939\u0941\u090f \u092e\u0928\u093e\u091c\u093c\u093f\u0930\u2010\u090f\u2010\u0930\u0902\u0917\u0940\u0902 \u092c\u0939\u093e\u0930 \u0915\u0947\n",
        "\u0905\u092b\u093c\u0915\u093e\u0930 \u092c\u0928\u0915\u0947 \u0930\u0942\u0939 \u092e\u0947\u0902 \u092e\u0947\u0930\u0940 \u0909\u0924\u0930 \u0917\u090f\n",
        "\u0935\u094b \u092e\u0938\u094d\u0924 \u0917\u0940\u0924 \u092e\u094c\u0938\u092e\u2010\u090f\u2010\u0907\u0936\u0930\u0924\u092b\u093c\u0936\u093e\u0930 \u0915\u0947\n",
        "\u0917\u0939\u0930\u093e\u0907\u092f\u094b\u0902 \u0915\u094b \u0926\u093f\u0932 \u0915\u0940 \u0917\u093c\u092e \u0906\u092c\u093e\u0926 \u0915\u0930 \u0917\u090f\n",
        "\u0932\u093e\u0930\u093f\u0902\u0938 \u092c\u093e\u0917\u093c \u0915\u0948\u092b\u093c\u2010\u0913\u2010\u0932\u0924\u093e\u092b\u093c\u0924 \u0915\u0947 \u0916\u093c\u0941\u0932\u094d\u0926\u091c\u093c\u093e\u0930\n",
        "\n",
        "\u0939\u0948 \u0906\u0938\u092e\u093e\u0901 \u092a\u0947 \u0915\u093e\u0932\u0940 \u0918\u091f\u093e\u0913\u0902 \u0915\u093e \u0907\u091d\u093c\u0926\u093f\u0939\u093e\u092e\n",
        "\u0939\u094b\u0928\u0947 \u0932\u0917\u0940 \u0939\u0948 \u0935\u0915\u093c\u094d\u0924 \u0938\u0947 \u092a\u0939\u0932\u0947 \u0939\u0940 \u0906\u091c \u0936\u093e\u092e\n",
        "\u0926\u0941\u0902\u092f\u093e \u0915\u0940 \u0906\u0902\u0916 \u0928\u0940\u0902\u0926 \u0938\u0947 \u091c\u093f\u0938 \u0935\u0915\u093c\u094d\u0924 \u091d\u0941\u0915 \u0917\u0908\n",
        "\u091c\u092c \u0915\u093e\u0907\u0928\u093e\u0924 \u0916\u094b \u0917\u0908 \u0905\u0938\u0930\u093e\u0930\u2010\u090f\u2010\u0916\u093c\u094d\u0935\u093e\u092c \u092e\u0947\u0902\n",
        "\u0938\u0940\u0928\u0947 \u092e\u0947\u0902 \u091c\u0942\u2010\u090f\u2010\u0905\u0936\u094d\u0915 \u0939\u0948 \u092e\u0947\u0930\u0947 \u0930\u0941\u0915\u0940 \u0939\u0941\u0908\n",
        "\u091c\u093e\u0915\u0930 \u0909\u0938\u0947 \u092c\u0939\u093e\u090a\u0902\u0917\u093e \u0915\u0941\u0902\u091c\u2010\u090f\u2010\u0917\u0941\u0932\u093e\u092c \u092e\u0947\u0902\n",
        "\u0939\u0948 \u0906\u0938\u092e\u093e\u0901 \u092a\u0947 \u0915\u093e\u0932\u0940 \u0918\u091f\u093e\u0913\u0902 \u0915\u093e \u0907\u091d\u093c\u0926\u093f\u0939\u093e\u092e\n",
        "\u0905\u092b\u093c\u0915\u093e\u0930 \u0915\u093e \u0939\u0941\u091c\u0942\u092e \u0939\u0948 \u092e\u0947\u0930\u0947 \u0926\u093f\u092e\u093e\u0917\u093c \u092e\u0947\u0902\n",
        "\u092c\u0948\u0920\u093e \u0939\u0941\u0906 \u0939\u0942\u0901 \u0938\u0941\u092c\u094d\u0939 \u0938\u0947 \u0932\u093e\u0930\u093f\u0902\u0938 \u092c\u093e\u0917\u093c \u092e\u0947\u0902\n"
       ]
      }
     ],
     "prompt_number": 19
    },
    {
     "cell_type": "code",
     "collapsed": false,
     "input": [
      "len(lines_dev)\n",
      "lines_rf = rf.split('\\n')\n",
      "len(lines_rf)"
     ],
     "language": "python",
     "metadata": {},
     "outputs": [
      {
       "metadata": {},
       "output_type": "pyout",
       "prompt_number": 27,
       "text": [
        "25"
       ]
      }
     ],
     "prompt_number": 27
    },
    {
     "cell_type": "code",
     "collapsed": false,
     "input": [
      "chars = \"[a-z\\(\\):\\-;\\._']+?\"\n",
      "z= '('+chars+'(?:-e '+chars+')*'+')'+'(?: |$)'                                              \n",
      "pattern = re.compile(z,re.UNICODE)\n",
      "\n",
      "\n",
      "# <codecell>\n",
      "\n",
      "words = {}\n",
      "def clean_word(x): # remove brackets\n",
      "    if re.match('\\([^(]',x):\n",
      "         x = x[1:]\n",
      "#         print x\n",
      "    if re.search('[^)]\\)$',x):\n",
      "        x = x[0:-1]\n",
      "    if re.search(':$',x):\n",
      "         x = x[0:-1]\n",
      "    x=re.sub('\\.\\.\\.$','',x)\n",
      "\n",
      "#        print x\n",
      "    return x\n",
      "for i,n in enumerate(inbook):\n",
      "    x = clean_trans(get_trans(n))\n",
      "    lines=get_lines(x)\n",
      "#    print lines\n",
      "    for line_id,l in enumerate(lines):\n",
      "        matches = []\n",
      "        for match in pattern.finditer(l):\n",
      "            matches.append(match.group(0))\n",
      "            w = match.group(1)\n",
      "            w = clean_word(w)\n",
      "            if w in words:\n",
      "                words[w].append((i,line_id))\n",
      "            else:\n",
      "                words[w] = [(i,l)]\n",
      "        assert l==''.join(matches)\n",
      "\n",
      "        \n",
      "\n",
      "# <codecell>\n",
      "\n",
      "re.match('\\([^(]','((')\n",
      "\n",
      "# <codecell>\n",
      "import csv\n",
      "def unicode_csv_reader(utf8_data, dialect=csv.excel, **kwargs):\n",
      "      csv_reader = csv.reader(utf8_data, dialect=dialect, **kwargs)\n",
      "      for row in csv_reader:\n",
      "          yield [unicode(cell, 'utf-8') for cell in row]\n",
      "old = unicode_csv_reader('rashid-dev.csv')\n",
      "\n",
      "def update_okays():\n",
      "    okay_dev={}\n",
      "    reader = unicode_csv_reader(open('okay-dev.csv'))\n",
      "    for transliteration,devanagari in reader:\n",
      "        okay_dev[transliteration]=devanagari\n",
      "\n",
      "    reader = unicode_csv_reader(open('rashid-dev.csv'))\n",
      "    for ok,devanagari,transliteration,count,meter,replacement in reader:\n",
      "        if ok=='x':\n",
      "            okay_dev[transliteration] = devanagari\n",
      "\n",
      "    with codecs.open('okay-dev.csv','w','utf8') as f:        \n",
      "        for k,v in okay_dev.iteritems():\n",
      "            f.write(k+u','+v+'\\n') #generate new csv\n",
      "#            print k,v\n",
      "    return okay_dev\n",
      "\n",
      "def regenerate():\n",
      "    \n",
      "    diacritics = myparser.Parser('diacritics.yaml')\n",
      "    devanagari = myparser.Parser('devanagari.yaml')\n",
      "    urdu = myparser.Parser('urdu.yaml')\n",
      "    um=myparser.Parser('urdu-meter.yaml')\n",
      "    okays = update_okays()\n",
      "    print 'okays is ',len(okays)\n",
      "\n",
      "    output=u\"ok,devanagari,transliteration,count,meter,replacement\\n\"\n",
      "#    for w in sorted(words, key=lambda k: len(words[k]), reverse=True):\n",
      "    for w in sorted(words, key=lambda k: len(words[k]), reverse=True):\n",
      "        print w\n",
      "   #     print w\n",
      "        dev = devanagari.parse(w)\n",
      "        okay=''\n",
      "        if w in okays:\n",
      " #          print 'yes'\n",
      "            if okays[w] ==dev:\n",
      "                okay='x'\n",
      "            else:\n",
      "                print 'warning ',w,' is no longer', okays[w]\n",
      "                \n",
      "        output+=okay+','+dev+','+w+','+str(len(words[w]))+','+um.parse(w)+','+'\\n'\n",
      "\n",
      "        #print devanagari.parse(w),w,len(words[w])#print '\\n'.join(words.keys())\n",
      "    import codecs\n",
      "    with codecs.open('rashid-dev.csv','w','utf-8') as f:\n",
      "        f.write(output)\n",
      "regenerate()"
     ],
     "language": "python",
     "metadata": {},
     "outputs": [
      {
       "output_type": "stream",
       "stream": "stdout",
       "text": [
        "<z_consonant> + <z_consonant>\n",
        "<m> + <h_char>\n",
        "<n> + consonant\n",
        "<k> + <kh>\n",
        "<r> + <r>\n",
        "<r> + <z>\n",
        "<l> + <h>\n",
        "<consonant> <vowel> <s> + <t> <long_vowel>\n",
        "<consonant> <long_vowel> <consonant> + <consonant> <long_vowel>\n",
        "<consonant> <vowel> <vowel_nasal> <consonant> + <consonant> <long_vowel>\n",
        "<consonant> <short_vowel> <h_char> + <consonant>\n",
        "<wb> <consonant> <short_vowel> <consonant> + <consonant> <long_vowel> <vowel_nasal>\n",
        "<wb> <short_vowel> <consonant> + <consonant> <short_vowel>\n",
        "<wb> <short_vowel> <consonant> + <consonant> <long_vowel> <consonant>\n",
        "<consonant> <short_vowel> <consonant> + <consonant> <long_vowel>\n",
        "<wb> <vowel> <consonant> + <consonant> <vowel>\n",
        "<wb> <consonant> <short_vowel> <z> + <z> <short_vowel> <consonant>\n",
        "<wb> <consonant> <short_vowel> <consonant> + <consonant> <short_vowel> <consonant>\n",
        "<n> + <consonant>\n",
        "<wb> <long_vowel> <consonant> + <consonant> <long_vowel>\n",
        "<consonant> + <consonant>\n",
        "<k> + <k_group>\n",
        "<ch> + <ch_group>\n",
        "<wb> <consonant> <long_vowel> <consonant> + <consonant> <long_vowel>\n",
        "<wb> <consonant> <long_vowel> <consonant> + <consonant> <short_vowel> <consonant>\n",
        "<wb> <consonant> <short_vowel> <sibilant> + <consonant> <wb>\n",
        "<wb> <consonant> <short_vowel> <consonant> + <consonant> <wb>\n",
        "<wb> <short_vowel> <consonant> + <consonant> <long_vowel> <wb>\n",
        "<wb> <short_vowel> <consonant> + <consonant> <long_vowel> <consonant> <wb>\n",
        "<wb> <short_vowel> <consonant> <short_vowel> <consonant> + <consonant> <short_vowel> <consonant>\n",
        "<vowel> <n> + <consonant>\n",
        "<consonant> + <n> <aa> <wb>\n",
        "<consonant> + <n> <e> <wb>\n",
        "<consonant> + <t> <aa> <wb>\n",
        "<consonant> + <t> <e> <wb>\n",
        "<consonant> + <t> <ii> <wb>\n",
        "<consonant> + <ain> <short_vowel> <wb>\n",
        "<short_vowel> <ain> + <consonant>\n",
        "<wb> <consonant> <short_vowel> + <consonant> <long_vowel>\n",
        "<wb> <consonant> <short_vowel> <consonant> + <consonant> <long_vowel>\n",
        "<consonant> + <consonant>\n",
        "okays is "
       ]
      },
      {
       "output_type": "stream",
       "stream": "stdout",
       "text": [
        " 2423\n",
        "ke\n",
        "kii\n",
        "se\n",
        "hai\n",
        "me;n\n",
        "hai;n\n",
        "kaa\n",
        "vuh\n",
        "kih\n",
        "yih\n",
        "ko\n",
        "mai;n\n",
        "bhii\n",
        "aur\n",
        "nahii;n\n",
        "jo\n",
        "ik\n",
        "ham\n",
        "is\n",
        "ho\n",
        "pah\n",
        "nah\n",
        "to\n",
        "us\n",
        "huu;n\n",
        "jis\n",
        "un\n",
        "thaa\n",
        "mire\n",
        "ne\n",
        ";xvaab\n",
        "ek\n",
        "kabhii\n",
        "hii\n",
        "har\n",
        "magar\n",
        "thii"
       ]
      },
      {
       "output_type": "stream",
       "stream": "stdout",
       "text": [
        "\n",
        "tuu\n",
        "ab\n",
        "kuchh\n",
        "par\n",
        "rahe\n",
        "apne\n",
        "dil\n",
        "tak\n",
        "hu))e\n",
        "apnii\n",
        "mere\n",
        "phir\n",
        "rahaa\n",
        "ai\n",
        "mujhe\n",
        "ko))ii\n",
        "the\n",
        "jin\n",
        "kisii\n",
        "jahaa;n-zaad\n",
        "liye\n",
        "gayaa\n",
        "kuuzah-gar\n",
        "tum"
       ]
      },
      {
       "output_type": "stream",
       "stream": "stdout",
       "text": [
        "\n",
        "aag\n",
        "reg\n",
        "aaj\n",
        "jaise\n",
        "kahaa;n\n",
        "hu))aa\n",
        "raat\n",
        "tamaam\n",
        "de\n",
        "sab\n",
        "shahr\n",
        "na))e\n",
        "ban\n",
        ";hasan\n",
        "abhii\n",
        "vaqt\n",
        "zindagii\n",
        "kyaa\n",
        "jahaa;n\n",
        ".sub;h\n",
        "maanind\n",
        "kar\n",
        "mujh"
       ]
      },
      {
       "output_type": "stream",
       "stream": "stdout",
       "text": [
        "\n",
        "rahii\n",
        "mu;habbat\n",
        "yihii\n",
        "hu))ii\n",
        "do\n",
        "in\n",
        "ga))e\n",
        "aap\n",
        ":tara;h\n",
        "aa\n",
        ";xvud\n",
        "ga))ii\n",
        "jism\n",
        "miraa\n",
        "yaa\n",
        "ruu;h\n",
        ";xudaa\n",
        "kis\n",
        "duur\n",
        ".sadaa\n",
        ";xabar\n",
        "tujhe\n",
        "rah"
       ]
      },
      {
       "output_type": "stream",
       "stream": "stdout",
       "text": [
        "\n",
        "mirii\n",
        "aa))o\n",
        "alaa))o\n",
        "tamannaa\n",
        ";darte\n",
        "terii\n",
        "jaag\n",
        "jab\n",
        "ho;n\n",
        "((ishq\n",
        "((ishq-e azal-giir-o-abad-taab\n",
        "sar\n",
        "hame;n\n",
        "merii\n",
        "dekhtii\n",
        "paa\n",
        ".sa;hraa\n",
        "sivaa"
       ]
      },
      {
       "output_type": "stream",
       "stream": "stdout",
       "text": [
        "\n",
        "javaab\n",
        "lo\n",
        "tire\n",
        "gunaah\n",
        ";gam\n",
        "javaanii\n",
        "haath\n",
        "aadmii\n",
        "vuhii\n",
        "naam\n",
        "lekin\n",
        "kah\n",
        "jaa;n\n",
        "insaa;n\n",
        "jaa\n",
        ":taraf\n",
        "tamaashaa-gah-e laalah-zaar\n",
        "aahistah\n",
        ";xvaabo;n"
       ]
      },
      {
       "output_type": "stream",
       "stream": "stdout",
       "text": [
        "\n",
        "kare;n\n",
        "aise\n",
        "daur\n",
        "aarzuu\n",
        "thii;n\n",
        "tere\n",
        "kitne\n",
        "dekh\n",
        "baar\n",
        "sadaa\n",
        "jagah\n",
        "kaise\n",
        "kyo;n\n",
        "dara;xt\n",
        ";zaat\n",
        "tamannaa))o;n\n",
        "fan\n",
        "yaad\n",
        "kiyaa\n",
        "bahut"
       ]
      },
      {
       "output_type": "stream",
       "stream": "stdout",
       "text": [
        "\n",
        "niiche\n",
        "yuu;n\n",
        "pahle\n",
        "baras\n",
        "kitnii\n",
        "be-paayaa;n\n",
        "diyaa\n",
        "yak-dilii\n",
        "kuuzo;n\n",
        "jaa))e;n\n",
        "aasmaa;n\n",
        "warning  aasmaa;n  is no longer \u0906\u0938\u094d\u092e\u093e\u0901\n",
        "chaak\n",
        "use\n",
        "tairte\n",
        "sar;had\n",
        "dar\n",
        "baa;g\n",
        "nuur"
       ]
      },
      {
       "output_type": "stream",
       "stream": "stdout",
       "text": [
        "\n",
        "zabaa;n\n",
        "aa;nkhe;n\n",
        "lab\n",
        "aa))iinah\n",
        "kiye\n",
        ".sadyo;n\n",
        "warning  .sadyo;n  is no longer \u0938\u0926\u092f\u094b\u0902\n",
        "bas\n",
        "aa;xir\n",
        "taarii;x\n",
        "isii\n",
        "ruusii\n",
        "anjaam\n",
        "aisii\n",
        "tiraa\n",
        "na))ii\n",
        "kuuze\n",
        "mumkin\n",
        "chukaa\n",
        "bihisht\n",
        "maut"
       ]
      },
      {
       "output_type": "stream",
       "stream": "stdout",
       "text": [
        "\n",
        "usii\n",
        "dekhaa\n",
        ";xaa:tir\n",
        "lagaa\n",
        "ban-kar\n",
        "saal\n",
        ";xaak\n",
        "li))e\n",
        "sake;nge\n",
        "ret\n",
        "ta((aaqub\n",
        "mil\n",
        "tirii\n",
        "zamaanah\n",
        ")\n",
        "kahii;n\n",
        "meraa\n",
        "hamah\n",
        "nii;nd"
       ]
      },
      {
       "output_type": "stream",
       "stream": "stdout",
       "text": [
        "\n",
        "kinaare\n",
        "hech\n",
        "barahnah\n",
        "ha;nstii\n",
        "saamne\n",
        "guzar\n",
        "jamaal\n",
        "aa;gaaz\n",
        "hone\n",
        "shahro;n\n",
        "kaarvaa;n\n",
        "warning  kaarvaa;n  is no longer \u0915\u093e\u0930\u0935\u093e\u0901\n",
        "nigaaho;n\n",
        "roz\n",
        "jaa))e\n",
        "nahang\n",
        "sochtaa"
       ]
      },
      {
       "output_type": "stream",
       "stream": "stdout",
       "text": [
        "\n",
        "ufaq\n",
        "hamaarii\n",
        "samarqand\n",
        "kahaa\n",
        "ch;ehre\n",
        "afkaar\n",
        "warning  afkaar  is no longer \u0905\u092b\u093c\u094d\u0915\u093e\u0930\n",
        "dekho\n",
        "aa;nkho;n\n",
        "daastaa;n\n",
        "dunyaa\n",
        "samaavii\n",
        "siine\n",
        "tah;ziib\n",
        "bhar\n",
        "kal"
       ]
      },
      {
       "output_type": "stream",
       "stream": "stdout",
       "text": [
        "\n",
        "raah\n",
        "javaa;n\n",
        "aage\n",
        "galii\n",
        ";xaraabo;n\n",
        "shab\n",
        "saa;hil\n",
        ".sa;hraa-navard-e piir\n",
        "aisaa\n",
        "nai\n",
        "nau\n",
        "na;gmah\n",
        "hamii;n\n",
        "ha;ns\n",
        "gumaa;n"
       ]
      },
      {
       "output_type": "stream",
       "stream": "stdout",
       "text": [
        "\n",
        "tishnagii\n",
        "sii\n",
        "paar\n",
        "bu;xaaraa\n",
        "kaun\n",
        "letaa\n",
        "tujh\n",
        "ban-ke\n",
        "laarins\n",
        "agar\n",
        "va:tan\n",
        "utar\n",
        "faqa:t\n",
        "apnaa\n",
        "shaayad"
       ]
      },
      {
       "output_type": "stream",
       "stream": "stdout",
       "text": [
        "\n",
        "tabassum\n",
        "saayah\n",
        "pa;rii\n",
        "liyaa\n",
        ";zarre\n",
        "pa;re\n",
        "band\n",
        "jaanib\n",
        "rang\n",
        ";xizaa;n\n",
        "bar\n",
        "bah\n",
        "sakte\n",
        ";xalaa\n",
        "zamaa;n\n",
        "tanhaa))ii\n",
        "kaash\n",
        "jaatii\n",
        "yahaa;n"
       ]
      },
      {
       "output_type": "stream",
       "stream": "stdout",
       "text": [
        "\n",
        "asiiro;n\n",
        "zamii;n\n",
        "ghar\n",
        "nigaahe;n\n",
        ":talab\n",
        "afsaanah\n",
        "warning  afsaanah  is no longer \u0905\u092b\u093c\u094d\u0938\u093e\u0928\u093e\n",
        "mil-kar\n",
        "ma((.suum\n",
        "tale\n",
        "ta;gaaro;n\n",
        "jahaan-zaad\n",
        "i;nhe;n\n",
        "paayaa"
       ]
      },
      {
       "output_type": "stream",
       "stream": "stdout",
       "text": [
        "\n",
        "aahang\n",
        "daryaa\n",
        "makii;n\n",
        "be-kaar\n",
        "zhuuliidah\n",
        "piichhe\n",
        ";xauf\n",
        "na:zar\n",
        "haa;n\n",
        "lete\n",
        "hamaare\n",
        "bante\n",
        "qahqaho;n\n",
        "aa;nsuu\n",
        "taazah\n",
        "log\n",
        "pa;raa\n",
        "u;the\n",
        "aa))ii\n",
        "u;thaa"
       ]
      },
      {
       "output_type": "stream",
       "stream": "stdout",
       "text": [
        "\n",
        "mashriq-o-ma;grib\n",
        "roshnii\n",
        "muddat\n",
        "taqdiir\n",
        "jho;np;re\n",
        "aa;gosh\n",
        "niklaa\n",
        "jiine\n",
        "chuke\n",
        "ka))ii\n",
        "sakaa\n",
        "samandar\n",
        ";xaalii"
       ]
      },
      {
       "output_type": "stream",
       "stream": "stdout",
       "text": [
        "\n",
        "lahre;n\n",
        "bai;thaa\n",
        "jaantii\n",
        "jise\n",
        "aane-vaale\n",
        "ziist\n",
        "u;thii\n",
        "fard\n",
        "le\n",
        "nayaa\n",
        "yaqii;n\n",
        "hazaaro;n\n",
        "jaal\n",
        "raato;n\n",
        "kinaaraa\n",
        "nashaa:t\n",
        "azal"
       ]
      },
      {
       "output_type": "stream",
       "stream": "stdout",
       "text": [
        "\n",
        "gum\n",
        "taar\n",
        "duusre\n",
        "zanjiir\n",
        "((umr\n",
        "((aurat\n",
        "rassii\n",
        "warning  rassii  is no longer \u0930\u0938\u094d\u0938\u0940\n",
        "ch;ehrah\n",
        "zindah\n",
        "ma;hruum\n",
        "ba;rhe\n",
        "kartaa\n",
        "fusuu;n\n",
        ";xaraabe\n",
        "u;t;thii"
       ]
      },
      {
       "output_type": "stream",
       "stream": "stdout",
       "text": [
        "\n",
        "warning  u;t;thii  is no longer \u0909\u091f\u094d\u0920\u0940\n",
        "laakho;n\n",
        ";xvush_buu\n",
        "inti:zaar\n",
        "bane\n",
        "dino;n\n",
        ";zarro;n\n",
        "aavaaz\n",
        "ise\n",
        "jaate\n",
        "dariicho;n\n",
        "bhare\n",
        "huu\n",
        "gil-o-laa\n",
        "sitaaro;n\n",
        "taariik\n",
        "hilaatii\n",
        "badan\n",
        "be_daarii\n",
        "ziinah"
       ]
      },
      {
       "output_type": "stream",
       "stream": "stdout",
       "text": [
        "\n",
        "royaa\n",
        "taabindah\n",
        "jaam-o-miinaa\n",
        "lahr\n",
        ";xuu;n\n",
        "taaro;n\n",
        "ho-kar\n",
        "aarzuu))e;n\n",
        "phuulo;n\n",
        "aarzuu))o;n\n",
        "ma((arrii\n",
        "dahshat\n",
        "sar-chashmah-gaaho;n\n",
        "((ajam\n",
        "tumhe;n"
       ]
      },
      {
       "output_type": "stream",
       "stream": "stdout",
       "text": [
        "\n",
        "diruu;n\n",
        "patthar\n",
        "warning  patthar  is no longer \u092a\u0924\u094d\u0925\u0930\n",
        "din\n",
        "miinaar\n",
        "sake\n",
        "manzil\n",
        "justajuu\n",
        "warning  justajuu  is no longer \u091c\u0941\u0938\u094d\u0924\u091c\u0942\n",
        "jhiil\n",
        "rang-o-rau;gan\n",
        "gar\n",
        "mai\n",
        "samajhte\n",
        "jaantaa\n",
        "gird\n",
        "izdi;haam-e ravaa;n"
       ]
      },
      {
       "output_type": "stream",
       "stream": "stdout",
       "text": [
        "\n",
        "warning  izdi;haam-e ravaa;n  is no longer \u0907\u091c\u093c\u094d\u0926\u093f\u0939\u093e\u092e\u2010\u090f\u2010\u0930\u0935\u093e\u0901\n",
        "nishaa;n\n",
        "pur\n",
        "gin\n",
        "gharo;n\n",
        "paa))e;n\n",
        "aataa\n",
        "saa\n",
        "re;ngtii\n",
        "phuul\n",
        ";hairat\n",
        "na.siib\n",
        ";gara.z\n",
        "mallaa;h\n",
        "warning  mallaa;h  is no longer \u092e\u0932\u094d\u0932\u093e\u0939\n",
        "jaante"
       ]
      },
      {
       "output_type": "stream",
       "stream": "stdout",
       "text": [
        "\n",
        "saath\n",
        "mashriq\n",
        ";husn\n",
        "takraar\n",
        "warning  takraar  is no longer \u0924\u0915\u094d\u0930\u093e\u0930\n",
        "teraa\n",
        "raste\n",
        "naasuur\n",
        "dard\n",
        "lau;taa\n",
        "shiisho;n\n",
        "dekhe\n",
        "bayaabaa;n\n",
        "vaahimah\n",
        "kuhnah"
       ]
      },
      {
       "output_type": "stream",
       "stream": "stdout",
       "text": [
        "\n",
        "nau;hah-gar\n",
        "u;thte\n",
        "vujuud\n",
        "dhul\n",
        "mad-hosh\n",
        "sharar\n",
        ";xa:t\n",
        "dara;xshandah\n",
        "insaan\n",
        "sa:t;h-e daryaa\n",
        ";hasii;n"
       ]
      },
      {
       "output_type": "stream",
       "stream": "stdout",
       "text": [
        "\n",
        "ravaa;n\n",
        "halke\n",
        "raaho;n\n",
        "farangii\n",
        "u;nhii\n",
        "kahtaa\n",
        "lii\n",
        "saadah\n",
        "bahaane\n",
        "dukkaan\n",
        "warning  dukkaan  is no longer \u0926\u0941\u0915\u094d\u0915\u093e\u0928\n",
        "sahii\n",
        "sej\n",
        "nikal\n",
        ";hau.z\n",
        "ishtiraakii\n",
        "warning  ishtiraakii  is no longer \u0907\u0936\u094d\u0924\u093f\u0930\u093e\u0915\u0940\n",
        "chaap\n",
        "a;zaa;n\n",
        "chalaa\n",
        "musaafir\n",
        ";halab"
       ]
      },
      {
       "output_type": "stream",
       "stream": "stdout",
       "text": [
        "\n",
        "madaa))in\n",
        "ba((d\n",
        "u;thtii\n",
        "nikal-kar\n",
        ";xaalid\n",
        "vahm\n",
        "qadiim\n",
        "roshan\n",
        "shabaab\n",
        "fa.siilo;n\n",
        "hujuum\n",
        "dilo;n"
       ]
      },
      {
       "output_type": "stream",
       "stream": "stdout",
       "text": [
        "\n",
        "zimistaa;n\n",
        "warning  zimistaa;n  is no longer \u091c\u093c\u093f\u092e\u093f\u0938\u0924\u093e\u0901\n",
        "chand\n",
        "unhe;n\n",
        "ma((iishat\n",
        ";hasrat\n",
        "rezo;n\n",
        "tah\n",
        "sh;o((lo;n\n",
        "sach\n",
        "dekhte\n",
        "dariiche\n",
        "shaam\n",
        "be-.sarfah\n",
        ";xiraam\n",
        "ba_zaanuu\n",
        ".sub;h-e .sa;hraa"
       ]
      },
      {
       "output_type": "stream",
       "stream": "stdout",
       "text": [
        "\n",
        "aa;nsuu))o;n\n",
        "labiib\n",
        "kahe\n",
        "baazaar\n",
        "chale\n",
        "aatii\n",
        ";xadd-o-;xaal\n",
        "abad\n",
        ";harf\n",
        "aasuudah\n",
        "duusare\n",
        "afrang"
       ]
      },
      {
       "output_type": "stream",
       "stream": "stdout",
       "text": [
        "\n",
        "warning  afrang  is no longer \u0905\u092b\u093c\u094d\u0930\u0902\u0917\n",
        "ji;nhe;n\n",
        "shauq\n",
        "mutvaazii\n",
        "be-;e((tinaa\n",
        "((arab\n",
        "ahriimano;n\n",
        "warning  ahriimano;n  is no longer \u0905\u0939\u094d\u0930\u0940\u092e\u0928\u094b\u0902\n",
        "mastuur\n",
        "na;gme\n",
        "ghuumte\n",
        "bataa))uu;n\n",
        "la;z;zaat"
       ]
      },
      {
       "output_type": "stream",
       "stream": "stdout",
       "text": [
        "\n",
        ";xayaal\n",
        "umango;n\n",
        "sai;nk;ro;n\n",
        "bar-;haq\n",
        "kamrah\n",
        "mu;habbat-e naa-ravaa\n",
        "dil-o-jism\n",
        ";zarrah\n",
        "maayuus\n",
        "sar-yaab\n",
        "guzre"
       ]
      },
      {
       "output_type": "stream",
       "stream": "stdout",
       "text": [
        "\n",
        "lai\n",
        "qadar\n",
        "badle\n",
        "i;xtiyaar\n",
        "warning  i;xtiyaar  is no longer \u0907\u0916\u093c\u094d\u0924\u093f\u092f\u093e\u0930\n",
        "ruu;he;n\n",
        "ba;ndhe\n",
        "sharaab\n",
        "nekii\n",
        "baaz\n",
        "shaano;n\n",
        "vaa-raftah"
       ]
      },
      {
       "output_type": "stream",
       "stream": "stdout",
       "text": [
        "\n",
        "warning  vaa-raftah  is no longer \u0935\u093e\u0930\u092b\u093c\u094d\u0924\u093e\n",
        ";gair\n",
        "ujlii\n",
        "be_daar\n",
        "diivaar\n",
        "ravii\n",
        "dono;n\n",
        "dimaa;g\n",
        "vi.saal\n",
        "lagii\n",
        "ujrat\n",
        "warning  ujrat  is no longer \u0909\u091c\u094d\u0930\u0924\n",
        "aa))e\n",
        "chamakte\n",
        "hindii\n",
        "tajallii\n",
        "warning  tajallii  is no longer \u0924\u091c\u0932\u094d\u0932\u0940\n",
        "aa;xirii"
       ]
      },
      {
       "output_type": "stream",
       "stream": "stdout",
       "text": [
        "\n",
        "naa-gahaa;n\n",
        "bha;tak\n",
        "sarsaraatii\n",
        "ba;rhtaa\n",
        "saa((at-e duzdiidah-o-naa-yaab\n",
        "((ujlat\n",
        "kuuzah"
       ]
      },
      {
       "output_type": "stream",
       "stream": "stdout",
       "text": [
        "\n",
        "chaar\n",
        "buu;rhe\n",
        "sukuut\n",
        "jahaan-e tag-o-dau\n",
        "raat-bhar\n",
        ";hurriyat\n",
        ";xair\n",
        "banegii\n",
        "palko;n\n",
        "be-riyaa"
       ]
      },
      {
       "output_type": "stream",
       "stream": "stdout",
       "text": [
        "\n",
        "kaisaa\n",
        "ham-kinaar\n",
        "vaa-bastah\n",
        "warning  vaa-bastah  is no longer \u0935\u093e\u092c\u0938\u094d\u0924\u093e\n",
        "mil-ke\n",
        "panaah\n",
        "savaal\n",
        "jalaajil\n",
        "gahraa))iyo;n\n",
        "raq.saa;n"
       ]
      },
      {
       "output_type": "stream",
       "stream": "stdout",
       "text": [
        "\n",
        "ibtidaa\n",
        "warning  ibtidaa  is no longer \u0907\u092c\u094d\u0924\u093f\u0926\u093e\n",
        ";hayaat\n",
        "ta.sviir\n",
        "warning  ta.sviir  is no longer \u0924\u0938\u094d\u0935\u0940\u0930\n",
        "jaa))uu;n\n",
        "ahriman\n",
        "warning  ahriman  is no longer \u0905\u0939\u094d\u0930\u093f\u092e\u0928\n",
        "burj\n",
        "to;r\n",
        ";xuu\n",
        "biruu;n\n",
        "jaam\n",
        "lage"
       ]
      },
      {
       "output_type": "stream",
       "stream": "stdout",
       "text": [
        "\n",
        "gil\n",
        "roz-o-shab\n",
        "kho\n",
        "sahaaraa\n",
        "raastah\n",
        "qafqaaz\n",
        "mile\n",
        "devataa\n",
        "rakkhaa\n",
        "lahuu\n",
        "jismo;n"
       ]
      },
      {
       "output_type": "stream",
       "stream": "stdout",
       "text": [
        "\n",
        ".suurat\n",
        "nau-javaa;n\n",
        "ashjaar\n",
        "warning  ashjaar  is no longer \u0905\u0936\u094d\u091c\u093e\u0930\n",
        "kaa))inaat\n",
        "jaa-kar\n",
        "fashaar\n",
        "ta((biir\n",
        ":tayyaarah\n",
        "warning "
       ]
      },
      {
       "output_type": "stream",
       "stream": "stdout",
       "text": [
        " :tayyaarah  is no longer \u0924\u092f\u094d\u092f\u093e\u0930\u093e\n",
        ";harf-e tanhaa\n",
        "ba;rhte\n",
        "qaafilah\n",
        "sochte\n",
        "tumhaare\n",
        "gul-o-yaasmin\n",
        "dard-e risaalat\n",
        "marsidah"
       ]
      },
      {
       "output_type": "stream",
       "stream": "stdout",
       "text": [
        "\n",
        "jii\n",
        "((ushshaaq\n",
        "warning  ((ushshaaq  is no longer \u0909\u0936\u094d\u0936\u093e\u0915\u093c\n",
        "rakh\n",
        "ho-ke\n",
        ";gariib\n",
        "hotaa\n",
        "kundo;n\n",
        "be-;xabar\n",
        "ajal\n",
        "laa\n",
        ";harf-e tasallii\n",
        "sar-niguu;n\n",
        ";ha.zrat-e yazdaa;n\n",
        "warning  ;ha.zrat-e yazdaa;n  is no longer \u0939\u091c\u093c\u0930\u0924\u2010\u090f\u2010\u092f\u091c\u093c\u0926\u093e\u0901\n",
        "lapke"
       ]
      },
      {
       "output_type": "stream",
       "stream": "stdout",
       "text": [
        "\n",
        "dar-o-baam\n",
        "bahte\n",
        "chaahe\n",
        "paivand\n",
        "sunsaan\n",
        "parastaar\n",
        "uust\n",
        "lahro;n\n",
        "nafii"
       ]
      },
      {
       "output_type": "stream",
       "stream": "stdout",
       "text": [
        "\n",
        "havas-e jaur\n",
        "far;xundah\n",
        "sulajh\n",
        "chhat\n",
        "bahaa))e\n",
        "mazduur\n",
        "suukhe\n",
        "detii\n",
        "a((.zaa\n",
        "kaarvaano;n\n",
        ";xudaa))ii\n",
        "be-bahaa\n",
        "yaaraa\n",
        "muhiib\n",
        "aa-ke\n",
        "((aruus-e ((azz-o-jal"
       ]
      },
      {
       "output_type": "stream",
       "stream": "stdout",
       "text": [
        "\n",
        "kaalii\n",
        "bhuul\n",
        "shahd\n",
        ";xandah\n",
        "u;thtaa\n",
        "i:zhaar-e fan\n",
        "warning  i:zhaar-e fan  is no longer \u0907\u091c\u093c\u094d\u0939\u093e\u0930\u2010\u090f\u2010\u092b\u093c\u0928\n",
        "pai\n",
        "shab-o-roz\n",
        "kaan\n",
        "ma;xluuq-e be-jaa;n\n",
        "yuu;n-hii\n",
        "faanuus-o-guldaa;n\n",
        "warning "
       ]
      },
      {
       "output_type": "stream",
       "stream": "stdout",
       "text": [
        " faanuus-o-guldaa;n  is no longer \u092b\u093c\u093e\u0928\u0942\u0938\u2010\u0913\u2010\u0917\u0941\u0932\u0926\u093e\u0901\n",
        "yuusif\n",
        "rah_rau))o;n\n",
        "garm\n",
        "va;gairah\n",
        "ma((luum\n",
        "jism-o-jaa;n\n",
        "nikle\n",
        "be-saa;xtah\n",
        "raq.s\n",
        "ruusiyo;n\n",
        "itnaa\n",
        "tairne\n",
        "kaa;nptaa\n",
        "tumhaaraa"
       ]
      },
      {
       "output_type": "stream",
       "stream": "stdout",
       "text": [
        "\n",
        "diivaanah\n",
        "chhup-ke\n",
        "navaa-e saaz-gaar\n",
        "bhalaa\n",
        "kaabuus\n",
        "uj;re\n",
        "a;nbaar\n",
        "mile;n"
       ]
      },
      {
       "output_type": "stream",
       "stream": "stdout",
       "text": [
        "\n",
        "anaa\n",
        "mazaamiir\n",
        "girte\n",
        "navaa\n",
        "iiraa;n\n",
        ".zab:t\n",
        "u;nhii;n\n",
        "jaamah\n",
        "dikhlaa))e;n\n",
        "khaa"
       ]
      },
      {
       "output_type": "stream",
       "stream": "stdout",
       "text": [
        "\n",
        "afsurdah\n",
        "warning  afsurdah  is no longer \u0905\u092b\u093c\u094d\u0938\u0941\u0930\u094d\u0926\u093e\n",
        "samandaro;n\n",
        "dev\n",
        "jaabir\n",
        "m;e;hraab\n",
        "mizhgaa;n\n",
        "warning  mizhgaa;n  is no longer \u092e\u093f\u091d\u093c\u0917\u093e\u0901\n",
        "daurah-e shaadmaanii\n",
        "suraa;g"
       ]
      },
      {
       "output_type": "stream",
       "stream": "stdout",
       "text": [
        "\n",
        "ghuumtaa\n",
        "chhaayaa\n",
        "shaad-baad\n",
        "pala;t\n",
        "baat\n",
        "saathii\n",
        "taqaddus\n",
        "sar-zamii;n\n",
        ";tuu;t\n",
        "ma((;zuur\n",
        ";haasil\n",
        "maujuud"
       ]
      },
      {
       "output_type": "stream",
       "stream": "stdout",
       "text": [
        "\n",
        "rakho\n",
        "pahnaa))ii\n",
        "taaziyaano;n\n",
        "vaadii-e pinhaa;n\n",
        "mahak\n",
        "jhankaar\n",
        "aah\n",
        "kaafii\n",
        "zer-o-bam\n",
        "kha;rii\n",
        "arbaab-e va:tan\n",
        "warning  arbaab-e va:tan  is no longer \u0905\u0930\u094d\u092c\u093e\u092c\u2010\u090f\u2010\u0935\u0924\u0928\n",
        "jaataa\n",
        "kam\n",
        "goyaa\n",
        "raaz"
       ]
      },
      {
       "output_type": "stream",
       "stream": "stdout",
       "text": [
        "\n",
        ";xvush_buu))e;n\n",
        "qariib\n",
        "naa-aashnaa\n",
        ":tufail\n",
        "insaano;n\n",
        "paikar\n",
        "nam\n",
        "mu;salla;s-e qadiim\n",
        ";haadi;sah\n",
        "gha;rii\n",
        "saal_haa_saal\n",
        ";xuld-zaar\n",
        "u;nhe;n"
       ]
      },
      {
       "output_type": "stream",
       "stream": "stdout",
       "text": [
        "\n",
        "sa:tvat\n",
        "bar-lab\n",
        "paanii\n",
        "najaane\n",
        "miltaa\n",
        "izhdihaam\n",
        "warning  izhdihaam  is no longer \u0907\u091d\u093c\u094d\u0926\u093f\u0939\u093e\u092e\n",
        "reg-e .sa;hraa\n",
        "phirtaa\n",
        "vus((at"
       ]
      },
      {
       "output_type": "stream",
       "stream": "stdout",
       "text": [
        "\n",
        "daaman\n",
        "ras\n",
        ":tuufaan\n",
        "dostii\n",
        "masarrat\n",
        "asraar\n",
        "warning  asraar  is no longer \u0905\u0938\u094d\u0930\u093e\u0930\n",
        "gandah\n",
        "vaa_bastah\n",
        "judaa))ii\n",
        "paa-yaab\n",
        "hamhamo;n\n",
        "intihaa-e ma((rifat\n",
        "jaa))e;nge"
       ]
      },
      {
       "output_type": "stream",
       "stream": "stdout",
       "text": [
        "\n",
        "shaamil\n",
        "udaas\n",
        "maa.zii\n",
        ";z;ehn\n",
        ";zikr\n",
        "laa-ke\n",
        "eshiyaa))ii\n",
        "ruk\n",
        "ba;gdaad\n",
        "aa))e;nge"
       ]
      },
      {
       "output_type": "stream",
       "stream": "stdout",
       "text": [
        "\n",
        "avvalii;n\n",
        "warning  avvalii;n  is no longer \u0905\u0935\u094d\u0935\u0932\u0940\u0902\n",
        "jalaal\n",
        "naazukii\n",
        "banaataa\n",
        "kaarvaa;n-saraa\n",
        "warning  kaarvaa;n-saraa  is no longer \u0915\u093e\u0930\u0935\u093e\u0901\u0938\u0930\u093e\n",
        "dushman\n",
        "naazuk"
       ]
      },
      {
       "output_type": "stream",
       "stream": "stdout",
       "text": [
        "\n",
        "naa-paid\n",
        "u;the;n\n",
        "ruup\n",
        "i((tibaar\n",
        "taab_naakii\n",
        "jho;np;raa\n",
        "raahe;n\n",
        "chal\n",
        "saiyaal\n",
        "((a:t:taar"
       ]
      },
      {
       "output_type": "stream",
       "stream": "stdout",
       "text": [
        "\n",
        "warning  ((a:t:taar  is no longer \u0905\u0924\u094d\u0924\u093e\u0930\n",
        "bannaa\n",
        "kul\n",
        "go\n",
        "tiirah\n",
        ";hijaabo;n\n",
        "jaagte\n",
        "ashko;n\n",
        "warning  ashko;n  is no longer \u0905\u0936\u094d\u0915\u094b\u0902\n",
        "kartii\n",
        "muskaraataa\n",
        "payaalah-o-.saraa;hii-o-sabuu"
       ]
      },
      {
       "output_type": "stream",
       "stream": "stdout",
       "text": [
        "\n",
        ";ganuudagii\n",
        "talaash\n",
        "joyaa\n",
        "kunde\n",
        "le;n\n",
        "adiibo;n\n",
        "paas\n",
        "ranjuur\n",
        "parde"
       ]
      },
      {
       "output_type": "stream",
       "stream": "stdout",
       "text": [
        "\n",
        "paak\n",
        "aadam-e nau\n",
        "shikastah\n",
        "naa-ras\n",
        "vaapasii\n",
        "pahlii\n",
        "so;xtah-ba;xt\n",
        "chunaa\n",
        "bhe;riyo;n\n",
        "aate\n",
        "larzish\n",
        "((umuud"
       ]
      },
      {
       "output_type": "stream",
       "stream": "stdout",
       "text": [
        "\n",
        "shaad-kaam\n",
        "dara;xto;n\n",
        "warning  dara;xto;n  is no longer \u0926\u0930\u0916\u093c\u094d\u0924\u094b\u0902\n",
        "hogii\n",
        ";huur\n",
        "shab-e be-raah\n",
        "bulandii\n",
        "paane\n",
        "ghaas\n",
        "qa:tre\n",
        "bikhar\n",
        "((a:zmat\n",
        "jaan"
       ]
      },
      {
       "output_type": "stream",
       "stream": "stdout",
       "text": [
        "\n",
        "ta;rap\n",
        "varnah\n",
        ";harf-o-ma((nii\n",
        "todah-e ;xaak\n",
        "baa;go;n\n",
        "diivaaro;n\n",
        "aatish_daa;n\n",
        "rah_zan"
       ]
      },
      {
       "output_type": "stream",
       "stream": "stdout",
       "text": [
        "\n",
        "qaaf\n",
        "hamaaraa\n",
        "gha;taa))o;n\n",
        "masaavaat\n",
        "hameshah\n",
        "taariikii\n",
        "ta;xte\n",
        "((amal"
       ]
      },
      {
       "output_type": "stream",
       "stream": "stdout",
       "text": [
        "\n",
        ";xaal-e hinduu\n",
        "rishtah\n",
        "kaif-o-la:taafat\n",
        "eshiyaa\n",
        "itnii\n",
        "najaat\n",
        "chii;x\n",
        "viiraan\n",
        "sunnaa;taa\n",
        "yaado;n\n",
        "vi.saal-e aab-o-gil\n",
        "tanhaa\n",
        "dost"
       ]
      },
      {
       "output_type": "stream",
       "stream": "stdout",
       "text": [
        "\n",
        "rezah\n",
        "shahr-e madfuun\n",
        "likh\n",
        "jaane\n",
        "jaagii\n",
        "sa;har\n",
        "rago;n\n",
        "hosh\n",
        "dekhii\n",
        "saktaa"
       ]
      },
      {
       "output_type": "stream",
       "stream": "stdout",
       "text": [
        "\n",
        "vaa\n",
        "gunaaho;n\n",
        "tiiragii\n",
        "biphre\n",
        "baa:tin\n",
        "guriizaa;n\n",
        "aflaas\n",
        "warning  aflaas  is no longer \u0905\u092b\u093c\u094d\u0932\u093e\u0938\n",
        "mafhuum\n",
        "kiisah\n",
        "rango;n\n",
        "khokhale-pan\n",
        "tanhaa))iyo;n\n",
        "mar((uub\n",
        "junuu;n-;xez"
       ]
      },
      {
       "output_type": "stream",
       "stream": "stdout",
       "text": [
        "\n",
        ";hairat-naak\n",
        "fashaar-e .zab:t\n",
        "sa((ii-e jigar-doz\n",
        "duzdiidah\n",
        "ma.zbuu:t\n",
        "chhupne\n",
        "hanuuz-e zamaanah\n",
        "piir-zaal\n",
        "chaltii\n",
        "((adl-e be-bahaa\n",
        "ba;xshish"
       ]
      },
      {
       "output_type": "stream",
       "stream": "stdout",
       "text": [
        "\n",
        "sang-bastah\n",
        "navaa))e;n\n",
        "kah_rubaa\n",
        "taar-o-puu\n",
        "((aashiq\n",
        ":taarii\n",
        "siikho\n",
        "jahaaz-raano;n\n",
        "sang-e bunyaad-e farang"
       ]
      },
      {
       "output_type": "stream",
       "stream": "stdout",
       "text": [
        "\n",
        "saare\n",
        "jabr-e daryaa\n",
        "paristaar\n",
        "aayindah\n",
        "roz-e fur.sat\n",
        "lagtii\n",
        "maartii\n",
        "phuu;tegaa\n",
        "chhupaa))e"
       ]
      },
      {
       "output_type": "stream",
       "stream": "stdout",
       "text": [
        "\n",
        "satezah-kaar\n",
        "saalik-e raah\n",
        "sunaa))ii\n",
        "sakoge\n",
        "pukaartaa\n",
        ";xastah-e fikr-e ma((aash\n",
        "lip;te"
       ]
      },
      {
       "output_type": "stream",
       "stream": "stdout",
       "text": [
        "\n",
        "pairahan\n",
        "va;hshii\n",
        "ha;ngaamo;n\n",
        "bahaa))oge\n",
        "afsaanah-go\n",
        "warning  afsaanah-go  is no longer \u0905\u092b\u093c\u094d\u0938\u093e\u0928\u093e\u0917\u094b\n",
        "((ankabuut\n",
        "lu;t"
       ]
      },
      {
       "output_type": "stream",
       "stream": "stdout",
       "text": [
        "\n",
        "martabah-e diidah-e tar\n",
        "suntii\n",
        "jaan-e ((ajam\n",
        "dahr\n",
        "aa))iino;n\n",
        "hujuum;\n",
        "shiir-o-shakar\n",
        "jame\n",
        "cho;tiyo;n"
       ]
      },
      {
       "output_type": "stream",
       "stream": "stdout",
       "text": [
        "\n",
        "karuu;n\n",
        "pardaaz\n",
        "ajnabii\n",
        "warning  ajnabii  is no longer \u0905\u091c\u094d\u0928\u092c\u0940\n",
        "uupar\n",
        "rahte\n",
        "baadah-gusaar\n",
        "la;tak\n",
        "khule"
       ]
      },
      {
       "output_type": "stream",
       "stream": "stdout",
       "text": [
        "\n",
        "gu;zraa\n",
        "royaa-e aasmaanii\n",
        "warning  royaa-e aasmaanii  is no longer \u0930\u094b\u092f\u093e\u2010\u090f\u2010\u0906\u0938\u094d\u092e\u093e\u0928\u0940\n",
        "sar-zamiin-e ziist\n",
        "inti:zaar-e be-zamaa;n\n",
        "jauhar"
       ]
      },
      {
       "output_type": "stream",
       "stream": "stdout",
       "text": [
        "\n",
        "maatam\n",
        "sitam\n",
        "sard-guu;n\n",
        "shabistaano;n\n",
        "la;rhaktaa\n",
        "himmat-e naa-;xvub\n",
        "warning  himmat-e naa-;xvub  is no longer \u0939\u093f\u092e\u094d\u092e\u0924\u2010\u090f\u2010\u0928\u093e\u0916\u093c\u0941\u092c\n",
        "lam;hah-e ;xvursand\n",
        ";zarro"
       ]
      },
      {
       "output_type": "stream",
       "stream": "stdout",
       "text": [
        "\n",
        "tez-gaamii\n",
        "cha;rhte\n",
        "tumhaarii\n",
        "diivaanii\n",
        "bahaar\n",
        "ziinah-e nuur\n",
        "qa:tr-haa-e aab\n",
        "bune\n",
        "((ishq-e ;haasil-;xez\n",
        "vahmo;n\n",
        "paataal\n",
        "sarod"
       ]
      },
      {
       "output_type": "stream",
       "stream": "stdout",
       "text": [
        "\n",
        ";xai\n",
        "narm-;xuu\n",
        "kha;raa\n",
        "kuuzah-gar-e so;xtah-jaa;n\n",
        "faraar\n",
        "be;x-o-bun\n",
        "saakit"
       ]
      },
      {
       "output_type": "stream",
       "stream": "stdout",
       "text": [
        "\n",
        "i;nbisaa:t-e nau\n",
        "roz-e :tarab\n",
        "suruur\n",
        "((ilm-o-hunar\n",
        "ta;zab;zub\n",
        "barpaa\n",
        "((ahd\n",
        "ittifaaqaat\n",
        "warning  ittifaaqaat  is no longer \u0907\u0924\u094d\u0924\u093f\u092b\u093c\u093e\u0915\u093c\u093e\u0924\n",
        "pai-ravaan-e ahriiman\n",
        "luu;h-e aa))iinah"
       ]
      },
      {
       "output_type": "stream",
       "stream": "stdout",
       "text": [
        "\n",
        "gavaaraa\n",
        "miizaan\n",
        ".suurato;n\n",
        "aa))oge\n",
        "bhaa;nptii\n",
        ";zauq-e taqdiis\n",
        "ranjbar"
       ]
      },
      {
       "output_type": "stream",
       "stream": "stdout",
       "text": [
        "\n",
        "pahan-kar\n",
        "maj;zuub-e tunak-jaam\n",
        "ma((bad\n",
        "firaaq-e jaa;n-kaah-e ;harf-o-ma((nii\n",
        "qaraar"
       ]
      },
      {
       "output_type": "stream",
       "stream": "stdout",
       "text": [
        "\n",
        ";haakimo;n\n",
        "saadah-o-ma((.suum\n",
        "diye\n",
        "sahaa\n",
        "aahuu\n",
        "siyaasii\n",
        "milaa\n",
        "aa;gosh-e .sar.sar\n",
        ".sub;h-e ((iid\n",
        "hogaa\n",
        "mu.salla;s-e qadiim\n",
        "ro"
       ]
      },
      {
       "output_type": "stream",
       "stream": "stdout",
       "text": [
        "\n",
        "ma;hsuus\n",
        ";xuun-e ma;hfil\n",
        "daanaa\n",
        "nigaar-;xaane\n",
        "sahe\n",
        "pahu;nch\n",
        "ulajh\n",
        "daryaa))o;n"
       ]
      },
      {
       "output_type": "stream",
       "stream": "stdout",
       "text": [
        "\n",
        "baadah\n",
        "angor\n",
        "o;t\n",
        "rah-e ;xudaavandii\n",
        "sakii\n",
        ";xaziinah\n",
        "la;z;zat-e jaaved\n",
        "fahm-e insaa;n"
       ]
      },
      {
       "output_type": "stream",
       "stream": "stdout",
       "text": [
        "\n",
        "guzarte\n",
        "tamaddun\n",
        "bhuule\n",
        "duu;n\n",
        "doge\n",
        "ba;rii\n",
        "yak-rang\n",
        "kiimiyaa-garii"
       ]
      },
      {
       "output_type": "stream",
       "stream": "stdout",
       "text": [
        "\n",
        "ro))iidah\n",
        "sitaare\n",
        "banaa))e;n\n",
        "zar-taab-o-jaliil\n",
        "yaaraanah\n",
        "ziine"
       ]
      },
      {
       "output_type": "stream",
       "stream": "stdout",
       "text": [
        "\n",
        ";gam_zadah\n",
        "firdaus-e gum_shudah\n",
        "sham((e;n\n",
        "warning  sham((e;n  is no longer \u0936\u092e\u0947\u0902\n",
        "shikast-;xvurdah\n",
        "ba_lab"
       ]
      },
      {
       "output_type": "stream",
       "stream": "stdout",
       "text": [
        "\n",
        "((aafiyat\n",
        "duhraa))e;n\n",
        "guzartaa\n",
        "mash((al\n",
        "kushaadah-dil-o-hosh-mand-o-parastaar-e rabb-e kariim\n",
        "qarn_haa"
       ]
      },
      {
       "output_type": "stream",
       "stream": "stdout",
       "text": [
        "\n",
        "dast-e qaatil\n",
        "la;z;zat-e be-;sabaat\n",
        "vi.saal-e rah-guzar\n",
        "sharaabe;n"
       ]
      },
      {
       "output_type": "stream",
       "stream": "stdout",
       "text": [
        "\n",
        "lagaataar\n",
        "pesh_tar\n",
        "navard-e piir\n",
        ";xiyaanat\n",
        "ba;ndhaa\n",
        "aa;gosh-e raa;hat\n",
        "tishnah-labii"
       ]
      },
      {
       "output_type": "stream",
       "stream": "stdout",
       "text": [
        "\n",
        "gulistaa;n\n",
        "buland-o-bar-tar\n",
        "la;ng;raate\n",
        "anbaar\n",
        "za;xmii\n",
        "hosh-o-((amal"
       ]
      },
      {
       "output_type": "stream",
       "stream": "stdout",
       "text": [
        "\n",
        "nii;ndo;n\n",
        ";sarvat\n",
        "majbuur\n",
        "namuud-e sa;har\n",
        "phailtii\n",
        "labaade\n",
        "shauq-e parastaar-e jamaal"
       ]
      },
      {
       "output_type": "stream",
       "stream": "stdout",
       "text": [
        "\n",
        "asraar-e ;xvaab\n",
        "warning  asraar-e ;xvaab  is no longer \u0905\u0938\u094d\u0930\u093e\u0930\u2010\u090f\u2010\u0916\u093c\u094d\u0935\u093e\u092c\n",
        "havaa\n",
        "kaariyo;n\n",
        "murdo;n\n",
        "havas"
       ]
      },
      {
       "output_type": "stream",
       "stream": "stdout",
       "text": [
        "\n",
        "paro;n\n",
        "tiyaatar\n",
        "((aqiim\n",
        "chalii\n",
        "pinhaa;n\n",
        "banaayaa\n",
        "dar-maa;ndah-o-be-chaarah\n",
        "aane"
       ]
      },
      {
       "output_type": "stream",
       "stream": "stdout",
       "text": [
        "\n",
        "vasiilah\n",
        "mashtarii\n",
        ";duubte\n",
        "gaud\n",
        "aadam\n",
        "ziinat\n",
        "yuurop\n",
        "sahaaro;n\n",
        "safiine"
       ]
      },
      {
       "output_type": "stream",
       "stream": "stdout",
       "text": [
        "\n",
        ".sub;he;n\n",
        "((ilm\n",
        "mujassimo;n\n",
        "kha;n;dar\n",
        "nezo;n\n",
        "bhulaa\n",
        "mahiib-o-ruu;h-sitaa;n\n",
        "roz-e avvalii;n"
       ]
      },
      {
       "output_type": "stream",
       "stream": "stdout",
       "text": [
        "\n",
        "warning  roz-e avvalii;n  is no longer \u0930\u094b\u091c\u093c\u2010\u090f\u2010\u0905\u0935\u094d\u0935\u0932\u0940\u0902\n",
        "bajaate\n",
        "le;taa\n",
        "jhaa;nktii\n",
        "asmaar\n",
        "warning  asmaar  is no longer \u0905\u0938\u094d\u092e\u093e\u0930\n",
        "fareb\n",
        "ruu-shinaasii\n",
        "fitnah-e naa-gaah\n",
        "navaa-sanj\n",
        ";husn-o-ma))e-o-raq.s-o-na;gmah"
       ]
      },
      {
       "output_type": "stream",
       "stream": "stdout",
       "text": [
        "\n",
        "firaaq\n",
        "lalkaar\n",
        "rafiiq\n",
        "bisaa:t-e .ziyaafat\n",
        "manaa:zir-e rangii;n\n",
        "joyandah-e tamkiin\n",
        "warning  joyandah-e tamkiin  is no longer \u091c\u094b\u092f\u0902\u0926\u0939\u2010\u090f\u2010\u0924\u092e\u0915\u0940\u0928\n",
        ";xastah-jaa;n\n",
        "mi;t;tii"
       ]
      },
      {
       "output_type": "stream",
       "stream": "stdout",
       "text": [
        "\n",
        "sujuud\n",
        "par-bariidah\n",
        ";huur-e qafqaaz\n",
        "saayo;n\n",
        "jhuk\n",
        "zuhd\n",
        "chhuu;raa\n",
        "sumbul\n",
        "asiirii\n",
        "aaho;n\n",
        ";hau.slah-e ;xvub\n",
        "bichha;r-kar\n",
        "((anqaa\n",
        "luth;raa"
       ]
      },
      {
       "output_type": "stream",
       "stream": "stdout",
       "text": [
        "\n",
        "((azz-o-jal\n",
        "tane\n",
        "((ahd-e vafaa\n",
        "manaatii\n",
        "sitam-kash-e inti:zaar\n",
        "mar))ii"
       ]
      },
      {
       "output_type": "stream",
       "stream": "stdout",
       "text": [
        "\n",
        "laraztii\n",
        "maqaam-e naazuk\n",
        "dhuu;n;dtaa\n",
        "garaj\n",
        "farsh\n",
        "saa;np\n",
        "saa;ns\n",
        "sazaa"
       ]
      },
      {
       "output_type": "stream",
       "stream": "stdout",
       "text": [
        "\n",
        "la;z;zat-kash-e ;xamyaazah\n",
        "namruud\n",
        "faa.silo;n\n",
        "salaa;xe;n\n",
        "shaa((ir-e dar-maa;ndah\n",
        "r;e;hm-e ;havvaa\n",
        "muskaraa"
       ]
      },
      {
       "output_type": "stream",
       "stream": "stdout",
       "text": [
        "\n",
        "sau;gaat\n",
        "chiiz\n",
        "tund\n",
        "ba;xt-e vaazh-guu;n\n",
        "thaame\n",
        "bashaarat\n",
        "fareb-e vafaa\n",
        "shab-e raftah\n",
        "warning "
       ]
      },
      {
       "output_type": "stream",
       "stream": "stdout",
       "text": [
        " shab-e raftah  is no longer \u0936\u092c\u2010\u090f\u2010\u0930\u092b\u093c\u094d\u0924\u093e\n",
        "lo;ttii\n",
        "pahu;nchne\n",
        "saugand\n",
        "gaa))e;nge\n",
        "daariyuush-e buzurg\n",
        "u;t;the;n\n",
        "warning "
       ]
      },
      {
       "output_type": "stream",
       "stream": "stdout",
       "text": [
        " u;t;the;n  is no longer \u0909\u091f\u094d\u0920\u0947\u0902\n",
        "bhuuluu;n\n",
        "laashe\n",
        ";hau.sle\n",
        "kasaalat\n",
        "biga;rte\n",
        "lau;ttaa\n",
        "basne-vaale\n",
        ";hado;n\n",
        "daastaan-e fanaa\n",
        "raqiib\n",
        "nazhaad-e kaahil\n",
        "afriiqah\n",
        "warning "
       ]
      },
      {
       "output_type": "stream",
       "stream": "stdout",
       "text": [
        " afriiqah  is no longer \u0905\u092b\u093c\u094d\u0930\u0940\u0915\u093c\u093e\n",
        "taabistaa;n\n",
        ";xuld-zaar-e maah-o-anjam\n",
        "jalne\n",
        "bahiimaanah\n",
        "shabnam\n",
        "kunj-e maa.zii\n",
        "kholte\n",
        "sote\n",
        "a;ndhii"
       ]
      },
      {
       "output_type": "stream",
       "stream": "stdout",
       "text": [
        "\n",
        "piyaa\n",
        "shahrii\n",
        "anjiiro;n\n",
        "qadmo;n\n",
        "warning  qadmo;n  is no longer \u0915\u093c\u0926\u092e\u094b\u0902\n",
        "tavaanaa\n",
        "zamaane\n",
        "saraab\n",
        "du((aa))e;n\n",
        "dhaare"
       ]
      },
      {
       "output_type": "stream",
       "stream": "stdout",
       "text": [
        "\n",
        "sun-kar\n",
        "dar-o-diivaar\n",
        "baar-o-barg\n",
        "i.z:tiraab\n",
        "warning  i.z:tiraab  is no longer \u0907\u091c\u093c\u094d\u0924\u093f\u0930\u093e\u092c\n",
        "umang\n",
        "chob-e ;xushk\n",
        "dukh\n",
        ":tahraan-o-mashhad\n",
        "soz\n",
        "((ahd-e taataar"
       ]
      },
      {
       "output_type": "stream",
       "stream": "stdout",
       "text": [
        "\n",
        "baarish\n",
        "mi;saal-e saaz-e jaa;n\n",
        "naa-daa;n\n",
        "jang\n",
        "siim-o-zar\n",
        ".zid\n",
        "achaanak\n",
        "zamiin-e gul-posh\n",
        "bach"
       ]
      },
      {
       "output_type": "stream",
       "stream": "stdout",
       "text": [
        "\n",
        ";xvud-aagahii\n",
        "jahannamo;n\n",
        "dhanak\n",
        "tairtaa\n",
        "nahaa-kar\n",
        "aarzuu-e vi.saal-e ma((nii\n",
        "gulzaaro;n"
       ]
      },
      {
       "output_type": "stream",
       "stream": "stdout",
       "text": [
        "\n",
        "saudaagaro;n\n",
        "fikr-e hastii\n",
        "warning  fikr-e hastii  is no longer \u092b\u093c\u093f\u0915\u094d\u0930\u2010\u090f\u2010\u0939\u0938\u0924\u0940\n",
        "tantii"
       ]
      },
      {
       "output_type": "stream",
       "stream": "stdout",
       "text": [
        "\n",
        "havaa))ii\n",
        "zer-e m;e;hraab\n",
        "saqf-o-dar-o-baam\n",
        "manaazil\n",
        "ba;gair\n",
        "lagegii"
       ]
      },
      {
       "output_type": "stream",
       "stream": "stdout",
       "text": [
        "\n",
        "nak'hat\n",
        "jaam-e shahd\n",
        "tajribo;n\n",
        "kariim\n",
        "siino;n\n",
        ";xvaabiidah\n",
        "ijdaad"
       ]
      },
      {
       "output_type": "stream",
       "stream": "stdout",
       "text": [
        "\n",
        "warning  ijdaad  is no longer \u0907\u091c\u094d\u0926\u093e\u0926\n",
        "niyaaz\n",
        "naisaan-e bahaar\n",
        "qaaliin\n",
        "shab-e aalaam\n",
        "((ar.z-e hunar\n",
        "mujhii"
       ]
      },
      {
       "output_type": "stream",
       "stream": "stdout",
       "text": [
        "\n",
        "sarodo;n\n",
        "miinaar-o-gunbad\n",
        "shahr-e barbaad\n",
        "jaah-o-jalaal-e qadiim\n",
        "mor-o-mala;x\n",
        "qirmiz"
       ]
      },
      {
       "output_type": "stream",
       "stream": "stdout",
       "text": [
        "\n",
        "sar-e bistar-e sanjaab\n",
        "warning  sar-e bistar-e sanjaab  is no longer \u0938\u0930\u2010\u090f\u2010\u092c\u093f\u0938\u094d\u0924\u0930\u2010\u090f\u2010\u0938\u0902\u091c\u093e\u092c\n",
        "gum-shudah\n",
        "warning  gum-shudah  is no longer \u0917\u0941\u092e\u0936\u0941\u0926\u093e\n",
        ";than;daa\n",
        "dar-e bastah\n",
        "rakh-kar\n",
        "sang_dil"
       ]
      },
      {
       "output_type": "stream",
       "stream": "stdout",
       "text": [
        "\n",
        "lagaava;t\n",
        "jaa_ruub\n",
        ";haamil\n",
        "aa;ndhiyaa;n\n",
        "kah_kashaa;n\n",
        "dii\n",
        "ra;gbat"
       ]
      },
      {
       "output_type": "stream",
       "stream": "stdout",
       "text": [
        "\n",
        "jolaa;n_gaah\n",
        "ma((aaf\n",
        "jaa;n-kand\n",
        "rah_guzar\n",
        "pahlaa\n",
        "sochii\n",
        "si;hr\n",
        "ma((duum\n",
        "mujrim\n",
        "bachcho;n"
       ]
      },
      {
       "output_type": "stream",
       "stream": "stdout",
       "text": [
        "\n",
        ".sulb-e aadam\n",
        "sar-o-muu\n",
        "shaadaab\n",
        "aarzuu-e ;xastah\n",
        "be-;haasil\n",
        "gahraa\n",
        "salaamat\n",
        ";hujrah-e shab\n",
        "sail-e nuur-e andaruu;n\n",
        "piro))e"
       ]
      },
      {
       "output_type": "stream",
       "stream": "stdout",
       "text": [
        "\n",
        "bol\n",
        "ja;zbaat\n",
        "laa))e;nge\n",
        "ajsaam\n",
        "warning  ajsaam  is no longer \u0905\u091c\u094d\u0938\u093e\u092e\n",
        "mur;g-e parraa;n\n",
        "gau;njtii\n",
        "fa.zaa-e :tiflii\n",
        "yaadgaar"
       ]
      },
      {
       "output_type": "stream",
       "stream": "stdout",
       "text": [
        "\n",
        "rah_numaa\n",
        "dast-e la))iim\n",
        "mu.z:tarib\n",
        "mu;habbat-e sar-madii\n",
        "paidaa))ish"
       ]
      },
      {
       "output_type": "stream",
       "stream": "stdout",
       "text": [
        "\n",
        ";xaamushii\n",
        "navaa-e abr\n",
        "dajlah\n",
        "nishaanii\n",
        "laa))ii\n",
        "chasmo;n\n",
        "ubaltaa\n",
        "nasrii;n\n",
        "roz-e bashaarat"
       ]
      },
      {
       "output_type": "stream",
       "stream": "stdout",
       "text": [
        "\n",
        "ummiid\n",
        "warning  ummiid  is no longer \u0909\u092e\u094d\u092e\u0940\u0926\n",
        "shahiido;n\n",
        "zaaviye\n",
        "siyah\n",
        "hai;n;\n",
        "fikr\n",
        "shah_raah-e mubta;zil\n",
        "kha;re"
       ]
      },
      {
       "output_type": "stream",
       "stream": "stdout",
       "text": [
        "\n",
        "ma;hjuubaanah\n",
        "ha;nsne-vaale\n",
        ";xvaab-e la;z;zat-aagii;n\n",
        "rab:t\n",
        "kinaaro;n\n",
        "barahnah-o-kaahiidah\n",
        "diruun-e aadam"
       ]
      },
      {
       "output_type": "stream",
       "stream": "stdout",
       "text": [
        "\n",
        "partav\n",
        "paa))o;n\n",
        "utaare\n",
        "qudsiyo;n\n",
        "gesuu))o;n\n",
        "dekhne\n",
        "ta;xt-e jam-o-taaj-e kai\n",
        "kaamraaniyaa;n\n",
        "aazaad\n",
        "bar-paa"
       ]
      },
      {
       "output_type": "stream",
       "stream": "stdout",
       "text": [
        "\n",
        "be-;xabrii\n",
        "mat\n",
        "pahchaantaa\n",
        "mad\n",
        "nikaaluu;n\n",
        "tund-o-tez\n",
        "naa-diidah\n",
        "safiinah-gar\n",
        "maah-o-saal-e nuur\n",
        "navaa-o-yak\n",
        "vaadiyo;n"
       ]
      },
      {
       "output_type": "stream",
       "stream": "stdout",
       "text": [
        "\n",
        "buto;n\n",
        "utraa\n",
        "qaaliino;n\n",
        "tah-e ;xaak\n",
        "jaalaa\n",
        "aagaah\n",
        "giraa\n",
        "ma((aanii\n",
        "ho;n;to;n\n",
        "gu;zartaa\n",
        "sahaare\n",
        "afzaa))ish\n",
        "qaid-o-band\n",
        "mu:tma))in"
       ]
      },
      {
       "output_type": "stream",
       "stream": "stdout",
       "text": [
        "\n",
        "dard-e laa-davaa\n",
        "miinaa-o-jaam-o-sabuu\n",
        "chiidah\n",
        "bhuukaa\n",
        "buntaa\n",
        ";xvush-buu\n",
        "maanind-e naqiib\n",
        "gesuu"
       ]
      },
      {
       "output_type": "stream",
       "stream": "stdout",
       "text": [
        "\n",
        "maare\n",
        ":taviil\n",
        "masaamo;n\n",
        "hangaam-e tapaak\n",
        "viiraano;n\n",
        "raah-o-rasm-e manzil\n",
        "chalne-vaalo;n"
       ]
      },
      {
       "output_type": "stream",
       "stream": "stdout",
       "text": [
        "\n",
        ";huur-e ((i.smat\n",
        "paidaa\n",
        "fiiroz-ba;xto\n",
        "saraa-pardah-e nisyaan\n",
        "raah-e shauq"
       ]
      },
      {
       "output_type": "stream",
       "stream": "stdout",
       "text": [
        "\n",
        "naache;nge\n",
        "nihaayat-e inti:zaar\n",
        "va;hshat-aaluud\n",
        "larzish-e paiham\n",
        "rahne\n",
        ".sad\n",
        "kamii;n\n",
        "man-o-salv;aa\n",
        "bolte"
       ]
      },
      {
       "output_type": "stream",
       "stream": "stdout",
       "text": [
        "\n",
        "takraar-e daaraa))ii\n",
        "sah-ke\n",
        "yaktaa))ii\n",
        "dard-e majruumii\n",
        "u;t;the\n",
        "be-chaare\n",
        "shahr-o-qaryah\n",
        "sar_;had\n",
        "ba;rh\n",
        "re;ngne-vaale\n",
        "shab-e zabaa;n-bandii"
       ]
      },
      {
       "output_type": "stream",
       "stream": "stdout",
       "text": [
        "\n",
        "dast-e siyah\n",
        "sipaar\n",
        "bad-tar\n",
        "jaam-o-miinaa-o-guldaa;n\n",
        "warning "
       ]
      },
      {
       "output_type": "stream",
       "stream": "stdout",
       "text": [
        " jaam-o-miinaa-o-guldaa;n  is no longer \u091c\u093e\u092e\u2010\u0913\u2010\u092e\u0940\u0928\u093e\u2010\u0913\u2010\u0917\u0941\u0932\u0926\u093e\u0901\n",
        ";dhuu;n;dne\n",
        "parvarish\n",
        "amiir-o-gadaa\n",
        "nishaan-e sar-e manzil\n",
        "lab_rez"
       ]
      },
      {
       "output_type": "stream",
       "stream": "stdout",
       "text": [
        "\n",
        "na;gmah-e ;xaam\n",
        "chasm-e aaz-e .sayyaad\n",
        "aa;nch\n",
        "bataa))ii\n",
        "tham\n",
        "ha;nste\n",
        "sar-e baazaar"
       ]
      },
      {
       "output_type": "stream",
       "stream": "stdout",
       "text": [
        "\n",
        "bane;n\n",
        ";halq\n",
        "sam\n",
        "bahaa))uu;ngaa\n",
        "piiraanah\n",
        "naa-rasaa\n",
        "((uzlat-guzii;n\n",
        "so;xtah-sar"
       ]
      },
      {
       "output_type": "stream",
       "stream": "stdout",
       "text": [
        "\n",
        "lam;he\n",
        "likhuu;n\n",
        "utre;n\n",
        "banaa-re;xtah\n",
        "((adam\n",
        "bandagii-e qaa.zii-e ;haajaat\n",
        "pair"
       ]
      },
      {
       "output_type": "stream",
       "stream": "stdout",
       "text": [
        "\n",
        "hi;zyaan\n",
        "paa-maalii\n",
        ":tabl\n",
        "nishaan-e paa\n",
        "aa-kar\n",
        "aahang-e suruur\n",
        "nihaa;n-;xaano;n\n",
        "tiin"
       ]
      },
      {
       "output_type": "stream",
       "stream": "stdout",
       "text": [
        "\n",
        "raq.s-e be-zamaa;n\n",
        "shor\n",
        "arzaa;n\n",
        "sharm\n",
        "dar-baaz\n",
        ";gurbat\n",
        "naa-kardah\n",
        "shah-raaho;n\n",
        "zahr\n",
        "nuur-e abad\n",
        ";halaavato;n"
       ]
      },
      {
       "output_type": "stream",
       "stream": "stdout",
       "text": [
        "\n",
        ";gam-diidah\n",
        "shikast-e miinaa-o-jaam\n",
        ";hariim-e gunaah\n",
        "sitam_gar\n",
        "raah-e faraar"
       ]
      },
      {
       "output_type": "stream",
       "stream": "stdout",
       "text": [
        "\n",
        ";xamiir\n",
        "bhuure\n",
        "payaam-e marg-e javaanii\n",
        "zaituuno;n\n",
        "raftah-o-gu;zashtah\n",
        ";zaraa"
       ]
      },
      {
       "output_type": "stream",
       "stream": "stdout",
       "text": [
        "\n",
        "armaa;n\n",
        "havaa-e taazah-o-kisht-e shaadaab-o-chashmah-e jaa;n-firoz\n",
        "bah-gil\n",
        "cha;rhaa\n",
        "huvaidaa\n",
        "((aruusii"
       ]
      },
      {
       "output_type": "stream",
       "stream": "stdout",
       "text": [
        "\n",
        "baa;nho;n\n",
        "bhuut\n",
        "shumaar\n",
        "aab-o-gil\n",
        ".sifr-e ((a:ziim\n",
        "afrangii\n",
        "warning  afrangii  is no longer \u0905\u092b\u093c\u094d\u0930\u0902\u0917\u0940\n",
        "gurisnah-nigah\n",
        ";zauq"
       ]
      },
      {
       "output_type": "stream",
       "stream": "stdout",
       "text": [
        "\n",
        "fusuu;n-kaar\n",
        "kaahin-e daanish_var-o-((aalii-guhar-o-piir\n",
        "aaz-e ;xuu;n-;xvaar\n",
        "asad-o-;saur\n",
        "marg-e mabram\n",
        "kaa;np-kar"
       ]
      },
      {
       "output_type": "stream",
       "stream": "stdout",
       "text": [
        "\n",
        ";haa))il\n",
        "pareshaa;n\n",
        ";zauq-e ((i.syaa;n\n",
        "por\n",
        "la;rkii\n",
        "gum_rahii\n",
        "damak\n",
        "aa))egaa\n",
        "saaq-e .sandalii;n"
       ]
      },
      {
       "output_type": "stream",
       "stream": "stdout",
       "text": [
        "\n",
        ";xuush\n",
        "banafshe\n",
        "rah_guzaaro;n\n",
        "paa))e\n",
        "mard\n",
        "karoge\n",
        "daur-e naa-sazaa\n",
        "kunj-e gulaab\n",
        "ta))miin\n",
        "uljhane;n"
       ]
      },
      {
       "output_type": "stream",
       "stream": "stdout",
       "text": [
        "\n",
        "warning  uljhane;n  is no longer \u0909\u0932\u094d\u091d\u0928\u0947\u0902\n",
        "mu;zab;zab\n",
        "bachaa\n",
        "banii\n",
        "guhar\n",
        "faati;h\n",
        "sho;xii\n",
        "saalaar\n",
        "shaam-e jaa;n-sitaa;n\n",
        "ja;zb"
       ]
      },
      {
       "output_type": "stream",
       "stream": "stdout",
       "text": [
        "\n",
        "labo;n\n",
        "jaraa;siim\n",
        "pa;ziiraa))ii\n",
        "ishtiraak-e giraa;n-bahaa\n",
        "warning  ishtiraak-e giraa;n-bahaa  is no longer \u0907\u0936\u094d\u0924\u093f\u0930\u093e\u0915\u2010\u090f\u2010\u0917\u093f\u0930\u093e\u0901\u092c\u0939\u093e\n",
        "be-ma((nii\n",
        "sust\n",
        "parvardah-e ((ashvah-baazii"
       ]
      },
      {
       "output_type": "stream",
       "stream": "stdout",
       "text": [
        "\n",
        "ju;nbish\n",
        "((aarifaanah\n",
        "samo\n",
        "pau\n",
        "siikne\n",
        "do-pahro;n\n",
        "vujuudo;n\n",
        ";dubotii"
       ]
      },
      {
       "output_type": "stream",
       "stream": "stdout",
       "text": [
        "\n",
        ";gaazah\n",
        "rangii;n\n",
        "kamand-e ((a:ziim\n",
        "shahryaar\n",
        "la;z;zat-e tasliim\n",
        "warning  la;z;zat-e tasliim  is no longer \u0932\u091c\u093c\u094d\u091c\u093c\u0924\u2010\u090f\u2010\u0924\u0938\u094d\u0932\u0940\u092e\n",
        "samoyaa"
       ]
      },
      {
       "output_type": "stream",
       "stream": "stdout",
       "text": [
        "\n",
        "tamannaa-e va.sl-e ma((naa\n",
        "manaa:zir\n",
        "qaalib\n",
        "so))e\n",
        "sabzo;n\n",
        "((aurato;n\n",
        ";haafi:zah"
       ]
      },
      {
       "output_type": "stream",
       "stream": "stdout",
       "text": [
        "\n",
        ";xvaajah-saraa))o;n\n",
        "asiir\n",
        "nasiim\n",
        "guzrii\n",
        "takallum\n",
        "dosto;n\n",
        "angrez\n",
        "nauchtaa\n",
        ";tuu;tii\n",
        "musaakin\n",
        "kaa;x-e fa;gfuur-o-kusr;aa\n",
        "sham((-e shabistaan-e vafaa"
       ]
      },
      {
       "output_type": "stream",
       "stream": "stdout",
       "text": [
        "\n",
        "saa))e\n",
        "zamaan-e be-zamaa;n\n",
        "sunaate\n",
        "ruu-posh\n",
        "jaam-o-sabuu\n",
        "dete\n",
        ";haadi;so;n\n",
        "nigaah"
       ]
      },
      {
       "output_type": "stream",
       "stream": "stdout",
       "text": [
        "\n",
        "manaa\n",
        "kaabuus-e maa.zii\n",
        "lau;toge\n",
        "parvardah\n",
        "shikvah-haa-e nai\n",
        "fanaa\n",
        "aahan-o-chob-o-sang-o-siimaa;n\n",
        "lab-haa-e azal-tishnah"
       ]
      },
      {
       "output_type": "stream",
       "stream": "stdout",
       "text": [
        "\n",
        "warning  lab-haa-e azal-tishnah  is no longer \u0932\u092c\u0939\u093e\u2010\u090f\u2010\u0905\u091c\u093c\u0932\u0924\u093f\u0936\u094d\u0928\u093e\n",
        "iiraan\n",
        "mah-jabiine;n\n",
        "ristah-haa-e aahan\n",
        "handase\n",
        "gulistaan-e tarannum\n",
        "abresham"
       ]
      },
      {
       "output_type": "stream",
       "stream": "stdout",
       "text": [
        "\n",
        "warning  abresham  is no longer \u0905\u092c\u094d\u0930\u0947\u0936\u092e\n",
        ":tanaab\n",
        "bhe;riye\n",
        "bharii\n",
        "siyaah\n",
        "((ishrato;n\n",
        "izhdihaam-e insaa;n\n",
        "warning "
       ]
      },
      {
       "output_type": "stream",
       "stream": "stdout",
       "text": [
        " izhdihaam-e insaa;n  is no longer \u0907\u091d\u093c\u094d\u0926\u093f\u0939\u093e\u092e\u2010\u090f\u2010\u0907\u0902\u0938\u093e\u0901\n",
        ";harf-e siyah\n",
        "karam\n",
        "chor\n",
        "ma;hjuub\n",
        "taras\n",
        "guu;nge\n",
        "duzdiidah-o-zhuuliidah\n",
        "sukuut-e ajal"
       ]
      },
      {
       "output_type": "stream",
       "stream": "stdout",
       "text": [
        "\n",
        "ruumaan\n",
        ";subuut\n",
        "utarne\n",
        "kaho\n",
        "hiraasaa;n\n",
        "vahaa;n\n",
        ";hukuumat\n",
        "pahu;nche;n\n",
        "mah-jabiino;n\n",
        "qaafilo\n",
        "tahe;n"
       ]
      },
      {
       "output_type": "stream",
       "stream": "stdout",
       "text": [
        "\n",
        "sar_ba_sar\n",
        "juz\n",
        ";z;ehn-e rasaa\n",
        "muuziik\n",
        "mazaar\n",
        "shaa;xe;n\n",
        "zer-e girdaab"
       ]
      },
      {
       "output_type": "stream",
       "stream": "stdout",
       "text": [
        "\n",
        "rang-o-nak'hat\n",
        "pech-o-taab\n",
        "uu;nche\n",
        "aarzuu-mandii\n",
        "patangaa"
       ]
      },
      {
       "output_type": "stream",
       "stream": "stdout",
       "text": [
        "\n",
        "ta((miir\n",
        "darze;n\n",
        "mausam-e ((ishrat-fashaar\n",
        "ra((naa))ii\n",
        ";xuub-.suurat"
       ]
      },
      {
       "output_type": "stream",
       "stream": "stdout",
       "text": [
        "\n",
        "mauhuum\n",
        "qaafile\n",
        "chauko;n\n",
        "aalaa))isho;n\n",
        "laq-o-daq"
       ]
      },
      {
       "output_type": "stream",
       "stream": "stdout",
       "text": [
        "\n",
        "lap;tii\n",
        "dekhnaa\n",
        "goshah-e baa:tin\n",
        "paimaane\n",
        "dil_band\n",
        "sog-vaar"
       ]
      },
      {
       "output_type": "stream",
       "stream": "stdout",
       "text": [
        "\n",
        "il;haad\n",
        "warning  il;haad  is no longer \u0907\u0932\u094d\u0939\u093e\u0926\n",
        "marz-e :tilism-o-rang-o-;xayaal-o-na;gmah\n",
        "farishto;n\n",
        "warning "
       ]
      },
      {
       "output_type": "stream",
       "stream": "stdout",
       "text": [
        " farishto;n  is no longer \u092b\u093c\u0930\u093f\u0936\u094d\u0924\u094b\u0902\n",
        "mafar\n",
        "jashn-e ((aruusii\n",
        "kanakhyo;n\n",
        "warning  kanakhyo;n  is no longer \u0915\u0928\u0916\u094d\u092f\u094b\u0902\n",
        ";gazaa"
       ]
      },
      {
       "output_type": "stream",
       "stream": "stdout",
       "text": [
        "\n",
        "mast\n",
        "hai))at\n",
        "adab\n",
        ";halqah-zan\n",
        "saaye\n",
        "tajliil\n",
        "tanhaa))ii-e jaa;n_kaah\n",
        ":tanz\n",
        "ziyaa;n"
       ]
      },
      {
       "output_type": "stream",
       "stream": "stdout",
       "text": [
        "\n",
        "degaa\n",
        "nange\n",
        "sar-giraanii\n",
        "jaisii\n",
        "hon;to;n\n",
        "guftaar\n",
        "banaate\n",
        "baraabar\n",
        "pukaare"
       ]
      },
      {
       "output_type": "stream",
       "stream": "stdout",
       "text": [
        "\n",
        "((a:zmat-e naa-rasaa\n",
        "shahanshaaho;n\n",
        "((aruus-e javaa;n-saal-e fardaa\n",
        "warning  ((aruus-e javaa;n-saal-e fardaa  is no longer \u0905\u0930\u0942\u0938\u2010\u090f\u2010\u091c\u0935\u093e\u0901\u0938\u093e\u0932\u2010\u090f\u2010\u092b\u093c\u0930\u094d\u0926\u093e\n",
        "ha;nse"
       ]
      },
      {
       "output_type": "stream",
       "stream": "stdout",
       "text": [
        "\n",
        ";ganiim\n",
        "sharaarat\n",
        "aahanii\n",
        "shaqiiq-o-nastaran\n",
        "warning  shaqiiq-o-nastaran  is no longer \u0936\u0915\u093c\u0940\u0915\u093c\u2010\u0913\u2010\u0928\u0938\u094d\u0924\u0930\u0928\n",
        "tel\n",
        "falsafii\n",
        "be-dardii\n",
        "puuchhe\n",
        ";xiimah-figan\n",
        "aahang-e musalsal"
       ]
      },
      {
       "output_type": "stream",
       "stream": "stdout",
       "text": [
        "\n",
        "tez\n",
        "auraaq\n",
        "mar;halah\n",
        "sabuu\n",
        "karne\n",
        "qaarii\n",
        "titliyo;n\n",
        "jitnii"
       ]
      },
      {
       "output_type": "stream",
       "stream": "stdout",
       "text": [
        "\n",
        "angaaro;n\n",
        "((ajab\n",
        "hast\n",
        "bahaayaa\n",
        "saman\n",
        "barg-e gul\n",
        "ma;hruumiyo;n\n",
        "qiyaas\n",
        "base"
       ]
      },
      {
       "output_type": "stream",
       "stream": "stdout",
       "text": [
        "\n",
        "kashaakash\n",
        ".sadaa))o;n\n",
        "kinaayo;n\n",
        "aazaadii\n",
        "doshiizah\n",
        "bahaar-e taqdiis-e jaavidaa;n\n",
        ";husn-e paivand\n",
        "an-ganit\n",
        "shor-o-shar\n",
        "gosh"
       ]
      },
      {
       "output_type": "stream",
       "stream": "stdout",
       "text": [
        "\n",
        "iimaa-e :zahuur\n",
        "lagtaa\n",
        "saktii\n",
        "gumbado;n\n",
        "warning  gumbado;n  is no longer \u0917\u0941\u092e\u094d\u092c\u0926\u094b\u0902\n",
        "gurisnah-o-paa\n",
        "rubaab\n",
        "phaile"
       ]
      },
      {
       "output_type": "stream",
       "stream": "stdout",
       "text": [
        "\n",
        "mahjuur\n",
        "dhiimii\n",
        "multafat\n",
        "goshah-e diivaar\n",
        "siyah-post\n",
        "khe;nch\n",
        "mak;rii"
       ]
      },
      {
       "output_type": "stream",
       "stream": "stdout",
       "text": [
        "\n",
        "der\n",
        "bajaa\n",
        "jahd-e be-kaar\n",
        "fa.zaa\n",
        ".su((uubato;n\n",
        "siinah-e giitii\n",
        "ustaaniyaa;n\n",
        "warning  ustaaniyaa;n  is no longer \u0909\u0938\u094d\u0924\u093e\u0928\u093f\u092f\u093e\u0901\n",
        ".zarb-e kaarii\n",
        "baadalo;n\n",
        "nichle"
       ]
      },
      {
       "output_type": "stream",
       "stream": "stdout",
       "text": [
        "\n",
        "zabuu;n\n",
        "za;nbuur\n",
        "paa-zeb-e qadiim\n",
        "ha;nsegii\n",
        "be-huudah\n",
        "bistar-e sanjaab-o-samuur\n",
        "pahnaa))iyaa;n"
       ]
      },
      {
       "output_type": "stream",
       "stream": "stdout",
       "text": [
        "\n",
        ";xufyah\n",
        "yatiim\n",
        "mausam-e nashaa:t\n",
        "a;nboh\n",
        "i:zhaar\n",
        "warning  i:zhaar  is no longer \u0907\u091c\u093c\u094d\u0939\u093e\u0930\n",
        "sar-e chaak\n",
        "shajar"
       ]
      },
      {
       "output_type": "stream",
       "stream": "stdout",
       "text": [
        "\n",
        ";xilaaf\n",
        "bhare;nge\n",
        "paudaa\n",
        "aastaa;n\n",
        "warning  aastaa;n  is no longer \u0906\u0938\u094d\u0924\u093e\u0901\n",
        "salaam\n",
        "((aafiyat-koshii-e aabaa\n",
        "ba;xshe;n"
       ]
      },
      {
       "output_type": "stream",
       "stream": "stdout",
       "text": [
        "\n",
        "a;ziiyato;n\n",
        "himmat-e yazdaa;n\n",
        "warning  himmat-e yazdaa;n  is no longer \u0939\u093f\u092e\u094d\u092e\u0924\u2010\u090f\u2010\u092f\u091c\u093c\u094d\u0926\u093e\u0901\n",
        "man-o-tuu\n",
        "hech-maayah\n",
        "jaa))o\n",
        "raaste\n",
        "sa;xaavato;n\n",
        "lu;n;dhaa))e;nge\n",
        "d;ehliiz\n",
        ".suraa;hii-o-miinaa-o-jaam-o-sabuu"
       ]
      },
      {
       "output_type": "stream",
       "stream": "stdout",
       "text": [
        "\n",
        "dara;xshaa;n\n",
        "warning  dara;xshaa;n  is no longer \u0926\u0930\u0916\u093c\u094d\u0936\u093e\u0901\n",
        "qaamat\n",
        "baazuu\n",
        "hilaayaa\n",
        "zaanuu\n",
        ";halqe\n",
        "aadaab\n",
        "la;z;zato;n\n",
        "afsaano;n\n",
        "warning  afsaano;n  is no longer \u0905\u092b\u093c\u094d\u0938\u093e\u0928\u094b\u0902\n",
        "be-panaah\n",
        "zamzamo;n\n",
        "maav;aa"
       ]
      },
      {
       "output_type": "stream",
       "stream": "stdout",
       "text": [
        "\n",
        "ma((nii\n",
        "chi;rhaa))uu;n\n",
        "girah-aaluud\n",
        "vahii;n\n",
        "ak;sar\n",
        "warning  ak;sar  is no longer \u0905\u0915\u094d\u0938\u0930\n",
        "kam_sin\n",
        "guu;n\n",
        "va;hshat\n",
        "mubtalaa\n",
        "roz-e aasaa))ish\n",
        ":zulmat-e shab"
       ]
      },
      {
       "output_type": "stream",
       "stream": "stdout",
       "text": [
        "\n",
        "qahqahe\n",
        "buz-dilii\n",
        ";xayaalaat\n",
        "sahmii\n",
        "sar-e pul\n",
        "chho;r\n",
        "jashn-e aadam\n",
        "gunah\n",
        "be-nuur-o-taar\n",
        "ashyaa"
       ]
      },
      {
       "output_type": "stream",
       "stream": "stdout",
       "text": [
        "\n",
        ";hiilah\n",
        "tanuu-mand\n",
        "ba;rhtii\n",
        "pul\n",
        "rif((at\n",
        "dhokaa\n",
        "buzurg-o-bar-tar\n",
        "baa((i;s"
       ]
      },
      {
       "output_type": "stream",
       "stream": "stdout",
       "text": [
        "\n",
        "man:zir-e rangii;n\n",
        "laasho;n\n",
        "nau-baras\n",
        "raah-e vi.saal\n",
        "farangiyo;n\n",
        "darjah\n",
        "vus((ato;n\n",
        "vilaadat\n",
        ";dar\n",
        "daryaa-dilii\n",
        "dil-shaadii\n",
        "buuso;n"
       ]
      },
      {
       "output_type": "stream",
       "stream": "stdout",
       "text": [
        "\n",
        "sujhaa))ii\n",
        "kholhe\n",
        "nazdiik\n",
        "hote\n",
        ";daraate\n",
        "gu;nbado;n\n",
        "nigah_baa;n\n",
        "ma;hbuub"
       ]
      },
      {
       "output_type": "stream",
       "stream": "stdout",
       "text": [
        "\n",
        "biivah\n",
        "jamii\n",
        ":tuufaa;n\n",
        "paimaano;n\n",
        "be-naqaab\n",
        "ruu-e safed\n",
        "pai;gaam-e i;nbisaa:t\n",
        "samajhtii\n",
        "guzre;\n",
        "shab-haa-e zimistaa;n\n",
        "duhraa"
       ]
      },
      {
       "output_type": "stream",
       "stream": "stdout",
       "text": [
        "\n",
        "golaa))ii\n",
        "bahaa-kar\n",
        "pasiine\n",
        "sabiil\n",
        "bhaarii\n",
        "gusaarii\n",
        "yihii;n\n",
        "rukii\n",
        "garmaa))e;nge\n",
        "warning  garmaa))e;nge  is no longer \u0917\u0930\u094d\u092e\u093e\u090f\u0902\u0917\u0947\n",
        "sar-garaanii\n",
        "lim\n",
        "be-daar\n",
        "viiraaniyo;n"
       ]
      },
      {
       "output_type": "stream",
       "stream": "stdout",
       "text": [
        "\n",
        "judaa\n",
        "diraaz-o-taariik\n",
        "chuur\n",
        "re;ngte\n",
        "siimaa))o;n\n",
        "fasaanah\n",
        ".ziyaa\n",
        "chunte\n",
        "patto;n\n",
        "faraamoshii\n",
        "ristaa"
       ]
      },
      {
       "output_type": "stream",
       "stream": "stdout",
       "text": [
        "\n",
        "warning  ristaa  is no longer \u0930\u093f\u0938\u0924\u093e\n",
        "pankhaa\n",
        "kaisii\n",
        "shabistaa;n\n",
        "ruus\n",
        "gil-o-rang-o-rau;gan\n",
        "vujuud-e aadmii\n",
        "raag\n",
        "amiiro;n\n",
        "phailii\n",
        "zor-e mai\n",
        "farsuudah"
       ]
      },
      {
       "output_type": "stream",
       "stream": "stdout",
       "text": [
        "\n",
        "laa))egii\n",
        "abr-o-mahtaab\n",
        ".said-e naa-tavaa;n\n",
        "kitaabo;n\n",
        "kitaabe;n\n",
        "taaziyaane"
       ]
      },
      {
       "output_type": "stream",
       "stream": "stdout",
       "text": [
        "\n",
        "gaa))e;n\n",
        "chalne\n",
        "mu;guul\n",
        "nazuul\n",
        "pareshaan\n",
        "dev-e aahan\n",
        "sukuut-e marg\n",
        "buu-e tund"
       ]
      },
      {
       "output_type": "stream",
       "stream": "stdout",
       "text": [
        "\n",
        "hilte\n",
        "du((aa))o;n\n",
        "sujhaataa\n",
        "baar-e mizhgaa;n\n",
        "bach-ke\n",
        "((aadat\n",
        "((uzlato;n\n",
        "raazo;n"
       ]
      },
      {
       "output_type": "stream",
       "stream": "stdout",
       "text": [
        "\n",
        "dil_shaad\n",
        "arzish\n",
        "reg-e diiruuz\n",
        "paivastagii-e shauq\n",
        "uu;nchii\n",
        "sarod-e chang\n",
        "viiraanii"
       ]
      },
      {
       "output_type": "stream",
       "stream": "stdout",
       "text": [
        "\n",
        "kiran\n",
        "suuraj\n",
        ";gaar\n",
        "sar-bastah-o-ruu-band\n",
        ";xayaabaan-e sa((dii\n",
        "((i;zaar-e jahaa;n\n",
        "mu;xta.sar-o-tiirah-o-taar\n",
        ";saaniye"
       ]
      },
      {
       "output_type": "stream",
       "stream": "stdout",
       "text": [
        "\n",
        "lahraate\n",
        ".san((at-garo;n\n",
        "parvaaz\n",
        "nafuu;z\n",
        "kashtii\n",
        "vufuur\n",
        "raah_rau\n",
        "daste\n",
        "ula;tne"
       ]
      },
      {
       "output_type": "stream",
       "stream": "stdout",
       "text": [
        "\n",
        ";xvush_buu))o;n\n",
        "taal\n",
        "shahr-e auhaam\n",
        "pahchaantii\n",
        "andar\n",
        "chaahtaa\n",
        ";xaak-daa;n\n",
        "raah-gum-kardo;n\n",
        "justjuu"
       ]
      },
      {
       "output_type": "stream",
       "stream": "stdout",
       "text": [
        "\n",
        "ha;nstaa\n",
        "utaaraa\n",
        "ta.sviire;n\n",
        "nigraa;n\n",
        "manba((-e kaif-o-suruur\n",
        "shaa;xo;n"
       ]
      },
      {
       "output_type": "stream",
       "stream": "stdout",
       "text": [
        "\n",
        "jins-e saudaagarii\n",
        "nau;hah-;xvaanii\n",
        "falsafe\n",
        "farhaad-o-shiirii;n\n",
        "dast-e jaaduu-gar\n",
        "gaa\n",
        "kaavish-e be_daarii\n",
        "siyaasat"
       ]
      },
      {
       "output_type": "stream",
       "stream": "stdout",
       "text": [
        "\n",
        "juu-e na;gmah\n",
        "paakiizah\n",
        "pyaas\n",
        "taz))iin\n",
        "lagan\n",
        "ma;hfuu:z\n",
        "kirne;n\n",
        "shaame;n\n",
        "zer-e lab"
       ]
      },
      {
       "output_type": "stream",
       "stream": "stdout",
       "text": [
        "\n",
        "ufqii\n",
        "samjhii\n",
        "m;ehmaa;n\n",
        ".sofe\n",
        "nikalte\n",
        "shar\n",
        "tabaah-o-afsurdah\n",
        "ma;zhab"
       ]
      },
      {
       "output_type": "stream",
       "stream": "stdout",
       "text": [
        "\n",
        "saudaa-garii\n",
        "jha;njho;raa\n",
        "afsuu;n-zadah\n",
        "shai\n",
        "labaaso;n\n",
        "sa;xt\n",
        "naazuk-sii\n",
        ";xiraam-vaale"
       ]
      },
      {
       "output_type": "stream",
       "stream": "stdout",
       "text": [
        "\n",
        "zor-e paidaa))ii\n",
        "ha;nsne\n",
        "kirno;n\n",
        "ib'haam\n",
        "phuvaaro;n\n",
        "mai-kado;n\n",
        "raab:tah\n",
        "hangaamah\n",
        "bahruupi))e"
       ]
      },
      {
       "output_type": "stream",
       "stream": "stdout",
       "text": [
        "\n",
        ";xaakistar-e so;xtah\n",
        "u;r\n",
        "umiid-e vafaa\n",
        "phuu;t\n",
        "hamah-tan\n",
        "fizuu;n\n",
        "lahje\n",
        "laatii\n",
        "ajdaad\n",
        "warning  ajdaad  is no longer \u0905\u091c\u094d\u0926\u093e\u0926\n",
        "khul\n",
        ".za((iif\n",
        "imkaa;n\n",
        "chalak\n",
        ":tilism\n",
        "daryuuzah-garii"
       ]
      },
      {
       "output_type": "stream",
       "stream": "stdout",
       "text": [
        "\n",
        "mausiiqii-o-((ishrat\n",
        "bahaa\n",
        "sahme\n",
        "jaadah-kash-e raah-e :taviil\n",
        "ruu-e gardaa;n\n",
        "giryah-o-aah-o-fi;gaa;n\n",
        "raah_zan"
       ]
      },
      {
       "output_type": "stream",
       "stream": "stdout",
       "text": [
        "\n",
        "a;ndoh\n",
        "maanaa\n",
        "sha;x.s\n",
        "gulaab\n",
        "jabr-e :taaqat-rubaa\n",
        "kah-kashaa;n\n",
        "jashn"
       ]
      },
      {
       "output_type": "stream",
       "stream": "stdout",
       "text": [
        "\n",
        "lahlahaataa\n",
        "bosah\n",
        "adiib\n",
        "iqliim-e shiir-o-shahd-o-sharaab-o-;xurmaa\n",
        "sadd-e nigah"
       ]
      },
      {
       "output_type": "stream",
       "stream": "stdout",
       "text": [
        "\n",
        "daad-gaahe;n\n",
        "puraa\n",
        "sochtii\n",
        "baqaa-e mauhuum\n",
        "tas;xiir\n",
        "bayaa;n\n",
        ";xvurshiid"
       ]
      },
      {
       "output_type": "stream",
       "stream": "stdout",
       "text": [
        "\n",
        "warning  ;xvurshiid  is no longer \u0916\u093c\u0941\u0930\u094d\u0936\u0940\u0926\n",
        "qaabil\n",
        "ruu\n",
        "phailtaa\n",
        "dil_kash\n",
        ";xvud-fahmii\n",
        "diyaar-e zindagii\n",
        "qabre;n\n",
        "mafruur"
       ]
      },
      {
       "output_type": "stream",
       "stream": "stdout",
       "text": [
        "\n",
        "mu.z:tarab\n",
        "tanii\n",
        "daryuuzah-gar\n",
        "sunaatii\n",
        ".sub;h-e takmiil\n",
        "javaan"
       ]
      },
      {
       "output_type": "stream",
       "stream": "stdout",
       "text": [
        "\n",
        "reg-zaaro;n\n",
        "milne\n",
        "maj;zuub\n",
        "dushvaar\n",
        "paarah-e naan-e javii;n\n",
        "shaahii"
       ]
      },
      {
       "output_type": "stream",
       "stream": "stdout",
       "text": [
        "\n",
        "parvardah-e anvaar\n",
        "ho;ngii\n",
        "shau;x\n",
        "raah-gu;zaar\n",
        "ta;hsii;n\n",
        "mub'ham\n",
        "tapaak\n",
        "chashmah-e makr-o-riyaa\n",
        "aaraa))ish\n",
        "basiiraa\n",
        ".suurat-garo;n\n",
        "simt-e raah-e nau"
       ]
      },
      {
       "output_type": "stream",
       "stream": "stdout",
       "text": [
        "\n",
        ":tilismii\n",
        "warning  :tilismii  is no longer \u0924\u093f\u0932\u093f\u0938\u094d\u092e\u0940\n",
        "dhaat\n",
        ".sahraa))o;n\n",
        "du((aa\n",
        "past-o-baalaa\n",
        "taazah-o-naa-diidah\n",
        ";hasrat-e i:zhaar-e shabaab"
       ]
      },
      {
       "output_type": "stream",
       "stream": "stdout",
       "text": [
        "\n",
        "kamar\n",
        "rod-e dajlah\n",
        "saamaa;n\n",
        "paikar-e ya;x-bastah\n",
        ";xastah-e kash_ma_kash-e fikr-o-((amal\n",
        "rahne-vaalii"
       ]
      },
      {
       "output_type": "stream",
       "stream": "stdout",
       "text": [
        "\n",
        "lene\n",
        "siiknii\n",
        "pa;r\n",
        "janaab-e ((azz-o-jal\n",
        "aalaam\n",
        "piroyaa\n",
        "paa-kobii\n",
        "a;sar"
       ]
      },
      {
       "output_type": "stream",
       "stream": "stdout",
       "text": [
        "\n",
        ";xvud-saa;xtah\n",
        "kai_;xusrav-o-kai_qubaad\n",
        "pala;t-kar\n",
        "sar-chashmah\n",
        "parasto;n"
       ]
      },
      {
       "output_type": "stream",
       "stream": "stdout",
       "text": [
        "\n",
        "paa))oge\n",
        "utrii\n",
        ";te;rhe\n",
        "raah-daa;n\n",
        "na;gmah-haa-e abr\n",
        "istibdaad\n",
        "warning  istibdaad  is no longer \u0907\u0938\u094d\u0924\u093f\u092c\u0926\u093e\u0926\n",
        "baato;n\n",
        ".ziyaa-e ulfat\n",
        "alvand"
       ]
      },
      {
       "output_type": "stream",
       "stream": "stdout",
       "text": [
        "\n",
        "warning  alvand  is no longer \u0905\u0932\u094d\u0935\u0902\u0926\n",
        ";dartaa\n",
        "taqdiis\n",
        "baate;n\n",
        "aayaa\n",
        ";xudaavand\n",
        "bachaane\n",
        "naqsh\n",
        "shu((aa((e;n\n",
        "((i:tr\n",
        "kirdaar\n",
        "jaltarang\n",
        "putle"
       ]
      },
      {
       "output_type": "stream",
       "stream": "stdout",
       "text": [
        "\n",
        ";hasiinah\n",
        "phu;tegii\n",
        "be-;hisii\n",
        "mauj-e fitnah\n",
        "hinduustaa;n\n",
        "jashn-e maahtaab\n",
        "dil_daadah"
       ]
      },
      {
       "output_type": "stream",
       "stream": "stdout",
       "text": [
        "\n",
        "da;gaa\n",
        "burj-o-baar-o-par\n",
        "rab:t-e jism-o-jaa;n\n",
        "daulat\n",
        "parii_zaado;n\n",
        ".sa;hraa))o;n\n",
        "sikaa\n",
        "ba;hr-o-bar\n",
        "buraa\n",
        "la;z;zat-e kul"
       ]
      },
      {
       "output_type": "stream",
       "stream": "stdout",
       "text": [
        "\n",
        "lagte\n",
        "chhaa))e\n",
        "bharosah\n",
        "numaayaa;n\n",
        "phu;nk\n",
        "hai;\n",
        "daur-e reg-o-havaa\n",
        "gu;zre\n",
        ";thi;thartii\n",
        "chaahat\n",
        ";xas-e naa-tavaa;n\n",
        "zavaal-e ((umr"
       ]
      },
      {
       "output_type": "stream",
       "stream": "stdout",
       "text": [
        "\n",
        "jahaaz\n",
        "kahuu;n\n",
        "ashk-rez\n",
        "((izzat\n",
        "tahliil\n",
        "reg-e hazyaa;n\n",
        "aa;nkh"
       ]
      },
      {
       "output_type": "stream",
       "stream": "stdout",
       "text": [
        "\n",
        "baaho;n\n",
        "akhaa;raa\n",
        "talvaaro;n\n",
        "chaaro;n\n",
        "baaraa;n-zadah\n",
        "warning  baaraa;n-zadah  is no longer \u092c\u093e\u0930\u093e\u0901\u091c\u093c\u0926\u093e\n",
        "lakiiro;n\n",
        "chhalak\n",
        "kyo;nkar\n",
        "pindaar-e raftah\n",
        "izhdihaam-e gul"
       ]
      },
      {
       "output_type": "stream",
       "stream": "stdout",
       "text": [
        "\n",
        "warning  izhdihaam-e gul  is no longer \u0907\u091d\u093c\u094d\u0926\u093f\u0939\u093e\u092e\u2010\u090f\u2010\u0917\u0941\u0932\n",
        ";xamiidah\n",
        "aalaam-e jaa;n-guzaa\n",
        "an-kahii\n",
        "shikast-e rang-e ((i;zaar-e ma;hbuub\n",
        "paivast"
       ]
      },
      {
       "output_type": "stream",
       "stream": "stdout",
       "text": [
        "\n",
        "zardusht\n",
        "diidah\n",
        "ma;hruumii\n",
        "taa\n",
        "nau((-e insaa;n\n",
        "lau;t-ke\n",
        ":tarab\n",
        "naa-gaah"
       ]
      },
      {
       "output_type": "stream",
       "stream": "stdout",
       "text": [
        "\n",
        "narm\n",
        "raah-po\n",
        ";xalq\n",
        ".sadaa-e abr\n",
        "nidaa\n",
        "goshah-e niim-raushan\n",
        "zebaa))ish"
       ]
      },
      {
       "output_type": "stream",
       "stream": "stdout",
       "text": [
        "\n",
        "la;z;zat-andoz-e dil-aavezii-e mauhuum\n",
        "be-i;xtiyaarii\n",
        "warning  be-i;xtiyaarii  is no longer \u092c\u0947\u0907\u0916\u093c\u094d\u0924\u093f\u092f\u093e\u0930\u0940\n",
        "((iid"
       ]
      },
      {
       "output_type": "stream",
       "stream": "stdout",
       "text": [
        "\n",
        "jahaan-e baaz-yaaftah\n",
        "aa;gosh-e aarzuu-mand\n",
        "sharmiilii\n",
        "pashemaa;n\n",
        "pha;rpha;raaha;t\n",
        "puuchh\n",
        "taabindagii\n",
        "ruu;h-e abad\n",
        "iltijaa))o;n\n",
        "warning  iltijaa))o;n  is no longer \u0907\u0932\u094d\u0924\u093f\u091c\u093e\u0913\u0902\n",
        "uftaadah\n",
        "warning "
       ]
      },
      {
       "output_type": "stream",
       "stream": "stdout",
       "text": [
        " uftaadah  is no longer \u0909\u092b\u093c\u094d\u0924\u093e\u0926\u093e\n",
        "sar-goshiyo;n\n",
        "dabaa))e\n",
        "nigal\n",
        "aa))e;n\n",
        "bastiyaa;n\n",
        ";tuu;tte\n",
        "naa-rasaa))ii\n",
        "nishaa:t-e naab"
       ]
      },
      {
       "output_type": "stream",
       "stream": "stdout",
       "text": [
        "\n",
        "dil_juu))ii\n",
        "sar-mast\n",
        ";than;de\n",
        "daastaane;n\n",
        "afsaanah-;xvaa;n\n",
        "warning "
       ]
      },
      {
       "output_type": "stream",
       "stream": "stdout",
       "text": [
        " afsaanah-;xvaa;n  is no longer \u0905\u092b\u093c\u094d\u0938\u093e\u0928\u093e\u0916\u093c\u094d\u0935\u093e\u0901\n",
        "da((vat\n",
        "ijtinaab\n",
        "warning  ijtinaab  is no longer \u0907\u091c\u094d\u0924\u093f\u0928\u093e\u092c\n",
        "khel\n",
        "dushmano;n\n",
        "warning  dushmano;n  is no longer \u0926\u0941\u0936\u094d\u092e\u0928\u094b\u0902\n",
        "faujiyo;n\n",
        "kise\n",
        "aamad\n",
        "rakkhii\n",
        "jafaa-gar\n",
        "sham((o;n"
       ]
      },
      {
       "output_type": "stream",
       "stream": "stdout",
       "text": [
        "\n",
        "warning  sham((o;n  is no longer \u0936\u092e\u094b\u0902\n",
        ".suufiyo;n\n",
        ";xandaa;n\n",
        "shiiraaz\n",
        "be-niyaazii\n",
        "ravaanii\n",
        ":talab-gaar\n",
        "rahzan-e marg"
       ]
      },
      {
       "output_type": "stream",
       "stream": "stdout",
       "text": [
        "\n",
        "paaro;n\n",
        "mar'ham\n",
        "havas-parastii\n",
        "bujhaa\n",
        "rusta;xez\n",
        "banaa"
       ]
      },
      {
       "output_type": "stream",
       "stream": "stdout",
       "text": [
        "\n",
        "diivaare;n\n",
        "amriikah\n",
        "warning  amriikah  is no longer \u0905\u092e\u094d\u0930\u0940\u0915\u093e\n",
        "dekh-kar\n",
        "rahe;n\n",
        "saro;n\n",
        "mu;hii:t\n",
        "chhedtii\n",
        "bahrah-yaab\n",
        "gadaa\n",
        "((aks\n",
        "dast-e chaabuk\n",
        "fasaano;n"
       ]
      },
      {
       "output_type": "stream",
       "stream": "stdout",
       "text": [
        "\n",
        "kaahin\n",
        "daa))ire\n",
        "khelte\n",
        "kahte\n",
        "baaqii\n",
        "be-sar-o-paa\n",
        "jahaa;n-bhar\n",
        ";xvush-fahm\n",
        ".zarb-e ma;sal\n",
        "de;n"
       ]
      },
      {
       "output_type": "stream",
       "stream": "stdout",
       "text": [
        "\n",
        "((ishqii\n",
        "warning  ((ishqii  is no longer \u0907\u0936\u094d\u0915\u093c\u0940\n",
        ";hisaabii\n",
        "ba;rh-kar\n",
        "zabaan-e shauq\n",
        "daur-e paiham\n",
        "ghaa;t\n",
        "phe;nkaa\n",
        ":tuul\n",
        "m;e;hnat\n",
        "ga))ii;n\n",
        "aabaad"
       ]
      },
      {
       "output_type": "stream",
       "stream": "stdout",
       "text": [
        "\n",
        "saraasar\n",
        "nishaan-e qadam\n",
        "varaa))\n",
        "be-suud\n",
        "sharm-saar\n",
        "qa:trah-e gum-gashtah\n",
        "bachii"
       ]
      },
      {
       "output_type": "stream",
       "stream": "stdout",
       "text": [
        "\n",
        "kar-ke\n",
        "saamaan\n",
        ";gaarat-gar\n",
        "galyo;n\n",
        "daliil-e raah-e vafaa\n",
        "milne-vaalo;n"
       ]
      },
      {
       "output_type": "stream",
       "stream": "stdout",
       "text": [
        "\n",
        ";dar-kar\n",
        ";xiraam-e .sub;h\n",
        "ubhartii\n",
        "dekhtaa\n",
        "be-basii\n",
        "sarbasar"
       ]
      },
      {
       "output_type": "stream",
       "stream": "stdout",
       "text": [
        "\n",
        ":tifl-e kam_sin\n",
        "falsafah-go\n",
        "iifaa\n",
        ":taa))ir\n",
        "pyaase\n",
        "nak'hat-e gum-raah\n",
        "mardaan-e raad\n",
        "intiqaam\n",
        "laa-shu((uur\n",
        "maquulo;n"
       ]
      },
      {
       "output_type": "stream",
       "stream": "stdout",
       "text": [
        "\n",
        "suu-e nau;hah-aabaad-e jahaa;n\n",
        "pala;tne\n",
        "muu\n",
        "naujavaa;n\n",
        "ma((.siyat\n",
        ";gam-e jaavidaa;n\n",
        "na;gmah-zan"
       ]
      },
      {
       "output_type": "stream",
       "stream": "stdout",
       "text": [
        "\n",
        "aasuudagii-e martabah-o-jaah\n",
        "viiraanah-garo;n\n",
        "diivaar-o-dar\n",
        ";saanii"
       ]
      },
      {
       "output_type": "stream",
       "stream": "stdout",
       "text": [
        "\n",
        ";daale\n",
        "halkii\n",
        ":tuul-e alam_naak\n",
        "u;thaa-kar\n",
        "be-panaahii\n",
        "shab-e gunah\n",
        ";xayaalo;n"
       ]
      },
      {
       "output_type": "stream",
       "stream": "stdout",
       "text": [
        "\n",
        "yaasmin\n",
        "paarah-e naan\n",
        "(\n",
        "sochne\n",
        ";xudaa-e bar-tar\n",
        "guzraa\n",
        "vi.saal-e ma((nii\n",
        "naazish"
       ]
      },
      {
       "output_type": "stream",
       "stream": "stdout",
       "text": [
        "\n",
        "biimaar\n",
        ";xudaavandii\n",
        "junuu;n\n",
        "banaa))o\n",
        "sabuu-o-jaam\n",
        "sitaarah\n",
        "mii;the\n",
        "guu;nj"
       ]
      },
      {
       "output_type": "stream",
       "stream": "stdout",
       "text": [
        "\n",
        "jhuk-kar\n",
        "chhapegaa\n",
        "sabuk-maayah\n",
        "girah\n",
        ":tu;gyaa;n\n",
        "ummiid-e zifaaf\n",
        "warning "
       ]
      },
      {
       "output_type": "stream",
       "stream": "stdout",
       "text": [
        " ummiid-e zifaaf  is no longer \u0909\u092e\u094d\u092e\u0940\u0926\u2010\u090f\u2010\u091c\u093c\u093f\u092b\u093c\u093e\u092b\u093c\n",
        "jannat\n",
        "m;o;hsin-kush-o-naa-sipaas\n",
        "dunyaa-e aab-o-rang\n",
        "pastiyo;n\n",
        "warning "
       ]
      },
      {
       "output_type": "stream",
       "stream": "stdout",
       "text": [
        " pastiyo;n  is no longer \u092a\u0938\u094d\u0924\u093f\u092f\u094b\u0902\n",
        "kahaanii\n",
        "girdish-e aalaat\n",
        ";xauf-e mauhuum\n",
        "bezaarii\n",
        "auhaam\n",
        "itne\n",
        "rau;nde\n",
        "kotah\n",
        ";xalvat-e be-nuur-o-;xvud-bii;n"
       ]
      },
      {
       "output_type": "stream",
       "stream": "stdout",
       "text": [
        "\n",
        "ma))e-e naab-e qazviin-o-;xullaar-e shiiraaz\n",
        ";hujre\n",
        ";xamosh-o-goyaa\n",
        ";zauq-e ((amal\n",
        "((aurate;n\n",
        ";xamiir-e aab-o-gil\n",
        "bajne"
       ]
      },
      {
       "output_type": "stream",
       "stream": "stdout",
       "text": [
        "\n",
        "((aqiim-o-amiir\n",
        ";xashmgii;n\n",
        "chau;nke;n\n",
        "lab-;xand\n",
        "shab_namii\n",
        "zuud-kaaro;n\n",
        "kaa;x-o-kuu"
       ]
      },
      {
       "output_type": "stream",
       "stream": "stdout",
       "text": [
        "\n",
        "niimah-ras\n",
        "saa;xt\n",
        ".sa;hn\n",
        "ufaq-taab\n",
        "daaraa))ii\n",
        "be-qaraar\n",
        ";xiime\n",
        "gum-gashtah"
       ]
      },
      {
       "output_type": "stream",
       "stream": "stdout",
       "text": [
        "\n",
        "warning  gum-gashtah  is no longer \u0917\u0941\u092e\u0917\u0936\u094d\u0924\u093e\n",
        "pa;tak\n",
        "ustuvaar\n",
        "warning  ustuvaar  is no longer \u0909\u0938\u094d\u0924\u0941\u0935\u093e\u0930\n",
        "sard\n",
        ":tahraan\n",
        "mi;sl-e ;harf-e naa-shuniidah\n",
        "ruu;h-e yuunaa;n"
       ]
      },
      {
       "output_type": "stream",
       "stream": "stdout",
       "text": [
        "\n",
        "do-rangii\n",
        "ayyaam-e bahaar\n",
        "warning  ayyaam-e bahaar  is no longer \u0905\u092f\u094d\u092f\u093e\u092e\u2010\u090f\u2010\u092c\u0939\u093e\u0930\n",
        "cha;rh\n",
        "baahar\n",
        "aarzuu-e saliim\n",
        "aagahii\n",
        "himaalah-o-alvand\n",
        "rah_zanii\n",
        ";e((timaadii"
       ]
      },
      {
       "output_type": "stream",
       "stream": "stdout",
       "text": [
        "\n",
        ";gamo;n\n",
        ".sa;hraa-navardo;n\n",
        ";xvaahisho;n\n",
        "nosh-e jaa;n\n",
        "be-taab\n",
        "shaahanshahaan-e ((a:ziim\n",
        "tamas;xur\n",
        ";gam-e dil_giir\n",
        "naushiirvaa;n"
       ]
      },
      {
       "output_type": "stream",
       "stream": "stdout",
       "text": [
        "\n",
        "warning  naushiirvaa;n  is no longer \u0928\u094c\u0936\u0940\u0930\u0935\u093e\u0901\n",
        "dilvaa\n",
        "kaun-sii\n",
        "ghulte\n",
        "mu;htaaj\n",
        "labaadah\n",
        "guu;njii\n",
        "daariyuush\n",
        "patango;n\n",
        "ho;nge"
       ]
      },
      {
       "output_type": "stream",
       "stream": "stdout",
       "text": [
        "\n",
        "a;ziiyat\n",
        "dam\n",
        ";gam-e kul\n",
        "re;ngtaa\n",
        "lau;ho;n\n",
        "pashmiinah-o-dastaar\n",
        "buute"
       ]
      },
      {
       "output_type": "stream",
       "stream": "stdout",
       "text": [
        "\n",
        "so))ii\n",
        "gird-e chasm\n",
        "naushiirvaan-e ((aadil\n",
        "zar-garii\n",
        "aa))iin\n",
        "munta:zar\n",
        "duu))ii"
       ]
      },
      {
       "output_type": "stream",
       "stream": "stdout",
       "text": [
        "\n",
        "be-hoshii\n",
        "haatho;n\n",
        ";duubaa\n",
        "gadaa))o;n\n",
        "dil-aavez\n",
        "mastii\n",
        "warning  mastii  is no longer \u092e\u0938\u0924\u0940\n",
        "chhipkalii\n",
        "kaar-naamo;n\n",
        "pa;ziiraa\n",
        "lam;hah"
       ]
      },
      {
       "output_type": "stream",
       "stream": "stdout",
       "text": [
        "\n",
        "niil_guu;n\n",
        "sar_chashmah\n",
        "be-niyaaz\n",
        "on;to;n\n",
        "juu-e ashk\n",
        "baam-o-dar\n",
        "gahvaarah-e ;husn-o-la:taafat\n",
        "parindo;n"
       ]
      },
      {
       "output_type": "stream",
       "stream": "stdout",
       "text": [
        "\n",
        "lam;haat\n",
        "rah-shinaas\n",
        ";xiraamaa;n\n",
        "vasiilo;n\n",
        "((a;zaab-e aliim\n",
        "madfuun\n",
        "jaano\n",
        ".sub;h-e ;xuu;n-fishaa;n\n",
        "navaa-e ;hazii;n\n",
        "kafsh-e paa\n",
        "ru;xshandah"
       ]
      },
      {
       "output_type": "stream",
       "stream": "stdout",
       "text": [
        "\n",
        "va.sl\n",
        "aazaadii-e kaamil\n",
        "giit\n",
        "be-vazn\n",
        "aaluudagii-e gird-e sar-e raah\n",
        "iimaa;n"
       ]
      },
      {
       "output_type": "stream",
       "stream": "stdout",
       "text": [
        "\n",
        "dabe\n",
        "silsile\n",
        "be-baak\n",
        "((ayyaar\n",
        "aasiib-e mubram\n",
        "khulii\n",
        ";xazif\n",
        ";tuu;te\n",
        "rihaa))ii\n",
        "lag-ke"
       ]
      },
      {
       "output_type": "stream",
       "stream": "stdout",
       "text": [
        "\n",
        "fi:trat\n",
        "batlaa\n",
        "ya((nii\n",
        "reze\n",
        "malaa))im\n",
        "jalvah-gah-e raaz\n",
        "ayyaam-e nau-bahaar\n",
        "warning  ayyaam-e nau-bahaar  is no longer \u0905\u092f\u094d\u092f\u093e\u092e\u2010\u090f\u2010\u0928\u094c\u092c\u0939\u093e\u0930\n",
        "diin\n",
        "ubalte\n",
        "ubhraa\n",
        "naa-tavaa;n\n",
        "ashk"
       ]
      },
      {
       "output_type": "stream",
       "stream": "stdout",
       "text": [
        "\n",
        "niim-hoshmando;n\n",
        "chingaariyaa;n\n",
        "tiirah-o-taar\n",
        "royat-e azal\n",
        "vilaayat"
       ]
      },
      {
       "output_type": "stream",
       "stream": "stdout",
       "text": [
        "\n",
        "jaamid\n",
        "bolii\n",
        "tah;ziib-e niguu;n_saar\n",
        "khe;nchtaa\n",
        "be-chasm-o-gosh\n",
        "saayah-e aamir"
       ]
      },
      {
       "output_type": "stream",
       "stream": "stdout",
       "text": [
        "\n",
        "ba_qadr-e ;zauq-e nigah\n",
        "haziimat\n",
        "((aib\n",
        "aazaad-o-((a:ziim\n",
        ";xvaab-e sa;har-gahii\n",
        "gavaah\n",
        "dast-e saa))il\n",
        "rag-o-reshah"
       ]
      },
      {
       "output_type": "stream",
       "stream": "stdout",
       "text": [
        "\n",
        "saaliko\n",
        "sharaare\n",
        "but\n",
        "shikast-e aahang-e ;harf-o-ma((nii\n",
        "paarah-haa-e abr\n",
        "goyaa))ii-e doshiizah-e lab-;xand\n",
        "karte"
       ]
      },
      {
       "output_type": "stream",
       "stream": "stdout",
       "text": [
        "\n",
        "farang\n",
        "rel-pel\n",
        "hijr\n",
        "daur-e hosh-o-((amal\n",
        "ham-navaa-e shabaab\n",
        "tannuur\n",
        "siikhtii"
       ]
      },
      {
       "output_type": "stream",
       "stream": "stdout",
       "text": [
        "\n",
        "bha;rak\n",
        "big;re\n",
        ";haatim\n",
        ":taur\n",
        "rau;ndte\n",
        "khe;nch-kar\n",
        ";hazii;n\n",
        "resmaan-e ;xayaal\n",
        "chuum\n"
       ]
      },
      {
       "output_type": "stream",
       "stream": "stdout",
       "text": [
        "badaulat\n",
        "sarshaarii\n",
        "afsaane\n",
        "warning  afsaane  is no longer \u0905\u092b\u093c\u094d\u0938\u093e\u0928\u0947\n",
        "gil-o-;xaak\n",
        ";xudaa))o;n\n",
        "ma;hfil\n",
        ";xvaab-e jamuud\n",
        "hamvaarii"
       ]
      },
      {
       "output_type": "stream",
       "stream": "stdout",
       "text": [
        "\n",
        "larazne\n",
        "nikalne\n",
        "ta.savvuf-o-;hikmat-o-adab\n",
        "naa-chaar\n",
        "likhnaa"
       ]
      },
      {
       "output_type": "stream",
       "stream": "stdout",
       "text": [
        "\n",
        "baazii\n",
        "shahkaar\n"
       ]
      }
     ],
     "prompt_number": 18
    },
    {
     "cell_type": "code",
     "collapsed": false,
     "input": [
      "devanagari = myparser.Parser('devanagari.yaml')\n",
      "print devanagari.parse(' tah ')\n",
      "devanagari['rules']"
     ],
     "language": "python",
     "metadata": {},
     "outputs": [
      {
       "output_type": "stream",
       "stream": "stdout",
       "text": [
        "<consonant> <long_vowel> <s> + <t> <long_vowel>\n",
        "<consonant> <long_vowel> <consonant> + <consonant> <long_vowel>\n",
        "<consonant> <vowel> <vowel_nasal> <consonant> + <consonant> <long_vowel>\n",
        "<consonant> <short_vowel> <h_char> + <consonant>\n",
        "<consonant> <short_vowel> <consonant> + <consonant> <long_vowel>\n",
        "<wb> <vowel> <consonant> + <consonant> <vowel>\n",
        "<wb> <consonant> <short_vowel> <z> + <z> <short_vowel> <consonant>\n",
        "<wb> <consonant> <short_vowel> <consonant> + <consonant> <short_vowel> <consonant>\n",
        "<n> + <consonant>\n",
        "<wb> <long_vowel> <consonant> + <consonant> <long_vowel>\n",
        "<consonant> + <consonant>\n",
        "<k> + <k_group>\n",
        "<ch> + <ch_group>\n",
        "<wb> <consonant> <long_vowel> <consonant> + <consonant> <long_vowel>\n",
        "<wb> <consonant> <long_vowel> <consonant> + <consonant> <short_vowel> <consonant>\n",
        "<wb> <consonant> <short_vowel> <sibilant> + <consonant> <wb>\n",
        "<wb> <consonant> <short_vowel> <consonant> + <consonant> <wb>\n",
        "<wb> <short_vowel> <consonant> + <consonant> <long_vowel> <wb>\n",
        "<wb> <short_vowel> <consonant> + <consonant> <long_vowel> <consonant> <wb>\n",
        "<wb> <short_vowel> <consonant> <short_vowel> <consonant> + <consonant> <short_vowel> <consonant>\n",
        "<vowel> <n> + <consonant>\n",
        "<consonant> + <n> <aa> <wb>\n",
        "<consonant> + <n> <e> <wb>\n",
        "<consonant> + <t> <aa> <wb>\n",
        "<consonant> + <t> <e> <wb>\n",
        "<consonant> + <t> <ii> <wb>\n",
        "<consonant> + <ain> <short_vowel> <wb>\n",
        "<short_vowel> <ain> + <consonant>\n",
        "<wb> <consonant> <short_vowel> + <consonant> <long_vowel>\n",
        "<wb> <consonant> <short_vowel> <consonant> + <consonant> <long_vowel>\n",
        "<consonant> + <consonant>\n",
        " \u0924\u093e \n"
       ]
      },
      {
       "ename": "AttributeError",
       "evalue": "Parser instance has no attribute '__getitem__'",
       "output_type": "pyerr",
       "traceback": [
        "\u001b[0;31m---------------------------------------------------------------------------\u001b[0m\n\u001b[0;31mAttributeError\u001b[0m                            Traceback (most recent call last)",
        "\u001b[0;32m<ipython-input-9-183d1ee696aa>\u001b[0m in \u001b[0;36m<module>\u001b[0;34m()\u001b[0m\n\u001b[1;32m      1\u001b[0m \u001b[0mdevanagari\u001b[0m \u001b[0;34m=\u001b[0m \u001b[0mmyparser\u001b[0m\u001b[0;34m.\u001b[0m\u001b[0mParser\u001b[0m\u001b[0;34m(\u001b[0m\u001b[0;34m'devanagari.yaml'\u001b[0m\u001b[0;34m)\u001b[0m\u001b[0;34m\u001b[0m\u001b[0m\n\u001b[1;32m      2\u001b[0m \u001b[0;32mprint\u001b[0m \u001b[0mdevanagari\u001b[0m\u001b[0;34m.\u001b[0m\u001b[0mparse\u001b[0m\u001b[0;34m(\u001b[0m\u001b[0;34m' tah '\u001b[0m\u001b[0;34m)\u001b[0m\u001b[0;34m\u001b[0m\u001b[0m\n\u001b[0;32m----> 3\u001b[0;31m \u001b[0mdevanagari\u001b[0m\u001b[0;34m[\u001b[0m\u001b[0;34m'rules'\u001b[0m\u001b[0;34m]\u001b[0m\u001b[0;34m\u001b[0m\u001b[0m\n\u001b[0m",
        "\u001b[0;31mAttributeError\u001b[0m: Parser instance has no attribute '__getitem__'"
       ]
      }
     ],
     "prompt_number": 9
    },
    {
     "cell_type": "code",
     "collapsed": false,
     "input": [
      "        key='v u h <wb>'\n",
      "        rule={}\n",
      "        _  ='(?:'   \n",
      "        _ +='\\('\n",
      "        _ +='((?:\\s?<.+?>\\s+)+)?'# '(?:\\s?<(.+?)>\\s+)?' # group 1, prev class (in brackets indicating cluster)\n",
      "        _ +='(.+?)\\s?' # group 2, prev tokens (to be split)\n",
      "        _ +='\\) '\n",
      "        _ +='|' # either a cluster or a particular previous class (Could add additional support, e.g. class or paretic.\n",
      "        _ +='((?:\\s?<.+?>\\s+)+)?' # group 3, prev class (not in cluster)\n",
      "        _ +=')?'\n",
      "        _ += '(.+?)' # group 4, tokens\n",
      "        _ += '(?:' # cluster for following tokens, clusters \n",
      "        _ += ' \\('\n",
      "        _ += '\\s?(.+?)' # group 5, next tokens\n",
      "        _ += '((?:\\s?<.+?>\\s+?)+)?' # group 6, next class\n",
      "        _ += '\\s?\\)'\n",
      "        _ += '|'\n",
      "        _ += ' ((?:<.+?>\\s?)+)?' # group 7, follo\n",
      "        _ += ')?$'\n",
      "        \n",
      "        m = re.match (_, key, re.S)\n",
      "        assert (m is not None)\n",
      "        if m.group(1): rule['prev_classes'] = re.findall('<(.+?)>',m.group(1))\n",
      "        if m.group(2): rule['prev_tokens'] = m.group(2).split(' ')\n",
      "        if m.group(3): rule['prev_classes'] =  re.findall('<(.+?)>',m.group(3))\n",
      "        if m.group(4)==' ':\n",
      "            rule['tokens'] = ' '\n",
      "        else:\n",
      "            rule['tokens'] = m.group(4).split(' ')\n",
      "        if m.group(5): rule['next_tokens'] = m.group(5).split(' ')\n",
      "        if m.group(6): rule['next_classes'] = re.findall('<(.+?)>',m.group(6))\n",
      "        if m.group(7): rule['next_classes'] = re.findall('<(.+?)>',m.group(7))\n",
      "        print rule\n",
      "        \n",
      "        print _"
     ],
     "language": "python",
     "metadata": {},
     "outputs": [
      {
       "output_type": "stream",
       "stream": "stdout",
       "text": [
        "{'tokens': ['v', 'u', 'h'], 'next_classes': ['wb'], 'prev_classes': ['wb']}\n",
        "(?:\\(((?:\\s?<.+?>\\s+)+)?(.+?)\\s?\\) |((?:\\s?<.+?>\\s+)+)?)?(.+?)(?: \\(\\s?(.+?)((?:\\s?<.+?>\\s+?)+)?\\s?\\)| ((?:<.+?>\\s?)+)?)?$\n"
       ]
      }
     ],
     "prompt_number": 47
    },
    {
     "cell_type": "code",
     "collapsed": false,
     "input": [
      "devanagari.rules"
     ],
     "language": "python",
     "metadata": {},
     "outputs": [
      {
       "metadata": {},
       "output_type": "pyout",
       "prompt_number": 10,
       "text": [
        "[{'next_classes': ['wb'],\n",
        "  'prev_classes': ['wb'],\n",
        "  'production': u'\\u092f\\u0940',\n",
        "  'tokens': ['y', 'i', 'h', 'ii']},\n",
        " {'next_classes': ['wb'],\n",
        "  'prev_classes': ['consonant'],\n",
        "  'production': u'\\u0941\\u090f\\u0901',\n",
        "  'tokens': ['uu', '))', 'e', ';n']},\n",
        " {'next_classes': ['wb'],\n",
        "  'prev_classes': ['consonant'],\n",
        "  'production': u'\\u0941\\u0913\\u0902',\n",
        "  'tokens': ['uu', '))', 'o', ';n']},\n",
        " {'next_classes': ['wb'],\n",
        "  'prev_classes': ['wb'],\n",
        "  'production': u'\\u0935\\u0939\\u0940',\n",
        "  'tokens': ['v', 'u', 'h', 'ii']},\n",
        " {'prev_classes': ['wb'],\n",
        "  'production': u'\\u090f\\u0924',\n",
        "  'tokens': ['i', '((', 't', 'i']},\n",
        " {'next_classes': ['wb'],\n",
        "  'prev_classes': ['wb'],\n",
        "  'production': u'\\u0915\\u093f',\n",
        "  'tokens': ['k', 'i', 'h']},\n",
        " {'next_classes': ['wb'],\n",
        "  'prev_classes': ['wb'],\n",
        "  'production': u'\\u0935\\u094b',\n",
        "  'tokens': ['v', 'u', 'h']},\n",
        " {'next_classes': ['wb'],\n",
        "  'prev_classes': ['wb'],\n",
        "  'production': u'\\u092a\\u0947',\n",
        "  'tokens': ['p', 'a', 'h']},\n",
        " {'next_classes': ['wb'],\n",
        "  'prev_classes': ['wb'],\n",
        "  'production': u'\\u092f\\u0947',\n",
        "  'tokens': ['y', 'i', 'h']},\n",
        " {'next_classes': ['wb'],\n",
        "  'prev_classes': ['consonant'],\n",
        "  'production': u'\\u091a\\u0947',\n",
        "  'tokens': ['ch', 'i', 'h']},\n",
        " {'next_classes': ['wb'],\n",
        "  'prev_classes': ['wb'],\n",
        "  'production': u'\\u0928',\n",
        "  'tokens': ['n', 'a', 'h']},\n",
        " {'next_classes': ['wb'],\n",
        "  'prev_classes': ['wb'],\n",
        "  'production': u'\\u092c',\n",
        "  'tokens': ['b', 'a', 'h']},\n",
        " {'prev_classes': ['consonant'],\n",
        "  'production': u'\\u0906',\n",
        "  'tokens': ['a', '((', 'aa']},\n",
        " {'prev_classes': ['wb'],\n",
        "  'production': u'\\u0959\\u0941',\n",
        "  'tokens': [';x', 'v', 'u']},\n",
        " {'prev_classes': ['consonant'],\n",
        "  'production': u'\\u0941\\u0906',\n",
        "  'tokens': ['u', '((', 'aa']},\n",
        " {'production': u'\\u2010\\u0913\\u2010', 'tokens': ['-', 'o', '-']},\n",
        " {'production': u'\\u0928\\u0924\\u0940', 'tokens': ['n', 't', 'ii']},\n",
        " {'production': u'\\u0928\\u0924\\u0947', 'tokens': ['n', 't', 'e']},\n",
        " {'production': u'\\u0928\\u0924\\u093e', 'tokens': ['n', 't', 'aa']},\n",
        " {'next_classes': ['wb'],\n",
        "  'prev_classes': ['wb', 'consonant', 'short_vowel', 'consonant'],\n",
        "  'production': u'\\u0939',\n",
        "  'tokens': ['a', 'h']},\n",
        " {'next_classes': ['wb'],\n",
        "  'prev_classes': ['wb', 'consonant'],\n",
        "  'production': u'\\u0939',\n",
        "  'tokens': ['a', 'h']},\n",
        " {'next_classes': ['wb'],\n",
        "  'prev_classes': ['short_vowel'],\n",
        "  'production': u'\\u0906',\n",
        "  'tokens': ['a', 'h']},\n",
        " {'next_classes': ['wb'],\n",
        "  'prev_classes': ['consonant'],\n",
        "  'production': u'\\u093e',\n",
        "  'tokens': ['a', 'h']},\n",
        " {'next_classes': ['wb'],\n",
        "  'prev_classes': ['vowel'],\n",
        "  'production': u'\\u0906',\n",
        "  'tokens': ['a', 'h']},\n",
        " {'next_classes': ['wb'],\n",
        "  'prev_classes': ['consonant'],\n",
        "  'production': u'\\u093e',\n",
        "  'tokens': ['((', 'a']},\n",
        " {'next_classes': ['vowel'],\n",
        "  'prev_classes': ['vowel'],\n",
        "  'production': u'\\u0928\\u094d\\u0928',\n",
        "  'tokens': ['n', 'n']},\n",
        " {'next_classes': ['izaafat'],\n",
        "  'prev_classes': ['consonant'],\n",
        "  'production': u'\\u093e',\n",
        "  'tokens': ['a', 'h']},\n",
        " {'prev_classes': ['wb'], 'production': u'\\u0906', 'tokens': ['a', '((']},\n",
        " {'prev_classes': ['wb'], 'production': u'\\u0909', 'tokens': ['((', 'u']},\n",
        " {'prev_classes': ['vowel'], 'production': u'\\u0907', 'tokens': ['((', 'i']},\n",
        " {'prev_classes': ['wb'], 'production': u'\\u0905', 'tokens': ['((', 'a']},\n",
        " {'prev_classes': ['wb'], 'production': u'\\u0907', 'tokens': ['((', 'i']},\n",
        " {'prev_classes': ['consonant'],\n",
        "  'production': u'\\u093e',\n",
        "  'tokens': ['a', '((']},\n",
        " {'prev_classes': ['wb'], 'production': u'\\u0914', 'tokens': ['((', 'au']},\n",
        " {'prev_classes': ['wb'], 'production': u'\\u0910', 'tokens': ['((', 'ai']},\n",
        " {'prev_classes': ['wb'], 'production': u'\\u0906', 'tokens': ['((', 'aa']},\n",
        " {'prev_classes': ['consonant'],\n",
        "  'production': u'\\u0905',\n",
        "  'tokens': ['((', 'a']},\n",
        " {'prev_classes': ['wb'], 'production': u'\\u0908', 'tokens': ['((', 'ii']},\n",
        " {'prev_classes': ['long_vowel'],\n",
        "  'production': u'\\u0908',\n",
        "  'tokens': ['((', 'ii']},\n",
        " {'prev_classes': ['vowel'], 'production': u'\\u0905', 'tokens': ['((', 'a']},\n",
        " {'prev_classes': ['consonant'],\n",
        "  'production': u'\\u094b',\n",
        "  'tokens': [';o', '((']},\n",
        " {'next_classes': ['wb'],\n",
        "  'prev_classes': ['vowel', 'e'],\n",
        "  'production': u'\\\\N\\u0901',\n",
        "  'tokens': [';n']},\n",
        " {'next_classes': ['wb'],\n",
        "  'prev_classes': ['r', 'candrabindu_vowel'],\n",
        "  'production': u'\\u0902',\n",
        "  'tokens': [';n']},\n",
        " {'next_classes': ['wb'],\n",
        "  'prev_classes': ['vowel'],\n",
        "  'production': u'\\u0928',\n",
        "  'tokens': ['n']},\n",
        " {'next_classes': ['wb'],\n",
        "  'prev_classes': ['candrabindu_vowel'],\n",
        "  'production': u'\\u0901',\n",
        "  'tokens': [';n']},\n",
        " {'next_classes': ['<izaafat'],\n",
        "  'prev_classes': ['consonant'],\n",
        "  'production': '',\n",
        "  'tokens': ['((']},\n",
        " {'next_classes': ['consonant'],\n",
        "  'prev_classes': ['vowel'],\n",
        "  'production': u'\\u0902',\n",
        "  'tokens': ['n']},\n",
        " {'next_classes': ['vowel'],\n",
        "  'prev_classes': ['vowel'],\n",
        "  'production': u'\\u0928',\n",
        "  'tokens': ['n']},\n",
        " {'next_classes': ['wb'],\n",
        "  'prev_classes': ['consonant'],\n",
        "  'production': '',\n",
        "  'tokens': ['((']},\n",
        " {'prev_classes': ['vowel'], 'production': u'\\u0905', 'tokens': ['a']},\n",
        " {'prev_classes': ['wb'], 'production': u'\\u0909', 'tokens': ['u']},\n",
        " {'prev_classes': ['wb'], 'production': u'\\u090f', 'tokens': [';e']},\n",
        " {'prev_classes': ['wb'], 'production': u'\\u0913', 'tokens': [';o']},\n",
        " {'prev_classes': ['wb'], 'production': u'\\u0905', 'tokens': ['a']},\n",
        " {'prev_classes': ['wb'], 'production': u'\\u090f', 'tokens': ['e']},\n",
        " {'prev_classes': ['wb'], 'production': u'\\u0907', 'tokens': ['i']},\n",
        " {'prev_classes': ['wb'], 'production': u'\\u0913', 'tokens': ['o']},\n",
        " {'prev_classes': ['wb'], 'production': u'\\u0906', 'tokens': ['aa']},\n",
        " {'prev_classes': ['wb'], 'production': u'\\u0910', 'tokens': ['ai']},\n",
        " {'prev_classes': ['wb'], 'production': u'\\u0914', 'tokens': ['au']},\n",
        " {'prev_classes': ['wb'], 'production': u'\\u0908', 'tokens': ['ii']},\n",
        " {'prev_classes': ['vowel'], 'production': u'\\u090a', 'tokens': ['uu']},\n",
        " {'prev_classes': ['short_vowel'], 'production': u'\\u0910', 'tokens': ['ai']},\n",
        " {'next_classes': ['wb'],\n",
        "  'production': u'\\u2010\\u090f\\u2010',\n",
        "  'tokens': ['-e']},\n",
        " {'prev_classes': ['short_vowel'], 'production': u'\\u0905', 'tokens': ['a']},\n",
        " {'prev_classes': ['izaafat'], 'production': '', 'tokens': ' '},\n",
        " {'prev_classes': ['vowel'], 'production': u'\\u090f', 'tokens': ['e']},\n",
        " {'prev_classes': ['vowel'], 'production': u'\\u0907', 'tokens': ['i']},\n",
        " {'prev_classes': ['vowel'], 'production': u'\\u0913', 'tokens': ['o']},\n",
        " {'prev_classes': ['vowel'], 'production': u'\\u0909', 'tokens': ['u']},\n",
        " {'prev_classes': ['short_vowel'], 'production': u'\\u0914', 'tokens': ['au']},\n",
        " {'prev_classes': ['wb'], 'production': u'\\u090a', 'tokens': ['uu']},\n",
        " {'prev_classes': ['consonant'], 'production': u'\\u094b', 'tokens': [';o']},\n",
        " {'prev_classes': ['vowel'], 'production': u'\\u0913', 'tokens': [';o']},\n",
        " {'prev_classes': ['short_vowel'], 'production': u'\\u0906', 'tokens': ['aa']},\n",
        " {'prev_classes': ['wb'], 'production': u'\\u090b', 'tokens': ['.ri']},\n",
        " {'prev_classes': ['vowel'], 'production': u'\\u090b', 'tokens': ['.ri']},\n",
        " {'prev_classes': ['vowel'], 'production': u'\\u0914', 'tokens': ['au']},\n",
        " {'prev_classes': ['vowel'], 'production': u'\\u0908', 'tokens': ['ii']},\n",
        " {'prev_classes': ['vowel'], 'production': u'\\u0906', 'tokens': ['aa']},\n",
        " {'prev_classes': ['vowel'], 'production': u'\\u0910', 'tokens': ['ai']},\n",
        " {'production': '', 'tokens': ['\\x00']},\n",
        " {'production': u'\\u0943', 'tokens': ['.ri']},\n",
        " {'production': u'\\u0918', 'tokens': ['gh']},\n",
        " {'production': ' ', 'tokens': ' '},\n",
        " {'production': u'\\u095d', 'tokens': [';rh']},\n",
        " {'production': '(', 'tokens': ['(']},\n",
        " {'production': ',', 'tokens': [',']},\n",
        " {'production': u'\\u0925', 'tokens': ['th']},\n",
        " {'production': u'\\u0928', 'tokens': [':n']},\n",
        " {'production': '\\n', 'tokens': ['\\n']},\n",
        " {'production': u'\\u0927', 'tokens': ['dh']},\n",
        " {'production': '', 'tokens': ['((']},\n",
        " {'production': u'\\u095b', 'tokens': [':z']},\n",
        " {'production': u'\\u0924', 'tokens': [':t']},\n",
        " {'production': u'\\u0926', 'tokens': ['d']},\n",
        " {'production': u'\\u0939', 'tokens': ['h']},\n",
        " {'production': u'\\u0932', 'tokens': ['l']},\n",
        " {'production': u'\\u092a', 'tokens': ['p']},\n",
        " {'production': u'\\u0924', 'tokens': ['t']},\n",
        " {'production': '', 'tokens': ['|']},\n",
        " {'production': u'\\u0938', 'tokens': [';s']},\n",
        " {'production': u'\\u095c', 'tokens': [';r']},\n",
        " {'production': u'\\u091d\\u093c', 'tokens': ['zh']},\n",
        " {'production': u'\\u091f', 'tokens': [';t']},\n",
        " {'production': u'\\u095b', 'tokens': [';z']},\n",
        " {'production': u'\\u0959', 'tokens': [';x']},\n",
        " {'production': u'\\u0922', 'tokens': [';dh']},\n",
        " {'production': u'\\u0947', 'tokens': [';e']},\n",
        " {'production': u'\\u0921', 'tokens': [';d']},\n",
        " {'production': u'\\u0939', 'tokens': [';h']},\n",
        " {'production': u'\\u0902', 'tokens': [';n']},\n",
        " {'production': u'\\u0901', 'tokens': [';m']},\n",
        " {'production': u'\\u0920', 'tokens': [';th']},\n",
        " {'production': '', 'tokens': [\"'\"]},\n",
        " {'production': '', 'tokens': ['/']},\n",
        " {'production': u';', 'tokens': [';']},\n",
        " {'production': '?', 'tokens': ['?']},\n",
        " {'production': u'\\u092d', 'tokens': ['bh']},\n",
        " {'production': u'\\u091d', 'tokens': ['jh']},\n",
        " {'production': '', 'tokens': ['_']},\n",
        " {'production': u'\\u0938', 'tokens': ['.s']},\n",
        " {'production': u'\\u0917', 'tokens': ['g']},\n",
        " {'production': u'\\u0915', 'tokens': ['k']},\n",
        " {'production': u'\\u093e', 'tokens': [';aa']},\n",
        " {'production': u'\\u094b', 'tokens': ['o']},\n",
        " {'production': u'\\u0938', 'tokens': ['s']},\n",
        " {'production': '', 'tokens': ['w']},\n",
        " {'production': u'\\u091a', 'tokens': ['ch']},\n",
        " {'production': '', 'tokens': ['))']},\n",
        " {'production': u'\\u091b', 'tokens': ['chh']},\n",
        " {'production': u'\\u092b', 'tokens': ['ph']},\n",
        " {'production': u'\\u092c', 'tokens': ['b']},\n",
        " {'production': u'\\u095e', 'tokens': ['f']},\n",
        " {'production': u'\\u0942', 'tokens': ['uu']},\n",
        " {'production': u'\\u091c', 'tokens': ['j']},\n",
        " {'production': u'\\u0928', 'tokens': ['n']},\n",
        " {'production': u'\\u095b', 'tokens': ['.z']},\n",
        " {'production': u'\\u0930', 'tokens': ['r']},\n",
        " {'production': u'\\u0935', 'tokens': ['v']},\n",
        " {'production': u'\\u095b', 'tokens': ['z']},\n",
        " {'production': u'\\u093e', 'tokens': ['aa']},\n",
        " {'production': u'\\u0916', 'tokens': ['kh']},\n",
        " {'production': u'\\u0948', 'tokens': ['ai']},\n",
        " {'production': u'\\u0940', 'tokens': ['ii']},\n",
        " {'production': u'\\u094c', 'tokens': ['au']},\n",
        " {'production': ')', 'tokens': [')']},\n",
        " {'production': '', 'tokens': ['-']},\n",
        " {'production': u'\\u095a', 'tokens': [';g']},\n",
        " {'production': '', 'tokens': ['a']},\n",
        " {'production': u'\\u0947', 'tokens': ['e']},\n",
        " {'production': u'\\u093f', 'tokens': ['i']},\n",
        " {'production': u'\\u092e', 'tokens': ['m']},\n",
        " {'production': u'\\u0958', 'tokens': ['q']},\n",
        " {'production': u'\\u0936', 'tokens': ['sh']},\n",
        " {'production': u'\\u0941', 'tokens': ['u']},\n",
        " {'production': u'\\u092f', 'tokens': ['y']}]"
       ]
      }
     ],
     "prompt_number": 10
    },
    {
     "cell_type": "code",
     "collapsed": false,
     "input": [
      "        _ = '(?: \\(\\s?(.+?)((?:\\s?<.+?>\\s+?)+)?\\s?\\)| ((?:<.+?>\\s?)+)?)?$'\n",
      "        \n",
      "        re.match(_,' (x <wb> <dce>)').group(0)"
     ],
     "language": "python",
     "metadata": {},
     "outputs": [
      {
       "metadata": {},
       "output_type": "pyout",
       "prompt_number": 40,
       "text": [
        "' (x <wb> <dce>)'"
       ]
      }
     ],
     "prompt_number": 40
    },
    {
     "cell_type": "code",
     "collapsed": false,
     "input": [
      "devanagari=myparser.Parser('devanagari.yaml')\n",
      "print devanagari.parse(\"vaqt\")"
     ],
     "language": "python",
     "metadata": {},
     "outputs": [
      {
       "output_type": "stream",
       "stream": "stdout",
       "text": [
        "<wb> <consonant> <short_vowel> <h_char> + <consonant> <wb>\n",
        "<wb> <consonant> <short_vowel> <consonant> + <consonant> <long_vowel> <wb>\n",
        "<wb> <consonant> <short_vowel> <consonant> + <consonant> <short_vowel> <consonant> <wb>\n",
        "<n> + <consonant>\n",
        "<consonant> + <consonant>\n",
        "<k> + <k_group>\n",
        "<ch> + <ch_group>\n",
        "<wb> <consonant> <long_vowel> <consonant> + <consonant> <long_vowel>\n",
        "<wb> <consonant> <long_vowel> <consonant> + <consonant> <short_vowel> <consonant>\n",
        "<wb> <consonant> <short_vowel> <sibilant> + <consonant> <wb>\n",
        "<wb> <consonant> <short_vowel> <consonant> + <consonant> <wb>\n",
        "<wb> <short_vowel> <consonant> + <consonant> <long_vowel> <wb>\n",
        "<wb> <short_vowel> <consonant> + <consonant> <long_vowel> <consonant> <wb>\n",
        "<wb> <short_vowel> <consonant> <short_vowel> <consonant> + <consonant> <short_vowel> <consonant>\n",
        "<vowel> <n> + <consonant>\n",
        "<consonant> + <n> <aa> <wb>\n",
        "<consonant> + <n> <e> <wb>\n",
        "<consonant> + <t> <aa> <wb>\n",
        "<consonant> + <t> <e> <wb>\n",
        "<consonant> + <t> <ii> <wb>\n",
        "<consonant> + <ain> <short_vowel> <wb>\n",
        "<short_vowel> <ain> + <consonant>\n",
        "<wb> <consonant> <short_vowel> + <consonant> <long_vowel>\n",
        "<wb> <consonant> <short_vowel> <consonant> + <consonant> <long_vowel>\n",
        "<wb> <long_vowel> <consonant> + <consonant> <long_vowel>\n",
        "<consonant> + <consonant>\n",
        "\u0935\u0915\u093c\u094d\u0924\n"
       ]
      }
     ],
     "prompt_number": 4
    }
   ],
   "metadata": {}
  }
 ]
}