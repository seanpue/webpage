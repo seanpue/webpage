{
 "cells": [
  {
   "cell_type": "code",
   "execution_count": 27,
   "metadata": {
    "collapsed": true
   },
   "outputs": [],
   "source": [
    "    \n",
    "import sys\n",
    "sys.path.append('./graphparser')\n",
    "import graphparser as gp\n",
    "dp = gp.GraphParser('graphparser/settings/devanagari.yaml')\n",
    "\n"
   ]
  },
  {
   "cell_type": "code",
   "execution_count": 26,
   "metadata": {
    "collapsed": false
   },
   "outputs": [
    {
     "name": "stdout",
     "output_type": "stream",
     "text": [
      "matched  ParserRule(production=u'\\u0906', prev_classes=['wb'], prev_tokens=None, tokens=['aa'], next_tokens=None, next_classes=None, prev_length=0, next_length=1, match_tokens=['aa'], tokens_length=1)\n",
      "matched  ParserRule(production=u'\\u0926', prev_classes=None, prev_tokens=None, tokens=['d'], next_tokens=None, next_classes=None, prev_length=0, next_length=1, match_tokens=['d'], tokens_length=1)\n"
     ]
    },
    {
     "ename": "NameError",
     "evalue": "global name 'pdb' is not defined",
     "output_type": "error",
     "traceback": [
      "\u001b[0;31m---------------------------------------------------------------------------\u001b[0m",
      "\u001b[0;31mNameError\u001b[0m                                 Traceback (most recent call last)",
      "\u001b[0;32m<ipython-input-26-b7f9ca432a16>\u001b[0m in \u001b[0;36m<module>\u001b[0;34m()\u001b[0m\n\u001b[0;32m----> 1\u001b[0;31m \u001b[0mdp\u001b[0m\u001b[0;34m.\u001b[0m\u001b[0mparse\u001b[0m\u001b[0;34m(\u001b[0m\u001b[0;34m'aadmii'\u001b[0m\u001b[0;34m)\u001b[0m\u001b[0;34m\u001b[0m\u001b[0m\n\u001b[0m",
      "\u001b[0;32m/Users/seanpue/webpage/util/graphparser/graphparser.py\u001b[0m in \u001b[0;36mparse\u001b[0;34m(self, string)\u001b[0m\n\u001b[1;32m    452\u001b[0m                 \u001b[0;32mif\u001b[0m \u001b[0mlen\u001b[0m\u001b[0;34m(\u001b[0m\u001b[0momr\u001b[0m\u001b[0;34m)\u001b[0m\u001b[0;34m>\u001b[0m\u001b[0;36m0\u001b[0m\u001b[0;34m:\u001b[0m\u001b[0;34m\u001b[0m\u001b[0m\n\u001b[1;32m    453\u001b[0m     \u001b[0;31m#            if self.onmatch_rules and len(self.onmatch_rules_by_token[tkns[t_i]])>0:\u001b[0m\u001b[0;34m\u001b[0m\u001b[0;34m\u001b[0m\u001b[0m\n\u001b[0;32m--> 454\u001b[0;31m     \u001b[0;31m#                print 'testing onmatch_rules'\u001b[0m\u001b[0;34m\u001b[0m\u001b[0;34m\u001b[0m\u001b[0m\n\u001b[0m\u001b[1;32m    455\u001b[0m \u001b[0;34m\u001b[0m\u001b[0m\n\u001b[1;32m    456\u001b[0m \u001b[0;34m\u001b[0m\u001b[0m\n",
      "\u001b[0;31mNameError\u001b[0m: global name 'pdb' is not defined"
     ]
    }
   ],
   "source": [
    "dp.parse('aadmii')"
   ]
  },
  {
   "cell_type": "code",
   "execution_count": 18,
   "metadata": {
    "collapsed": false
   },
   "outputs": [],
   "source": [
    "def parse2(self,string):\n",
    "        t_i = 0\n",
    "        tkns = self.tokenize(string)\n",
    "        if self.onmatch_rules:\n",
    "            mtkns = [self.blank]+tkns+[self.blank]\n",
    "        output = ''\n",
    "        matches = []\n",
    "        while t_i < len(tkns):\n",
    "            m = self.match_first_at(tkns, t_i)\n",
    "            if m==None:\n",
    "                print \"error in string\",string,len(string)\n",
    "            assert m != None # for now, croak on error\n",
    "            matches.append(m)\n",
    "            print 'matched ',m\n",
    "            if self.onmatch_rules:\n",
    "                mt_i = t_i+1\n",
    "                omr = self.onmatch_rules_token_matrix[ mtkns[mt_i] ][ mtkns[mt_i-1] ]\n",
    "                if len(omr)>0:\n",
    "                    for mr in omr: \n",
    "                        \n",
    "                        ((l_classes,r_classes),p)=mr\n",
    "                        \n",
    "                        if mt_i < len(l_classes) or mt_i+len(r_classes)>len(mtkns):\n",
    "                            continue\n",
    "\n",
    "                        l_length = len(l_classes)\n",
    "                        l_start = mt_i - l_length\n",
    "\n",
    "                        for i in range(0,len(l_classes)):\n",
    "                            if not l_classes[i] in self.get_token_classes(mtkns[l_start+i]):\n",
    "                                continue\n",
    "                                \n",
    "                        r_length = len(r_classes)\n",
    "                        r_start = mt_i + 1\n",
    "\n",
    "                        for i in range(0,len(r_classes)):\n",
    "                            if not r_classes[i] in self.get_token_classes(mtkns[r_start+i]):\n",
    "                                continue\n",
    "\n",
    "                        output += p\n",
    "                        break # break out of for loop\n",
    "                        \n",
    "            output+=m.production\n",
    "            t_i += m.tokens_length #len(m.tokens)\n",
    "        return ParserOutput(output=output,matches=matches)\n",
    "dp.parse2=parse2"
   ]
  },
  {
   "cell_type": "code",
   "execution_count": 19,
   "metadata": {
    "collapsed": true
   },
   "outputs": [],
   "source": [
    "m_tkns=[' ', 'aa', 'd', 'm', 'ii', ' ']\n"
   ]
  },
  {
   "cell_type": "code",
   "execution_count": 20,
   "metadata": {
    "collapsed": false
   },
   "outputs": [
    {
     "name": "stdout",
     "output_type": "stream",
     "text": [
      "matched  ParserRule(production=u'\\u0906', prev_classes=['wb'], prev_tokens=None, tokens=['aa'], next_tokens=None, next_classes=None, prev_length=0, next_length=1, match_tokens=['aa'], tokens_length=1)\n",
      "matched  ParserRule(production=u'\\u0926', prev_classes=None, prev_tokens=None, tokens=['d'], next_tokens=None, next_classes=None, prev_length=0, next_length=1, match_tokens=['d'], tokens_length=1)\n"
     ]
    },
    {
     "ename": "AttributeError",
     "evalue": "GraphParser instance has no attribute 'get_token_classes'",
     "output_type": "error",
     "traceback": [
      "\u001b[0;31m---------------------------------------------------------------------------\u001b[0m",
      "\u001b[0;31mAttributeError\u001b[0m                            Traceback (most recent call last)",
      "\u001b[0;32m<ipython-input-20-3fc7fcfe74d1>\u001b[0m in \u001b[0;36m<module>\u001b[0;34m()\u001b[0m\n\u001b[0;32m----> 1\u001b[0;31m \u001b[0mdp\u001b[0m\u001b[0;34m.\u001b[0m\u001b[0mparse2\u001b[0m\u001b[0;34m(\u001b[0m\u001b[0mdp\u001b[0m\u001b[0;34m,\u001b[0m\u001b[0;34m'aadmii'\u001b[0m\u001b[0;34m)\u001b[0m\u001b[0;34m\u001b[0m\u001b[0m\n\u001b[0m",
      "\u001b[0;32m<ipython-input-18-974b270f04a0>\u001b[0m in \u001b[0;36mparse2\u001b[0;34m(self, string)\u001b[0m\n\u001b[1;32m     28\u001b[0m \u001b[0;34m\u001b[0m\u001b[0m\n\u001b[1;32m     29\u001b[0m                         \u001b[0;32mfor\u001b[0m \u001b[0mi\u001b[0m \u001b[0;32min\u001b[0m \u001b[0mrange\u001b[0m\u001b[0;34m(\u001b[0m\u001b[0;36m0\u001b[0m\u001b[0;34m,\u001b[0m\u001b[0mlen\u001b[0m\u001b[0;34m(\u001b[0m\u001b[0ml_classes\u001b[0m\u001b[0;34m)\u001b[0m\u001b[0;34m)\u001b[0m\u001b[0;34m:\u001b[0m\u001b[0;34m\u001b[0m\u001b[0m\n\u001b[0;32m---> 30\u001b[0;31m                             \u001b[0;32mif\u001b[0m \u001b[0;32mnot\u001b[0m \u001b[0ml_classes\u001b[0m\u001b[0;34m[\u001b[0m\u001b[0mi\u001b[0m\u001b[0;34m]\u001b[0m \u001b[0;32min\u001b[0m \u001b[0mself\u001b[0m\u001b[0;34m.\u001b[0m\u001b[0mget_token_classes\u001b[0m\u001b[0;34m(\u001b[0m\u001b[0mmtkns\u001b[0m\u001b[0;34m[\u001b[0m\u001b[0ml_start\u001b[0m\u001b[0;34m+\u001b[0m\u001b[0mi\u001b[0m\u001b[0;34m]\u001b[0m\u001b[0;34m)\u001b[0m\u001b[0;34m:\u001b[0m\u001b[0;34m\u001b[0m\u001b[0m\n\u001b[0m\u001b[1;32m     31\u001b[0m                                 \u001b[0;32mcontinue\u001b[0m\u001b[0;34m\u001b[0m\u001b[0m\n\u001b[1;32m     32\u001b[0m \u001b[0;34m\u001b[0m\u001b[0m\n",
      "\u001b[0;31mAttributeError\u001b[0m: GraphParser instance has no attribute 'get_token_classes'"
     ]
    }
   ],
   "source": [
    "dp.parse2(dp,'aadmii')"
   ]
  },
  {
   "cell_type": "code",
   "execution_count": null,
   "metadata": {
    "collapsed": true
   },
   "outputs": [],
   "source": []
  }
 ],
 "metadata": {
  "kernelspec": {
   "display_name": "Python 2",
   "language": "python",
   "name": "python2"
  },
  "language_info": {
   "codemirror_mode": {
    "name": "ipython",
    "version": 2
   },
   "file_extension": ".py",
   "mimetype": "text/x-python",
   "name": "python",
   "nbconvert_exporter": "python",
   "pygments_lexer": "ipython2",
   "version": "2.7.10"
  }
 },
 "nbformat": 4,
 "nbformat_minor": 0
}
