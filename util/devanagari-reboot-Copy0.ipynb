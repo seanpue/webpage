{
 "metadata": {
  "name": "",
  "signature": "sha256:66ae9ec1dece981e7ac9e6dad4d2d175a228af597798da81b103b9e3d30e3bc1"
 },
 "nbformat": 3,
 "nbformat_minor": 0,
 "worksheets": [
  {
   "cells": [
    {
     "cell_type": "code",
     "collapsed": false,
     "input": [],
     "language": "python",
     "metadata": {},
     "outputs": [],
     "prompt_number": 147
    },
    {
     "cell_type": "code",
     "collapsed": false,
     "input": [
      "# -*- coding: utf-8 -*-\n",
      "# <nbformat>3.0</nbformat>\n",
      "\n",
      "# <codecell>\n",
      "\n",
      "# This fetches the current poems from a private Drupal site accessed via xmlrpc\n",
      "\n",
      "import xmlrpcsettings # this holds a few private settings\n",
      "import xmlrpclib\n",
      "import re\n",
      "import json\n",
      "import urllib\n",
      "import codecs\n",
      "\n",
      "assert xmlrpcsettings.ursite\n",
      "assert xmlrpcsettings.inbookurl\n",
      "\n",
      "proxy = xmlrpclib.Server(xmlrpcsettings.ursite)\n",
      "\n",
      "open_url = urllib.urlopen(xmlrpcsettings.inbookurl)\n",
      "nds=json.load(open_url)\n",
      "items = nds['Items']\n",
      "inbook = []\n",
      "for i in items:\n",
      "    inbook.append( proxy.node.retrieve(i['node']['nid']) )\n",
      "assert len(inbook)==30\n",
      "\n",
      "# <codecell>\n",
      "\n",
      "import myparser\n",
      "\n",
      "# <codecell>\n",
      "\n",
      "def get_trans(n):\n",
      "    return n['body']['und'][0]['value']\n",
      "\n",
      "def clean_trans(x):\n",
      "\n",
      "    x=x.replace(' -o- ','-o-') # join these for now to better extract izafats\n",
      "    x=x.replace('!','')\n",
      "    x=x.replace('^','')\n",
      "    x=x.replace(',',' ')\n",
      "    x=x.replace('?',' ')\n",
      "    x=x.replace('--',' ')\n",
      "    x=x.replace('\\t',' ')\n",
      "    x=x.replace('\"',' ')\n",
      "    x=re.sub('\\s+',' ',x)\n",
      "\n",
      "    x=re.sub(\"^\\s+\",'',x)\n",
      "    x=re.sub(\"\\s+$\",'',x)\n",
      "#    x=x.replace('_','-')\n",
      "    return x\n",
      "def get_lines(x):\n",
      "    return x.split('\\n') # may need to account for extra empty lines at end\n",
      "\n",
      "# <codecell>\n"
     ],
     "language": "python",
     "metadata": {},
     "outputs": [],
     "prompt_number": 148
    },
    {
     "cell_type": "code",
     "collapsed": false,
     "input": [
      "devanagari = myparser.Parser('devanagari.yaml')\n",
      "print devanagari.parse('paarah-haa-e abr')"
     ],
     "language": "python",
     "metadata": {},
     "outputs": [
      {
       "output_type": "stream",
       "stream": "stdout",
       "text": [
        "<z_consonant> + <z_consonant>\n",
        "<m> + <h_char>\n",
        "<n> + consonant\n",
        "<k> + <kh>\n",
        "<r> + <r>\n",
        "<r> + <z>\n",
        "<l> + <h>\n",
        "<v> + <v>\n",
        "<;t> + <;th>\n",
        "<d> + <d>\n",
        "<consonant> <vowel> <s> + <t> <long_vowel>\n",
        "<consonant> <long_vowel> <consonant> + <consonant> <long_vowel>\n",
        "<consonant> <vowel> <vowel_nasal> <consonant> + <consonant> <long_vowel>\n",
        "<consonant> <short_vowel> <h_char> + <consonant>\n",
        "<wb> <consonant> <short_vowel> <consonant> + <consonant> <long_vowel> <vowel_nasal>\n",
        "<wb> <short_vowel> <consonant> + <consonant> <short_vowel>\n",
        "<wb> <short_vowel> <consonant> + <consonant> <long_vowel> <consonant>\n",
        "<consonant> <short_vowel> <consonant> + <consonant> <long_vowel>\n",
        "<wb> <vowel> <consonant> + <consonant> <vowel>\n",
        "<wb> <consonant> <short_vowel> <z> + <z> <short_vowel> <consonant>\n",
        "<wb> <consonant> <short_vowel> <consonant> + <consonant> <short_vowel> <consonant>\n",
        "<n> + <consonant>\n",
        "<wb> <long_vowel> <consonant> + <consonant> <long_vowel>\n",
        "<consonant> + <consonant>\n",
        "<k> + <k_group>\n",
        "<ch> + <ch_group>\n",
        "<wb> <consonant> <long_vowel> <consonant> + <consonant> <long_vowel>\n",
        "<wb> <consonant> <long_vowel> <consonant> + <consonant> <short_vowel> <consonant>\n",
        "<wb> <consonant> <short_vowel> <sibilant> + <consonant> <wb>\n",
        "<wb> <consonant> <short_vowel> <consonant> + <consonant> <wb>\n",
        "<wb> <short_vowel> <consonant> + <consonant> <long_vowel> <wb>\n",
        "<wb> <short_vowel> <consonant> + <consonant> <long_vowel> <consonant> <wb>\n",
        "<wb> <short_vowel> <consonant> <short_vowel> <consonant> + <consonant> <short_vowel> <consonant>\n",
        "<vowel> <n> + <consonant>\n",
        "<consonant> + <n> <aa> <wb>\n",
        "<consonant> + <n> <e> <wb>\n",
        "<consonant> + <t> <aa> <wb>\n",
        "<consonant> + <t> <e> <wb>\n",
        "<consonant> + <t> <ii> <wb>\n",
        "<consonant> + <ain> <short_vowel> <wb>\n",
        "<short_vowel> <ain> + <consonant>\n",
        "<wb> <consonant> <short_vowel> + <consonant> <long_vowel>\n",
        "<wb> <consonant> <short_vowel> <consonant> + <consonant> <long_vowel>\n",
        "<consonant> + <consonant>\n",
        "\u092a\u093e\u0930\u093e\u2010\u0939\u093e-\u090f-\u0905\u092c\u094d\u0930\n"
       ]
      }
     ],
     "prompt_number": 195
    },
    {
     "cell_type": "code",
     "collapsed": false,
     "input": [
      "\n",
      "i=1\n",
      "\n",
      "def load_rekhta_file(i):\n",
      "    fn = './from_rekhta/'+str(i).zfill(2)+'-dev.txt'\n",
      "    \n",
      "    with codecs.open(fn,'r','utf-8') as f:\n",
      "        f_in = f.read()\n",
      "    return f_in\n",
      "rf = load_rekhta_file(i)\n",
      "additional_consonants =[\n",
      "(u'\\u0915\\u093C',u'\\u0958'),\n",
      "(u'\\u0916\\u093C',u'\\u0959'),\n",
      "(u'\\u0917\\u093C',u'\\u095A'),\n",
      "(u'\\u091C\\u093C',u'\\u095B'),\n",
      "(u'\\u0921\\u093C',u'\\u095C'),\n",
      "(u'\\u092B\\u093C',u'\\u095E'),#092B \u092b 093C $\n",
      "]\n",
      "for (multi,single) in additional_consonants:\n",
      "    rf = rf.replace(multi[0]+u'\\094D'+multi[1],single)\n",
      "    rf = rf.replace(multi,single)\n",
      "#a=rf.split('\\n')[1]\n",
      "#print a\n",
      "#print \"\\n\".join([c for c in a])"
     ],
     "language": "python",
     "metadata": {},
     "outputs": [],
     "prompt_number": 196
    },
    {
     "cell_type": "code",
     "collapsed": false,
     "input": [
      "i=1\n",
      "n = inbook[i-1]\n",
      "lines = get_lines(get_trans(n))\n",
      "lines = [clean_trans(x) for x in lines]\n",
      "#lines\n",
      "lines_dev = [devanagari.parse(x) for x in lines]\n",
      "for x in lines_dev:\n",
      "    print x#print lines_dev"
     ],
     "language": "python",
     "metadata": {},
     "outputs": [
      {
       "output_type": "stream",
       "stream": "stdout",
       "text": [
        "\u091b\u093e\u090f \u0939\u0941\u090f \u0939\u0948\u0902 \u091a\u093e\u0930 \u0924\u0930\u092b\u093c \u092a\u093e\u0930\u093e\u2010\u0939\u093e-\u090f-\u0905\u092c\u094d\u0930\n",
        "\u0906\u0917\u093c\u094b\u0936 \u092e\u0947\u0902 \u0932\u093f\u090f \u0939\u0941\u090f \u0926\u0941\u0902\u092f\u093e\u2010\u090f\u2010\u0906\u092c\u2010\u0913\u2010\u0930\u0902\u0917\n",
        "\u092e\u0947\u0930\u0947 \u0932\u093f\u090f \u0939\u0948 \u0909\u0928 \u0915\u0940 \u0917\u0930\u091c \u092e\u0947\u0902 \u0938\u0930\u094b\u0926\u2010\u090f\u2010\u091a\u0902\u0917\n",
        "\u092a\u0948\u0917\u093c\u093e\u092e\u2010\u090f\u2010\u0907\u0902\u092c\u093f\u0938\u093e\u0924 \u0939\u0948 \u092e\u0941\u091d \u0915\u094b \u0938\u0926\u093e\u2010\u090f\u2010\u0905\u092c\u094d\u0930\n",
        "\u0909\u091f\u094d\u0920\u0940 \u0939\u0948 \u0939\u0932\u0915\u0947 \u0939\u0932\u0915\u0947 \u0938\u0930\u094b\u0902 \u092e\u0947\u0902 \u0928\u0935\u093e\u2010\u090f\u2010\u0905\u092c\u094d\u0930\n",
        "\u0914\u0930 \u0915\u093c\u0924\u094d\u0930\u2010\u0939\u093e-\u090f-\u0906\u092c \u092c\u091c\u093e\u0924\u0947 \u0939\u0948\u0902 \u091c\u0932\u0924\u0930\u0902\u0917\n",
        "\u0917\u0939\u0930\u093e\u0907\u092f\u094b\u0902 \u092e\u0947\u0902 \u0930\u0942\u0939 \u0915\u0940 \u091c\u093e\u0917\u0940 \u0939\u0948 \u0939\u0930 \u0909\u092e\u0902\u0917\n",
        "\u0926\u093f\u0932 \u092e\u0947\u0902 \u0909\u0924\u0930 \u0930\u0939\u0947 \u0939\u0948\u0902 \u092e\u093f\u0930\u0947 \u0928\u0917\u093c\u092e\u093e\u2010\u0939\u093e-\u090f-\u0905\u092c\u094d\u0930\n",
        "\u092e\u0941\u0926\u094d\u0926\u0924 \u0938\u0947 \u0932\u0941\u091f \u091a\u0941\u0915\u0947 \u0925\u0947 \u0924\u092e\u0928\u094d\u0928\u093e \u0915\u0947 \u092c\u093e\u0930\u2010\u0913\u2010\u092c\u0930\u094d\u0917\n",
        "\u091b\u093e\u092f\u093e \u0939\u0941\u0906 \u0925\u093e \u0930\u0942\u0939 \u092a\u0947 \u0917\u094b\u092f\u093e \u0938\u0941\u0915\u0942\u0924\u2010\u090f\u2010\u092e\u0930\u094d\u0917\n",
        "\u091b\u0942\u0921\u093c\u093e \u0939\u0948 \u0906\u091c \u091c\u093c\u0940\u0938\u094d\u0924 \u0915\u094b \u0916\u093c\u094d\u0935\u093e\u092c\u2010\u090f\u2010\u091c\u092e\u0942\u0926 \u0928\u0947\n",
        "\u0909\u0928 \u092c\u093e\u0926\u0932\u094b\u0902 \u0938\u0947 \u0924\u093e\u091c\u093c\u093e \u0939\u0941\u0908 \u0939\u0948 \u0939\u092f\u093e\u0924 \u092b\u093f\u0930\n",
        "\u092e\u0947\u0930\u0947 \u0932\u093f\u092f\u0947 \u091c\u0935\u093e\u0928 \u0939\u0948 \u092f\u0947 \u0915\u093e\u0907\u0928\u093e\u0924 \u092b\u093f\u0930\n",
        "\u0936\u093e\u0926\u093e\u092c \u0915\u0930 \u0926\u093f\u092f\u093e \u0939\u0948 \u0926\u093f\u0932 \u0909\u0928 \u0915\u0947 \u0938\u0930\u094b\u0926 \u0928\u0947\n"
       ]
      }
     ],
     "prompt_number": 197
    },
    {
     "cell_type": "code",
     "collapsed": false,
     "input": [
      "lines"
     ],
     "language": "python",
     "metadata": {},
     "outputs": [
      {
       "metadata": {},
       "output_type": "pyout",
       "prompt_number": 198,
       "text": [
        "['chhaa))e hu))e hai;n chaar :taraf paarah-haa-e abr',\n",
        " 'aa;gosh me;n li))e hu))e dunyaa-e aab-o-rang',\n",
        " 'mere li))e hai un kii garaj me;n sarod-e chang',\n",
        " 'pai;gaam-e i;nbisaa:t hai mujh ko .sadaa-e abr',\n",
        " 'u;t;thii hai halke halke saro;n me;n navaa-e abr',\n",
        " 'aur qa:tr-haa-e aab bajaate hai;n jaltarang',\n",
        " 'gahraa))iyo;n me;n ruu;h kii jaagii hai har umang',\n",
        " 'dil me;n utar rahe hai;n mire na;gmah-haa-e abr',\n",
        " 'muddat se lu;t chuke the tamannaa ke baar-o-barg',\n",
        " 'chhaayaa hu))aa thaa ruu;h pah goyaa sukuut-e marg',\n",
        " 'chhuu;raa hai aaj ziist ko ;xvaab-e jamuud ne',\n",
        " 'un baadalo;n se taazah hu))ii hai ;hayaat phir',\n",
        " 'mere liye javaan hai yih kaa))inaat phir',\n",
        " 'shaadaab kar diyaa hai dil un ke sarod ne']"
       ]
      }
     ],
     "prompt_number": 198
    },
    {
     "cell_type": "code",
     "collapsed": false,
     "input": [
      "\n",
      "lines_rf = rf.split('\\n')\n",
      "len(lines_dev),len(lines_rf)"
     ],
     "language": "python",
     "metadata": {},
     "outputs": [
      {
       "metadata": {},
       "output_type": "pyout",
       "prompt_number": 199,
       "text": [
        "(14, 15)"
       ]
      }
     ],
     "prompt_number": 199
    },
    {
     "cell_type": "code",
     "collapsed": false,
     "input": [
      "for i in range(0,len(lines_dev)):\n",
      "    print 'i',len(lines_dev[i]),len(lines_rf[i])\n",
      "    if lines_dev[i].strip()==lines_rf[i].strip():\n",
      "        print \"*\",lines_dev[i]\n",
      "    else:\n",
      "        result = list(d.compare(lines_dev[i].strip(),lines_rf[i].strip()))\n",
      "#        print ''.join(result)\n",
      "        print lines[i]\n",
      "        print lines_dev[i].strip()\n",
      "        print lines_rf[i].strip()\n",
      "#    sys.stdout.writelines(result)"
     ],
     "language": "python",
     "metadata": {},
     "outputs": [
      {
       "output_type": "stream",
       "stream": "stdout",
       "text": [
        "i 34 34\n",
        "chhaa))e hu))e hai;n chaar :taraf paarah-haa-e abr\n",
        "\u091b\u093e\u090f \u0939\u0941\u090f \u0939\u0948\u0902 \u091a\u093e\u0930 \u0924\u0930\u092b\u093c \u092a\u093e\u0930\u093e\u2010\u0939\u093e-\u090f-\u0905\u092c\u094d\u0930\n",
        "\u091b\u093e\u090f \u0939\u0941\u090f \u0939\u0948\u0902 \u091a\u093e\u0930 \u0924\u0930\u092b\u093c \u092a\u093e\u0930\u093e-\u0939\u093e-\u090f-\u0905\u092c\u094d\u0930\n",
        "i 33 34\n",
        "aa;gosh me;n li))e hu))e dunyaa-e aab-o-rang\n",
        "\u0906\u0917\u093c\u094b\u0936 \u092e\u0947\u0902 \u0932\u093f\u090f \u0939\u0941\u090f \u0926\u0941\u0902\u092f\u093e\u2010\u090f\u2010\u0906\u092c\u2010\u0913\u2010\u0930\u0902\u0917\n",
        "\u0906\u0917\u093c\u094b\u0936 \u092e\u0947\u0902 \u0932\u093f\u090f \u0939\u0941\u090f \u0926\u0941\u0928\u093f\u092f\u093e-\u090f-\u0906\u092c-\u0913-\u0930\u0902\u0917\n",
        "i 36 37\n",
        "mere li))e hai un kii garaj me;n sarod-e chang\n",
        "\u092e\u0947\u0930\u0947 \u0932\u093f\u090f \u0939\u0948 \u0909\u0928 \u0915\u0940 \u0917\u0930\u091c \u092e\u0947\u0902 \u0938\u0930\u094b\u0926\u2010\u090f\u2010\u091a\u0902\u0917\n",
        "\u092e\u0947\u0930\u0947 \u0932\u093f\u090f \u0939\u0948 \u0909\u0928 \u0915\u0940 \u0917\u0930\u091c \u092e\u0947\u0902 \u0938\u0941\u0930\u0942\u0926-\u0913-\u091a\u0902\u0917\n",
        "i 36 37\n",
        "pai;gaam-e i;nbisaa:t hai mujh ko .sadaa-e abr\n",
        "\u092a\u0948\u0917\u093c\u093e\u092e\u2010\u090f\u2010\u0907\u0902\u092c\u093f\u0938\u093e\u0924 \u0939\u0948 \u092e\u0941\u091d \u0915\u094b \u0938\u0926\u093e\u2010\u090f\u2010\u0905\u092c\u094d\u0930\n",
        "\u092a\u0948\u0917\u093c\u093e\u092e-\u090f-\u0907\u092e\u094d\u092c\u093f\u0938\u093e\u0924 \u0939\u0948 \u092e\u0941\u091d \u0915\u094b \u0938\u0926\u093e-\u090f-\u0905\u092c\u094d\u0930\n",
        "i 38 41\n",
        "u;t;thii hai halke halke saro;n me;n navaa-e abr\n",
        "\u0909\u091f\u094d\u0920\u0940 \u0939\u0948 \u0939\u0932\u0915\u0947 \u0939\u0932\u0915\u0947 \u0938\u0930\u094b\u0902 \u092e\u0947\u0902 \u0928\u0935\u093e\u2010\u090f\u2010\u0905\u092c\u094d\u0930\n",
        "\u0909\u091f\u094d\u0920\u0940 \u0939\u0948 \u0939\u0932\u094d\u0915\u0947 \u0939\u0932\u094d\u0915\u0947 \u0938\u0941\u0930\u094b\u0902 \u092e\u0947\u0902 \u0928\u0935\u093e-\u090f-\u0905\u092c\u094d\u0930\n",
        "i 32 33\n",
        "aur qa:tr-haa-e aab bajaate hai;n jaltarang\n",
        "\u0914\u0930 \u0915\u093c\u0924\u094d\u0930\u2010\u0939\u093e-\u090f-\u0906\u092c \u092c\u091c\u093e\u0924\u0947 \u0939\u0948\u0902 \u091c\u0932\u0924\u0930\u0902\u0917\n",
        "\u0914\u0930 \u0915\u093c\u0924\u094d\u0930-\u0939\u093e-\u090f-\u0906\u092c \u092c\u091c\u093e\u0924\u0947 \u0939\u0948\u0902 \u091c\u0932-\u0924\u0930\u0902\u0917\n",
        "i 35 35\n",
        "* \u0917\u0939\u0930\u093e\u0907\u092f\u094b\u0902 \u092e\u0947\u0902 \u0930\u0942\u0939 \u0915\u0940 \u091c\u093e\u0917\u0940 \u0939\u0948 \u0939\u0930 \u0909\u092e\u0902\u0917\n",
        "i 39 39\n",
        "dil me;n utar rahe hai;n mire na;gmah-haa-e abr\n",
        "\u0926\u093f\u0932 \u092e\u0947\u0902 \u0909\u0924\u0930 \u0930\u0939\u0947 \u0939\u0948\u0902 \u092e\u093f\u0930\u0947 \u0928\u0917\u093c\u092e\u093e\u2010\u0939\u093e-\u090f-\u0905\u092c\u094d\u0930\n",
        "\u0926\u093f\u0932 \u092e\u0947\u0902 \u0909\u0924\u0930 \u0930\u0939\u0947 \u0939\u0948\u0902 \u092e\u093f\u0930\u0947 \u0928\u0917\u093c\u094d\u092e-\u0939\u093e-\u090f-\u0905\u092c\u094d\u0930\n",
        "i 42 42\n",
        "muddat se lu;t chuke the tamannaa ke baar-o-barg\n",
        "\u092e\u0941\u0926\u094d\u0926\u0924 \u0938\u0947 \u0932\u0941\u091f \u091a\u0941\u0915\u0947 \u0925\u0947 \u0924\u092e\u0928\u094d\u0928\u093e \u0915\u0947 \u092c\u093e\u0930\u2010\u0913\u2010\u092c\u0930\u094d\u0917\n",
        "\u092e\u0941\u0926\u094d\u0926\u0924 \u0938\u0947 \u0932\u0941\u091f \u091a\u0941\u0915\u0947 \u0925\u0947 \u0924\u092e\u0928\u094d\u0928\u093e \u0915\u0947 \u092c\u093e\u0930-\u0913-\u092c\u0930\u094d\u0917\n",
        "i 36 36\n",
        "chhaayaa hu))aa thaa ruu;h pah goyaa sukuut-e marg\n",
        "\u091b\u093e\u092f\u093e \u0939\u0941\u0906 \u0925\u093e \u0930\u0942\u0939 \u092a\u0947 \u0917\u094b\u092f\u093e \u0938\u0941\u0915\u0942\u0924\u2010\u090f\u2010\u092e\u0930\u094d\u0917\n",
        "\u091b\u093e\u092f\u093e \u0939\u0941\u0906 \u0925\u093e \u0930\u0942\u0939 \u092a\u0947 \u0917\u094b\u092f\u093e \u0938\u0941\u0915\u0942\u0924-\u090f-\u092e\u0930\u094d\u0917\n",
        "i 35 36\n",
        "chhuu;raa hai aaj ziist ko ;xvaab-e jamuud ne\n",
        "\u091b\u0942\u0921\u093c\u093e \u0939\u0948 \u0906\u091c \u091c\u093c\u0940\u0938\u094d\u0924 \u0915\u094b \u0916\u093c\u094d\u0935\u093e\u092c\u2010\u090f\u2010\u091c\u092e\u0942\u0926 \u0928\u0947\n",
        "\u091b\u094b\u0921\u093c\u093e \u0939\u0948 \u0906\u091c \u091c\u093c\u0940\u0938\u094d\u0924 \u0915\u094b \u0916\u093c\u094d\u0935\u093e\u092c-\u090f-\u091c\u0941\u092e\u0942\u0926 \u0928\u0947\n",
        "i 33 33\n",
        "* \u0909\u0928 \u092c\u093e\u0926\u0932\u094b\u0902 \u0938\u0947 \u0924\u093e\u091c\u093c\u093e \u0939\u0941\u0908 \u0939\u0948 \u0939\u092f\u093e\u0924 \u092b\u093f\u0930\n",
        "i 31 30\n",
        "mere liye javaan hai yih kaa))inaat phir\n",
        "\u092e\u0947\u0930\u0947 \u0932\u093f\u092f\u0947 \u091c\u0935\u093e\u0928 \u0939\u0948 \u092f\u0947 \u0915\u093e\u0907\u0928\u093e\u0924 \u092b\u093f\u0930\n",
        "\u092e\u0947\u0930\u0947 \u0932\u093f\u090f \u091c\u0935\u093e\u0928 \u0939\u0948 \u092f\u0947 \u0915\u093e\u090f\u0928\u093e\u0924 \u092b\u093f\u0930\n",
        "i 34 36\n",
        "shaadaab kar diyaa hai dil un ke sarod ne\n",
        "\u0936\u093e\u0926\u093e\u092c \u0915\u0930 \u0926\u093f\u092f\u093e \u0939\u0948 \u0926\u093f\u0932 \u0909\u0928 \u0915\u0947 \u0938\u0930\u094b\u0926 \u0928\u0947\n",
        "\u0936\u093e\u0926\u093e\u092c \u0915\u0930 \u0926\u093f\u092f\u093e \u0939\u0948 \u0926\u093f\u0932 \u0909\u0928 \u0915\u0947 \u0938\u0941\u0930\u0942\u0926 \u0928\u0947!\n"
       ]
      }
     ],
     "prompt_number": 200
    },
    {
     "cell_type": "code",
     "collapsed": false,
     "input": [
      "line_no=0\n",
      "a_line = lines_dev[line_no]\n",
      "b_line = lines_rf[line_no]\n",
      "print len(a_line),len(b_line),a_line==b_line\n",
      "for x in range(len(a_line)):\n",
      "    a=a_line[x]\n",
      "    b=b_line[x]\n",
      "    print a,b,a==b"
     ],
     "language": "python",
     "metadata": {},
     "outputs": [
      {
       "output_type": "stream",
       "stream": "stdout",
       "text": [
        "34 34 False\n",
        "\u091b \u091b True\n",
        "\u093e \u093e True\n",
        "\u090f \u090f True\n",
        "    True\n",
        "\u0939 \u0939 True\n",
        "\u0941 \u0941 True\n",
        "\u090f \u090f True\n",
        "    True\n",
        "\u0939 \u0939 True\n",
        "\u0948 \u0948 True\n",
        "\u0902 \u0902 True\n",
        "    True\n",
        "\u091a \u091a True\n",
        "\u093e \u093e True\n",
        "\u0930 \u0930 True\n",
        "    True\n",
        "\u0924 \u0924 True\n",
        "\u0930 \u0930 True\n",
        "\u092b\u093c \u092b\u093c True\n",
        "    True\n",
        "\u092a \u092a True\n",
        "\u093e \u093e True\n",
        "\u0930 \u0930 True\n",
        "\u093e \u093e True\n",
        "\u2010 - False\n",
        "\u0939 \u0939 True\n",
        "\u093e \u093e True\n",
        "- - True\n",
        "\u090f \u090f True\n",
        "- - True\n",
        "\u0905 \u0905 True\n",
        "\u092c \u092c True\n",
        "\u094d \u094d True\n",
        "\u0930 \u0930 True\n"
       ]
      }
     ],
     "prompt_number": 208
    },
    {
     "cell_type": "code",
     "collapsed": false,
     "input": [
      "from difflib import Differ\n",
      "d = Differ()\n",
      "from pprint import pprint\n",
      "result = list(d.compare(u'\u092b\u093c\u091c\u093c\u093e \u0915\u0940 \u0935\u0941\u0938\u0905\u0924\u094b\u0902 \u092e\u0947\u0902 \u0939\u0948 \u0930\u0935\u093e\u0901 \u0906\u0939\u093f\u0938\u094d\u0924\u093e \u0906\u0939\u093f\u0938\u094d\u0924\u093e',u'\u092b\u093c\u091c\u093c\u093e \u0915\u0940 \u0935\u0941\u0938\u0905\u0924\u094b\u0902 \u092e\u0947\u0902 \u0939\u0948 \u0930\u0935\u093e\u0901 \u0906\u0939\u093f\u0938\u094d\u0924\u093e \u0906\u0939\u093f\u0938\u094d\u0924\u093e'))\n",
      "\n",
      "pprint(result)"
     ],
     "language": "python",
     "metadata": {},
     "outputs": [
      {
       "output_type": "stream",
       "stream": "stdout",
       "text": [
        "[u'  \\u092b',\n",
        " u'  \\u093c',\n",
        " u'  \\u091c',\n",
        " u'  \\u093c',\n",
        " u'  \\u093e',\n",
        " u'   ',\n",
        " u'  \\u0915',\n",
        " u'  \\u0940',\n",
        " u'   ',\n",
        " u'  \\u0935',\n",
        " u'  \\u0941',\n",
        " u'  \\u0938',\n",
        " u'  \\u0905',\n",
        " u'  \\u0924',\n",
        " u'  \\u094b',\n",
        " u'  \\u0902',\n",
        " u'   ',\n",
        " u'  \\u092e',\n",
        " u'  \\u0947',\n",
        " u'  \\u0902',\n",
        " u'   ',\n",
        " u'  \\u0939',\n",
        " u'  \\u0948',\n",
        " u'   ',\n",
        " u'  \\u0930',\n",
        " u'  \\u0935',\n",
        " u'  \\u093e',\n",
        " u'  \\u0901',\n",
        " u'   ',\n",
        " u'  \\u0906',\n",
        " u'  \\u0939',\n",
        " u'  \\u093f',\n",
        " u'  \\u0938',\n",
        " u'  \\u094d',\n",
        " u'  \\u0924',\n",
        " u'  \\u093e',\n",
        " u'   ',\n",
        " u'  \\u0906',\n",
        " u'  \\u0939',\n",
        " u'  \\u093f',\n",
        " u'  \\u0938',\n",
        " u'  \\u094d',\n",
        " u'  \\u0924',\n",
        " u'  \\u093e']\n"
       ]
      }
     ],
     "prompt_number": 173
    },
    {
     "cell_type": "code",
     "collapsed": false,
     "input": [
      "chars = \"[a-z\\(\\):\\-;\\._']+?\"\n",
      "z= '('+chars+'(?:-e '+chars+')*'+')'+'(?: |$)'                                              \n",
      "pattern = re.compile(z,re.UNICODE)\n",
      "\n",
      "\n",
      "# <codecell>\n",
      "\n",
      "words = {}\n",
      "def clean_word(x): # remove brackets\n",
      "    if re.match('\\([^(]',x):\n",
      "         x = x[1:]\n",
      "#         print x\n",
      "    if re.search('[^)]\\)$',x):\n",
      "        x = x[0:-1]\n",
      "    if re.search(':$',x):\n",
      "         x = x[0:-1]\n",
      "    x=re.sub('\\.\\.\\.$','',x)\n",
      "\n",
      "#        print x\n",
      "    return x\n",
      "for i,n in enumerate(inbook):\n",
      "    x = clean_trans(get_trans(n))\n",
      "    lines=get_lines(x)\n",
      "#    print lines\n",
      "    for line_id,l in enumerate(lines):\n",
      "        matches = []\n",
      "        for match in pattern.finditer(l):\n",
      "            matches.append(match.group(0))\n",
      "            w = match.group(1)\n",
      "            w = clean_word(w)\n",
      "            if w in words:\n",
      "                words[w].append((i,line_id))\n",
      "            else:\n",
      "                words[w] = [(i,l)]\n",
      "        assert l==''.join(matches)\n",
      "\n",
      "        \n",
      "\n",
      "# <codecell>\n",
      "\n",
      "re.match('\\([^(]','((')\n",
      "\n",
      "# <codecell>\n",
      "import csv\n",
      "def unicode_csv_reader(utf8_data, dialect=csv.excel, **kwargs):\n",
      "      csv_reader = csv.reader(utf8_data, dialect=dialect, **kwargs)\n",
      "      for row in csv_reader:\n",
      "          yield [unicode(cell, 'utf-8') for cell in row]\n",
      "old = unicode_csv_reader('rashid-dev.csv')\n",
      "\n",
      "def update_okays():\n",
      "    okay_dev={}\n",
      "    reader = unicode_csv_reader(open('okay-dev.csv'))\n",
      "    for transliteration,devanagari in reader:\n",
      "        okay_dev[transliteration]=devanagari\n",
      "\n",
      "    reader = unicode_csv_reader(open('rashid-dev.csv'))\n",
      "    for ok,devanagari,transliteration,count,meter,replacement in reader:\n",
      "        if ok=='x':\n",
      "            okay_dev[transliteration] = devanagari\n",
      "\n",
      "    with codecs.open('okay-dev.csv','w','utf8') as f:        \n",
      "        for k,v in okay_dev.iteritems():\n",
      "            f.write(k+u','+v+'\\n') #generate new csv\n",
      "#            print k,v\n",
      "    return okay_dev\n",
      "\n",
      "def regenerate():\n",
      "    \n",
      "    diacritics = myparser.Parser('diacritics.yaml')\n",
      "    devanagari = myparser.Parser('devanagari.yaml')\n",
      "    urdu = myparser.Parser('urdu.yaml')\n",
      "    um=myparser.Parser('urdu-meter.yaml')\n",
      "    okays = update_okays()\n",
      "    print 'okays is ',len(okays)\n",
      "\n",
      "    output=u\"ok,devanagari,transliteration,count,meter,replacement\\n\"\n",
      "#    for w in sorted(words, key=lambda k: len(words[k]), reverse=True):\n",
      "    for w in sorted(words, key=lambda k: len(words[k]), reverse=True):\n",
      "        print w\n",
      "   #     print w\n",
      "        dev = devanagari.parse(w)\n",
      "        okay=''\n",
      "        if w in okays:\n",
      " #          print 'yes'\n",
      "            if okays[w] ==dev:\n",
      "                okay='x'\n",
      "            else:\n",
      "                print 'warning ',w,' is no longer', okays[w]\n",
      "                \n",
      "        output+=okay+','+dev+','+w+','+str(len(words[w]))+','+um.parse(w)+','+'\\n'\n",
      "\n",
      "        #print devanagari.parse(w),w,len(words[w])#print '\\n'.join(words.keys())\n",
      "    import codecs\n",
      "    with codecs.open('rashid-dev.csv','w','utf-8') as f:\n",
      "        f.write(output)\n",
      "regenerate()"
     ],
     "language": "python",
     "metadata": {},
     "outputs": [
      {
       "output_type": "stream",
       "stream": "stdout",
       "text": [
        "<z_consonant> + <z_consonant>\n",
        "<m> + <h_char>\n",
        "<n> + consonant\n",
        "<k> + <kh>\n",
        "<r> + <r>\n",
        "<r> + <z>\n",
        "<l> + <h>\n",
        "<v> + <v>\n",
        "<;t> + <;th>\n",
        "<d> + <d>\n",
        "<consonant> <vowel> <s> + <t> <long_vowel>\n",
        "<consonant> <long_vowel> <consonant> + <consonant> <long_vowel>\n",
        "<consonant> <vowel> <vowel_nasal> <consonant> + <consonant> <long_vowel>\n",
        "<consonant> <short_vowel> <h_char> + <consonant>\n",
        "<wb> <consonant> <short_vowel> <consonant> + <consonant> <long_vowel> <vowel_nasal>\n",
        "<wb> <short_vowel> <consonant> + <consonant> <short_vowel>\n",
        "<wb> <short_vowel> <consonant> + <consonant> <long_vowel> <consonant>\n",
        "<consonant> <short_vowel> <consonant> + <consonant> <long_vowel>\n",
        "<wb> <vowel> <consonant> + <consonant> <vowel>\n",
        "<wb> <consonant> <short_vowel> <z> + <z> <short_vowel> <consonant>\n",
        "<wb> <consonant> <short_vowel> <consonant> + <consonant> <short_vowel> <consonant>\n",
        "<n> + <consonant>\n",
        "<wb> <long_vowel> <consonant> + <consonant> <long_vowel>\n",
        "<consonant> + <consonant>\n",
        "<k> + <k_group>\n",
        "<ch> + <ch_group>\n",
        "<wb> <consonant> <long_vowel> <consonant> + <consonant> <long_vowel>\n",
        "<wb> <consonant> <long_vowel> <consonant> + <consonant> <short_vowel> <consonant>\n",
        "<wb> <consonant> <short_vowel> <sibilant> + <consonant> <wb>\n",
        "<wb> <consonant> <short_vowel> <consonant> + <consonant> <wb>\n",
        "<wb> <short_vowel> <consonant> + <consonant> <long_vowel> <wb>\n",
        "<wb> <short_vowel> <consonant> + <consonant> <long_vowel> <consonant> <wb>\n",
        "<wb> <short_vowel> <consonant> <short_vowel> <consonant> + <consonant> <short_vowel> <consonant>\n",
        "<vowel> <n> + <consonant>\n",
        "<consonant> + <n> <aa> <wb>\n",
        "<consonant> + <n> <e> <wb>\n",
        "<consonant> + <t> <aa> <wb>\n",
        "<consonant> + <t> <e> <wb>\n",
        "<consonant> + <t> <ii> <wb>\n",
        "<consonant> + <ain> <short_vowel> <wb>\n",
        "<short_vowel> <ain> + <consonant>\n",
        "<wb> <consonant> <short_vowel> + <consonant> <long_vowel>\n",
        "<wb> <consonant> <short_vowel> <consonant> + <consonant> <long_vowel>\n",
        "<consonant> + <consonant>\n",
        "okays is "
       ]
      },
      {
       "output_type": "stream",
       "stream": "stdout",
       "text": [
        " 2428\n",
        "ke\n",
        "kii\n",
        "se\n",
        "hai\n",
        "me;n\n",
        "hai;n\n",
        "kaa\n",
        "vuh\n",
        "kih\n",
        "yih\n",
        "ko\n",
        "mai;n\n",
        "bhii\n",
        "aur\n",
        "nahii;n\n",
        "jo\n",
        "ik\n",
        "ham\n",
        "is\n",
        "ho\n",
        "pah\n",
        "nah\n",
        "to\n",
        "us\n",
        "huu;n\n",
        "jis\n",
        "un\n",
        "thaa\n",
        "mire\n",
        "ne"
       ]
      },
      {
       "output_type": "stream",
       "stream": "stdout",
       "text": [
        "\n",
        ";xvaab\n",
        "ek\n",
        "kabhii\n",
        "hii\n",
        "har\n",
        "magar\n",
        "thii\n",
        "tuu\n",
        "ab\n",
        "kuchh\n",
        "par\n",
        "rahe\n",
        "apne\n",
        "dil\n",
        "tak\n",
        "hu))e\n",
        "apnii\n",
        "mere\n",
        "phir\n",
        "rahaa\n",
        "ai\n",
        "mujhe\n",
        "ko))ii\n",
        "the\n",
        "jin\n",
        "kisii\n",
        "jahaa;n-zaad"
       ]
      },
      {
       "output_type": "stream",
       "stream": "stdout",
       "text": [
        "\n",
        "liye\n",
        "gayaa\n",
        "kuuzah-gar\n",
        "tum\n",
        "aag\n",
        "reg\n",
        "aaj\n",
        "jaise\n",
        "kahaa;n\n",
        "hu))aa\n",
        "raat\n",
        "tamaam\n",
        "de\n",
        "sab\n",
        "shahr\n",
        "na))e\n",
        "ban\n",
        ";hasan\n",
        "abhii"
       ]
      },
      {
       "output_type": "stream",
       "stream": "stdout",
       "text": [
        "\n",
        "vaqt\n",
        "zindagii\n",
        "kyaa\n",
        "jahaa;n\n",
        ".sub;h\n",
        "maanind\n",
        "kar\n",
        "mujh\n",
        "rahii\n",
        "mu;habbat\n",
        "yihii\n",
        "hu))ii\n",
        "do\n",
        "in\n",
        "ga))e\n",
        "aap\n",
        ":tara;h\n",
        "aa"
       ]
      },
      {
       "output_type": "stream",
       "stream": "stdout",
       "text": [
        "\n",
        ";xvud\n",
        "ga))ii\n",
        "jism\n",
        "miraa\n",
        "yaa\n",
        "ruu;h\n",
        ";xudaa\n",
        "kis\n",
        "duur\n",
        ".sadaa\n",
        ";xabar\n",
        "tujhe\n",
        "rah\n",
        "mirii\n",
        "aa))o\n",
        "alaa))o\n",
        "tamannaa\n",
        ";darte\n",
        "terii\n",
        "jaag"
       ]
      },
      {
       "output_type": "stream",
       "stream": "stdout",
       "text": [
        "\n",
        "jab\n",
        "ho;n\n",
        "((ishq\n",
        "((ishq-e azal-giir-o-abad-taab\n",
        "sar\n",
        "hame;n\n",
        "merii\n",
        "dekhtii\n",
        "paa\n",
        ".sa;hraa\n",
        "sivaa\n",
        "javaab\n",
        "lo\n",
        "tire\n",
        "gunaah"
       ]
      },
      {
       "output_type": "stream",
       "stream": "stdout",
       "text": [
        "\n",
        ";gam\n",
        "javaanii\n",
        "haath\n",
        "aadmii\n",
        "vuhii\n",
        "naam\n",
        "lekin\n",
        "kah\n",
        "jaa;n\n",
        "insaa;n\n",
        "jaa\n",
        ":taraf\n",
        "tamaashaa-gah-e laalah-zaar\n",
        "aahistah\n",
        ";xvaabo;n\n",
        "kare;n"
       ]
      },
      {
       "output_type": "stream",
       "stream": "stdout",
       "text": [
        "\n",
        "aise\n",
        "daur\n",
        "aarzuu\n",
        "thii;n\n",
        "tere\n",
        "kitne\n",
        "dekh\n",
        "baar\n",
        "sadaa\n",
        "jagah\n",
        "kaise\n",
        "kyo;n\n",
        "dara;xt\n",
        ";zaat\n",
        "tamannaa))o;n\n",
        "fan\n",
        "yaad\n",
        "kiyaa\n",
        "bahut"
       ]
      },
      {
       "output_type": "stream",
       "stream": "stdout",
       "text": [
        "\n",
        "niiche\n",
        "yuu;n\n",
        "pahle\n",
        "baras\n",
        "kitnii\n",
        "be-paayaa;n\n",
        "diyaa\n",
        "yak-dilii\n",
        "kuuzo;n\n",
        "jaa))e;n\n",
        "aasmaa;n\n",
        "warning  aasmaa;n  is no longer \u0906\u0938\u094d\u092e\u093e\u0901\n",
        "chaak\n",
        "use\n",
        "tairte\n",
        "sar;had"
       ]
      },
      {
       "output_type": "stream",
       "stream": "stdout",
       "text": [
        "\n",
        "dar\n",
        "baa;g\n",
        "nuur\n",
        "zabaa;n\n",
        "aa;nkhe;n\n",
        "lab\n",
        "aa))iinah\n",
        "kiye\n",
        ".sadyo;n\n",
        "warning  .sadyo;n  is no longer \u0938\u0926\u092f\u094b\u0902\n",
        "bas\n",
        "aa;xir\n",
        "taarii;x\n",
        "isii\n",
        "ruusii\n",
        "anjaam\n",
        "aisii\n",
        "tiraa\n",
        "na))ii\n",
        "kuuze"
       ]
      },
      {
       "output_type": "stream",
       "stream": "stdout",
       "text": [
        "\n",
        "mumkin\n",
        "chukaa\n",
        "bihisht\n",
        "maut\n",
        "usii\n",
        "dekhaa\n",
        ";xaa:tir\n",
        "lagaa\n",
        "ban-kar\n",
        "saal\n",
        ";xaak\n",
        "li))e\n",
        "sake;nge\n",
        "ret\n",
        "ta((aaqub\n",
        "mil\n",
        "tirii\n",
        "zamaanah"
       ]
      },
      {
       "output_type": "stream",
       "stream": "stdout",
       "text": [
        "\n",
        ")\n",
        "kahii;n\n",
        "meraa\n",
        "hamah\n",
        "nii;nd\n",
        "kinaare\n",
        "hech\n",
        "barahnah\n",
        "ha;nstii\n",
        "saamne\n",
        "guzar"
       ]
      },
      {
       "output_type": "stream",
       "stream": "stdout",
       "text": [
        "\n",
        "jamaal\n",
        "aa;gaaz\n",
        "hone\n",
        "shahro;n\n",
        "kaarvaa;n\n",
        "warning  kaarvaa;n  is no longer \u0915\u093e\u0930\u0935\u093e\u0901\n",
        "nigaaho;n\n",
        "roz\n",
        "jaa))e\n",
        "nahang\n",
        "sochtaa\n",
        "ufaq\n",
        "hamaarii\n",
        "samarqand\n",
        "kahaa\n",
        "ch;ehre"
       ]
      },
      {
       "output_type": "stream",
       "stream": "stdout",
       "text": [
        "\n",
        "afkaar\n",
        "warning  afkaar  is no longer \u0905\u092b\u093c\u094d\u0915\u093e\u0930\n",
        "dekho\n",
        "aa;nkho;n\n",
        "daastaa;n\n",
        "dunyaa\n",
        "samaavii\n",
        "siine\n",
        "tah;ziib\n",
        "bhar\n",
        "kal\n",
        "raah\n",
        "javaa;n\n",
        "aage\n",
        "galii\n",
        ";xaraabo;n\n",
        "shab\n",
        "saa;hil\n",
        ".sa;hraa-navard-e piir"
       ]
      },
      {
       "output_type": "stream",
       "stream": "stdout",
       "text": [
        "\n",
        "aisaa\n",
        "nai\n",
        "nau\n",
        "na;gmah\n",
        "hamii;n\n",
        "ha;ns\n",
        "gumaa;n\n",
        "tishnagii\n",
        "sii\n",
        "paar\n",
        "bu;xaaraa\n",
        "kaun\n",
        "letaa\n",
        "tujh\n",
        "ban-ke\n",
        "laarins"
       ]
      },
      {
       "output_type": "stream",
       "stream": "stdout",
       "text": [
        "\n",
        "agar\n",
        "va:tan\n",
        "utar\n",
        "faqa:t\n",
        "apnaa\n",
        "shaayad\n",
        "tabassum\n",
        "saayah\n",
        "pa;rii\n",
        "liyaa\n",
        ";zarre"
       ]
      },
      {
       "output_type": "stream",
       "stream": "stdout",
       "text": [
        "\n",
        "pa;re\n",
        "band\n",
        "jaanib\n",
        "rang\n",
        ";xizaa;n\n",
        "bar\n",
        "bah\n",
        "sakte\n",
        ";xalaa\n",
        "zamaa;n\n",
        "tanhaa))ii\n",
        "kaash\n",
        "jaatii\n",
        "yahaa;n\n",
        "asiiro;n"
       ]
      },
      {
       "output_type": "stream",
       "stream": "stdout",
       "text": [
        "\n",
        "zamii;n\n",
        "ghar\n",
        "nigaahe;n\n",
        ":talab\n",
        "afsaanah\n",
        "warning  afsaanah  is no longer \u0905\u092b\u093c\u094d\u0938\u093e\u0928\u093e\n",
        "mil-kar\n",
        "ma((.suum\n",
        "tale\n",
        "ta;gaaro;n\n",
        "jahaan-zaad\n",
        "i;nhe;n\n",
        "paayaa\n",
        "aahang"
       ]
      },
      {
       "output_type": "stream",
       "stream": "stdout",
       "text": [
        "\n",
        "daryaa\n",
        "makii;n\n",
        "be-kaar\n",
        "zhuuliidah\n",
        "piichhe\n",
        ";xauf\n",
        "na:zar\n",
        "haa;n\n",
        "lete\n",
        "hamaare\n",
        "bante\n",
        "qahqaho;n\n",
        "aa;nsuu\n",
        "taazah\n",
        "log\n",
        "pa;raa\n",
        "u;the"
       ]
      },
      {
       "output_type": "stream",
       "stream": "stdout",
       "text": [
        "\n",
        "aa))ii\n",
        "u;thaa\n",
        "mashriq-o-ma;grib\n",
        "roshnii\n",
        "muddat\n",
        "taqdiir\n",
        "jho;np;re\n",
        "aa;gosh\n",
        "niklaa\n",
        "jiine\n",
        "chuke\n",
        "ka))ii\n",
        "sakaa\n",
        "samandar\n",
        ";xaalii"
       ]
      },
      {
       "output_type": "stream",
       "stream": "stdout",
       "text": [
        "\n",
        "lahre;n\n",
        "bai;thaa\n",
        "jaantii\n",
        "jise\n",
        "aane-vaale\n",
        "ziist\n",
        "u;thii\n",
        "fard\n",
        "le\n",
        "nayaa\n",
        "yaqii;n\n",
        "hazaaro;n\n",
        "jaal"
       ]
      },
      {
       "output_type": "stream",
       "stream": "stdout",
       "text": [
        "\n",
        "raato;n\n",
        "kinaaraa\n",
        "nashaa:t\n",
        "azal\n",
        "gum\n",
        "taar\n",
        "duusre\n",
        "zanjiir\n",
        "((umr\n",
        "((aurat\n",
        "rassii\n",
        "warning  rassii  is no longer \u0930\u0938\u094d\u0938\u0940\n",
        "ch;ehrah\n",
        "zindah\n",
        "ma;hruum\n",
        "ba;rhe\n",
        "kartaa\n",
        "fusuu;n"
       ]
      },
      {
       "output_type": "stream",
       "stream": "stdout",
       "text": [
        "\n",
        ";xaraabe\n",
        "u;t;thii\n",
        "laakho;n\n",
        ";xvush_buu\n",
        "inti:zaar\n",
        "bane\n",
        "dino;n\n",
        ";zarro;n\n",
        "aavaaz\n",
        "ise\n",
        "jaate\n",
        "dariicho;n\n",
        "bhare\n",
        "huu"
       ]
      },
      {
       "output_type": "stream",
       "stream": "stdout",
       "text": [
        "\n",
        "gil-o-laa\n",
        "sitaaro;n\n",
        "taariik\n",
        "hilaatii\n",
        "badan\n",
        "be_daarii\n",
        "ziinah\n",
        "royaa\n",
        "taabindah\n",
        "jaam-o-miinaa\n",
        "lahr"
       ]
      },
      {
       "output_type": "stream",
       "stream": "stdout",
       "text": [
        "\n",
        ";xuu;n\n",
        "taaro;n\n",
        "ho-kar\n",
        "aarzuu))e;n\n",
        "phuulo;n\n",
        "aarzuu))o;n\n",
        "ma((arrii\n",
        "dahshat\n",
        "sar-chashmah-gaaho;n\n",
        "((ajam"
       ]
      },
      {
       "output_type": "stream",
       "stream": "stdout",
       "text": [
        "\n",
        "tumhe;n\n",
        "diruu;n\n",
        "patthar\n",
        "warning  patthar  is no longer \u092a\u0924\u094d\u0925\u0930\n",
        "din\n",
        "miinaar\n",
        "sake\n",
        "manzil\n",
        "justajuu\n",
        "warning  justajuu  is no longer \u091c\u0941\u0938\u094d\u0924\u091c\u0942\n",
        "jhiil"
       ]
      },
      {
       "output_type": "stream",
       "stream": "stdout",
       "text": [
        "\n",
        "rang-o-rau;gan\n",
        "gar\n",
        "mai\n",
        "samajhte\n",
        "jaantaa\n",
        "gird\n",
        "izdi;haam-e ravaa;n\n",
        "warning  izdi;haam-e ravaa;n  is no longer \u0907\u091c\u093c\u094d\u0926\u093f\u0939\u093e\u092e\u2010\u090f\u2010\u0930\u0935\u093e\u0901\n",
        "nishaa;n\n",
        "pur\n",
        "gin\n",
        "gharo;n"
       ]
      },
      {
       "output_type": "stream",
       "stream": "stdout",
       "text": [
        "\n",
        "paa))e;n\n",
        "aataa\n",
        "saa\n",
        "re;ngtii\n",
        "phuul\n",
        ";hairat\n",
        "na.siib\n",
        ";gara.z\n",
        "mallaa;h\n",
        "warning  mallaa;h  is no longer \u092e\u0932\u094d\u0932\u093e\u0939\n",
        "jaante\n",
        "saath\n",
        "mashriq\n",
        ";husn\n",
        "takraar\n",
        "warning "
       ]
      },
      {
       "output_type": "stream",
       "stream": "stdout",
       "text": [
        " takraar  is no longer \u0924\u0915\u094d\u0930\u093e\u0930\n",
        "teraa\n",
        "raste\n",
        "naasuur\n",
        "dard\n",
        "lau;taa\n",
        "shiisho;n\n",
        "dekhe\n",
        "bayaabaa;n\n",
        "vaahimah\n",
        "kuhnah\n",
        "nau;hah-gar\n",
        "u;thte\n",
        "vujuud\n",
        "dhul"
       ]
      },
      {
       "output_type": "stream",
       "stream": "stdout",
       "text": [
        "\n",
        "mad-hosh\n",
        "sharar\n",
        ";xa:t\n",
        "dara;xshandah\n",
        "insaan\n",
        "sa:t;h-e daryaa\n",
        ";hasii;n\n",
        "ravaa;n\n",
        "halke\n",
        "raaho;n\n",
        "farangii\n",
        "u;nhii"
       ]
      },
      {
       "output_type": "stream",
       "stream": "stdout",
       "text": [
        "\n",
        "kahtaa\n",
        "lii\n",
        "saadah\n",
        "bahaane\n",
        "dukkaan\n",
        "warning  dukkaan  is no longer \u0926\u0941\u0915\u094d\u0915\u093e\u0928\n",
        "sahii\n",
        "sej\n",
        "nikal\n",
        ";hau.z\n",
        "ishtiraakii\n",
        "warning  ishtiraakii  is no longer \u0907\u0936\u094d\u0924\u093f\u0930\u093e\u0915\u0940\n",
        "chaap\n",
        "a;zaa;n\n",
        "chalaa\n",
        "musaafir\n",
        ";halab"
       ]
      },
      {
       "output_type": "stream",
       "stream": "stdout",
       "text": [
        "\n",
        "madaa))in\n",
        "ba((d\n",
        "u;thtii\n",
        "nikal-kar\n",
        ";xaalid\n",
        "vahm\n",
        "qadiim\n",
        "roshan\n",
        "shabaab\n",
        "fa.siilo;n\n",
        "hujuum\n",
        "dilo;n\n",
        "zimistaa;n\n",
        "warning  zimistaa;n  is no longer \u091c\u093c\u093f\u092e\u093f\u0938\u0924\u093e\u0901\n",
        "chand\n",
        "unhe;n"
       ]
      },
      {
       "output_type": "stream",
       "stream": "stdout",
       "text": [
        "\n",
        "ma((iishat\n",
        ";hasrat\n",
        "rezo;n\n",
        "tah\n",
        "sh;o((lo;n\n",
        "sach\n",
        "dekhte\n",
        "dariiche\n",
        "shaam\n",
        "be-.sarfah\n",
        ";xiraam\n",
        "ba_zaanuu\n",
        ".sub;h-e .sa;hraa\n",
        "aa;nsuu))o;n\n",
        "labiib"
       ]
      },
      {
       "output_type": "stream",
       "stream": "stdout",
       "text": [
        "\n",
        "kahe\n",
        "baazaar\n",
        "chale\n",
        "aatii\n",
        ";xadd-o-;xaal\n",
        "abad\n",
        ";harf\n",
        "aasuudah\n",
        "duusare\n",
        "afrang\n",
        "warning  afrang  is no longer \u0905\u092b\u093c\u094d\u0930\u0902\u0917\n",
        "ji;nhe;n\n",
        "shauq\n",
        "mutvaazii\n",
        "be-;e((tinaa\n",
        "((arab\n",
        "ahriimano;n\n",
        "warning "
       ]
      },
      {
       "output_type": "stream",
       "stream": "stdout",
       "text": [
        " ahriimano;n  is no longer \u0905\u0939\u094d\u0930\u0940\u092e\u0928\u094b\u0902\n",
        "mastuur\n",
        "na;gme\n",
        "ghuumte\n",
        "bataa))uu;n\n",
        "la;z;zaat\n",
        ";xayaal\n",
        "umango;n\n",
        "sai;nk;ro;n\n",
        "bar-;haq\n",
        "kamrah\n",
        "mu;habbat-e naa-ravaa\n",
        "dil-o-jism"
       ]
      },
      {
       "output_type": "stream",
       "stream": "stdout",
       "text": [
        "\n",
        ";zarrah\n",
        "maayuus\n",
        "sar-yaab\n",
        "guzre\n",
        "lai\n",
        "qadar\n",
        "badle\n",
        "i;xtiyaar\n",
        "warning  i;xtiyaar  is no longer \u0907\u0916\u093c\u094d\u0924\u093f\u092f\u093e\u0930\n",
        "ruu;he;n\n",
        "ba;ndhe\n",
        "sharaab\n",
        "nekii\n",
        "baaz\n",
        "shaano;n\n",
        ";gair\n",
        "ujlii\n",
        "be_daar"
       ]
      },
      {
       "output_type": "stream",
       "stream": "stdout",
       "text": [
        "\n",
        "diivaar\n",
        "ravii\n",
        "dono;n\n",
        "dimaa;g\n",
        "vi.saal\n",
        "lagii\n",
        "ujrat\n",
        "warning  ujrat  is no longer \u0909\u091c\u094d\u0930\u0924\n",
        "aa))e\n",
        "chamakte\n",
        "hindii"
       ]
      },
      {
       "output_type": "stream",
       "stream": "stdout",
       "text": [
        "\n",
        "tajallii\n",
        "warning  tajallii  is no longer \u0924\u091c\u0932\u094d\u0932\u0940\n",
        "aa;xirii\n",
        "naa-gahaa;n\n",
        "bha;tak\n",
        "sarsaraatii\n",
        "ba;rhtaa\n",
        "saa((at-e duzdiidah-o-naa-yaab\n",
        "((ujlat\n",
        "kuuzah"
       ]
      },
      {
       "output_type": "stream",
       "stream": "stdout",
       "text": [
        "\n",
        "chaar\n",
        "buu;rhe\n",
        "sukuut\n",
        "jahaan-e tag-o-dau\n",
        "raat-bhar\n",
        ";hurriyat\n",
        ";xair\n",
        "banegii\n",
        "palko;n\n",
        "be-riyaa\n",
        "kaisaa"
       ]
      },
      {
       "output_type": "stream",
       "stream": "stdout",
       "text": [
        "\n",
        "ham-kinaar\n",
        "vaa-bastah\n",
        "warning  vaa-bastah  is no longer \u0935\u093e\u092c\u0938\u094d\u0924\u093e\n",
        "mil-ke\n",
        "panaah\n",
        "savaal\n",
        "jalaajil\n",
        "gahraa))iyo;n\n",
        "raq.saa;n\n",
        "ibtidaa\n",
        "warning  ibtidaa  is no longer \u0907\u092c\u094d\u0924\u093f\u0926\u093e\n",
        ";hayaat\n",
        "ta.sviir\n",
        "warning "
       ]
      },
      {
       "output_type": "stream",
       "stream": "stdout",
       "text": [
        " ta.sviir  is no longer \u0924\u0938\u094d\u0935\u0940\u0930\n",
        "jaa))uu;n\n",
        "ahriman\n",
        "warning  ahriman  is no longer \u0905\u0939\u094d\u0930\u093f\u092e\u0928\n",
        "burj\n",
        "to;r\n",
        ";xuu\n",
        "biruu;n\n",
        "jaam\n",
        "lage\n",
        "gil\n",
        "roz-o-shab\n",
        "kho\n",
        "sahaaraa\n",
        "raastah\n",
        "qafqaaz"
       ]
      },
      {
       "output_type": "stream",
       "stream": "stdout",
       "text": [
        "\n",
        "mile\n",
        "devataa\n",
        "rakkhaa\n",
        "lahuu\n",
        "jismo;n\n",
        ".suurat\n",
        "nau-javaa;n\n",
        "ashjaar\n",
        "warning  ashjaar  is no longer \u0905\u0936\u094d\u091c\u093e\u0930\n",
        "kaa))inaat\n",
        "jaa-kar\n",
        "fashaar\n",
        "ta((biir\n",
        ":tayyaarah\n",
        "warning  :tayyaarah  is no longer \u0924\u092f\u094d\u092f\u093e\u0930\u093e\n",
        ";harf-e tanhaa\n",
        "ba;rhte"
       ]
      },
      {
       "output_type": "stream",
       "stream": "stdout",
       "text": [
        "\n",
        "qaafilah\n",
        "sochte\n",
        "tumhaare\n",
        "gul-o-yaasmin\n",
        "dard-e risaalat\n",
        "marsidah\n",
        "jii"
       ]
      },
      {
       "output_type": "stream",
       "stream": "stdout",
       "text": [
        "\n",
        "((ushshaaq\n",
        "warning  ((ushshaaq  is no longer \u0909\u0936\u094d\u0936\u093e\u0915\u093c\n",
        "rakh\n",
        "ho-ke\n",
        ";gariib\n",
        "hotaa\n",
        "kundo;n\n",
        "be-;xabar\n",
        "ajal\n",
        "laa\n",
        ";harf-e tasallii\n",
        "sar-niguu;n\n",
        ";ha.zrat-e yazdaa;n\n",
        "warning "
       ]
      },
      {
       "output_type": "stream",
       "stream": "stdout",
       "text": [
        " ;ha.zrat-e yazdaa;n  is no longer \u0939\u091c\u093c\u0930\u0924\u2010\u090f\u2010\u092f\u091c\u093c\u0926\u093e\u0901\n",
        "lapke\n",
        "dar-o-baam\n",
        "bahte\n",
        "chaahe\n",
        "paivand\n",
        "sunsaan\n",
        "parastaar\n",
        "uust\n",
        "lahro;n\n",
        "nafii"
       ]
      },
      {
       "output_type": "stream",
       "stream": "stdout",
       "text": [
        "\n",
        "havas-e jaur\n",
        "far;xundah\n",
        "sulajh\n",
        "chhat\n",
        "bahaa))e\n",
        "mazduur\n",
        "suukhe\n",
        "detii\n",
        "a((.zaa\n",
        "kaarvaano;n\n",
        ";xudaa))ii\n",
        "be-bahaa\n",
        "yaaraa\n",
        "muhiib\n",
        "aa-ke"
       ]
      },
      {
       "output_type": "stream",
       "stream": "stdout",
       "text": [
        "\n",
        "((aruus-e ((azz-o-jal\n",
        "kaalii\n",
        "bhuul\n",
        "shahd\n",
        ";xandah\n",
        "u;thtaa\n",
        "i:zhaar-e fan\n",
        "warning  i:zhaar-e fan  is no longer \u0907\u091c\u093c\u094d\u0939\u093e\u0930\u2010\u090f\u2010\u092b\u093c\u0928\n",
        "pai\n",
        "shab-o-roz\n",
        "kaan\n",
        "ma;xluuq-e be-jaa;n\n",
        "yuu;n-hii\n",
        "faanuus-o-guldaa;n\n",
        "warning "
       ]
      },
      {
       "output_type": "stream",
       "stream": "stdout",
       "text": [
        " faanuus-o-guldaa;n  is no longer \u092b\u093c\u093e\u0928\u0942\u0938\u2010\u0913\u2010\u0917\u0941\u0932\u0926\u093e\u0901\n",
        "yuusif\n",
        "rah_rau))o;n\n",
        "garm\n",
        "va;gairah\n",
        "ma((luum\n",
        "jism-o-jaa;n\n",
        "nikle\n",
        "be-saa;xtah\n",
        "raq.s"
       ]
      },
      {
       "output_type": "stream",
       "stream": "stdout",
       "text": [
        "\n",
        "ruusiyo;n\n",
        "itnaa\n",
        "tairne\n",
        "kaa;nptaa\n",
        "tumhaaraa\n",
        "diivaanah\n",
        "chhup-ke\n",
        "navaa-e saaz-gaar\n",
        "bhalaa"
       ]
      },
      {
       "output_type": "stream",
       "stream": "stdout",
       "text": [
        "\n",
        "vaa-raftah\n",
        "warning  vaa-raftah  is no longer \u0935\u093e\u0930\u092b\u093c\u094d\u0924\u093e\n",
        "kaabuus\n",
        "uj;re\n",
        "a;nbaar\n",
        "mile;n\n",
        "anaa\n",
        "mazaamiir\n",
        "girte\n",
        "navaa"
       ]
      },
      {
       "output_type": "stream",
       "stream": "stdout",
       "text": [
        "\n",
        "iiraa;n\n",
        ".zab:t\n",
        "u;nhii;n\n",
        "jaamah\n",
        "dikhlaa))e;n\n",
        "khaa\n",
        "afsurdah\n",
        "warning  afsurdah  is no longer \u0905\u092b\u093c\u094d\u0938\u0941\u0930\u094d\u0926\u093e\n",
        "samandaro;n\n",
        "dev\n",
        "jaabir\n",
        "m;e;hraab\n",
        "mizhgaa;n"
       ]
      },
      {
       "output_type": "stream",
       "stream": "stdout",
       "text": [
        "\n",
        "warning  mizhgaa;n  is no longer \u092e\u093f\u091d\u093c\u0917\u093e\u0901\n",
        "daurah-e shaadmaanii\n",
        "suraa;g\n",
        "ghuumtaa\n",
        "chhaayaa\n",
        "shaad-baad\n",
        "pala;t\n",
        "baat\n",
        "saathii\n",
        "taqaddus\n",
        "sar-zamii;n\n",
        ";tuu;t"
       ]
      },
      {
       "output_type": "stream",
       "stream": "stdout",
       "text": [
        "\n",
        "ma((;zuur\n",
        ";haasil\n",
        "maujuud\n",
        "rakho\n",
        "pahnaa))ii\n",
        "taaziyaano;n\n",
        "vaadii-e pinhaa;n\n",
        "mahak\n",
        "jhankaar\n",
        "aah\n",
        "kaafii\n",
        "zer-o-bam\n",
        "kha;rii\n",
        "arbaab-e va:tan"
       ]
      },
      {
       "output_type": "stream",
       "stream": "stdout",
       "text": [
        "\n",
        "warning  arbaab-e va:tan  is no longer \u0905\u0930\u094d\u092c\u093e\u092c\u2010\u090f\u2010\u0935\u0924\u0928\n",
        "jaataa\n",
        "kam\n",
        "goyaa\n",
        "raaz\n",
        ";xvush_buu))e;n\n",
        "qariib\n",
        "naa-aashnaa\n",
        ":tufail\n",
        "insaano;n\n",
        "paikar\n",
        "nam\n",
        "mu;salla;s-e qadiim\n",
        ";haadi;sah"
       ]
      },
      {
       "output_type": "stream",
       "stream": "stdout",
       "text": [
        "\n",
        "gha;rii\n",
        "saal_haa_saal\n",
        ";xuld-zaar\n",
        "u;nhe;n\n",
        "sa:tvat\n",
        "bar-lab\n",
        "paanii\n",
        "najaane\n",
        "miltaa\n",
        "izhdihaam\n",
        "warning  izhdihaam  is no longer \u0907\u091d\u093c\u094d\u0926\u093f\u0939\u093e\u092e\n",
        "reg-e .sa;hraa\n",
        "phirtaa\n",
        "vus((at"
       ]
      },
      {
       "output_type": "stream",
       "stream": "stdout",
       "text": [
        "\n",
        "daaman\n",
        "ras\n",
        ":tuufaan\n",
        "dostii\n",
        "masarrat\n",
        "asraar\n",
        "warning  asraar  is no longer \u0905\u0938\u094d\u0930\u093e\u0930\n",
        "gandah\n",
        "vaa_bastah\n",
        "judaa))ii"
       ]
      },
      {
       "output_type": "stream",
       "stream": "stdout",
       "text": [
        "\n",
        "paa-yaab\n",
        "hamhamo;n\n",
        "intihaa-e ma((rifat\n",
        "jaa))e;nge\n",
        "shaamil\n",
        "udaas\n",
        "maa.zii\n",
        ";z;ehn\n",
        ";zikr\n",
        "laa-ke\n",
        "eshiyaa))ii\n",
        "ruk\n",
        "ba;gdaad\n",
        "aa))e;nge\n",
        "avvalii;n"
       ]
      },
      {
       "output_type": "stream",
       "stream": "stdout",
       "text": [
        "\n",
        "jalaal\n",
        "naazukii\n",
        "banaataa\n",
        "kaarvaa;n-saraa\n",
        "warning  kaarvaa;n-saraa  is no longer \u0915\u093e\u0930\u0935\u093e\u0901\u0938\u0930\u093e\n",
        "dushman\n",
        "naazuk\n",
        "naa-paid\n",
        "u;the;n\n",
        "ruup\n",
        "i((tibaar\n",
        "taab_naakii\n",
        "jho;np;raa\n",
        "raahe;n"
       ]
      },
      {
       "output_type": "stream",
       "stream": "stdout",
       "text": [
        "\n",
        "chal\n",
        "saiyaal\n",
        "((a:t:taar\n",
        "warning  ((a:t:taar  is no longer \u0905\u0924\u094d\u0924\u093e\u0930\n",
        "bannaa\n",
        "kul\n",
        "go\n",
        "tiirah\n",
        ";hijaabo;n\n",
        "jaagte\n",
        "ashko;n\n",
        "warning "
       ]
      },
      {
       "output_type": "stream",
       "stream": "stdout",
       "text": [
        " ashko;n  is no longer \u0905\u0936\u094d\u0915\u094b\u0902\n",
        "kartii\n",
        "muskaraataa\n",
        "payaalah-o-.saraa;hii-o-sabuu\n",
        ";ganuudagii\n",
        "talaash"
       ]
      },
      {
       "output_type": "stream",
       "stream": "stdout",
       "text": [
        "\n",
        "joyaa\n",
        "kunde\n",
        "le;n\n",
        "adiibo;n\n",
        "paas\n",
        "ranjuur\n",
        "parde\n",
        "paak\n",
        "aadam-e nau\n",
        "shikastah"
       ]
      },
      {
       "output_type": "stream",
       "stream": "stdout",
       "text": [
        "\n",
        "naa-ras\n",
        "vaapasii\n",
        "pahlii\n",
        "so;xtah-ba;xt\n",
        "chunaa\n",
        "bhe;riyo;n\n",
        "aate\n",
        "larzish\n",
        "((umuud\n",
        "shaad-kaam"
       ]
      },
      {
       "output_type": "stream",
       "stream": "stdout",
       "text": [
        "\n",
        "dara;xto;n\n",
        "warning  dara;xto;n  is no longer \u0926\u0930\u0916\u093c\u094d\u0924\u094b\u0902\n",
        "hogii\n",
        ";huur\n",
        "shab-e be-raah\n",
        "bulandii\n",
        "paane\n",
        "ghaas\n",
        "qa:tre\n",
        "bikhar\n",
        "((a:zmat\n",
        "jaan\n",
        "ta;rap"
       ]
      },
      {
       "output_type": "stream",
       "stream": "stdout",
       "text": [
        "\n",
        "varnah\n",
        ";harf-o-ma((nii\n",
        "todah-e ;xaak\n",
        "baa;go;n\n",
        "diivaaro;n\n",
        "aatish_daa;n\n",
        "rah_zan\n",
        "qaaf\n",
        "hamaaraa\n",
        "gha;taa))o;n\n",
        "masaavaat"
       ]
      },
      {
       "output_type": "stream",
       "stream": "stdout",
       "text": [
        "\n",
        "hameshah\n",
        "taariikii\n",
        "ta;xte\n",
        "((amal\n",
        ";xaal-e hinduu\n",
        "rishtah\n",
        "kaif-o-la:taafat\n",
        "eshiyaa"
       ]
      },
      {
       "output_type": "stream",
       "stream": "stdout",
       "text": [
        "\n",
        "itnii\n",
        "najaat\n",
        "chii;x\n",
        "viiraan\n",
        "sunnaa;taa\n",
        "yaado;n\n",
        "vi.saal-e aab-o-gil\n",
        "tanhaa\n",
        "dost\n",
        "rezah\n",
        "shahr-e madfuun\n",
        "likh\n",
        "jaane\n",
        "jaagii"
       ]
      },
      {
       "output_type": "stream",
       "stream": "stdout",
       "text": [
        "\n",
        "sa;har\n",
        "rago;n\n",
        "hosh\n",
        "dekhii\n",
        "saktaa\n",
        "vaa\n",
        "gunaaho;n\n",
        "tiiragii\n",
        "biphre\n",
        "baa:tin"
       ]
      },
      {
       "output_type": "stream",
       "stream": "stdout",
       "text": [
        "\n",
        "guriizaa;n\n",
        "aflaas\n",
        "warning  aflaas  is no longer \u0905\u092b\u093c\u094d\u0932\u093e\u0938\n",
        "mafhuum\n",
        "kiisah\n",
        "rango;n\n",
        "khokhale-pan\n",
        "tanhaa))iyo;n\n",
        "mar((uub\n",
        "junuu;n-;xez"
       ]
      },
      {
       "output_type": "stream",
       "stream": "stdout",
       "text": [
        "\n",
        ";hairat-naak\n",
        "fashaar-e .zab:t\n",
        "sa((ii-e jigar-doz\n",
        "duzdiidah"
       ]
      },
      {
       "output_type": "stream",
       "stream": "stdout",
       "text": [
        "\n",
        "ma.zbuu:t\n",
        "chhupne\n",
        "hanuuz-e zamaanah\n",
        "piir-zaal\n",
        "chaltii\n",
        "((adl-e be-bahaa"
       ]
      },
      {
       "output_type": "stream",
       "stream": "stdout",
       "text": [
        "\n",
        "ba;xshish\n",
        "sang-bastah\n",
        "navaa))e;n\n",
        "kah_rubaa\n",
        "taar-o-puu\n",
        "((aashiq\n",
        ":taarii\n",
        "siikho"
       ]
      },
      {
       "output_type": "stream",
       "stream": "stdout",
       "text": [
        "\n",
        "jahaaz-raano;n\n",
        "sang-e bunyaad-e farang\n",
        "saare\n",
        "jabr-e daryaa\n",
        "paristaar"
       ]
      },
      {
       "output_type": "stream",
       "stream": "stdout",
       "text": [
        "\n",
        "aayindah\n",
        "roz-e fur.sat\n",
        "lagtii\n",
        "maartii\n",
        "phuu;tegaa\n",
        "chhupaa))e\n",
        "satezah-kaar\n",
        "saalik-e raah"
       ]
      },
      {
       "output_type": "stream",
       "stream": "stdout",
       "text": [
        "\n",
        "sunaa))ii\n",
        "sakoge\n",
        "pukaartaa\n",
        ";xastah-e fikr-e ma((aash\n",
        "lip;te"
       ]
      },
      {
       "output_type": "stream",
       "stream": "stdout",
       "text": [
        "\n",
        "pairahan\n",
        "va;hshii\n",
        "ha;ngaamo;n\n",
        "bahaa))oge\n",
        "afsaanah-go\n",
        "warning  afsaanah-go  is no longer \u0905\u092b\u093c\u094d\u0938\u093e\u0928\u093e\u0917\u094b\n",
        "((ankabuut\n",
        "lu;t"
       ]
      },
      {
       "output_type": "stream",
       "stream": "stdout",
       "text": [
        "\n",
        "martabah-e diidah-e tar\n",
        "suntii\n",
        "jaan-e ((ajam\n",
        "dahr\n",
        "aa))iino;n\n",
        "hujuum;\n",
        "shiir-o-shakar"
       ]
      },
      {
       "output_type": "stream",
       "stream": "stdout",
       "text": [
        "\n",
        "jame\n",
        "cho;tiyo;n\n",
        "karuu;n\n",
        "pardaaz\n",
        "ajnabii\n",
        "warning  ajnabii  is no longer \u0905\u091c\u094d\u0928\u092c\u0940\n",
        "uupar\n",
        "rahte"
       ]
      },
      {
       "output_type": "stream",
       "stream": "stdout",
       "text": [
        "\n",
        "baadah-gusaar\n",
        "la;tak\n",
        "khule\n",
        "gu;zraa\n",
        "royaa-e aasmaanii\n",
        "warning  royaa-e aasmaanii  is no longer \u0930\u094b\u092f\u093e\u2010\u090f\u2010\u0906\u0938\u094d\u092e\u093e\u0928\u0940\n",
        "sar-zamiin-e ziist\n",
        "inti:zaar-e be-zamaa;n"
       ]
      },
      {
       "output_type": "stream",
       "stream": "stdout",
       "text": [
        "\n",
        "jauhar\n",
        "maatam\n",
        "sitam\n",
        "sard-guu;n\n",
        "shabistaano;n\n",
        "la;rhaktaa"
       ]
      },
      {
       "output_type": "stream",
       "stream": "stdout",
       "text": [
        "\n",
        "himmat-e naa-;xvub\n",
        "warning  himmat-e naa-;xvub  is no longer \u0939\u093f\u092e\u094d\u092e\u0924\u2010\u090f\u2010\u0928\u093e\u0916\u093c\u0941\u092c\n",
        "lam;hah-e ;xvursand\n",
        ";zarro\n",
        "tez-gaamii\n",
        "cha;rhte\n",
        "tumhaarii\n",
        "diivaanii"
       ]
      },
      {
       "output_type": "stream",
       "stream": "stdout",
       "text": [
        "\n",
        "bahaar\n",
        "ziinah-e nuur\n",
        "qa:tr-haa-e aab\n",
        "bune\n",
        "((ishq-e ;haasil-;xez\n",
        "vahmo;n"
       ]
      },
      {
       "output_type": "stream",
       "stream": "stdout",
       "text": [
        "\n",
        "paataal\n",
        "sarod\n",
        ";xai\n",
        "narm-;xuu\n",
        "kha;raa\n",
        "kuuzah-gar-e so;xtah-jaa;n\n",
        "faraar"
       ]
      },
      {
       "output_type": "stream",
       "stream": "stdout",
       "text": [
        "\n",
        "be;x-o-bun\n",
        "saakit\n",
        "i;nbisaa:t-e nau\n",
        "roz-e :tarab\n",
        "suruur\n",
        "((ilm-o-hunar\n",
        "ta;zab;zub"
       ]
      },
      {
       "output_type": "stream",
       "stream": "stdout",
       "text": [
        "\n",
        "barpaa\n",
        "((ahd\n",
        "ittifaaqaat\n",
        "warning  ittifaaqaat  is no longer \u0907\u0924\u094d\u0924\u093f\u092b\u093c\u093e\u0915\u093c\u093e\u0924\n",
        "pai-ravaan-e ahriiman\n",
        "luu;h-e aa))iinah\n",
        "gavaaraa"
       ]
      },
      {
       "output_type": "stream",
       "stream": "stdout",
       "text": [
        "\n",
        "miizaan\n",
        ".suurato;n\n",
        "aa))oge\n",
        "bhaa;nptii\n",
        ";zauq-e taqdiis\n",
        "ranjbar\n",
        "pahan-kar"
       ]
      },
      {
       "output_type": "stream",
       "stream": "stdout",
       "text": [
        "\n",
        "maj;zuub-e tunak-jaam\n",
        "ma((bad\n",
        "firaaq-e jaa;n-kaah-e ;harf-o-ma((nii\n",
        "qaraar"
       ]
      },
      {
       "output_type": "stream",
       "stream": "stdout",
       "text": [
        "\n",
        ";haakimo;n\n",
        "saadah-o-ma((.suum\n",
        "diye\n",
        "sahaa\n",
        "aahuu\n",
        "siyaasii\n",
        "milaa\n",
        "aa;gosh-e .sar.sar"
       ]
      },
      {
       "output_type": "stream",
       "stream": "stdout",
       "text": [
        "\n",
        "god\n",
        ".sub;h-e ((iid\n",
        "hogaa\n",
        "mu.salla;s-e qadiim\n",
        "ro"
       ]
      },
      {
       "output_type": "stream",
       "stream": "stdout",
       "text": [
        "\n",
        "ma;hsuus\n",
        ";xuun-e ma;hfil\n",
        "daanaa\n",
        "nigaar-;xaane\n",
        "sahe\n",
        "pahu;nch\n",
        "ulajh\n",
        "daryaa))o;n"
       ]
      },
      {
       "output_type": "stream",
       "stream": "stdout",
       "text": [
        "\n",
        "baadah\n",
        "angor\n",
        "o;t\n",
        "rah-e ;xudaavandii\n",
        "sakii\n",
        ";xaziinah\n",
        "la;z;zat-e jaaved\n",
        "fahm-e insaa;n\n",
        "guzarte\n",
        "tamaddun\n",
        "bhuule"
       ]
      },
      {
       "output_type": "stream",
       "stream": "stdout",
       "text": [
        "\n",
        "duu;n\n",
        "doge\n",
        "ba;rii\n",
        "yak-rang\n",
        "kiimiyaa-garii\n",
        "ro))iidah\n",
        "sitaare\n",
        "banaa))e;n\n",
        "zar-taab-o-jaliil"
       ]
      },
      {
       "output_type": "stream",
       "stream": "stdout",
       "text": [
        "\n",
        "yaaraanah\n",
        "ziine\n",
        ";gam_zadah\n",
        "firdaus-e gum_shudah\n",
        "sham((e;n\n",
        "warning  sham((e;n  is no longer \u0936\u092e\u0947\u0902\n",
        "shikast-;xvurdah\n",
        "ba_lab"
       ]
      },
      {
       "output_type": "stream",
       "stream": "stdout",
       "text": [
        "\n",
        "((aafiyat\n",
        "duhraa))e;n\n",
        "guzartaa\n",
        "mash((al\n",
        "kushaadah-dil-o-hosh-mand-o-parastaar-e rabb-e kariim\n",
        "qarn_haa"
       ]
      },
      {
       "output_type": "stream",
       "stream": "stdout",
       "text": [
        "\n",
        "dast-e qaatil\n",
        "la;z;zat-e be-;sabaat\n",
        "vi.saal-e rah-guzar\n",
        "sharaabe;n"
       ]
      },
      {
       "output_type": "stream",
       "stream": "stdout",
       "text": [
        "\n",
        "lagaataar\n",
        "pesh_tar\n",
        "navard-e piir\n",
        ";xiyaanat\n",
        "ba;ndhaa\n",
        "aa;gosh-e raa;hat"
       ]
      },
      {
       "output_type": "stream",
       "stream": "stdout",
       "text": [
        "\n",
        "tishnah-labii\n",
        "gulistaa;n\n",
        "buland-o-bar-tar\n",
        "la;ng;raate"
       ]
      },
      {
       "output_type": "stream",
       "stream": "stdout",
       "text": [
        "\n",
        "anbaar\n",
        "za;xmii\n",
        "hosh-o-((amal\n",
        "nii;ndo;n\n",
        ";sarvat\n",
        "majbuur\n",
        "namuud-e sa;har\n",
        "phailtii"
       ]
      },
      {
       "output_type": "stream",
       "stream": "stdout",
       "text": [
        "\n",
        "labaade\n",
        "shauq-e parastaar-e jamaal\n",
        "asraar-e ;xvaab\n",
        "warning  asraar-e ;xvaab  is no longer \u0905\u0938\u094d\u0930\u093e\u0930\u2010\u090f\u2010\u0916\u093c\u094d\u0935\u093e\u092c\n",
        "havaa\n",
        "kaariyo;n\n",
        "murdo;n\n",
        "havas\n",
        "paro;n"
       ]
      },
      {
       "output_type": "stream",
       "stream": "stdout",
       "text": [
        "\n",
        "tiyaatar\n",
        "((aqiim\n",
        "chalii\n",
        "pinhaa;n\n",
        "banaayaa\n",
        "dar-maa;ndah-o-be-chaarah\n",
        "aane"
       ]
      },
      {
       "output_type": "stream",
       "stream": "stdout",
       "text": [
        "\n",
        "vasiilah\n",
        "mashtarii\n",
        ";duubte\n",
        "aadam\n",
        "ziinat\n",
        "yuurop\n",
        "sahaaro;n\n",
        "safiine\n",
        ".sub;he;n\n",
        "((ilm\n",
        "mujassimo;n\n",
        "kha;n;dar"
       ]
      },
      {
       "output_type": "stream",
       "stream": "stdout",
       "text": [
        "\n",
        "nezo;n\n",
        "bhulaa\n",
        "mahiib-o-ruu;h-sitaa;n\n",
        "roz-e avvalii;n\n",
        "bajaate"
       ]
      },
      {
       "output_type": "stream",
       "stream": "stdout",
       "text": [
        "\n",
        "le;taa\n",
        "jhaa;nktii\n",
        "asmaar\n",
        "warning  asmaar  is no longer \u0905\u0938\u094d\u092e\u093e\u0930\n",
        "fareb\n",
        "ruu-shinaasii\n",
        "fitnah-e naa-gaah\n",
        "navaa-sanj"
       ]
      },
      {
       "output_type": "stream",
       "stream": "stdout",
       "text": [
        "\n",
        ";husn-o-ma))e-o-raq.s-o-na;gmah\n",
        "firaaq\n",
        "lalkaar\n",
        "rafiiq\n",
        "bisaa:t-e .ziyaafat"
       ]
      },
      {
       "output_type": "stream",
       "stream": "stdout",
       "text": [
        "\n",
        "manaa:zir-e rangii;n\n",
        "joyandah-e tamkiin\n",
        "warning  joyandah-e tamkiin  is no longer \u091c\u094b\u092f\u0902\u0926\u0939\u2010\u090f\u2010\u0924\u092e\u0915\u0940\u0928\n",
        ";xastah-jaa;n"
       ]
      },
      {
       "output_type": "stream",
       "stream": "stdout",
       "text": [
        "\n",
        "mi;t;tii\n",
        "sujuud\n",
        "par-bariidah\n",
        ";huur-e qafqaaz\n",
        "saayo;n\n",
        "jhuk\n",
        "zuhd\n",
        "chhuu;raa\n",
        "sumbul\n",
        "asiirii\n",
        "aaho;n\n",
        ";hau.slah-e ;xvub\n",
        "bichha;r-kar"
       ]
      },
      {
       "output_type": "stream",
       "stream": "stdout",
       "text": [
        "\n",
        "((anqaa\n",
        "luth;raa\n",
        "((azz-o-jal\n",
        "tane\n",
        "((ahd-e vafaa\n",
        "manaatii\n",
        "sitam-kash-e inti:zaar\n",
        "mar))ii"
       ]
      },
      {
       "output_type": "stream",
       "stream": "stdout",
       "text": [
        "\n",
        "laraztii\n",
        "maqaam-e naazuk\n",
        "dhuu;n;dtaa\n",
        "garaj\n",
        "farsh\n",
        "saa;np"
       ]
      },
      {
       "output_type": "stream",
       "stream": "stdout",
       "text": [
        "\n",
        "saa;ns\n",
        "sazaa\n",
        "la;z;zat-kash-e ;xamyaazah\n",
        "namruud\n",
        "faa.silo;n\n",
        "salaa;xe;n\n",
        "shaa((ir-e dar-maa;ndah\n",
        "r;e;hm-e ;havvaa"
       ]
      },
      {
       "output_type": "stream",
       "stream": "stdout",
       "text": [
        "\n",
        "muskaraa\n",
        "sau;gaat\n",
        "chiiz\n",
        "tund\n",
        "ba;xt-e vaazh-guu;n\n",
        "thaame\n",
        "bashaarat\n",
        "fareb-e vafaa\n",
        "shab-e raftah"
       ]
      },
      {
       "output_type": "stream",
       "stream": "stdout",
       "text": [
        "\n",
        "warning  shab-e raftah  is no longer \u0936\u092c\u2010\u090f\u2010\u0930\u092b\u093c\u094d\u0924\u093e\n",
        "lo;ttii\n",
        "pahu;nchne\n",
        "saugand\n",
        "gaa))e;nge\n",
        "daariyuush-e buzurg\n",
        "u;t;the;n\n",
        "bhuuluu;n\n",
        "laashe\n",
        ";hau.sle\n",
        "kasaalat\n",
        "biga;rte"
       ]
      },
      {
       "output_type": "stream",
       "stream": "stdout",
       "text": [
        "\n",
        "lau;ttaa\n",
        "basne-vaale\n",
        ";hado;n\n",
        "daastaan-e fanaa\n",
        "raqiib\n",
        "nazhaad-e kaahil\n",
        "afriiqah\n",
        "warning  afriiqah  is no longer \u0905\u092b\u093c\u094d\u0930\u0940\u0915\u093c\u093e\n",
        "taabistaa;n"
       ]
      },
      {
       "output_type": "stream",
       "stream": "stdout",
       "text": [
        "\n",
        ";xuld-zaar-e maah-o-anjam\n",
        "jalne\n",
        "bahiimaanah\n",
        "shabnam\n",
        "kunj-e maa.zii\n",
        "kholte"
       ]
      },
      {
       "output_type": "stream",
       "stream": "stdout",
       "text": [
        "\n",
        "sote\n",
        "a;ndhii\n",
        "piyaa\n",
        "shahrii\n",
        "anjiiro;n\n",
        "qadmo;n\n",
        "warning  qadmo;n  is no longer \u0915\u093c\u0926\u092e\u094b\u0902\n",
        "tavaanaa\n",
        "zamaane\n",
        "saraab"
       ]
      },
      {
       "output_type": "stream",
       "stream": "stdout",
       "text": [
        "\n",
        "du((aa))e;n\n",
        "dhaare\n",
        "sun-kar\n",
        "dar-o-diivaar\n",
        "baar-o-barg\n",
        "i.z:tiraab\n",
        "warning  i.z:tiraab  is no longer \u0907\u091c\u093c\u094d\u0924\u093f\u0930\u093e\u092c\n",
        "umang\n",
        "chob-e ;xushk\n",
        "dukh\n",
        ":tahraan-o-mashhad"
       ]
      },
      {
       "output_type": "stream",
       "stream": "stdout",
       "text": [
        "\n",
        "soz\n",
        "((ahd-e taataar\n",
        "baarish\n",
        "mi;saal-e saaz-e jaa;n\n",
        "naa-daa;n"
       ]
      },
      {
       "output_type": "stream",
       "stream": "stdout",
       "text": [
        "\n",
        "jang\n",
        "siim-o-zar\n",
        ".zid\n",
        "achaanak\n",
        "zamiin-e gul-posh\n",
        "bach\n",
        ";xvud-aagahii\n",
        "jahannamo;n\n",
        "dhanak"
       ]
      },
      {
       "output_type": "stream",
       "stream": "stdout",
       "text": [
        "\n",
        "tairtaa\n",
        "nahaa-kar\n",
        "aarzuu-e vi.saal-e ma((nii\n",
        "gulzaaro;n\n",
        "saudaagaro;n\n",
        "fikr-e hastii\n",
        "warning  fikr-e hastii  is no longer \u092b\u093c\u093f\u0915\u094d\u0930\u2010\u090f\u2010\u0939\u0938\u0924\u0940\n",
        "tantii\n",
        "havaa))ii\n",
        "zer-e m;e;hraab\n",
        "saqf-o-dar-o-baam"
       ]
      },
      {
       "output_type": "stream",
       "stream": "stdout",
       "text": [
        "\n",
        "manaazil\n",
        "ba;gair\n",
        "lagegii\n",
        "nak'hat\n",
        "jaam-e shahd\n",
        "tajribo;n"
       ]
      },
      {
       "output_type": "stream",
       "stream": "stdout",
       "text": [
        "\n",
        "kariim\n",
        "siino;n\n",
        ";xvaabiidah\n",
        "ijdaad\n",
        "warning  ijdaad  is no longer \u0907\u091c\u094d\u0926\u093e\u0926\n",
        "niyaaz\n",
        "naisaan-e bahaar\n",
        "qaaliin\n",
        "shab-e aalaam\n",
        "((ar.z-e hunar"
       ]
      },
      {
       "output_type": "stream",
       "stream": "stdout",
       "text": [
        "\n",
        "mujhii\n",
        "sarodo;n\n",
        "miinaar-o-gunbad\n",
        "shahr-e barbaad"
       ]
      },
      {
       "output_type": "stream",
       "stream": "stdout",
       "text": [
        "\n",
        "jaah-o-jalaal-e qadiim\n",
        "mor-o-mala;x\n",
        "qirmiz\n",
        "sar-e bistar-e sanjaab\n",
        "warning "
       ]
      },
      {
       "output_type": "stream",
       "stream": "stdout",
       "text": [
        " sar-e bistar-e sanjaab  is no longer \u0938\u0930\u2010\u090f\u2010\u092c\u093f\u0938\u094d\u0924\u0930\u2010\u090f\u2010\u0938\u0902\u091c\u093e\u092c\n",
        "gum-shudah\n",
        "warning  gum-shudah  is no longer \u0917\u0941\u092e\u0936\u0941\u0926\u093e\n",
        ";than;daa\n",
        "dar-e bastah\n",
        "rakh-kar\n",
        "sang_dil\n",
        "lagaava;t\n",
        "jaa_ruub\n",
        ";haamil"
       ]
      },
      {
       "output_type": "stream",
       "stream": "stdout",
       "text": [
        "\n",
        "aa;ndhiyaa;n\n",
        "kah_kashaa;n\n",
        "dii\n",
        "ra;gbat\n",
        "jolaa;n_gaah\n",
        "ma((aaf\n",
        "jaa;n-kand\n",
        "rah_guzar"
       ]
      },
      {
       "output_type": "stream",
       "stream": "stdout",
       "text": [
        "\n",
        "pahlaa\n",
        "sochii\n",
        "si;hr\n",
        "ma((duum\n",
        "mujrim\n",
        "bachcho;n\n",
        ".sulb-e aadam"
       ]
      },
      {
       "output_type": "stream",
       "stream": "stdout",
       "text": [
        "\n",
        "sar-o-muu\n",
        "shaadaab\n",
        "aarzuu-e ;xastah\n",
        "be-;haasil\n",
        "gahraa\n",
        "salaamat"
       ]
      },
      {
       "output_type": "stream",
       "stream": "stdout",
       "text": [
        "\n",
        ";hujrah-e shab\n",
        "sail-e nuur-e andaruu;n\n",
        "piro))e\n",
        "bol\n",
        "ja;zbaat\n",
        "laa))e;nge"
       ]
      },
      {
       "output_type": "stream",
       "stream": "stdout",
       "text": [
        "\n",
        "ajsaam\n",
        "warning  ajsaam  is no longer \u0905\u091c\u094d\u0938\u093e\u092e\n",
        "mur;g-e parraa;n\n",
        "gau;njtii\n",
        "fa.zaa-e :tiflii\n",
        "yaadgaar\n",
        "rah_numaa\n",
        "dast-e la))iim\n",
        "mu.z:tarib"
       ]
      },
      {
       "output_type": "stream",
       "stream": "stdout",
       "text": [
        "\n",
        "mu;habbat-e sar-madii\n",
        "paidaa))ish\n",
        ";xaamushii\n",
        "navaa-e abr\n",
        "dajlah"
       ]
      },
      {
       "output_type": "stream",
       "stream": "stdout",
       "text": [
        "\n",
        "nishaanii\n",
        "laa))ii\n",
        "chasmo;n\n",
        "ubaltaa\n",
        "nasrii;n\n",
        "roz-e bashaarat"
       ]
      },
      {
       "output_type": "stream",
       "stream": "stdout",
       "text": [
        "\n",
        "ummiid\n",
        "warning  ummiid  is no longer \u0909\u092e\u094d\u092e\u0940\u0926\n",
        "shahiido;n\n",
        "zaaviye\n",
        "siyah\n",
        "hai;n;"
       ]
      },
      {
       "output_type": "stream",
       "stream": "stdout",
       "text": [
        "\n",
        "fikr\n",
        "shah_raah-e mubta;zil\n",
        "kha;re\n",
        "ma;hjuubaanah\n",
        "ha;nsne-vaale\n",
        ";xvaab-e la;z;zat-aagii;n"
       ]
      },
      {
       "output_type": "stream",
       "stream": "stdout",
       "text": [
        "\n",
        "rab:t\n",
        "kinaaro;n\n",
        "barahnah-o-kaahiidah\n",
        "diruun-e aadam\n",
        "partav\n",
        "paa))o;n\n",
        "utaare"
       ]
      },
      {
       "output_type": "stream",
       "stream": "stdout",
       "text": [
        "\n",
        "qudsiyo;n\n",
        "gesuu))o;n\n",
        "dekhne\n",
        "ta;xt-e jam-o-taaj-e kai\n",
        "kaamraaniyaa;n\n",
        "aazaad\n",
        "bar-paa\n",
        "be-;xabrii"
       ]
      },
      {
       "output_type": "stream",
       "stream": "stdout",
       "text": [
        "\n",
        "mat\n",
        "pahchaantaa\n",
        "mad\n",
        "nikaaluu;n\n",
        "tund-o-tez\n",
        "naa-diidah\n",
        "safiinah-gar\n",
        "maah-o-saal-e nuur"
       ]
      },
      {
       "output_type": "stream",
       "stream": "stdout",
       "text": [
        "\n",
        "navaa-o-yak\n",
        "vaadiyo;n\n",
        "buto;n\n",
        "utraa\n",
        "qaaliino;n\n",
        "tah-e ;xaak\n",
        "jaalaa\n",
        "aagaah\n",
        "giraa\n",
        "ma((aanii\n",
        "ho;n;to;n\n",
        "gu;zartaa"
       ]
      },
      {
       "output_type": "stream",
       "stream": "stdout",
       "text": [
        "\n",
        "sahaare\n",
        "afzaa))ish\n",
        "qaid-o-band\n",
        "mu:tma))in\n",
        "dard-e laa-davaa\n",
        "miinaa-o-jaam-o-sabuu\n",
        "chiidah"
       ]
      },
      {
       "output_type": "stream",
       "stream": "stdout",
       "text": [
        "\n",
        "bhuukaa\n",
        "buntaa\n",
        ";xvush-buu\n",
        "maanind-e naqiib\n",
        "gesuu\n",
        "maare\n",
        ":taviil\n",
        "masaamo;n\n",
        "hangaam-e tapaak\n",
        "viiraano;n\n",
        "raah-o-rasm-e manzil\n",
        "chalne-vaalo;n"
       ]
      },
      {
       "output_type": "stream",
       "stream": "stdout",
       "text": [
        "\n",
        ";huur-e ((i.smat\n",
        "paidaa\n",
        "fiiroz-ba;xto\n",
        "saraa-pardah-e nisyaan\n",
        "raah-e shauq"
       ]
      },
      {
       "output_type": "stream",
       "stream": "stdout",
       "text": [
        "\n",
        "naache;nge\n",
        "nihaayat-e inti:zaar\n",
        "va;hshat-aaluud\n",
        "larzish-e paiham\n",
        "rahne"
       ]
      },
      {
       "output_type": "stream",
       "stream": "stdout",
       "text": [
        "\n",
        ".sad\n",
        "kamii;n\n",
        "man-o-salv;aa\n",
        "bolte\n",
        "takraar-e daaraa))ii\n",
        "sah-ke\n",
        "yaktaa))ii\n",
        "dard-e majruumii\n",
        "u;t;the"
       ]
      },
      {
       "output_type": "stream",
       "stream": "stdout",
       "text": [
        "\n",
        "be-chaare\n",
        "shahr-o-qaryah\n",
        "sar_;had\n",
        "ba;rh\n",
        "re;ngne-vaale\n",
        "shab-e zabaa;n-bandii"
       ]
      },
      {
       "output_type": "stream",
       "stream": "stdout",
       "text": [
        "\n",
        "dast-e siyah\n",
        "sipaar\n",
        "bad-tar\n",
        "jaam-o-miinaa-o-guldaa;n\n",
        "warning  jaam-o-miinaa-o-guldaa;n  is no longer \u091c\u093e\u092e\u2010\u0913\u2010\u092e\u0940\u0928\u093e\u2010\u0913\u2010\u0917\u0941\u0932\u0926\u093e\u0901\n",
        ";dhuu;n;dne"
       ]
      },
      {
       "output_type": "stream",
       "stream": "stdout",
       "text": [
        "\n",
        "parvarish\n",
        "amiir-o-gadaa\n",
        "nishaan-e sar-e manzil\n",
        "lab_rez\n",
        "na;gmah-e ;xaam\n",
        "chasm-e aaz-e .sayyaad"
       ]
      },
      {
       "output_type": "stream",
       "stream": "stdout",
       "text": [
        "\n",
        "aa;nch\n",
        "bataa))ii\n",
        "tham\n",
        "ha;nste\n",
        "sar-e baazaar\n",
        "bane;n\n",
        ";halq\n",
        "sam\n",
        "bahaa))uu;ngaa\n",
        "piiraanah"
       ]
      },
      {
       "output_type": "stream",
       "stream": "stdout",
       "text": [
        "\n",
        "naa-rasaa\n",
        "((uzlat-guzii;n\n",
        "so;xtah-sar\n",
        "lam;he\n",
        "likhuu;n\n",
        "utre;n\n",
        "banaa-re;xtah\n",
        "((adam\n",
        "bandagii-e qaa.zii-e ;haajaat\n",
        "pair"
       ]
      },
      {
       "output_type": "stream",
       "stream": "stdout",
       "text": [
        "\n",
        "hi;zyaan\n",
        "paa-maalii\n",
        ":tabl\n",
        "nishaan-e paa\n",
        "aa-kar\n",
        "aahang-e suruur\n",
        "nihaa;n-;xaano;n\n",
        "tiin"
       ]
      },
      {
       "output_type": "stream",
       "stream": "stdout",
       "text": [
        "\n",
        "raq.s-e be-zamaa;n\n",
        "shor\n",
        "arzaa;n\n",
        "sharm\n",
        "dar-baaz\n",
        ";gurbat\n",
        "naa-kardah\n",
        "shah-raaho;n"
       ]
      },
      {
       "output_type": "stream",
       "stream": "stdout",
       "text": [
        "\n",
        "zahr\n",
        "nuur-e abad\n",
        ";halaavato;n\n",
        ";gam-diidah\n",
        "shikast-e miinaa-o-jaam\n",
        ";hariim-e gunaah\n",
        "sitam_gar"
       ]
      },
      {
       "output_type": "stream",
       "stream": "stdout",
       "text": [
        "\n",
        "raah-e faraar\n",
        ";xamiir\n",
        "bhuure\n",
        "payaam-e marg-e javaanii\n",
        "zaituuno;n"
       ]
      },
      {
       "output_type": "stream",
       "stream": "stdout",
       "text": [
        "\n",
        "raftah-o-gu;zashtah\n",
        ";zaraa\n",
        "armaa;n\n",
        "havaa-e taazah-o-kisht-e shaadaab-o-chashmah-e jaa;n-firoz\n",
        "bah-gil"
       ]
      },
      {
       "output_type": "stream",
       "stream": "stdout",
       "text": [
        "\n",
        "cha;rhaa\n",
        "huvaidaa\n",
        "((aruusii\n",
        "baa;nho;n\n",
        "bhuut\n",
        "shumaar\n",
        "aab-o-gil\n",
        ".sifr-e ((a:ziim\n",
        "afrangii\n",
        "gurisnah-nigah"
       ]
      },
      {
       "output_type": "stream",
       "stream": "stdout",
       "text": [
        "\n",
        ";zauq\n",
        "fusuu;n-kaar\n",
        "kaahin-e daanish_var-o-((aalii-guhar-o-piir\n",
        "aaz-e ;xuu;n-;xvaar"
       ]
      },
      {
       "output_type": "stream",
       "stream": "stdout",
       "text": [
        "\n",
        "asad-o-;saur\n",
        "marg-e mabram\n",
        "kaa;np-kar\n",
        ";haa))il\n",
        "pareshaa;n\n",
        ";zauq-e ((i.syaa;n\n",
        "por\n",
        "la;rkii\n",
        "gum_rahii\n",
        "damak"
       ]
      },
      {
       "output_type": "stream",
       "stream": "stdout",
       "text": [
        "\n",
        "aa))egaa\n",
        "saaq-e .sandalii;n\n",
        ";xuush\n",
        "banafshe\n",
        "rah_guzaaro;n\n",
        "paa))e\n",
        "mard\n",
        "karoge"
       ]
      },
      {
       "output_type": "stream",
       "stream": "stdout",
       "text": [
        "\n",
        "daur-e naa-sazaa\n",
        "kunj-e gulaab\n",
        "ta))miin\n",
        "uljhane;n\n",
        "mu;zab;zab\n",
        "bachaa\n",
        "banii\n",
        "guhar\n",
        "faati;h\n",
        "sho;xii\n",
        "saalaar"
       ]
      },
      {
       "output_type": "stream",
       "stream": "stdout",
       "text": [
        "\n",
        "shaam-e jaa;n-sitaa;n\n",
        "ja;zb\n",
        "labo;n\n",
        "jaraa;siim\n",
        "pa;ziiraa))ii\n",
        "ishtiraak-e giraa;n-bahaa\n",
        "be-ma((nii"
       ]
      },
      {
       "output_type": "stream",
       "stream": "stdout",
       "text": [
        "\n",
        "sust\n",
        "parvardah-e ((ashvah-baazii\n",
        "ju;nbish\n",
        "((aarifaanah\n",
        "samo\n",
        "pau\n",
        "siikne\n",
        "do-pahro;n\n",
        "vujuudo;n"
       ]
      },
      {
       "output_type": "stream",
       "stream": "stdout",
       "text": [
        "\n",
        ";dubotii\n",
        ";gaazah\n",
        "rangii;n\n",
        "kamand-e ((a:ziim\n",
        "shahryaar\n",
        "la;z;zat-e tasliim\n",
        "samoyaa\n",
        "tamannaa-e va.sl-e ma((naa"
       ]
      },
      {
       "output_type": "stream",
       "stream": "stdout",
       "text": [
        "\n",
        "manaa:zir\n",
        "qaalib\n",
        "so))e\n",
        "sabzo;n\n",
        "((aurato;n\n",
        ";haafi:zah"
       ]
      },
      {
       "output_type": "stream",
       "stream": "stdout",
       "text": [
        "\n",
        ";xvaajah-saraa))o;n\n",
        "asiir\n",
        "nasiim\n",
        "guzrii\n",
        "takallum\n",
        "dosto;n\n",
        "angrez\n",
        "nauchtaa\n",
        ";tuu;tii\n",
        "musaakin\n",
        "kaa;x-e fa;gfuur-o-kusr;aa"
       ]
      },
      {
       "output_type": "stream",
       "stream": "stdout",
       "text": [
        "\n",
        "sham((-e shabistaan-e vafaa\n",
        "saa))e"
       ]
      },
      {
       "output_type": "stream",
       "stream": "stdout",
       "text": [
        "\n",
        "zamaan-e be-zamaa;n\n",
        "sunaate\n",
        "ruu-posh\n",
        "jaam-o-sabuu\n",
        "dete"
       ]
      },
      {
       "output_type": "stream",
       "stream": "stdout",
       "text": [
        "\n",
        ";haadi;so;n\n",
        "nigaah\n",
        "manaa\n",
        "kaabuus-e maa.zii\n",
        "lau;toge\n",
        "parvardah\n",
        "shikvah-haa-e nai"
       ]
      },
      {
       "output_type": "stream",
       "stream": "stdout",
       "text": [
        "\n",
        "fanaa\n",
        "aahan-o-chob-o-sang-o-siimaa;n\n",
        "lab-haa-e azal-tishnah\n",
        "warning  lab-haa-e azal-tishnah  is no longer \u0932\u092c\u0939\u093e\u2010\u090f\u2010\u0905\u091c\u093c\u0932\u0924\u093f\u0936\u094d\u0928\u093e\n",
        "iiraan"
       ]
      },
      {
       "output_type": "stream",
       "stream": "stdout",
       "text": [
        "\n",
        "mah-jabiine;n\n",
        "ristah-haa-e aahan\n",
        "handase\n",
        "gulistaan-e tarannum\n",
        "abresham\n",
        "warning "
       ]
      },
      {
       "output_type": "stream",
       "stream": "stdout",
       "text": [
        " abresham  is no longer \u0905\u092c\u094d\u0930\u0947\u0936\u092e\n",
        ":tanaab\n",
        "bhe;riye\n",
        "bharii\n",
        "siyaah\n",
        "((ishrato;n\n",
        "izhdihaam-e insaa;n\n",
        "warning  izhdihaam-e insaa;n  is no longer \u0907\u091d\u093c\u094d\u0926\u093f\u0939\u093e\u092e\u2010\u090f\u2010\u0907\u0902\u0938\u093e\u0901\n",
        ";harf-e siyah\n",
        "karam"
       ]
      },
      {
       "output_type": "stream",
       "stream": "stdout",
       "text": [
        "\n",
        "chor\n",
        "ma;hjuub\n",
        "taras\n",
        "guu;nge\n",
        "duzdiidah-o-zhuuliidah\n",
        "sukuut-e ajal\n",
        "ruumaan\n",
        ";subuut"
       ]
      },
      {
       "output_type": "stream",
       "stream": "stdout",
       "text": [
        "\n",
        "utarne\n",
        "kaho\n",
        "hiraasaa;n\n",
        "vahaa;n\n",
        ";hukuumat\n",
        "pahu;nche;n\n",
        "mah-jabiino;n\n",
        "qaafilo\n",
        "tahe;n\n",
        "sar_ba_sar\n",
        "juz"
       ]
      },
      {
       "output_type": "stream",
       "stream": "stdout",
       "text": [
        "\n",
        ";z;ehn-e rasaa\n",
        "muuziik\n",
        "mazaar\n",
        "shaa;xe;n\n",
        "zer-e girdaab\n",
        "rang-o-nak'hat\n",
        "pech-o-taab\n",
        "uu;nche\n",
        "aarzuu-mandii\n",
        "patangaa"
       ]
      },
      {
       "output_type": "stream",
       "stream": "stdout",
       "text": [
        "\n",
        "ta((miir\n",
        "darze;n\n",
        "mausam-e ((ishrat-fashaar\n",
        "ra((naa))ii\n",
        ";xuub-.suurat\n",
        "mauhuum"
       ]
      },
      {
       "output_type": "stream",
       "stream": "stdout",
       "text": [
        "\n",
        "qaafile\n",
        "chauko;n\n",
        "aalaa))isho;n\n",
        "laq-o-daq\n",
        "lap;tii\n",
        "dekhnaa\n",
        "goshah-e baa:tin"
       ]
      },
      {
       "output_type": "stream",
       "stream": "stdout",
       "text": [
        "\n",
        "paimaane\n",
        "dil_band\n",
        "sog-vaar\n",
        "il;haad\n",
        "warning  il;haad  is no longer \u0907\u0932\u094d\u0939\u093e\u0926\n",
        "marz-e :tilism-o-rang-o-;xayaal-o-na;gmah\n",
        "farishto;n"
       ]
      },
      {
       "output_type": "stream",
       "stream": "stdout",
       "text": [
        "\n",
        "warning  farishto;n  is no longer \u092b\u093c\u0930\u093f\u0936\u094d\u0924\u094b\u0902\n",
        "mafar\n",
        "jashn-e ((aruusii\n",
        "kanakhyo;n\n",
        "warning  kanakhyo;n  is no longer \u0915\u0928\u0916\u094d\u092f\u094b\u0902\n",
        ";gazaa\n",
        "mast\n",
        "hai))at"
       ]
      },
      {
       "output_type": "stream",
       "stream": "stdout",
       "text": [
        "\n",
        "adab\n",
        ";halqah-zan\n",
        "saaye\n",
        "tajliil\n",
        "tanhaa))ii-e jaa;n_kaah\n",
        ":tanz\n",
        "ziyaa;n"
       ]
      },
      {
       "output_type": "stream",
       "stream": "stdout",
       "text": [
        "\n",
        "degaa\n",
        "nange\n",
        "sar-giraanii\n",
        "jaisii\n",
        "hon;to;n\n",
        "guftaar\n",
        "banaate\n",
        "baraabar"
       ]
      },
      {
       "output_type": "stream",
       "stream": "stdout",
       "text": [
        "\n",
        "pukaare\n",
        "((a:zmat-e naa-rasaa\n",
        "shahanshaaho;n\n",
        "((aruus-e javaa;n-saal-e fardaa\n",
        "ha;nse\n",
        ";ganiim"
       ]
      },
      {
       "output_type": "stream",
       "stream": "stdout",
       "text": [
        "\n",
        "sharaarat\n",
        "aahanii\n",
        "shaqiiq-o-nastaran\n",
        "tel\n",
        "falsafii\n",
        "be-dardii\n",
        "puuchhe\n",
        ";xiimah-figan\n",
        "aahang-e musalsal\n",
        "tez"
       ]
      },
      {
       "output_type": "stream",
       "stream": "stdout",
       "text": [
        "\n",
        "auraaq\n",
        "mar;halah\n",
        "sabuu\n",
        "karne\n",
        "qaarii\n",
        "titliyo;n\n",
        "jitnii\n",
        "angaaro;n\n",
        "((ajab"
       ]
      },
      {
       "output_type": "stream",
       "stream": "stdout",
       "text": [
        "\n",
        "hast\n",
        "bahaayaa\n",
        "saman\n",
        "barg-e gul\n",
        "ma;hruumiyo;n\n",
        "qiyaas\n",
        "base\n",
        "kashaakash\n",
        ".sadaa))o;n\n",
        "kinaayo;n"
       ]
      },
      {
       "output_type": "stream",
       "stream": "stdout",
       "text": [
        "\n",
        "aazaadii\n",
        "doshiizah\n",
        "bahaar-e taqdiis-e jaavidaa;n\n",
        ";husn-e paivand\n",
        "an-ganit\n",
        "shor-o-shar"
       ]
      },
      {
       "output_type": "stream",
       "stream": "stdout",
       "text": [
        "\n",
        "gosh\n",
        "iimaa-e :zahuur\n",
        "lagtaa\n",
        "saktii\n",
        "gumbado;n\n",
        "warning  gumbado;n  is no longer \u0917\u0941\u092e\u094d\u092c\u0926\u094b\u0902\n",
        "gurisnah-o-paa\n",
        "rubaab\n",
        "phaile"
       ]
      },
      {
       "output_type": "stream",
       "stream": "stdout",
       "text": [
        "\n",
        "mahjuur\n",
        "dhiimii\n",
        "multafat\n",
        "goshah-e diivaar\n",
        "siyah-post\n",
        "khe;nch\n",
        "mak;rii\n",
        "der"
       ]
      },
      {
       "output_type": "stream",
       "stream": "stdout",
       "text": [
        "\n",
        "bajaa\n",
        "jahd-e be-kaar\n",
        "fa.zaa\n",
        ".su((uubato;n\n",
        "siinah-e giitii\n",
        "ustaaniyaa;n"
       ]
      },
      {
       "output_type": "stream",
       "stream": "stdout",
       "text": [
        "\n",
        "warning  ustaaniyaa;n  is no longer \u0909\u0938\u094d\u0924\u093e\u0928\u093f\u092f\u093e\u0901\n",
        ".zarb-e kaarii\n",
        "baadalo;n\n",
        "nichle\n",
        "zabuu;n\n",
        "za;nbuur\n",
        "paa-zeb-e qadiim\n",
        "ha;nsegii\n",
        "be-huudah"
       ]
      },
      {
       "output_type": "stream",
       "stream": "stdout",
       "text": [
        "\n",
        "bistar-e sanjaab-o-samuur\n",
        "pahnaa))iyaa;n\n",
        ";xufyah\n",
        "yatiim\n",
        "mausam-e nashaa:t\n",
        "a;nboh"
       ]
      },
      {
       "output_type": "stream",
       "stream": "stdout",
       "text": [
        "\n",
        "i:zhaar\n",
        "warning  i:zhaar  is no longer \u0907\u091c\u093c\u094d\u0939\u093e\u0930\n",
        "sar-e chaak\n",
        "shajar\n",
        ";xilaaf\n",
        "bhare;nge\n",
        "paudaa\n",
        "aastaa;n\n",
        "warning "
       ]
      },
      {
       "output_type": "stream",
       "stream": "stdout",
       "text": [
        " aastaa;n  is no longer \u0906\u0938\u094d\u0924\u093e\u0901\n",
        "salaam\n",
        "((aafiyat-koshii-e aabaa\n",
        "ba;xshe;n\n",
        "a;ziiyato;n\n",
        "himmat-e yazdaa;n\n",
        "warning "
       ]
      },
      {
       "output_type": "stream",
       "stream": "stdout",
       "text": [
        " himmat-e yazdaa;n  is no longer \u0939\u093f\u092e\u094d\u092e\u0924\u2010\u090f\u2010\u092f\u091c\u093c\u094d\u0926\u093e\u0901\n",
        "man-o-tuu\n",
        "hech-maayah\n",
        "jaa))o\n",
        "raaste\n",
        "sa;xaavato;n\n",
        "lu;n;dhaa))e;nge\n",
        "d;ehliiz\n",
        ".suraa;hii-o-miinaa-o-jaam-o-sabuu\n",
        "dara;xshaa;n"
       ]
      },
      {
       "output_type": "stream",
       "stream": "stdout",
       "text": [
        "\n",
        "warning  dara;xshaa;n  is no longer \u0926\u0930\u0916\u093c\u094d\u0936\u093e\u0901\n",
        "qaamat\n",
        "baazuu\n",
        "hilaayaa\n",
        "zaanuu\n",
        ";halqe\n",
        "aadaab\n",
        "la;z;zato;n\n",
        "afsaano;n\n",
        "warning  afsaano;n  is no longer \u0905\u092b\u093c\u094d\u0938\u093e\u0928\u094b\u0902\n",
        "be-panaah\n",
        "zamzamo;n\n",
        "maav;aa"
       ]
      },
      {
       "output_type": "stream",
       "stream": "stdout",
       "text": [
        "\n",
        "ma((nii\n",
        "chi;rhaa))uu;n\n",
        "girah-aaluud\n",
        "vahii;n\n",
        "ak;sar\n",
        "warning  ak;sar  is no longer \u0905\u0915\u094d\u0938\u0930\n",
        "kam_sin\n",
        "guu;n\n",
        "va;hshat\n",
        "mubtalaa\n",
        "roz-e aasaa))ish"
       ]
      },
      {
       "output_type": "stream",
       "stream": "stdout",
       "text": [
        "\n",
        ":zulmat-e shab\n",
        "qahqahe\n",
        "buz-dilii\n",
        ";xayaalaat\n",
        "sahmii\n",
        "sar-e pul\n",
        "chho;r"
       ]
      },
      {
       "output_type": "stream",
       "stream": "stdout",
       "text": [
        "\n",
        "jashn-e aadam\n",
        "gunah\n",
        "be-nuur-o-taar\n",
        "ashyaa\n",
        ";hiilah\n",
        "tanuu-mand\n",
        "ba;rhtii\n",
        "pul\n",
        "rif((at\n",
        "dhokaa\n",
        "buzurg-o-bar-tar"
       ]
      },
      {
       "output_type": "stream",
       "stream": "stdout",
       "text": [
        "\n",
        "baa((i;s\n",
        "man:zir-e rangii;n\n",
        "laasho;n\n",
        "nau-baras\n",
        "raah-e vi.saal"
       ]
      },
      {
       "output_type": "stream",
       "stream": "stdout",
       "text": [
        "\n",
        "farangiyo;n\n",
        "darjah\n",
        "vus((ato;n\n",
        "vilaadat\n",
        ";dar\n",
        "daryaa-dilii\n",
        "dil-shaadii"
       ]
      },
      {
       "output_type": "stream",
       "stream": "stdout",
       "text": [
        "\n",
        "buuso;n\n",
        "sujhaa))ii\n",
        "kholhe\n",
        "nazdiik\n",
        "hote\n",
        ";daraate\n",
        "gu;nbado;n\n",
        "nigah_baa;n"
       ]
      },
      {
       "output_type": "stream",
       "stream": "stdout",
       "text": [
        "\n",
        "ma;hbuub\n",
        "biivah\n",
        "jamii\n",
        ":tuufaa;n\n",
        "paimaano;n\n",
        "be-naqaab\n",
        "ruu-e safed\n",
        "pai;gaam-e i;nbisaa:t"
       ]
      },
      {
       "output_type": "stream",
       "stream": "stdout",
       "text": [
        "\n",
        "samajhtii\n",
        "guzre;\n",
        "shab-haa-e zimistaa;n\n",
        "duhraa\n",
        "golaa))ii\n",
        "bahaa-kar"
       ]
      },
      {
       "output_type": "stream",
       "stream": "stdout",
       "text": [
        "\n",
        "pasiine\n",
        "sabiil\n",
        "bhaarii\n",
        "gusaarii\n",
        "yihii;n\n",
        "rukii\n",
        "garmaa))e;nge\n",
        "warning "
       ]
      },
      {
       "output_type": "stream",
       "stream": "stdout",
       "text": [
        " garmaa))e;nge  is no longer \u0917\u0930\u094d\u092e\u093e\u090f\u0902\u0917\u0947\n",
        "sar-garaanii\n",
        "lim\n",
        "be-daar\n",
        "viiraaniyo;n\n",
        "judaa\n",
        "diraaz-o-taariik\n",
        "chuur\n",
        "re;ngte\n",
        "siimaa))o;n"
       ]
      },
      {
       "output_type": "stream",
       "stream": "stdout",
       "text": [
        "\n",
        "fasaanah\n",
        ".ziyaa\n",
        "chunte\n",
        "patto;n\n",
        "faraamoshii\n",
        "ristaa\n",
        "warning  ristaa  is no longer \u0930\u093f\u0938\u0924\u093e\n",
        "pankhaa\n",
        "kaisii\n",
        "shabistaa;n"
       ]
      },
      {
       "output_type": "stream",
       "stream": "stdout",
       "text": [
        "\n",
        "ruus\n",
        "gil-o-rang-o-rau;gan\n",
        "vujuud-e aadmii\n",
        "raag\n",
        "amiiro;n\n",
        "phailii"
       ]
      },
      {
       "output_type": "stream",
       "stream": "stdout",
       "text": [
        "\n",
        "zor-e mai\n",
        "farsuudah\n",
        "laa))egii\n",
        "abr-o-mahtaab\n",
        ".said-e naa-tavaa;n\n",
        "kitaabo;n\n",
        "kitaabe;n\n",
        "taaziyaane"
       ]
      },
      {
       "output_type": "stream",
       "stream": "stdout",
       "text": [
        "\n",
        "gaa))e;n\n",
        "chalne\n",
        "mu;guul\n",
        "nazuul\n",
        "pareshaan\n",
        "dev-e aahan\n",
        "sukuut-e marg\n",
        "buu-e tund\n",
        "hilte\n",
        "du((aa))o;n"
       ]
      },
      {
       "output_type": "stream",
       "stream": "stdout",
       "text": [
        "\n",
        "sujhaataa\n",
        "baar-e mizhgaa;n\n",
        "bach-ke\n",
        "((aadat\n",
        "((uzlato;n\n",
        "raazo;n\n",
        "dil_shaad\n",
        "arzish"
       ]
      },
      {
       "output_type": "stream",
       "stream": "stdout",
       "text": [
        "\n",
        "reg-e diiruuz\n",
        "paivastagii-e shauq\n",
        "uu;nchii\n",
        "sarod-e chang\n",
        "viiraanii"
       ]
      },
      {
       "output_type": "stream",
       "stream": "stdout",
       "text": [
        "\n",
        "kiran\n",
        "suuraj\n",
        ";gaar\n",
        "sar-bastah-o-ruu-band\n",
        ";xayaabaan-e sa((dii\n",
        "((i;zaar-e jahaa;n"
       ]
      },
      {
       "output_type": "stream",
       "stream": "stdout",
       "text": [
        "\n",
        "mu;xta.sar-o-tiirah-o-taar\n",
        ";saaniye\n",
        "lahraate\n",
        ".san((at-garo;n\n",
        "parvaaz"
       ]
      },
      {
       "output_type": "stream",
       "stream": "stdout",
       "text": [
        "\n",
        "nafuu;z\n",
        "kashtii\n",
        "vufuur\n",
        "raah_rau\n",
        "daste\n",
        "ula;tne\n",
        ";xvush_buu))o;n\n",
        "taal\n",
        "shahr-e auhaam"
       ]
      },
      {
       "output_type": "stream",
       "stream": "stdout",
       "text": [
        "\n",
        "pahchaantii\n",
        "andar\n",
        "chaahtaa\n",
        ";xaak-daa;n\n",
        "raah-gum-kardo;n\n",
        "justjuu\n",
        "ha;nstaa"
       ]
      },
      {
       "output_type": "stream",
       "stream": "stdout",
       "text": [
        "\n",
        "utaaraa\n",
        "ta.sviire;n\n",
        "nigraa;n\n",
        "manba((-e kaif-o-suruur\n",
        "shaa;xo;n\n",
        "jins-e saudaagarii"
       ]
      },
      {
       "output_type": "stream",
       "stream": "stdout",
       "text": [
        "\n",
        "nau;hah-;xvaanii\n",
        "falsafe\n",
        "farhaad-o-shiirii;n\n",
        "dast-e jaaduu-gar"
       ]
      },
      {
       "output_type": "stream",
       "stream": "stdout",
       "text": [
        "\n",
        "gaa\n",
        "kaavish-e be_daarii\n",
        "siyaasat\n",
        "juu-e na;gmah\n",
        "paakiizah\n",
        "pyaas\n",
        "taz))iin"
       ]
      },
      {
       "output_type": "stream",
       "stream": "stdout",
       "text": [
        "\n",
        "lagan\n",
        "ma;hfuu:z\n",
        "kirne;n\n",
        "shaame;n\n",
        "zer-e lab\n",
        "ufqii\n",
        "samjhii\n",
        "m;ehmaa;n\n",
        ".sofe\n",
        "nikalte\n",
        "shar\n",
        "tabaah-o-afsurdah\n",
        "ma;zhab"
       ]
      },
      {
       "output_type": "stream",
       "stream": "stdout",
       "text": [
        "\n",
        "saudaa-garii\n",
        "jha;njho;raa\n",
        "afsuu;n-zadah\n",
        "shai\n",
        "labaaso;n\n",
        "sa;xt"
       ]
      },
      {
       "output_type": "stream",
       "stream": "stdout",
       "text": [
        "\n",
        "naazuk-sii\n",
        ";xiraam-vaale\n",
        "zor-e paidaa))ii\n",
        "ha;nsne\n",
        "kirno;n\n",
        "ib'haam"
       ]
      },
      {
       "output_type": "stream",
       "stream": "stdout",
       "text": [
        "\n",
        "phuvaaro;n\n",
        "mai-kado;n\n",
        "raab:tah\n",
        "hangaamah\n",
        "bahruupi))e\n",
        ";xaakistar-e so;xtah\n",
        "u;r"
       ]
      },
      {
       "output_type": "stream",
       "stream": "stdout",
       "text": [
        "\n",
        "umiid-e vafaa\n",
        "phuu;t\n",
        "hamah-tan\n",
        "fizuu;n\n",
        "lahje\n",
        "laatii\n",
        "ajdaad\n",
        "warning  ajdaad  is no longer \u0905\u091c\u094d\u0926\u093e\u0926\n",
        "khul\n",
        ".za((iif\n",
        "imkaa;n\n",
        "chalak\n",
        ":tilism\n",
        "daryuuzah-garii"
       ]
      },
      {
       "output_type": "stream",
       "stream": "stdout",
       "text": [
        "\n",
        "mausiiqii-o-((ishrat\n",
        "bahaa\n",
        "sahme\n",
        "jaadah-kash-e raah-e :taviil\n",
        "ruu-e gardaa;n\n",
        "giryah-o-aah-o-fi;gaa;n\n",
        "raah_zan"
       ]
      },
      {
       "output_type": "stream",
       "stream": "stdout",
       "text": [
        "\n",
        "a;ndoh\n",
        "maanaa\n",
        "sha;x.s\n",
        "gulaab\n",
        "jabr-e :taaqat-rubaa\n",
        "kah-kashaa;n\n",
        "jashn"
       ]
      },
      {
       "output_type": "stream",
       "stream": "stdout",
       "text": [
        "\n",
        "lahlahaataa\n",
        "bosah\n",
        "adiib\n",
        "iqliim-e shiir-o-shahd-o-sharaab-o-;xurmaa\n",
        "sadd-e nigah\n",
        "daad-gaahe;n\n",
        "puraa\n",
        "sochtii"
       ]
      },
      {
       "output_type": "stream",
       "stream": "stdout",
       "text": [
        "\n",
        "baqaa-e mauhuum\n",
        "tas;xiir\n",
        "bayaa;n\n",
        ";xvurshiid\n",
        "warning  ;xvurshiid  is no longer \u0916\u093c\u0941\u0930\u094d\u0936\u0940\u0926\n",
        "qaabil\n",
        "ruu\n",
        "phailtaa\n",
        "dil_kash\n",
        ";xvud-fahmii\n",
        "diyaar-e zindagii\n",
        "qabre;n\n",
        "mafruur"
       ]
      },
      {
       "output_type": "stream",
       "stream": "stdout",
       "text": [
        "\n",
        "mu.z:tarab\n",
        "tanii\n",
        "daryuuzah-gar\n",
        "sunaatii\n",
        ".sub;h-e takmiil\n",
        "javaan\n",
        "reg-zaaro;n"
       ]
      },
      {
       "output_type": "stream",
       "stream": "stdout",
       "text": [
        "\n",
        "milne\n",
        "maj;zuub\n",
        "dushvaar\n",
        "paarah-e naan-e javii;n\n",
        "shaahii\n",
        "parvardah-e anvaar\n",
        "ho;ngii"
       ]
      },
      {
       "output_type": "stream",
       "stream": "stdout",
       "text": [
        "\n",
        "shau;x\n",
        "raah-gu;zaar\n",
        "ta;hsii;n"
       ]
      },
      {
       "output_type": "stream",
       "stream": "stdout",
       "text": [
        "\n",
        "mub'ham\n",
        "tapaak\n",
        "chashmah-e makr-o-riyaa\n",
        "aaraa))ish"
       ]
      },
      {
       "output_type": "stream",
       "stream": "stdout",
       "text": [
        "\n",
        "basiiraa\n",
        ".suurat-garo;n\n",
        "simt-e raah-e nau\n",
        ":tilismii"
       ]
      },
      {
       "output_type": "stream",
       "stream": "stdout",
       "text": [
        "\n",
        "warning  :tilismii  is no longer \u0924\u093f\u0932\u093f\u0938\u094d\u092e\u0940\n",
        "dhaat\n",
        ".sahraa))o;n\n",
        "du((aa\n",
        "past-o-baalaa\n",
        "taazah-o-naa-diidah\n",
        ";hasrat-e i:zhaar-e shabaab\n",
        "kamar"
       ]
      },
      {
       "output_type": "stream",
       "stream": "stdout",
       "text": [
        "\n",
        "rod-e dajlah\n",
        "saamaa;n\n",
        "paikar-e ya;x-bastah\n",
        ";xastah-e kash_ma_kash-e fikr-o-((amal\n",
        "rahne-vaalii"
       ]
      },
      {
       "output_type": "stream",
       "stream": "stdout",
       "text": [
        "\n",
        "lene\n",
        "siiknii\n",
        "pa;r\n",
        "janaab-e ((azz-o-jal\n",
        "aalaam\n",
        "piroyaa\n",
        "paa-kobii\n",
        "a;sar\n",
        ";xvud-saa;xtah"
       ]
      },
      {
       "output_type": "stream",
       "stream": "stdout",
       "text": [
        "\n",
        "kai_;xusrav-o-kai_qubaad\n",
        "pala;t-kar\n",
        "sar-chashmah\n",
        "parasto;n"
       ]
      },
      {
       "output_type": "stream",
       "stream": "stdout",
       "text": [
        "\n",
        "paa))oge\n",
        "utrii\n",
        ";te;rhe\n",
        "raah-daa;n\n",
        "na;gmah-haa-e abr\n",
        "istibdaad\n",
        "warning "
       ]
      },
      {
       "output_type": "stream",
       "stream": "stdout",
       "text": [
        " istibdaad  is no longer \u0907\u0938\u094d\u0924\u093f\u092c\u0926\u093e\u0926\n",
        "baato;n\n",
        ".ziyaa-e ulfat\n",
        "alvand\n",
        "warning  alvand  is no longer \u0905\u0932\u094d\u0935\u0902\u0926\n",
        ";dartaa\n",
        "taqdiis\n",
        "baate;n\n",
        "aayaa\n",
        ";xudaavand\n",
        "bachaane\n",
        "naqsh\n",
        "shu((aa((e;n\n",
        "((i:tr"
       ]
      },
      {
       "output_type": "stream",
       "stream": "stdout",
       "text": [
        "\n",
        "kirdaar\n",
        "jaltarang\n",
        "putle\n",
        ";hasiinah\n",
        "phu;tegii\n",
        "be-;hisii\n",
        "mauj-e fitnah\n",
        "hinduustaa;n\n",
        "jashn-e maahtaab"
       ]
      },
      {
       "output_type": "stream",
       "stream": "stdout",
       "text": [
        "\n",
        "dil_daadah\n",
        "da;gaa\n",
        "burj-o-baar-o-par\n",
        "rab:t-e jism-o-jaa;n\n",
        "daulat\n",
        "parii_zaado;n\n",
        ".sa;hraa))o;n"
       ]
      },
      {
       "output_type": "stream",
       "stream": "stdout",
       "text": [
        "\n",
        "sikaa\n",
        "ba;hr-o-bar\n",
        "buraa\n",
        "la;z;zat-e kul\n",
        "lagte\n",
        "chhaa))e\n",
        "bharosah\n",
        "numaayaa;n"
       ]
      },
      {
       "output_type": "stream",
       "stream": "stdout",
       "text": [
        "\n",
        "phu;nk\n",
        "hai;\n",
        "daur-e reg-o-havaa\n",
        "gu;zre\n",
        ";thi;thartii\n",
        "chaahat\n",
        ";xas-e naa-tavaa;n\n",
        "zavaal-e ((umr"
       ]
      },
      {
       "output_type": "stream",
       "stream": "stdout",
       "text": [
        "\n",
        "jahaaz\n",
        "kahuu;n\n",
        "ashk-rez\n",
        "((izzat\n",
        "tahliil\n",
        "reg-e hazyaa;n\n",
        "aa;nkh\n",
        "baaho;n\n",
        "akhaa;raa"
       ]
      },
      {
       "output_type": "stream",
       "stream": "stdout",
       "text": [
        "\n",
        "talvaaro;n\n",
        "chaaro;n\n",
        "baaraa;n-zadah\n",
        "warning  baaraa;n-zadah  is no longer \u092c\u093e\u0930\u093e\u0901\u091c\u093c\u0926\u093e\n",
        "lakiiro;n\n",
        "chhalak\n",
        "kyo;nkar\n",
        "pindaar-e raftah\n",
        "izhdihaam-e gul"
       ]
      },
      {
       "output_type": "stream",
       "stream": "stdout",
       "text": [
        "\n",
        "warning  izhdihaam-e gul  is no longer \u0907\u091d\u093c\u094d\u0926\u093f\u0939\u093e\u092e\u2010\u090f\u2010\u0917\u0941\u0932\n",
        ";xamiidah\n",
        "aalaam-e jaa;n-guzaa\n",
        "an-kahii\n",
        "shikast-e rang-e ((i;zaar-e ma;hbuub\n",
        "paivast\n",
        "zardusht"
       ]
      },
      {
       "output_type": "stream",
       "stream": "stdout",
       "text": [
        "\n",
        "diidah\n",
        "ma;hruumii\n",
        "taa\n",
        "nau((-e insaa;n\n",
        "lau;t-ke\n",
        ":tarab\n",
        "naa-gaah\n",
        "narm"
       ]
      },
      {
       "output_type": "stream",
       "stream": "stdout",
       "text": [
        "\n",
        "raah-po\n",
        ";xalq\n",
        ".sadaa-e abr\n",
        "nidaa\n",
        "goshah-e niim-raushan\n",
        "zebaa))ish\n",
        "la;z;zat-andoz-e dil-aavezii-e mauhuum"
       ]
      },
      {
       "output_type": "stream",
       "stream": "stdout",
       "text": [
        "\n",
        "be-i;xtiyaarii\n",
        "warning  be-i;xtiyaarii  is no longer \u092c\u0947\u0907\u0916\u093c\u094d\u0924\u093f\u092f\u093e\u0930\u0940\n",
        "((iid\n",
        "jahaan-e baaz-yaaftah"
       ]
      },
      {
       "output_type": "stream",
       "stream": "stdout",
       "text": [
        "\n",
        "aa;gosh-e aarzuu-mand\n",
        "sharmiilii\n",
        "pashemaa;n\n",
        "pha;rpha;raaha;t"
       ]
      },
      {
       "output_type": "stream",
       "stream": "stdout",
       "text": [
        "\n",
        "puuchh\n",
        "taabindagii\n",
        "ruu;h-e abad\n",
        "iltijaa))o;n\n",
        "warning  iltijaa))o;n  is no longer \u0907\u0932\u094d\u0924\u093f\u091c\u093e\u0913\u0902\n",
        "uftaadah\n",
        "warning "
       ]
      },
      {
       "output_type": "stream",
       "stream": "stdout",
       "text": [
        " uftaadah  is no longer \u0909\u092b\u093c\u094d\u0924\u093e\u0926\u093e\n",
        "sar-goshiyo;n\n",
        "dabaa))e\n",
        "nigal\n",
        "aa))e;n\n",
        "bastiyaa;n\n",
        ";tuu;tte\n",
        "naa-rasaa))ii\n",
        "nishaa:t-e naab\n",
        "dil_juu))ii"
       ]
      },
      {
       "output_type": "stream",
       "stream": "stdout",
       "text": [
        "\n",
        "sar-mast\n",
        ";than;de\n",
        "daastaane;n\n",
        "afsaanah-;xvaa;n\n",
        "warning  afsaanah-;xvaa;n  is no longer \u0905\u092b\u093c\u094d\u0938\u093e\u0928\u093e\u0916\u093c\u094d\u0935\u093e\u0901\n",
        "da((vat\n",
        "ijtinaab\n",
        "warning  ijtinaab  is no longer \u0907\u091c\u094d\u0924\u093f\u0928\u093e\u092c\n",
        "khel\n",
        "dushmano;n\n",
        "warning  dushmano;n  is no longer \u0926\u0941\u0936\u094d\u092e\u0928\u094b\u0902\n",
        "faujiyo;n\n",
        "kise\n",
        "aamad\n",
        "rakkhii\n",
        "jafaa-gar"
       ]
      },
      {
       "output_type": "stream",
       "stream": "stdout",
       "text": [
        "\n",
        "sham((o;n\n",
        "warning  sham((o;n  is no longer \u0936\u092e\u094b\u0902\n",
        ".suufiyo;n\n",
        ";xandaa;n\n",
        "shiiraaz\n",
        "be-niyaazii\n",
        "ravaanii\n",
        ":talab-gaar\n",
        "rahzan-e marg"
       ]
      },
      {
       "output_type": "stream",
       "stream": "stdout",
       "text": [
        "\n",
        "paaro;n\n",
        "mar'ham\n",
        "havas-parastii\n",
        "bujhaa\n",
        "rusta;xez\n",
        "banaa"
       ]
      },
      {
       "output_type": "stream",
       "stream": "stdout",
       "text": [
        "\n",
        "diivaare;n\n",
        "amriikah\n",
        "warning  amriikah  is no longer \u0905\u092e\u094d\u0930\u0940\u0915\u093e\n",
        "dekh-kar\n",
        "rahe;n\n",
        "saro;n\n",
        "mu;hii:t\n",
        "chhedtii\n",
        "bahrah-yaab\n",
        "gadaa"
       ]
      },
      {
       "output_type": "stream",
       "stream": "stdout",
       "text": [
        "\n",
        "((aks\n",
        "dast-e chaabuk\n",
        "fasaano;n\n",
        "kaahin\n",
        "daa))ire\n",
        "khelte\n",
        "kahte\n",
        "baaqii\n",
        "be-sar-o-paa\n",
        "jahaa;n-bhar\n",
        ";xvush-fahm\n",
        ".zarb-e ma;sal"
       ]
      },
      {
       "output_type": "stream",
       "stream": "stdout",
       "text": [
        "\n",
        "de;n\n",
        "((ishqii\n",
        "warning  ((ishqii  is no longer \u0907\u0936\u094d\u0915\u093c\u0940\n",
        ";hisaabii\n",
        "ba;rh-kar\n",
        "zabaan-e shauq\n",
        "daur-e paiham\n",
        "ghaa;t"
       ]
      },
      {
       "output_type": "stream",
       "stream": "stdout",
       "text": [
        "\n",
        "phe;nkaa\n",
        ":tuul\n",
        "m;e;hnat\n",
        "ga))ii;n\n",
        "aabaad\n",
        "saraasar\n",
        "nishaan-e qadam\n",
        "varaa))"
       ]
      },
      {
       "output_type": "stream",
       "stream": "stdout",
       "text": [
        "\n",
        "be-suud\n",
        "sharm-saar\n",
        "qa:trah-e gum-gashtah\n",
        "bachii\n",
        "kar-ke\n",
        "saamaan"
       ]
      },
      {
       "output_type": "stream",
       "stream": "stdout",
       "text": [
        "\n",
        ";gaarat-gar\n",
        "galyo;n\n",
        "daliil-e raah-e vafaa\n",
        "milne-vaalo;n\n",
        ";dar-kar\n",
        ";xiraam-e .sub;h\n",
        "ubhartii"
       ]
      },
      {
       "output_type": "stream",
       "stream": "stdout",
       "text": [
        "\n",
        "dekhtaa\n",
        "be-basii\n",
        "sarbasar\n",
        ":tifl-e kam_sin\n",
        "falsafah-go\n",
        "iifaa"
       ]
      },
      {
       "output_type": "stream",
       "stream": "stdout",
       "text": [
        "\n",
        ":taa))ir\n",
        "pyaase\n",
        "nak'hat-e gum-raah\n",
        "mardaan-e raad\n",
        "intiqaam\n",
        "laa-shu((uur"
       ]
      },
      {
       "output_type": "stream",
       "stream": "stdout",
       "text": [
        "\n",
        "maquulo;n\n",
        "suu-e nau;hah-aabaad-e jahaa;n\n",
        "pala;tne\n",
        "muu\n",
        "naujavaa;n\n",
        "ma((.siyat\n",
        ";gam-e jaavidaa;n\n",
        "na;gmah-zan"
       ]
      },
      {
       "output_type": "stream",
       "stream": "stdout",
       "text": [
        "\n",
        "aasuudagii-e martabah-o-jaah\n",
        "viiraanah-garo;n\n",
        "diivaar-o-dar\n",
        ";saanii\n",
        ";daale"
       ]
      },
      {
       "output_type": "stream",
       "stream": "stdout",
       "text": [
        "\n",
        "halkii\n",
        ":tuul-e alam_naak\n",
        "u;thaa-kar\n",
        "be-panaahii\n",
        "shab-e gunah\n",
        ";xayaalo;n"
       ]
      },
      {
       "output_type": "stream",
       "stream": "stdout",
       "text": [
        "\n",
        "yaasmin\n",
        "paarah-e naan\n",
        "(\n",
        "sochne\n",
        ";xudaa-e bar-tar\n",
        "guzraa\n",
        "vi.saal-e ma((nii"
       ]
      },
      {
       "output_type": "stream",
       "stream": "stdout",
       "text": [
        "\n",
        "naazish\n",
        "biimaar\n",
        ";xudaavandii\n",
        "junuu;n\n",
        "banaa))o\n",
        "sabuu-o-jaam\n",
        "sitaarah\n",
        "mii;the\n",
        "guu;nj\n",
        "jhuk-kar\n",
        "chhapegaa\n",
        "sabuk-maayah"
       ]
      },
      {
       "output_type": "stream",
       "stream": "stdout",
       "text": [
        "\n",
        "girah\n",
        ":tu;gyaa;n\n",
        "ummiid-e zifaaf\n",
        "warning  ummiid-e zifaaf  is no longer \u0909\u092e\u094d\u092e\u0940\u0926\u2010\u090f\u2010\u091c\u093c\u093f\u092b\u093c\u093e\u092b\u093c\n",
        "jannat\n",
        "m;o;hsin-kush-o-naa-sipaas\n",
        "dunyaa-e aab-o-rang"
       ]
      },
      {
       "output_type": "stream",
       "stream": "stdout",
       "text": [
        "\n",
        "pastiyo;n\n",
        "warning  pastiyo;n  is no longer \u092a\u0938\u094d\u0924\u093f\u092f\u094b\u0902\n",
        "kahaanii\n",
        "girdish-e aalaat\n",
        ";xauf-e mauhuum\n",
        "bezaarii\n",
        "auhaam\n",
        "itne\n",
        "rau;nde"
       ]
      },
      {
       "output_type": "stream",
       "stream": "stdout",
       "text": [
        "\n",
        "kotah\n",
        ";xalvat-e be-nuur-o-;xvud-bii;n\n",
        "ma))e-e naab-e qazviin-o-;xullaar-e shiiraaz\n",
        ";hujre"
       ]
      },
      {
       "output_type": "stream",
       "stream": "stdout",
       "text": [
        "\n",
        ";xamosh-o-goyaa\n",
        ";zauq-e ((amal\n",
        "((aurate;n\n",
        ";xamiir-e aab-o-gil\n",
        "bajne"
       ]
      },
      {
       "output_type": "stream",
       "stream": "stdout",
       "text": [
        "\n",
        "((aqiim-o-amiir\n",
        ";xashmgii;n\n",
        "chau;nke;n\n",
        "lab-;xand\n",
        "shab_namii\n",
        "zuud-kaaro;n"
       ]
      },
      {
       "output_type": "stream",
       "stream": "stdout",
       "text": [
        "\n",
        "kaa;x-o-kuu\n",
        "niimah-ras\n",
        "saa;xt\n",
        ".sa;hn\n",
        "ufaq-taab\n",
        "daaraa))ii\n",
        "be-qaraar\n",
        ";xiime\n",
        "gum-gashtah"
       ]
      },
      {
       "output_type": "stream",
       "stream": "stdout",
       "text": [
        "\n",
        "warning  gum-gashtah  is no longer \u0917\u0941\u092e\u0917\u0936\u094d\u0924\u093e\n",
        "pa;tak\n",
        "ustuvaar\n",
        "warning  ustuvaar  is no longer \u0909\u0938\u094d\u0924\u0941\u0935\u093e\u0930\n",
        "sard\n",
        ":tahraan\n",
        "mi;sl-e ;harf-e naa-shuniidah\n",
        "ruu;h-e yuunaa;n"
       ]
      },
      {
       "output_type": "stream",
       "stream": "stdout",
       "text": [
        "\n",
        "do-rangii\n",
        "ayyaam-e bahaar\n",
        "warning  ayyaam-e bahaar  is no longer \u0905\u092f\u094d\u092f\u093e\u092e\u2010\u090f\u2010\u092c\u0939\u093e\u0930\n",
        "cha;rh\n",
        "baahar\n",
        "aarzuu-e saliim\n",
        "aagahii\n",
        "himaalah-o-alvand\n",
        "rah_zanii"
       ]
      },
      {
       "output_type": "stream",
       "stream": "stdout",
       "text": [
        "\n",
        ";e((timaadii\n",
        ";gamo;n\n",
        ".sa;hraa-navardo;n\n",
        ";xvaahisho;n\n",
        "nosh-e jaa;n"
       ]
      },
      {
       "output_type": "stream",
       "stream": "stdout",
       "text": [
        "\n",
        "be-taab\n",
        "shaahanshahaan-e ((a:ziim\n",
        "tamas;xur\n",
        ";gam-e dil_giir\n",
        "naushiirvaa;n\n",
        "warning  naushiirvaa;n  is no longer \u0928\u094c\u0936\u0940\u0930\u0935\u093e\u0901\n",
        "dilvaa\n",
        "kaun-sii\n",
        "ghulte"
       ]
      },
      {
       "output_type": "stream",
       "stream": "stdout",
       "text": [
        "\n",
        "mu;htaaj\n",
        "labaadah\n",
        "guu;njii\n",
        "daariyuush\n",
        "patango;n\n",
        "ho;nge\n",
        "a;ziiyat"
       ]
      },
      {
       "output_type": "stream",
       "stream": "stdout",
       "text": [
        "\n",
        "dam\n",
        ";gam-e kul\n",
        "re;ngtaa\n",
        "lau;ho;n\n",
        "pashmiinah-o-dastaar\n",
        "buute\n",
        "so))ii\n",
        "gird-e chasm"
       ]
      },
      {
       "output_type": "stream",
       "stream": "stdout",
       "text": [
        "\n",
        "naushiirvaan-e ((aadil\n",
        "zar-garii\n",
        "aa))iin\n",
        "munta:zar\n",
        "duu))ii"
       ]
      },
      {
       "output_type": "stream",
       "stream": "stdout",
       "text": [
        "\n",
        "be-hoshii\n",
        "haatho;n\n",
        ";duubaa\n",
        "gadaa))o;n\n",
        "dil-aavez\n",
        "mastii\n",
        "warning  mastii  is no longer \u092e\u0938\u0924\u0940\n",
        "chhipkalii\n",
        "kaar-naamo;n\n",
        "pa;ziiraa"
       ]
      },
      {
       "output_type": "stream",
       "stream": "stdout",
       "text": [
        "\n",
        "lam;hah\n",
        "niil_guu;n\n",
        "sar_chashmah\n",
        "be-niyaaz\n",
        "on;to;n\n",
        "juu-e ashk\n",
        "baam-o-dar"
       ]
      },
      {
       "output_type": "stream",
       "stream": "stdout",
       "text": [
        "\n",
        "gahvaarah-e ;husn-o-la:taafat\n",
        "parindo;n\n",
        "lam;haat\n",
        "rah-shinaas\n",
        ";xiraamaa;n"
       ]
      },
      {
       "output_type": "stream",
       "stream": "stdout",
       "text": [
        "\n",
        "vasiilo;n\n",
        "((a;zaab-e aliim\n",
        "madfuun\n",
        "jaano\n",
        ".sub;h-e ;xuu;n-fishaa;n\n",
        "navaa-e ;hazii;n"
       ]
      },
      {
       "output_type": "stream",
       "stream": "stdout",
       "text": [
        "\n",
        "kafsh-e paa\n",
        "ru;xshandah\n",
        "va.sl\n",
        "aazaadii-e kaamil\n",
        "giit\n",
        "be-vazn"
       ]
      },
      {
       "output_type": "stream",
       "stream": "stdout",
       "text": [
        "\n",
        "aaluudagii-e gird-e sar-e raah\n",
        "iimaa;n\n",
        "dabe\n",
        "silsile\n",
        "be-baak"
       ]
      },
      {
       "output_type": "stream",
       "stream": "stdout",
       "text": [
        "\n",
        "((ayyaar\n",
        "aasiib-e mubram\n",
        "khulii\n",
        ";xazif\n",
        ";tuu;te\n",
        "rihaa))ii\n",
        "lag-ke\n",
        "fi:trat\n",
        "batlaa\n",
        "ya((nii\n",
        "reze\n",
        "malaa))im\n",
        "jalvah-gah-e raaz\n",
        "ayyaam-e nau-bahaar"
       ]
      },
      {
       "output_type": "stream",
       "stream": "stdout",
       "text": [
        "\n",
        "warning  ayyaam-e nau-bahaar  is no longer \u0905\u092f\u094d\u092f\u093e\u092e\u2010\u090f\u2010\u0928\u094c\u092c\u0939\u093e\u0930\n",
        "diin\n",
        "ubalte\n",
        "ubhraa\n",
        "naa-tavaa;n\n",
        "ashk\n",
        "niim-hoshmando;n\n",
        "chingaariyaa;n\n",
        "tiirah-o-taar"
       ]
      },
      {
       "output_type": "stream",
       "stream": "stdout",
       "text": [
        "\n",
        "royat-e azal\n",
        "vilaayat\n",
        "jaamid\n",
        "bolii\n",
        "tah;ziib-e niguu;n_saar\n",
        "khe;nchtaa"
       ]
      },
      {
       "output_type": "stream",
       "stream": "stdout",
       "text": [
        "\n",
        "be-chasm-o-gosh\n",
        "saayah-e aamir\n",
        "ba_qadr-e ;zauq-e nigah\n",
        "haziimat"
       ]
      },
      {
       "output_type": "stream",
       "stream": "stdout",
       "text": [
        "\n",
        "((aib\n",
        "aazaad-o-((a:ziim\n",
        ";xvaab-e sa;har-gahii\n",
        "gavaah\n",
        "dast-e saa))il\n",
        "rag-o-reshah"
       ]
      },
      {
       "output_type": "stream",
       "stream": "stdout",
       "text": [
        "\n",
        "saaliko\n",
        "sharaare\n",
        "but\n",
        "shikast-e aahang-e ;harf-o-ma((nii\n",
        "paarah-haa-e abr"
       ]
      },
      {
       "output_type": "stream",
       "stream": "stdout",
       "text": [
        "\n",
        "goyaa))ii-e doshiizah-e lab-;xand\n",
        "karte\n",
        "farang\n",
        "rel-pel"
       ]
      },
      {
       "output_type": "stream",
       "stream": "stdout",
       "text": [
        "\n",
        "hijr\n",
        "daur-e hosh-o-((amal\n",
        "ham-navaa-e shabaab\n",
        "tannuur\n",
        "siikhtii\n",
        "bha;rak\n",
        "big;re\n",
        ";haatim\n",
        ":taur\n",
        "rau;ndte\n",
        "khe;nch-kar\n",
        ";hazii;n"
       ]
      },
      {
       "output_type": "stream",
       "stream": "stdout",
       "text": [
        "\n",
        "resmaan-e ;xayaal\n",
        "chuum\n",
        "badaulat\n",
        "sarshaarii\n",
        "afsaane\n",
        "warning  afsaane  is no longer \u0905\u092b\u093c\u094d\u0938\u093e\u0928\u0947\n",
        "gil-o-;xaak\n",
        ";xudaa))o;n\n",
        "ma;hfil\n",
        ";xvaab-e jamuud\n",
        "hamvaarii\n",
        "larazne"
       ]
      },
      {
       "output_type": "stream",
       "stream": "stdout",
       "text": [
        "\n",
        "nikalne\n",
        "ta.savvuf-o-;hikmat-o-adab\n",
        "naa-chaar\n",
        "likhnaa"
       ]
      },
      {
       "output_type": "stream",
       "stream": "stdout",
       "text": [
        "\n",
        "baazii\n",
        "shahkaar\n"
       ]
      }
     ],
     "prompt_number": 176
    },
    {
     "cell_type": "code",
     "collapsed": false,
     "input": [
      "devanagari = myparser.Parser('devanagari.yaml')\n",
      "print devanagari.parse(' tah ')\n",
      "devanagari['rules']"
     ],
     "language": "python",
     "metadata": {},
     "outputs": [
      {
       "output_type": "stream",
       "stream": "stdout",
       "text": [
        "<z_consonant> + <z_consonant>\n",
        "<m> + <h_char>\n",
        "<n> + consonant\n",
        "<k> + <kh>\n",
        "<r> + <r>\n",
        "<r> + <z>\n",
        "<l> + <h>\n",
        "<v> + <v>\n",
        "<;t> + <;th>\n",
        "<d> + <d>\n",
        "<consonant> <vowel> <s> + <t> <long_vowel>\n",
        "<consonant> <long_vowel> <consonant> + <consonant> <long_vowel>\n",
        "<consonant> <vowel> <vowel_nasal> <consonant> + <consonant> <long_vowel>\n",
        "<consonant> <short_vowel> <h_char> + <consonant>\n",
        "<wb> <consonant> <short_vowel> <consonant> + <consonant> <long_vowel> <vowel_nasal>\n",
        "<wb> <short_vowel> <consonant> + <consonant> <short_vowel>\n",
        "<wb> <short_vowel> <consonant> + <consonant> <long_vowel> <consonant>\n",
        "<consonant> <short_vowel> <consonant> + <consonant> <long_vowel>\n",
        "<wb> <vowel> <consonant> + <consonant> <vowel>\n",
        "<wb> <consonant> <short_vowel> <z> + <z> <short_vowel> <consonant>\n",
        "<wb> <consonant> <short_vowel> <consonant> + <consonant> <short_vowel> <consonant>\n",
        "<n> + <consonant>\n",
        "<wb> <long_vowel> <consonant> + <consonant> <long_vowel>\n",
        "<consonant> + <consonant>\n",
        "<k> + <k_group>\n",
        "<ch> + <ch_group>\n",
        "<wb> <consonant> <long_vowel> <consonant> + <consonant> <long_vowel>\n",
        "<wb> <consonant> <long_vowel> <consonant> + <consonant> <short_vowel> <consonant>\n",
        "<wb> <consonant> <short_vowel> <sibilant> + <consonant> <wb>\n",
        "<wb> <consonant> <short_vowel> <consonant> + <consonant> <wb>\n",
        "<wb> <short_vowel> <consonant> + <consonant> <long_vowel> <wb>\n",
        "<wb> <short_vowel> <consonant> + <consonant> <long_vowel> <consonant> <wb>\n",
        "<wb> <short_vowel> <consonant> <short_vowel> <consonant> + <consonant> <short_vowel> <consonant>\n",
        "<vowel> <n> + <consonant>\n",
        "<consonant> + <n> <aa> <wb>\n",
        "<consonant> + <n> <e> <wb>\n",
        "<consonant> + <t> <aa> <wb>\n",
        "<consonant> + <t> <e> <wb>\n",
        "<consonant> + <t> <ii> <wb>\n",
        "<consonant> + <ain> <short_vowel> <wb>\n",
        "<short_vowel> <ain> + <consonant>\n",
        "<wb> <consonant> <short_vowel> + <consonant> <long_vowel>\n",
        "<wb> <consonant> <short_vowel> <consonant> + <consonant> <long_vowel>\n",
        "<consonant> + <consonant>\n",
        " \u0924\u0939 \n"
       ]
      },
      {
       "ename": "AttributeError",
       "evalue": "Parser instance has no attribute '__getitem__'",
       "output_type": "pyerr",
       "traceback": [
        "\u001b[0;31m---------------------------------------------------------------------------\u001b[0m\n\u001b[0;31mAttributeError\u001b[0m                            Traceback (most recent call last)",
        "\u001b[0;32m<ipython-input-177-183d1ee696aa>\u001b[0m in \u001b[0;36m<module>\u001b[0;34m()\u001b[0m\n\u001b[1;32m      1\u001b[0m \u001b[0mdevanagari\u001b[0m \u001b[0;34m=\u001b[0m \u001b[0mmyparser\u001b[0m\u001b[0;34m.\u001b[0m\u001b[0mParser\u001b[0m\u001b[0;34m(\u001b[0m\u001b[0;34m'devanagari.yaml'\u001b[0m\u001b[0;34m)\u001b[0m\u001b[0;34m\u001b[0m\u001b[0m\n\u001b[1;32m      2\u001b[0m \u001b[0;32mprint\u001b[0m \u001b[0mdevanagari\u001b[0m\u001b[0;34m.\u001b[0m\u001b[0mparse\u001b[0m\u001b[0;34m(\u001b[0m\u001b[0;34m' tah '\u001b[0m\u001b[0;34m)\u001b[0m\u001b[0;34m\u001b[0m\u001b[0m\n\u001b[0;32m----> 3\u001b[0;31m \u001b[0mdevanagari\u001b[0m\u001b[0;34m[\u001b[0m\u001b[0;34m'rules'\u001b[0m\u001b[0;34m]\u001b[0m\u001b[0;34m\u001b[0m\u001b[0m\n\u001b[0m",
        "\u001b[0;31mAttributeError\u001b[0m: Parser instance has no attribute '__getitem__'"
       ]
      }
     ],
     "prompt_number": 177
    },
    {
     "cell_type": "code",
     "collapsed": false,
     "input": [
      "        key='v u h <wb>'\n",
      "        rule={}\n",
      "        _  ='(?:'   \n",
      "        _ +='\\('\n",
      "        _ +='((?:\\s?<.+?>\\s+)+)?'# '(?:\\s?<(.+?)>\\s+)?' # group 1, prev class (in brackets indicating cluster)\n",
      "        _ +='(.+?)\\s?' # group 2, prev tokens (to be split)\n",
      "        _ +='\\) '\n",
      "        _ +='|' # either a cluster or a particular previous class (Could add additional support, e.g. class or paretic.\n",
      "        _ +='((?:\\s?<.+?>\\s+)+)?' # group 3, prev class (not in cluster)\n",
      "        _ +=')?'\n",
      "        _ += '(.+?)' # group 4, tokens\n",
      "        _ += '(?:' # cluster for following tokens, clusters \n",
      "        _ += ' \\('\n",
      "        _ += '\\s?(.+?)' # group 5, next tokens\n",
      "        _ += '((?:\\s?<.+?>\\s+?)+)?' # group 6, next class\n",
      "        _ += '\\s?\\)'\n",
      "        _ += '|'\n",
      "        _ += ' ((?:<.+?>\\s?)+)?' # group 7, follo\n",
      "        _ += ')?$'\n",
      "        \n",
      "        m = re.match (_, key, re.S)\n",
      "        assert (m is not None)\n",
      "        if m.group(1): rule['prev_classes'] = re.findall('<(.+?)>',m.group(1))\n",
      "        if m.group(2): rule['prev_tokens'] = m.group(2).split(' ')\n",
      "        if m.group(3): rule['prev_classes'] =  re.findall('<(.+?)>',m.group(3))\n",
      "        if m.group(4)==' ':\n",
      "            rule['tokens'] = ' '\n",
      "        else:\n",
      "            rule['tokens'] = m.group(4).split(' ')\n",
      "        if m.group(5): rule['next_tokens'] = m.group(5).split(' ')\n",
      "        if m.group(6): rule['next_classes'] = re.findall('<(.+?)>',m.group(6))\n",
      "        if m.group(7): rule['next_classes'] = re.findall('<(.+?)>',m.group(7))\n",
      "        print rule\n",
      "        \n",
      "        print _"
     ],
     "language": "python",
     "metadata": {},
     "outputs": [
      {
       "output_type": "stream",
       "stream": "stdout",
       "text": [
        "{'tokens': ['v', 'u', 'h'], 'next_classes': ['wb']}\n",
        "(?:\\(((?:\\s?<.+?>\\s+)+)?(.+?)\\s?\\) |((?:\\s?<.+?>\\s+)+)?)?(.+?)(?: \\(\\s?(.+?)((?:\\s?<.+?>\\s+?)+)?\\s?\\)| ((?:<.+?>\\s?)+)?)?$\n"
       ]
      }
     ],
     "prompt_number": 161
    },
    {
     "cell_type": "code",
     "collapsed": false,
     "input": [
      "devanagari.rules"
     ],
     "language": "python",
     "metadata": {},
     "outputs": [
      {
       "metadata": {},
       "output_type": "pyout",
       "prompt_number": 10,
       "text": [
        "[{'next_classes': ['wb'],\n",
        "  'prev_classes': ['wb'],\n",
        "  'production': u'\\u092f\\u0940',\n",
        "  'tokens': ['y', 'i', 'h', 'ii']},\n",
        " {'next_classes': ['wb'],\n",
        "  'prev_classes': ['consonant'],\n",
        "  'production': u'\\u0941\\u090f\\u0901',\n",
        "  'tokens': ['uu', '))', 'e', ';n']},\n",
        " {'next_classes': ['wb'],\n",
        "  'prev_classes': ['consonant'],\n",
        "  'production': u'\\u0941\\u0913\\u0902',\n",
        "  'tokens': ['uu', '))', 'o', ';n']},\n",
        " {'next_classes': ['wb'],\n",
        "  'prev_classes': ['wb'],\n",
        "  'production': u'\\u0935\\u0939\\u0940',\n",
        "  'tokens': ['v', 'u', 'h', 'ii']},\n",
        " {'prev_classes': ['wb'],\n",
        "  'production': u'\\u090f\\u0924',\n",
        "  'tokens': ['i', '((', 't', 'i']},\n",
        " {'next_classes': ['wb'],\n",
        "  'prev_classes': ['wb'],\n",
        "  'production': u'\\u0915\\u093f',\n",
        "  'tokens': ['k', 'i', 'h']},\n",
        " {'next_classes': ['wb'],\n",
        "  'prev_classes': ['wb'],\n",
        "  'production': u'\\u0935\\u094b',\n",
        "  'tokens': ['v', 'u', 'h']},\n",
        " {'next_classes': ['wb'],\n",
        "  'prev_classes': ['wb'],\n",
        "  'production': u'\\u092a\\u0947',\n",
        "  'tokens': ['p', 'a', 'h']},\n",
        " {'next_classes': ['wb'],\n",
        "  'prev_classes': ['wb'],\n",
        "  'production': u'\\u092f\\u0947',\n",
        "  'tokens': ['y', 'i', 'h']},\n",
        " {'next_classes': ['wb'],\n",
        "  'prev_classes': ['consonant'],\n",
        "  'production': u'\\u091a\\u0947',\n",
        "  'tokens': ['ch', 'i', 'h']},\n",
        " {'next_classes': ['wb'],\n",
        "  'prev_classes': ['wb'],\n",
        "  'production': u'\\u0928',\n",
        "  'tokens': ['n', 'a', 'h']},\n",
        " {'next_classes': ['wb'],\n",
        "  'prev_classes': ['wb'],\n",
        "  'production': u'\\u092c',\n",
        "  'tokens': ['b', 'a', 'h']},\n",
        " {'prev_classes': ['consonant'],\n",
        "  'production': u'\\u0906',\n",
        "  'tokens': ['a', '((', 'aa']},\n",
        " {'prev_classes': ['wb'],\n",
        "  'production': u'\\u0959\\u0941',\n",
        "  'tokens': [';x', 'v', 'u']},\n",
        " {'prev_classes': ['consonant'],\n",
        "  'production': u'\\u0941\\u0906',\n",
        "  'tokens': ['u', '((', 'aa']},\n",
        " {'production': u'\\u2010\\u0913\\u2010', 'tokens': ['-', 'o', '-']},\n",
        " {'production': u'\\u0928\\u0924\\u0940', 'tokens': ['n', 't', 'ii']},\n",
        " {'production': u'\\u0928\\u0924\\u0947', 'tokens': ['n', 't', 'e']},\n",
        " {'production': u'\\u0928\\u0924\\u093e', 'tokens': ['n', 't', 'aa']},\n",
        " {'next_classes': ['wb'],\n",
        "  'prev_classes': ['wb', 'consonant', 'short_vowel', 'consonant'],\n",
        "  'production': u'\\u0939',\n",
        "  'tokens': ['a', 'h']},\n",
        " {'next_classes': ['wb'],\n",
        "  'prev_classes': ['wb', 'consonant'],\n",
        "  'production': u'\\u0939',\n",
        "  'tokens': ['a', 'h']},\n",
        " {'next_classes': ['wb'],\n",
        "  'prev_classes': ['short_vowel'],\n",
        "  'production': u'\\u0906',\n",
        "  'tokens': ['a', 'h']},\n",
        " {'next_classes': ['wb'],\n",
        "  'prev_classes': ['consonant'],\n",
        "  'production': u'\\u093e',\n",
        "  'tokens': ['a', 'h']},\n",
        " {'next_classes': ['wb'],\n",
        "  'prev_classes': ['vowel'],\n",
        "  'production': u'\\u0906',\n",
        "  'tokens': ['a', 'h']},\n",
        " {'next_classes': ['wb'],\n",
        "  'prev_classes': ['consonant'],\n",
        "  'production': u'\\u093e',\n",
        "  'tokens': ['((', 'a']},\n",
        " {'next_classes': ['vowel'],\n",
        "  'prev_classes': ['vowel'],\n",
        "  'production': u'\\u0928\\u094d\\u0928',\n",
        "  'tokens': ['n', 'n']},\n",
        " {'next_classes': ['izaafat'],\n",
        "  'prev_classes': ['consonant'],\n",
        "  'production': u'\\u093e',\n",
        "  'tokens': ['a', 'h']},\n",
        " {'prev_classes': ['wb'], 'production': u'\\u0906', 'tokens': ['a', '((']},\n",
        " {'prev_classes': ['wb'], 'production': u'\\u0909', 'tokens': ['((', 'u']},\n",
        " {'prev_classes': ['vowel'], 'production': u'\\u0907', 'tokens': ['((', 'i']},\n",
        " {'prev_classes': ['wb'], 'production': u'\\u0905', 'tokens': ['((', 'a']},\n",
        " {'prev_classes': ['wb'], 'production': u'\\u0907', 'tokens': ['((', 'i']},\n",
        " {'prev_classes': ['consonant'],\n",
        "  'production': u'\\u093e',\n",
        "  'tokens': ['a', '((']},\n",
        " {'prev_classes': ['wb'], 'production': u'\\u0914', 'tokens': ['((', 'au']},\n",
        " {'prev_classes': ['wb'], 'production': u'\\u0910', 'tokens': ['((', 'ai']},\n",
        " {'prev_classes': ['wb'], 'production': u'\\u0906', 'tokens': ['((', 'aa']},\n",
        " {'prev_classes': ['consonant'],\n",
        "  'production': u'\\u0905',\n",
        "  'tokens': ['((', 'a']},\n",
        " {'prev_classes': ['wb'], 'production': u'\\u0908', 'tokens': ['((', 'ii']},\n",
        " {'prev_classes': ['long_vowel'],\n",
        "  'production': u'\\u0908',\n",
        "  'tokens': ['((', 'ii']},\n",
        " {'prev_classes': ['vowel'], 'production': u'\\u0905', 'tokens': ['((', 'a']},\n",
        " {'prev_classes': ['consonant'],\n",
        "  'production': u'\\u094b',\n",
        "  'tokens': [';o', '((']},\n",
        " {'next_classes': ['wb'],\n",
        "  'prev_classes': ['vowel', 'e'],\n",
        "  'production': u'\\\\N\\u0901',\n",
        "  'tokens': [';n']},\n",
        " {'next_classes': ['wb'],\n",
        "  'prev_classes': ['r', 'candrabindu_vowel'],\n",
        "  'production': u'\\u0902',\n",
        "  'tokens': [';n']},\n",
        " {'next_classes': ['wb'],\n",
        "  'prev_classes': ['vowel'],\n",
        "  'production': u'\\u0928',\n",
        "  'tokens': ['n']},\n",
        " {'next_classes': ['wb'],\n",
        "  'prev_classes': ['candrabindu_vowel'],\n",
        "  'production': u'\\u0901',\n",
        "  'tokens': [';n']},\n",
        " {'next_classes': ['<izaafat'],\n",
        "  'prev_classes': ['consonant'],\n",
        "  'production': '',\n",
        "  'tokens': ['((']},\n",
        " {'next_classes': ['consonant'],\n",
        "  'prev_classes': ['vowel'],\n",
        "  'production': u'\\u0902',\n",
        "  'tokens': ['n']},\n",
        " {'next_classes': ['vowel'],\n",
        "  'prev_classes': ['vowel'],\n",
        "  'production': u'\\u0928',\n",
        "  'tokens': ['n']},\n",
        " {'next_classes': ['wb'],\n",
        "  'prev_classes': ['consonant'],\n",
        "  'production': '',\n",
        "  'tokens': ['((']},\n",
        " {'prev_classes': ['vowel'], 'production': u'\\u0905', 'tokens': ['a']},\n",
        " {'prev_classes': ['wb'], 'production': u'\\u0909', 'tokens': ['u']},\n",
        " {'prev_classes': ['wb'], 'production': u'\\u090f', 'tokens': [';e']},\n",
        " {'prev_classes': ['wb'], 'production': u'\\u0913', 'tokens': [';o']},\n",
        " {'prev_classes': ['wb'], 'production': u'\\u0905', 'tokens': ['a']},\n",
        " {'prev_classes': ['wb'], 'production': u'\\u090f', 'tokens': ['e']},\n",
        " {'prev_classes': ['wb'], 'production': u'\\u0907', 'tokens': ['i']},\n",
        " {'prev_classes': ['wb'], 'production': u'\\u0913', 'tokens': ['o']},\n",
        " {'prev_classes': ['wb'], 'production': u'\\u0906', 'tokens': ['aa']},\n",
        " {'prev_classes': ['wb'], 'production': u'\\u0910', 'tokens': ['ai']},\n",
        " {'prev_classes': ['wb'], 'production': u'\\u0914', 'tokens': ['au']},\n",
        " {'prev_classes': ['wb'], 'production': u'\\u0908', 'tokens': ['ii']},\n",
        " {'prev_classes': ['vowel'], 'production': u'\\u090a', 'tokens': ['uu']},\n",
        " {'prev_classes': ['short_vowel'], 'production': u'\\u0910', 'tokens': ['ai']},\n",
        " {'next_classes': ['wb'],\n",
        "  'production': u'\\u2010\\u090f\\u2010',\n",
        "  'tokens': ['-e']},\n",
        " {'prev_classes': ['short_vowel'], 'production': u'\\u0905', 'tokens': ['a']},\n",
        " {'prev_classes': ['izaafat'], 'production': '', 'tokens': ' '},\n",
        " {'prev_classes': ['vowel'], 'production': u'\\u090f', 'tokens': ['e']},\n",
        " {'prev_classes': ['vowel'], 'production': u'\\u0907', 'tokens': ['i']},\n",
        " {'prev_classes': ['vowel'], 'production': u'\\u0913', 'tokens': ['o']},\n",
        " {'prev_classes': ['vowel'], 'production': u'\\u0909', 'tokens': ['u']},\n",
        " {'prev_classes': ['short_vowel'], 'production': u'\\u0914', 'tokens': ['au']},\n",
        " {'prev_classes': ['wb'], 'production': u'\\u090a', 'tokens': ['uu']},\n",
        " {'prev_classes': ['consonant'], 'production': u'\\u094b', 'tokens': [';o']},\n",
        " {'prev_classes': ['vowel'], 'production': u'\\u0913', 'tokens': [';o']},\n",
        " {'prev_classes': ['short_vowel'], 'production': u'\\u0906', 'tokens': ['aa']},\n",
        " {'prev_classes': ['wb'], 'production': u'\\u090b', 'tokens': ['.ri']},\n",
        " {'prev_classes': ['vowel'], 'production': u'\\u090b', 'tokens': ['.ri']},\n",
        " {'prev_classes': ['vowel'], 'production': u'\\u0914', 'tokens': ['au']},\n",
        " {'prev_classes': ['vowel'], 'production': u'\\u0908', 'tokens': ['ii']},\n",
        " {'prev_classes': ['vowel'], 'production': u'\\u0906', 'tokens': ['aa']},\n",
        " {'prev_classes': ['vowel'], 'production': u'\\u0910', 'tokens': ['ai']},\n",
        " {'production': '', 'tokens': ['\\x00']},\n",
        " {'production': u'\\u0943', 'tokens': ['.ri']},\n",
        " {'production': u'\\u0918', 'tokens': ['gh']},\n",
        " {'production': ' ', 'tokens': ' '},\n",
        " {'production': u'\\u095d', 'tokens': [';rh']},\n",
        " {'production': '(', 'tokens': ['(']},\n",
        " {'production': ',', 'tokens': [',']},\n",
        " {'production': u'\\u0925', 'tokens': ['th']},\n",
        " {'production': u'\\u0928', 'tokens': [':n']},\n",
        " {'production': '\\n', 'tokens': ['\\n']},\n",
        " {'production': u'\\u0927', 'tokens': ['dh']},\n",
        " {'production': '', 'tokens': ['((']},\n",
        " {'production': u'\\u095b', 'tokens': [':z']},\n",
        " {'production': u'\\u0924', 'tokens': [':t']},\n",
        " {'production': u'\\u0926', 'tokens': ['d']},\n",
        " {'production': u'\\u0939', 'tokens': ['h']},\n",
        " {'production': u'\\u0932', 'tokens': ['l']},\n",
        " {'production': u'\\u092a', 'tokens': ['p']},\n",
        " {'production': u'\\u0924', 'tokens': ['t']},\n",
        " {'production': '', 'tokens': ['|']},\n",
        " {'production': u'\\u0938', 'tokens': [';s']},\n",
        " {'production': u'\\u095c', 'tokens': [';r']},\n",
        " {'production': u'\\u091d\\u093c', 'tokens': ['zh']},\n",
        " {'production': u'\\u091f', 'tokens': [';t']},\n",
        " {'production': u'\\u095b', 'tokens': [';z']},\n",
        " {'production': u'\\u0959', 'tokens': [';x']},\n",
        " {'production': u'\\u0922', 'tokens': [';dh']},\n",
        " {'production': u'\\u0947', 'tokens': [';e']},\n",
        " {'production': u'\\u0921', 'tokens': [';d']},\n",
        " {'production': u'\\u0939', 'tokens': [';h']},\n",
        " {'production': u'\\u0902', 'tokens': [';n']},\n",
        " {'production': u'\\u0901', 'tokens': [';m']},\n",
        " {'production': u'\\u0920', 'tokens': [';th']},\n",
        " {'production': '', 'tokens': [\"'\"]},\n",
        " {'production': '', 'tokens': ['/']},\n",
        " {'production': u';', 'tokens': [';']},\n",
        " {'production': '?', 'tokens': ['?']},\n",
        " {'production': u'\\u092d', 'tokens': ['bh']},\n",
        " {'production': u'\\u091d', 'tokens': ['jh']},\n",
        " {'production': '', 'tokens': ['_']},\n",
        " {'production': u'\\u0938', 'tokens': ['.s']},\n",
        " {'production': u'\\u0917', 'tokens': ['g']},\n",
        " {'production': u'\\u0915', 'tokens': ['k']},\n",
        " {'production': u'\\u093e', 'tokens': [';aa']},\n",
        " {'production': u'\\u094b', 'tokens': ['o']},\n",
        " {'production': u'\\u0938', 'tokens': ['s']},\n",
        " {'production': '', 'tokens': ['w']},\n",
        " {'production': u'\\u091a', 'tokens': ['ch']},\n",
        " {'production': '', 'tokens': ['))']},\n",
        " {'production': u'\\u091b', 'tokens': ['chh']},\n",
        " {'production': u'\\u092b', 'tokens': ['ph']},\n",
        " {'production': u'\\u092c', 'tokens': ['b']},\n",
        " {'production': u'\\u095e', 'tokens': ['f']},\n",
        " {'production': u'\\u0942', 'tokens': ['uu']},\n",
        " {'production': u'\\u091c', 'tokens': ['j']},\n",
        " {'production': u'\\u0928', 'tokens': ['n']},\n",
        " {'production': u'\\u095b', 'tokens': ['.z']},\n",
        " {'production': u'\\u0930', 'tokens': ['r']},\n",
        " {'production': u'\\u0935', 'tokens': ['v']},\n",
        " {'production': u'\\u095b', 'tokens': ['z']},\n",
        " {'production': u'\\u093e', 'tokens': ['aa']},\n",
        " {'production': u'\\u0916', 'tokens': ['kh']},\n",
        " {'production': u'\\u0948', 'tokens': ['ai']},\n",
        " {'production': u'\\u0940', 'tokens': ['ii']},\n",
        " {'production': u'\\u094c', 'tokens': ['au']},\n",
        " {'production': ')', 'tokens': [')']},\n",
        " {'production': '', 'tokens': ['-']},\n",
        " {'production': u'\\u095a', 'tokens': [';g']},\n",
        " {'production': '', 'tokens': ['a']},\n",
        " {'production': u'\\u0947', 'tokens': ['e']},\n",
        " {'production': u'\\u093f', 'tokens': ['i']},\n",
        " {'production': u'\\u092e', 'tokens': ['m']},\n",
        " {'production': u'\\u0958', 'tokens': ['q']},\n",
        " {'production': u'\\u0936', 'tokens': ['sh']},\n",
        " {'production': u'\\u0941', 'tokens': ['u']},\n",
        " {'production': u'\\u092f', 'tokens': ['y']}]"
       ]
      }
     ],
     "prompt_number": 10
    },
    {
     "cell_type": "code",
     "collapsed": false,
     "input": [
      "        _ = '(?: \\(\\s?(.+?)((?:\\s?<.+?>\\s+?)+)?\\s?\\)| ((?:<.+?>\\s?)+)?)?$'\n",
      "        \n",
      "        re.match(_,' (x <wb> <dce>)').group(0)"
     ],
     "language": "python",
     "metadata": {},
     "outputs": [
      {
       "metadata": {},
       "output_type": "pyout",
       "prompt_number": 40,
       "text": [
        "' (x <wb> <dce>)'"
       ]
      }
     ],
     "prompt_number": 40
    },
    {
     "cell_type": "code",
     "collapsed": false,
     "input": [
      "devanagari=myparser.Parser('devanagari.yaml')\n",
      "print devanagari.parse(\"vaqt\")"
     ],
     "language": "python",
     "metadata": {},
     "outputs": [
      {
       "output_type": "stream",
       "stream": "stdout",
       "text": [
        "<wb> <consonant> <short_vowel> <h_char> + <consonant> <wb>\n",
        "<wb> <consonant> <short_vowel> <consonant> + <consonant> <long_vowel> <wb>\n",
        "<wb> <consonant> <short_vowel> <consonant> + <consonant> <short_vowel> <consonant> <wb>\n",
        "<n> + <consonant>\n",
        "<consonant> + <consonant>\n",
        "<k> + <k_group>\n",
        "<ch> + <ch_group>\n",
        "<wb> <consonant> <long_vowel> <consonant> + <consonant> <long_vowel>\n",
        "<wb> <consonant> <long_vowel> <consonant> + <consonant> <short_vowel> <consonant>\n",
        "<wb> <consonant> <short_vowel> <sibilant> + <consonant> <wb>\n",
        "<wb> <consonant> <short_vowel> <consonant> + <consonant> <wb>\n",
        "<wb> <short_vowel> <consonant> + <consonant> <long_vowel> <wb>\n",
        "<wb> <short_vowel> <consonant> + <consonant> <long_vowel> <consonant> <wb>\n",
        "<wb> <short_vowel> <consonant> <short_vowel> <consonant> + <consonant> <short_vowel> <consonant>\n",
        "<vowel> <n> + <consonant>\n",
        "<consonant> + <n> <aa> <wb>\n",
        "<consonant> + <n> <e> <wb>\n",
        "<consonant> + <t> <aa> <wb>\n",
        "<consonant> + <t> <e> <wb>\n",
        "<consonant> + <t> <ii> <wb>\n",
        "<consonant> + <ain> <short_vowel> <wb>\n",
        "<short_vowel> <ain> + <consonant>\n",
        "<wb> <consonant> <short_vowel> + <consonant> <long_vowel>\n",
        "<wb> <consonant> <short_vowel> <consonant> + <consonant> <long_vowel>\n",
        "<wb> <long_vowel> <consonant> + <consonant> <long_vowel>\n",
        "<consonant> + <consonant>\n",
        "\u0935\u0915\u093c\u094d\u0924\n"
       ]
      }
     ],
     "prompt_number": 4
    }
   ],
   "metadata": {}
  }
 ]
}