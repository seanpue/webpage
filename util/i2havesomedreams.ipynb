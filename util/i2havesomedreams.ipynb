{
 "metadata": {
  "name": ""
 },
 "nbformat": 3,
 "nbformat_minor": 0,
 "worksheets": [
  {
   "cells": [
    {
     "cell_type": "raw",
     "metadata": {},
     "source": [
      "This notebook is used to generate the Urdu, Devanagari, and transliteration versions of the poem's in the appendix to my book, I Too Have Some Dreams, http://seanpue.com/itoohavesomedreams/"
     ]
    },
    {
     "cell_type": "code",
     "collapsed": false,
     "input": [
      "# This fetches the current poems from a private Drupal site accessed via xmlrpc\n",
      "\n",
      "import xmlrpcsettings # this holds a few private settings\n",
      "import xmlrpclib\n",
      "import re\n",
      "import json\n",
      "import urllib\n",
      "\n",
      "assert xmlrpcsettings.ursite\n",
      "assert xmlrpcsettings.inbookurl\n",
      "\n",
      "proxy = xmlrpclib.Server(xmlrpcsettings.ursite)\n",
      "\n",
      "open_url = urllib.urlopen(xmlrpcsettings.inbookurl)\n",
      "nds=json.load(open_url)\n",
      "items = nds['Items']\n",
      "inbook = []\n",
      "for i in items:\n",
      "    inbook.append( proxy.node.retrieve(i['node']['nid']) )\n",
      "assert len(inbook)==30\n"
     ],
     "language": "python",
     "metadata": {},
     "outputs": [],
     "prompt_number": 43
    },
    {
     "cell_type": "code",
     "collapsed": false,
     "input": [
      "def clean_trans(s):\n",
      "    s = s.replace('--',u'\u2014')\n",
      "    s = s.replace(' -o- ','-o-')\n",
      "    return s\n",
      "def cap_trans(s):\n",
      "    if s[0]==u'\u1e25':\n",
      "        s=u'\u1e24'+s[1:]\n",
      "    return s\n"
     ],
     "language": "python",
     "metadata": {},
     "outputs": [],
     "prompt_number": 44
    },
    {
     "cell_type": "code",
     "collapsed": false,
     "input": [
      "for n in inbook:\n",
      "    # first, transliteration\n",
      "    title = cap_trans(clean_trans(n['field_title_transliterated']['und'][0]['value']))\n",
      "    \n",
      "    print title"
     ],
     "language": "python",
     "metadata": {},
     "outputs": [
      {
       "output_type": "stream",
       "stream": "stdout",
       "text": [
        "B\u0101dal (s\u0101ne\u1e6d)\n",
        "Ek din\u2014l\u0101rins b\u0101\u0121h me\u00f1 (ek kaifiyat)\n",
        "Sit\u0101re (s\u0101ne\u1e6d)\n",
        "V\u0101d\u012b-e pinh\u0101\u00f1\n",
        "Gun\u0101h aur mu\u1e25abbat\n",
        "Muk\u0101f\u0101t\n",
        "\u1e24uzn-e ins\u0101n (afl\u0101t\u0324\u016bn\u012b \u02bfishq par ek t\u0324anz)\n",
        "Ittif\u0101q\u0101t\n",
        "Sh\u0101\u02bfir-e dar-m\u0101\u00f1dah\n",
        "Intiq\u0101m\n",
        "Hamah \u016bst\n",
        "Tel ke saud\u0101gar\n",
        "Mann-o-salv\u00e2\n",
        "Tam\u0101sh\u0101gah-e l\u0101lah-z\u0101r\n",
        "Namr\u016bd k\u012b \u1e33hud\u0101\u02be\u012b\n",
        "Vuh \u1e25arf-e tanh\u0101 (jise tamann\u0101-e va\u1e63l-e ma\u02bfn\u0101)\n",
        "Zindag\u012b se \u1e0darte ho?\n",
        "Dil, mire \u1e63a\u1e25r\u0101-navard-e p\u012br dil\n",
        "Ek aur shahr\n",
        "Reg-e d\u012br\u016bz\n",
        "Zam\u0101nah \u1e33hud\u0101 hai\n",
        "Afs\u0101nah-e shahr\n",
        "Yih \u1e33hal\u0101 pur nah hu\u02be\u0101\n",
        "T\u0324alab ke tale\n",
        "Gum\u0101\u00f1 k\u0101 mumkin\u2014jo t\u016b hai mai\u00f1 h\u016b\u00f1!\n",
        "\u1e24asan k\u016bzah-gar\n",
        "\u1e24asan k\u016bzah-gar (2)\n",
        "\u1e24asan k\u016bzah gar (3)\n",
        "\u1e24asan k\u016bzah-gar (4)\n",
        "Mere bh\u012b hai\u00f1 kuchh \u1e33hv\u0101b\n"
       ]
      }
     ],
     "prompt_number": 45
    },
    {
     "cell_type": "code",
     "collapsed": false,
     "input": [
      "n['field_title_transliterated']['und'][0]['value']"
     ],
     "language": "python",
     "metadata": {},
     "outputs": [
      {
       "metadata": {},
       "output_type": "pyout",
       "prompt_number": 34,
       "text": [
        "u'Mere bh\\u012b hai\\xf1 kuchh \\u1e33hv\\u0101b'"
       ]
      }
     ],
     "prompt_number": 34
    },
    {
     "cell_type": "code",
     "collapsed": false,
     "input": [
      "s."
     ],
     "language": "python",
     "metadata": {},
     "outputs": []
    }
   ],
   "metadata": {}
  }
 ]
}