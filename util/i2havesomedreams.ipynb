{
 "metadata": {
  "name": "",
  "signature": "sha256:0dc5ec30aabc4520e9eac946ac57cb535dbf1398cd56bf60084ed5b383b88d30"
 },
 "nbformat": 3,
 "nbformat_minor": 0,
 "worksheets": [
  {
   "cells": [
    {
     "cell_type": "raw",
     "metadata": {},
     "source": [
      "This notebook is used to generate the Urdu, Devanagari, and transliteration versions of the poem's in the appendix to my book, I Too Have Some Dreams, http://seanpue.com/itoohavesomedreams/"
     ]
    },
    {
     "cell_type": "code",
     "collapsed": false,
     "input": [
      "# This fetches the current poems from a private Drupal site accessed via xmlrpc\n",
      "\n",
      "import xmlrpcsettings # this holds a few private settings\n",
      "import xmlrpclib\n",
      "import re\n",
      "import json\n",
      "import urllib\n",
      "\n",
      "assert xmlrpcsettings.ursite\n",
      "assert xmlrpcsettings.inbookurl\n",
      "\n",
      "proxy = xmlrpclib.Server(xmlrpcsettings.ursite)\n",
      "\n",
      "open_url = urllib.urlopen(xmlrpcsettings.inbookurl)\n",
      "nds=json.load(open_url)\n",
      "items = nds['Items']\n",
      "inbook = []\n",
      "for i in items:\n",
      "    inbook.append( proxy.node.retrieve(i['node']['nid']) )\n",
      "assert len(inbook)==30\n"
     ],
     "language": "python",
     "metadata": {},
     "outputs": [],
     "prompt_number": 2
    },
    {
     "cell_type": "code",
     "collapsed": false,
     "input": [
      "def clean_trans(s):\n",
      "    s = s.replace('--',u'\u2014')\n",
      "    s = s.replace(' -o- ','-o-')\n",
      "    s = s.replace('\\t','    ')# -o- ','-o-')\n",
      "    return s\n",
      "\n",
      "def cap_trans(s):\n",
      "    if s[0]==u'\u1e25':\n",
      "        s=u'\u1e24'+s[1:]\n",
      "    return s\n"
     ],
     "language": "python",
     "metadata": {},
     "outputs": [],
     "prompt_number": 17
    },
    {
     "cell_type": "code",
     "collapsed": false,
     "input": [
      "for n in inbook:\n",
      "    # first, transliteration\n",
      "    trans_title = cap_trans(clean_trans(n['field_title_transliterated']['und'][0]['value']))\n",
      "    print trans_title"
     ],
     "language": "python",
     "metadata": {},
     "outputs": [
      {
       "output_type": "stream",
       "stream": "stdout",
       "text": [
        "B\u0101dal (s\u0101ne\u1e6d)\n",
        "Ek din\u2014l\u0101rins b\u0101\u0121h me\u00f1 (ek kaifiyat)\n",
        "Sit\u0101re (s\u0101ne\u1e6d)\n",
        "V\u0101d\u012b-e pinh\u0101\u00f1\n",
        "Gun\u0101h aur mu\u1e25abbat\n",
        "Muk\u0101f\u0101t\n",
        "\u1e24uzn-e ins\u0101n (afl\u0101t\u0324\u016bn\u012b \u02bfishq par ek t\u0324anz)\n",
        "Ittif\u0101q\u0101t\n",
        "Sh\u0101\u02bfir-e dar-m\u0101\u00f1dah\n",
        "Intiq\u0101m\n",
        "Hamah \u016bst\n",
        "Tel ke saud\u0101gar\n",
        "Mann-o-salv\u00e2\n",
        "Tam\u0101sh\u0101gah-e l\u0101lah-z\u0101r\n",
        "Namr\u016bd k\u012b \u1e33hud\u0101\u02be\u012b\n",
        "Vuh \u1e25arf-e tanh\u0101 (jise tamann\u0101-e va\u1e63l-e ma\u02bfn\u0101)\n",
        "Zindag\u012b se \u1e0darte ho?\n",
        "Dil, mire \u1e63a\u1e25r\u0101-navard-e p\u012br dil\n",
        "Ek aur shahr\n",
        "Reg-e d\u012br\u016bz\n",
        "Zam\u0101nah \u1e33hud\u0101 hai\n",
        "Afs\u0101nah-e shahr\n",
        "Yih \u1e33hal\u0101 pur nah hu\u02be\u0101\n",
        "T\u0324alab ke tale\n",
        "Gum\u0101\u00f1 k\u0101 mumkin\u2014jo t\u016b hai mai\u00f1 h\u016b\u00f1!\n",
        "\u1e24asan k\u016bzah-gar\n",
        "\u1e24asan k\u016bzah-gar (2)\n",
        "\u1e24asan k\u016bzah gar (3)\n",
        "\u1e24asan k\u016bzah-gar (4)\n",
        "Mere bh\u012b hai\u00f1 kuchh \u1e33hv\u0101b\n"
       ]
      }
     ],
     "prompt_number": 18
    },
    {
     "cell_type": "code",
     "collapsed": false,
     "input": [
      "import datetime\n",
      "import dateutil\n",
      "def current_time(tzinfo=None):\n",
      "    if tzinfo is not None:\n",
      "        dt = datetime.datetime.now(tzinfo)\n",
      "    else:\n",
      "        dt = datetime.datetime.now(dateutil.tz.tzlocal())\n",
      "    return dt\n",
      "\n",
      "datetime.datetime.now()"
     ],
     "language": "python",
     "metadata": {},
     "outputs": [
      {
       "metadata": {},
       "output_type": "pyout",
       "prompt_number": 31,
       "text": [
        "datetime.datetime(2014, 9, 1, 15, 17, 25, 683403)"
       ]
      }
     ],
     "prompt_number": 31
    },
    {
     "cell_type": "code",
     "collapsed": false,
     "input": [
      "import datetime\n",
      "import os\n",
      "import codecs\n",
      "\n",
      "\n",
      "def generate_rst(n,poem_id): \n",
      "    '''\n",
      "    generates RestructuredText string from Drupal node\n",
      "    n = drupal node\n",
      "    poem_id = id in book, starting at 1\n",
      "    \n",
      "    Model:\n",
      "      \n",
      "    .. title: test post\n",
      "    .. slug: test-post\n",
      "    .. date: 2014-09-01 03:10:12 UTC\n",
      "    .. tags: \n",
      "    .. link: \n",
      "    .. description: \n",
      "    .. type: text\n",
      "\n",
      "    '''\n",
      "    n=inbook[25]\n",
      "    text_trans=clean_trans(n['field_text_transliterated']['und'][0]['value'])\n",
      "    text_trans_lines = text_trans.split('\\n')\n",
      "    text_trans_lines = ['| '+s for s in text_trans_lines]\n",
      "    trans_title = cap_trans(clean_trans(n['field_title_transliterated']['und'][0]['value']))\n",
      "    text_transliterated_rst = '\\n'.join(text_trans_lines)\n",
      "    \n",
      "    \n",
      "    utc_datetime = datetime.datetime.utcnow()\n",
      "    slug = 'itoohavesomedreams/poem_'+str(poem_id)\n",
      "    \n",
      "    time_string = utc_datetime.strftime(\"%Y-%m-%d %H:%M:%S\")+\" UTC\"\n",
      "    \n",
      "    rst_text = '.. title: %s\\n'       % trans_title\n",
      "    rst_text+= '.. slug: %s\\n'        % slug\n",
      "    \n",
      "    rst_text+= '.. date: %s\\n'        % time_string\n",
      "    rst_text+= '.. tags: %s\\n'        % 'poem itoohavesomedreams rashid'\n",
      "    rst_text+= '.. link: %s\\n'        % '' # what is this?\n",
      "    rst_text+= '.. description: %s\\n' % ('transliterated version of \"'+trans_title+'\"')\n",
      "    rst_text+= '.. type: text'+'\\n'\n",
      "    rst_text+= '\\n'\n",
      "    rst_text+= text_transliterated_rst\n",
      "    print rst_text\n",
      "\n",
      "    assert os.path.isdir('../itoohavesomedreams')\n",
      "    with f as codecs.open('../'+slug,'w','utf-8'): # physical location does not matter though for slug\n",
      "        f.write(rst_text)\n",
      "    \n",
      "generate_rst(inbook[25],26)"
     ],
     "language": "python",
     "metadata": {},
     "outputs": [
      {
       "ename": "SyntaxError",
       "evalue": "EOL while scanning string literal (<ipython-input-61-d34753e1c139>, line 32)",
       "output_type": "pyerr",
       "traceback": [
        "\u001b[0;36m  File \u001b[0;32m\"<ipython-input-61-d34753e1c139>\"\u001b[0;36m, line \u001b[0;32m32\u001b[0m\n\u001b[0;31m    slug = 'itoohavesomedreams/poem_'+str(poem_id)'\u001b[0m\n\u001b[0m                                                  ^\u001b[0m\n\u001b[0;31mSyntaxError\u001b[0m\u001b[0;31m:\u001b[0m EOL while scanning string literal\n"
       ]
      }
     ],
     "prompt_number": 61
    },
    {
     "cell_type": "code",
     "collapsed": false,
     "input": [
      "import datetime\n",
      "utc_datetime = datetime.datetime.utcnow()\n",
      "utc_datetime.strftime(\"%Y-%m-%d %H:%M:%S\")+\" UTC\""
     ],
     "language": "python",
     "metadata": {},
     "outputs": [
      {
       "metadata": {},
       "output_type": "pyout",
       "prompt_number": 39,
       "text": [
        "'2014-09-01 19:25:38 UTC'"
       ]
      }
     ],
     "prompt_number": 39
    },
    {
     "cell_type": "code",
     "collapsed": false,
     "input": [
      "n['field_title_transliterated']['und'][0]['value']"
     ],
     "language": "python",
     "metadata": {},
     "outputs": [
      {
       "metadata": {},
       "output_type": "pyout",
       "prompt_number": 34,
       "text": [
        "u'Mere bh\\u012b hai\\xf1 kuchh \\u1e33hv\\u0101b'"
       ]
      }
     ],
     "prompt_number": 34
    },
    {
     "cell_type": "code",
     "collapsed": false,
     "input": [
      "import os\n",
      "os.getcwd()"
     ],
     "language": "python",
     "metadata": {},
     "outputs": [
      {
       "metadata": {},
       "output_type": "pyout",
       "prompt_number": 48,
       "text": [
        "'/Users/seanpue/webpage/util'"
       ]
      }
     ],
     "prompt_number": 48
    },
    {
     "cell_type": "code",
     "collapsed": false,
     "input": [
      "\n"
     ],
     "language": "python",
     "metadata": {},
     "outputs": []
    }
   ],
   "metadata": {}
  }
 ]
}