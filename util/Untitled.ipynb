{
 "cells": [
  {
   "cell_type": "code",
   "execution_count": 78,
   "metadata": {
    "collapsed": false
   },
   "outputs": [
    {
     "name": "stdout",
     "output_type": "stream",
     "text": [
      "matched ParserRule(production=u'\\u0924', prev_classes=None, prev_tokens=None, tokens=['t'], next_tokens=None, next_classes=None, prev_length=0, next_length=1, match_tokens=['t'], tokens_length=1)\n",
      "\n",
      "testing  ((['wb', 'consonant', 'short_vowel', 'consonant'], ['consonant', 'long_vowel', 'vowel_nasal']), u'\\u094d') at 1\n",
      "\n",
      "testing  ((['wb', 'short_vowel', 'consonant'], ['consonant', 'short_vowel']), '') at 1\n",
      "\n",
      "testing  ((['wb', 'short_vowel', 'consonant'], ['consonant', 'long_vowel', 'consonant']), '') at 1\n",
      "\n",
      "testing  ((['wb', 'consonant', 'short_vowel', 'sibilant'], ['consonant', 'long_vowel']), u'\\u094d') at 1\n",
      "\n",
      "testing  ((['wb', 'vowel', 'consonant'], ['consonant', 'vowel']), '') at 1\n",
      "\n",
      "testing  ((['wb', 'consonant', 'short_vowel', 'consonant'], ['consonant', 'short_vowel', 'consonant']), '') at 1\n",
      "\n",
      "testing  ((['wb', 'long_vowel', 'consonant'], ['consonant', 'long_vowel']), '') at 1\n",
      "\n",
      "testing  ((['wb', 'consonant', 'long_vowel', 'consonant'], ['consonant', 'long_vowel']), '') at 1\n",
      "\n",
      "testing  ((['wb', 'consonant', 'long_vowel', 'consonant'], ['consonant', 'short_vowel', 'consonant']), '') at 1\n",
      "\n",
      "testing  ((['wb', 'consonant', 'short_vowel', 'sibilant'], ['consonant', 'wb']), u'\\u094d') at 1\n",
      "\n",
      "testing  ((['wb', 'consonant', 'short_vowel', 'consonant'], ['consonant', 'wb']), '') at 1\n",
      "\n",
      "testing  ((['wb', 'short_vowel', 'consonant'], ['consonant', 'long_vowel', 'wb']), '') at 1\n",
      "\n",
      "testing  ((['wb', 'short_vowel', 'consonant'], ['consonant', 'long_vowel', 'consonant', 'wb']), '') at 1\n",
      "\n",
      "testing  ((['wb', 'short_vowel', 'consonant', 'short_vowel', 'consonant'], ['consonant', 'short_vowel', 'consonant']), '') at 1\n",
      "\n",
      "testing  ((['wb', 'consonant', 'short_vowel'], ['consonant', 'long_vowel']), '') at 1\n",
      "\n",
      "testing  ((['wb', 'consonant', 'short_vowel', 'consonant'], ['consonant', 'long_vowel']), '') at 1\n",
      "matched ParserRule(production=u'\\u0947', prev_classes=None, prev_tokens=None, tokens=['e'], next_tokens=None, next_classes=None, prev_length=0, next_length=1, match_tokens=['e'], tokens_length=1)\n",
      "matched ParserRule(production=' ', prev_classes=None, prev_tokens=None, tokens=[' '], next_tokens=None, next_classes=None, prev_length=0, next_length=1, match_tokens=[' '], tokens_length=1)\n",
      "matched ParserRule(production=u'\\u0939', prev_classes=None, prev_tokens=None, tokens=['h'], next_tokens=None, next_classes=None, prev_length=0, next_length=1, match_tokens=['h'], tokens_length=1)\n",
      "\n",
      "testing  ((['wb', 'consonant', 'short_vowel', 'consonant'], ['consonant', 'long_vowel', 'vowel_nasal']), u'\\u094d') at 4\n",
      "L failed not short_vowel  in  ['aa_e_ii', 'long_vowel', 'e', 'vowel']\n",
      "L failed not consonant  in  ['wb']\n",
      "R failed not vowel_nasal in ['wb']\n",
      "matched ParserRule(production=u'\\u094b', prev_classes=None, prev_tokens=None, tokens=['o'], next_tokens=None, next_classes=None, prev_length=0, next_length=1, match_tokens=['o'], tokens_length=1)\n",
      "ते ्हो\n"
     ]
    }
   ],
   "source": [
    "    \n",
    "import sys\n",
    "sys.path.append('./graphparser')\n",
    "import graphparser as gp\n",
    "reload(gp)\n",
    "dp = gp.GraphParser('graphparser/settings/devanagari.yaml')\n",
    "print dp.parse('te ho').output\n"
   ]
  },
  {
   "cell_type": "code",
   "execution_count": 61,
   "metadata": {
    "collapsed": false
   },
   "outputs": [
    {
     "name": "stdout",
     "output_type": "stream",
     "text": [
      "डर्ते ्हो \n"
     ]
    }
   ],
   "source": [
    "reload(gp)"
   ]
  },
  {
   "cell_type": "code",
   "execution_count": 35,
   "metadata": {
    "collapsed": false
   },
   "outputs": [],
   "source": [
    "def parse2(self,string):\n",
    "        t_i = 0\n",
    "        tkns = self.tokenize(string)\n",
    "        if self.onmatch_rules:\n",
    "            mtkns = [self.blank]+tkns+[self.blank]\n",
    "        output = ''\n",
    "        matches = []\n",
    "        while t_i < len(tkns):\n",
    "            m = self.match_first_at(tkns, t_i)\n",
    "            if m==None:\n",
    "                print \"error in string\",string,len(string)\n",
    "            assert m != None # for now, croak on error\n",
    "            matches.append(m)\n",
    "            print 'matched ',m\n",
    "            if self.onmatch_rules:\n",
    "                mt_i = t_i+1\n",
    "                omr = self.onmatch_rules_token_matrix[ mtkns[mt_i] ][ mtkns[mt_i-1] ]\n",
    "                if len(omr)>0:\n",
    "                    for mr in omr: \n",
    "                        \n",
    "                        ((l_classes,r_classes),p)=mr\n",
    "                        \n",
    "                        if mt_i < len(l_classes) or mt_i+len(r_classes)>len(mtkns):\n",
    "                            continue\n",
    "\n",
    "                        l_length = len(l_classes)\n",
    "                        l_start = mt_i - l_length\n",
    "\n",
    "                        for i in range(0,len(l_classes)):\n",
    "                            if not l_classes[i] in self.get_token_classes(mtkns[l_start+i]):\n",
    "                                continue\n",
    "                                \n",
    "                        r_length = len(r_classes)\n",
    "                        r_start = mt_i + 1\n",
    "\n",
    "                        for i in range(0,len(r_classes)):\n",
    "                            if not r_classes[i] in self.get_token_classes(mtkns[r_start+i]):\n",
    "                                continue\n",
    "\n",
    "                        output += p\n",
    "                        break # break out of for loop\n",
    "                        \n",
    "            output+=m.production\n",
    "            t_i += m.tokens_length #len(m.tokens)\n",
    "            print output\n",
    "        return ParserOutput(output=output,matches=matches)\n",
    "dp.parse2=parse2"
   ]
  },
  {
   "cell_type": "code",
   "execution_count": 36,
   "metadata": {
    "collapsed": true
   },
   "outputs": [],
   "source": [
    "m_tkns=[' ', 'aa', 'd', 'm', 'ii', ' ']\n"
   ]
  },
  {
   "cell_type": "code",
   "execution_count": 37,
   "metadata": {
    "collapsed": false
   },
   "outputs": [
    {
     "name": "stdout",
     "output_type": "stream",
     "text": [
      "matched  ParserRule(production=u'\\u0906', prev_classes=['wb'], prev_tokens=None, tokens=['aa'], next_tokens=None, next_classes=None, prev_length=0, next_length=1, match_tokens=['aa'], tokens_length=1)\n",
      "आ\n",
      "matched  ParserRule(production=u'\\u0926', prev_classes=None, prev_tokens=None, tokens=['d'], next_tokens=None, next_classes=None, prev_length=0, next_length=1, match_tokens=['d'], tokens_length=1)\n",
      "आद\n",
      "matched  ParserRule(production=u'\\u092e', prev_classes=None, prev_tokens=None, tokens=['m'], next_tokens=None, next_classes=None, prev_length=0, next_length=1, match_tokens=['m'], tokens_length=1)\n",
      "आदम\n",
      "matched  ParserRule(production=u'\\u0940', prev_classes=None, prev_tokens=None, tokens=['ii'], next_tokens=None, next_classes=None, prev_length=0, next_length=1, match_tokens=['ii'], tokens_length=1)\n",
      "आदमी\n"
     ]
    },
    {
     "ename": "NameError",
     "evalue": "global name 'ParserOutput' is not defined",
     "output_type": "error",
     "traceback": [
      "\u001b[0;31m---------------------------------------------------------------------------\u001b[0m",
      "\u001b[0;31mNameError\u001b[0m                                 Traceback (most recent call last)",
      "\u001b[0;32m<ipython-input-37-3fc7fcfe74d1>\u001b[0m in \u001b[0;36m<module>\u001b[0;34m()\u001b[0m\n\u001b[0;32m----> 1\u001b[0;31m \u001b[0mdp\u001b[0m\u001b[0;34m.\u001b[0m\u001b[0mparse2\u001b[0m\u001b[0;34m(\u001b[0m\u001b[0mdp\u001b[0m\u001b[0;34m,\u001b[0m\u001b[0;34m'aadmii'\u001b[0m\u001b[0;34m)\u001b[0m\u001b[0;34m\u001b[0m\u001b[0m\n\u001b[0m",
      "\u001b[0;32m<ipython-input-35-eed065223bea>\u001b[0m in \u001b[0;36mparse2\u001b[0;34m(self, string)\u001b[0m\n\u001b[1;32m     44\u001b[0m             \u001b[0mt_i\u001b[0m \u001b[0;34m+=\u001b[0m \u001b[0mm\u001b[0m\u001b[0;34m.\u001b[0m\u001b[0mtokens_length\u001b[0m \u001b[0;31m#len(m.tokens)\u001b[0m\u001b[0;34m\u001b[0m\u001b[0m\n\u001b[1;32m     45\u001b[0m             \u001b[0;32mprint\u001b[0m \u001b[0moutput\u001b[0m\u001b[0;34m\u001b[0m\u001b[0m\n\u001b[0;32m---> 46\u001b[0;31m         \u001b[0;32mreturn\u001b[0m \u001b[0mParserOutput\u001b[0m\u001b[0;34m(\u001b[0m\u001b[0moutput\u001b[0m\u001b[0;34m=\u001b[0m\u001b[0moutput\u001b[0m\u001b[0;34m,\u001b[0m\u001b[0mmatches\u001b[0m\u001b[0;34m=\u001b[0m\u001b[0mmatches\u001b[0m\u001b[0;34m)\u001b[0m\u001b[0;34m\u001b[0m\u001b[0m\n\u001b[0m\u001b[1;32m     47\u001b[0m \u001b[0mdp\u001b[0m\u001b[0;34m.\u001b[0m\u001b[0mparse2\u001b[0m\u001b[0;34m=\u001b[0m\u001b[0mparse2\u001b[0m\u001b[0;34m\u001b[0m\u001b[0m\n",
      "\u001b[0;31mNameError\u001b[0m: global name 'ParserOutput' is not defined"
     ]
    }
   ],
   "source": [
    "dp.parse2(dp,'aadmii')"
   ]
  },
  {
   "cell_type": "code",
   "execution_count": null,
   "metadata": {
    "collapsed": true
   },
   "outputs": [],
   "source": []
  }
 ],
 "metadata": {
  "kernelspec": {
   "display_name": "Python 2",
   "language": "python",
   "name": "python2"
  },
  "language_info": {
   "codemirror_mode": {
    "name": "ipython",
    "version": 2
   },
   "file_extension": ".py",
   "mimetype": "text/x-python",
   "name": "python",
   "nbconvert_exporter": "python",
   "pygments_lexer": "ipython2",
   "version": "2.7.10"
  }
 },
 "nbformat": 4,
 "nbformat_minor": 0
}
